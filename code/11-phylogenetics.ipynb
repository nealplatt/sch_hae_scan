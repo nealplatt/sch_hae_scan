{
 "cells": [
  {
   "cell_type": "code",
   "execution_count": 1,
   "id": "d1d5c1cb-a4f7-43b8-bbae-87ad1a434728",
   "metadata": {
    "tags": []
   },
   "outputs": [],
   "source": [
    "import os\n",
    "import pandas as pd\n",
    "from collections import defaultdict\n",
    "import matplotlib.pyplot as plt\n",
    "from matplotlib.pyplot import figure\n",
    "from IPython.display import Image \n",
    "from scipy.ndimage import uniform_filter\n",
    "import numpy as np\n",
    "from pathlib import Path\n",
    "#import vcf\n",
    "import re\n",
    "import sys\n",
    "#from tqdm import tqdm\n",
    "import glob\n",
    "import shutil\n"
   ]
  },
  {
   "cell_type": "code",
   "execution_count": 2,
   "id": "373387a9-e29c-4eec-a20d-fd00f3f2e427",
   "metadata": {},
   "outputs": [],
   "source": [
    "proj_dir=\"/master/nplatt/sch_hae_scan\""
   ]
  },
  {
   "cell_type": "markdown",
   "id": "5788de70-fa82-44cb-8abf-869f60f5e833",
   "metadata": {
    "tags": []
   },
   "source": [
    "# TWISST: Phylogenetic identification of introgressed genomic regions"
   ]
  },
  {
   "cell_type": "code",
   "execution_count": 3,
   "id": "7fa2dd0f-ec07-483b-8d8e-cf334485edf5",
   "metadata": {},
   "outputs": [],
   "source": [
    "Path(\"{}/results/twisst\".format(proj_dir)).mkdir(parents=True, exist_ok=True)\n",
    "os.chdir(\"{}/results/twisst\".format(proj_dir))"
   ]
  },
  {
   "cell_type": "markdown",
   "id": "ed7d75b3-6ae2-4efd-8ab6-a4001fa7466a",
   "metadata": {
    "tags": []
   },
   "source": [
    "## Get VCF file of appropriate snps:"
   ]
  },
  {
   "cell_type": "code",
   "execution_count": 18,
   "id": "2c83ba01-7e1c-4c0b-960c-e6dee73eb73f",
   "metadata": {},
   "outputs": [],
   "source": [
    "%%bash\n",
    "\n",
    "vcftools \\\n",
    "    --vcf ../post_phase_filtering/chrs_unrelated.vcf \\\n",
    "    --remove-indv guineensis_saotome_ERR119612 \\\n",
    "    --remove-indv intercalatum_drcongo_ERR119613 \\\n",
    "    --remove-indv matthei_zambia_ERR103051 \\\n",
    "    --mac 1 \\\n",
    "    --recode \\\n",
    "    --recode-INFO-all \\\n",
    "    --stdout \\\n",
    "    >twisst.vcf"
   ]
  },
  {
   "cell_type": "code",
   "execution_count": null,
   "id": "7864df23-e017-4f9a-aab7-f003b6428f15",
   "metadata": {},
   "outputs": [],
   "source": [
    "conda run -n bcftools --cwd . --live-stream bgzip -c twisst.vcf > twisst.vcf.gz\n",
    "conda run -n bcftools --cwd . --live-stream tabix -p vcf twisst.vcf.gz"
   ]
  },
  {
   "cell_type": "code",
   "execution_count": null,
   "id": "5065a411-2577-40a0-89e0-1a15112d78c9",
   "metadata": {},
   "outputs": [],
   "source": [
    "conda run -n bcftools --cwd . --live-stream bcftools view twisst.vcf.gz -Ob >twisst.bcf\n",
    "conda run -n bcftools --cwd . --live-stream bcftools index --threads 12 twisst.bcf"
   ]
  },
  {
   "cell_type": "code",
   "execution_count": null,
   "id": "fe55e2eb-309c-4508-b1fa-5f32617badcc",
   "metadata": {},
   "outputs": [],
   "source": [
    "%%bash\n",
    "\n",
    "bedtools makewindows -g ../../data/GCF_000699445.3_UoM_Shae.V3_genomic.fna.fai -w 10000 >10kb_windows.bed"
   ]
  },
  {
   "cell_type": "code",
   "execution_count": null,
   "id": "ade030d6-0989-46fe-835e-f2a6ae15fe76",
   "metadata": {},
   "outputs": [],
   "source": [
    "#get counts\n",
    "bedtools intersect -c -a 10kb_windows.bed -b twisst.vcf.gz >10kb.counts"
   ]
  },
  {
   "cell_type": "code",
   "execution_count": null,
   "id": "446f0740-e068-4334-8590-a58897bb6724",
   "metadata": {},
   "outputs": [],
   "source": [
    "#remove those with less than X\n",
    "awk '{if ($4>50) print $0}' 10kb.counts >inf_10kb.bed"
   ]
  },
  {
   "cell_type": "code",
   "execution_count": null,
   "id": "944c7b43-36f8-41db-b518-8558019149db",
   "metadata": {},
   "outputs": [],
   "source": [
    "%%bash\n",
    "\n",
    "mkdir logs\n",
    "mkdir gene_vcfs\n",
    "\n",
    "conda activate bcftools\n",
    "\n",
    "i=0\n",
    "while read -r CHROM START STOP COUNT rest; do\n",
    "    echo $i\n",
    "    REGION=\"${CHROM}:${START}-${STOP}\"\n",
    "    OUT_VCF=\"gene_vcfs/${CHROM}-${START}-${STOP}.vcf\"\n",
    "\n",
    "    bcftools view -r ${REGION} -O v twisst.bcf >${OUT_VCF}\n",
    "    \n",
    "    ((i++))\n",
    "done < inf_10kb.bed"
   ]
  },
  {
   "cell_type": "code",
   "execution_count": null,
   "id": "00488a5d-9aa6-4a0d-980c-27ea63e6afd5",
   "metadata": {},
   "outputs": [],
   "source": [
    "%%bash \n",
    "\n",
    "conda run -n diploid_to_haploid_vcf --cwd . --live-stream \\\n",
    "    python ~/sch_hae_scan/code/diploid_to_haploid_vcf.py \\\n",
    "        \"/master/nplatt/sch_hae_scan/results/twisst/gene_vcfs/*vcf\" \\\n",
    "        gene_tree_coords.csv"
   ]
  },
  {
   "cell_type": "code",
   "execution_count": null,
   "id": "59aafb69-544a-4302-a9ba-cd9c32e6288b",
   "metadata": {},
   "outputs": [],
   "source": [
    "%%bash\n",
    "\n",
    "mkdir gene_phylips\n",
    "gene_vcfs/*phylip gene_phylips/\n",
    "\n",
    "rename .vcf.phylip .phy gene_phylips/*.vcf.phylip"
   ]
  },
  {
   "cell_type": "code",
   "execution_count": null,
   "id": "72800d49-640b-4a6f-8b17-606d0111964d",
   "metadata": {},
   "outputs": [],
   "source": [
    "%%bash\n",
    "mkdir gene_trees\n",
    "mkdir raxml_logs"
   ]
  },
  {
   "cell_type": "code",
   "execution_count": null,
   "id": "e5062162-30d0-45e4-9784-2a0a24f9fcbd",
   "metadata": {},
   "outputs": [],
   "source": [
    "snakemake \\\n",
    "    --printshellcmds \\\n",
    "    --cluster 'qsub -V -cwd -j y -S /bin/bash -pe smp {threads} -q all.q ' \\\n",
    "    --jobs 175 \\\n",
    "    --latency-wait 60 \\\n",
    "    --keep-going \\\n",
    "    --snake ../../code/build_gene_trees.snk.py \\\n",
    "    --use-conda \\\n",
    "    --jobname snk.TWST.{name}.jid{jobid}"
   ]
  },
  {
   "cell_type": "code",
   "execution_count": null,
   "id": "960d0591-5d1f-4ed8-ace2-ebe93cd8af1a",
   "metadata": {},
   "outputs": [],
   "source": [
    "%%bash\n",
    "\n",
    "cat gene_trees/*raxml.bestTree >gene_trees.nwk\n",
    "\n",
    "#get coords\n",
    "ls gene_trees/*raxml.bestTree | sed 's/gene_trees\\///' | sed 's/.raxml.bestTree//' | sed 's/-/,/g' >gene_tree_coords.csv"
   ]
  },
  {
   "cell_type": "code",
   "execution_count": null,
   "id": "268f6a0c-e384-49ac-9fa6-8b9c856612b9",
   "metadata": {},
   "outputs": [],
   "source": [
    "%%bash\n",
    "nw_ed gene_trees.nwk 'i & b<=10' o > gene_trees_BS10.nwk"
   ]
  },
  {
   "cell_type": "markdown",
   "id": "24b94ff8-d864-4a87-8906-81e45ca1ce42",
   "metadata": {
    "tags": []
   },
   "source": [
    "## Run Twisst"
   ]
  },
  {
   "cell_type": "code",
   "execution_count": 10,
   "id": "d3067503-a10f-4708-8ddf-5128f7a98467",
   "metadata": {},
   "outputs": [],
   "source": [
    "!conda run -n bcftools --cwd . --live-stream bcftools query -l twisst.vcf >samples.list"
   ]
  },
  {
   "cell_type": "code",
   "execution_count": 40,
   "id": "ad926f03-0f8e-4398-b018-79019fb72cea",
   "metadata": {},
   "outputs": [],
   "source": [
    "pca_df=pd.read_csv(\"{}/results/pca/pca_df.csv\".format(proj_dir), sep=\",\")\n",
    "\n",
    "groups  = []\n",
    "hap_ids = []\n",
    "with open('samples.list') as ifile:\n",
    "    for sample in ifile:\n",
    "        try:\n",
    "            group=pca_df.loc[pca_df[\"sample_name\"] == sample.rstrip(), \"kmeans_label\"].values[0]\n",
    "        except:\n",
    "            group=\"outgroup\"\n",
    "            \n",
    "        groups.append(group)\n",
    "        groups.append(group)\n",
    "        \n",
    "        h1 = \"{}_h1\".format(sample.rstrip())\n",
    "        h2 = \"{}_h2\".format(sample.rstrip())\n",
    "        \n",
    "        hap_ids.append(h1)\n",
    "        hap_ids.append(h2)\n",
    "        \n",
    "tmp_df = pd.DataFrame()\n",
    "tmp_df[\"hap_ids\"] = hap_ids\n",
    "tmp_df[\"groups\"] = groups\n",
    "tmp_df.to_csv(\"groups.list\", header=False, index=False, sep=\"\\t\")"
   ]
  },
  {
   "cell_type": "code",
   "execution_count": null,
   "id": "f6c0d1b2-e9d0-46b4-bedd-b287abc10eda",
   "metadata": {},
   "outputs": [],
   "source": [
    " %%bash \n",
    "    \n",
    "python ~/sch_hae_scan/bin/twisst/twisst.py \\\n",
    "    --treeFile gene_trees.nwk \\\n",
    "    --outgroup s_margrebowiei \\\n",
    "    --groupsFile groups.list \\\n",
    "    -g sh_nw \\\n",
    "    -g sb \\\n",
    "    -g sh_se \\\n",
    "    -g s_margrebowiei \\\n",
    "    --outputTopos twisst_topologies \\\n",
    "    -w twisst_weights"
   ]
  },
  {
   "cell_type": "markdown",
   "id": "12f4cc14-d363-434c-9112-d3be4b82f2e2",
   "metadata": {
    "tags": []
   },
   "source": [
    "## Plot Twisst results"
   ]
  },
  {
   "cell_type": "code",
   "execution_count": 4,
   "id": "e48bea04-e0f6-43f0-88a3-32d11d16d3eb",
   "metadata": {},
   "outputs": [
    {
     "name": "stdout",
     "output_type": "stream",
     "text": [
      "(s_margrebowiei,((sh_nw,sb),sh_se));\n",
      "(s_margrebowiei,((sh_nw,sh_se),sb));\n",
      "(s_margrebowiei,(sh_nw,(sb,sh_se)));\n"
     ]
    }
   ],
   "source": [
    "!cat twisst_topologies_BS10"
   ]
  },
  {
   "cell_type": "code",
   "execution_count": 5,
   "id": "f2bc7168-38e4-4961-bb3d-a905f3675712",
   "metadata": {},
   "outputs": [],
   "source": [
    "#read in topology weights file and convert to percentages\n",
    "w_df=pd.read_csv(\"twisst_weights\", comment='#', sep=\"\\t\")\n",
    "p_df = w_df.div(w_df.sum(axis=1), axis=0)"
   ]
  },
  {
   "cell_type": "code",
   "execution_count": 6,
   "id": "dd3a4bf3-e9dc-4849-bd7e-8d06331c86d8",
   "metadata": {},
   "outputs": [
    {
     "data": {
      "text/html": [
       "<div>\n",
       "<style scoped>\n",
       "    .dataframe tbody tr th:only-of-type {\n",
       "        vertical-align: middle;\n",
       "    }\n",
       "\n",
       "    .dataframe tbody tr th {\n",
       "        vertical-align: top;\n",
       "    }\n",
       "\n",
       "    .dataframe thead th {\n",
       "        text-align: right;\n",
       "    }\n",
       "</style>\n",
       "<table border=\"1\" class=\"dataframe\">\n",
       "  <thead>\n",
       "    <tr style=\"text-align: right;\">\n",
       "      <th></th>\n",
       "      <th>chrom</th>\n",
       "      <th>start</th>\n",
       "      <th>stop</th>\n",
       "    </tr>\n",
       "  </thead>\n",
       "  <tbody>\n",
       "    <tr>\n",
       "      <th>0</th>\n",
       "      <td>NC_067195.1</td>\n",
       "      <td>10000000</td>\n",
       "      <td>10010000</td>\n",
       "    </tr>\n",
       "    <tr>\n",
       "      <th>1</th>\n",
       "      <td>NC_067195.1</td>\n",
       "      <td>1000000</td>\n",
       "      <td>1010000</td>\n",
       "    </tr>\n",
       "    <tr>\n",
       "      <th>2</th>\n",
       "      <td>NC_067195.1</td>\n",
       "      <td>10000</td>\n",
       "      <td>20000</td>\n",
       "    </tr>\n",
       "    <tr>\n",
       "      <th>3</th>\n",
       "      <td>NC_067195.1</td>\n",
       "      <td>10010000</td>\n",
       "      <td>10020000</td>\n",
       "    </tr>\n",
       "    <tr>\n",
       "      <th>4</th>\n",
       "      <td>NC_067195.1</td>\n",
       "      <td>10020000</td>\n",
       "      <td>10030000</td>\n",
       "    </tr>\n",
       "    <tr>\n",
       "      <th>...</th>\n",
       "      <td>...</td>\n",
       "      <td>...</td>\n",
       "      <td>...</td>\n",
       "    </tr>\n",
       "    <tr>\n",
       "      <th>37194</th>\n",
       "      <td>NC_067202.1</td>\n",
       "      <td>9950000</td>\n",
       "      <td>9960000</td>\n",
       "    </tr>\n",
       "    <tr>\n",
       "      <th>37195</th>\n",
       "      <td>NC_067202.1</td>\n",
       "      <td>9960000</td>\n",
       "      <td>9970000</td>\n",
       "    </tr>\n",
       "    <tr>\n",
       "      <th>37196</th>\n",
       "      <td>NC_067202.1</td>\n",
       "      <td>9970000</td>\n",
       "      <td>9980000</td>\n",
       "    </tr>\n",
       "    <tr>\n",
       "      <th>37197</th>\n",
       "      <td>NC_067202.1</td>\n",
       "      <td>9980000</td>\n",
       "      <td>9990000</td>\n",
       "    </tr>\n",
       "    <tr>\n",
       "      <th>37198</th>\n",
       "      <td>NC_067202.1</td>\n",
       "      <td>9990000</td>\n",
       "      <td>10000000</td>\n",
       "    </tr>\n",
       "  </tbody>\n",
       "</table>\n",
       "<p>37199 rows × 3 columns</p>\n",
       "</div>"
      ],
      "text/plain": [
       "             chrom     start      stop\n",
       "0      NC_067195.1  10000000  10010000\n",
       "1      NC_067195.1   1000000   1010000\n",
       "2      NC_067195.1     10000     20000\n",
       "3      NC_067195.1  10010000  10020000\n",
       "4      NC_067195.1  10020000  10030000\n",
       "...            ...       ...       ...\n",
       "37194  NC_067202.1   9950000   9960000\n",
       "37195  NC_067202.1   9960000   9970000\n",
       "37196  NC_067202.1   9970000   9980000\n",
       "37197  NC_067202.1   9980000   9990000\n",
       "37198  NC_067202.1   9990000  10000000\n",
       "\n",
       "[37199 rows x 3 columns]"
      ]
     },
     "execution_count": 6,
     "metadata": {},
     "output_type": "execute_result"
    }
   ],
   "source": [
    "c_df=pd.read_csv(\"gene_tree_coords.csv\", sep=\",\", header=None)\n",
    "c_df.columns=[\"chrom\", \"start\", \"stop\"]\n",
    "c_df"
   ]
  },
  {
   "cell_type": "code",
   "execution_count": 7,
   "id": "b15ee517-15d3-47f9-b0dc-4dc5c432db26",
   "metadata": {
    "tags": []
   },
   "outputs": [
    {
     "data": {
      "text/html": [
       "<div>\n",
       "<style scoped>\n",
       "    .dataframe tbody tr th:only-of-type {\n",
       "        vertical-align: middle;\n",
       "    }\n",
       "\n",
       "    .dataframe tbody tr th {\n",
       "        vertical-align: top;\n",
       "    }\n",
       "\n",
       "    .dataframe thead th {\n",
       "        text-align: right;\n",
       "    }\n",
       "</style>\n",
       "<table border=\"1\" class=\"dataframe\">\n",
       "  <thead>\n",
       "    <tr style=\"text-align: right;\">\n",
       "      <th></th>\n",
       "      <th>topo1</th>\n",
       "      <th>topo2</th>\n",
       "      <th>topo3</th>\n",
       "    </tr>\n",
       "  </thead>\n",
       "  <tbody>\n",
       "    <tr>\n",
       "      <th>0</th>\n",
       "      <td>0.000000</td>\n",
       "      <td>0.993902</td>\n",
       "      <td>0.006098</td>\n",
       "    </tr>\n",
       "    <tr>\n",
       "      <th>1</th>\n",
       "      <td>0.706852</td>\n",
       "      <td>0.061286</td>\n",
       "      <td>0.231862</td>\n",
       "    </tr>\n",
       "    <tr>\n",
       "      <th>2</th>\n",
       "      <td>0.532234</td>\n",
       "      <td>0.190201</td>\n",
       "      <td>0.277566</td>\n",
       "    </tr>\n",
       "    <tr>\n",
       "      <th>3</th>\n",
       "      <td>0.000000</td>\n",
       "      <td>0.993902</td>\n",
       "      <td>0.006098</td>\n",
       "    </tr>\n",
       "    <tr>\n",
       "      <th>4</th>\n",
       "      <td>0.000000</td>\n",
       "      <td>0.993902</td>\n",
       "      <td>0.006098</td>\n",
       "    </tr>\n",
       "    <tr>\n",
       "      <th>...</th>\n",
       "      <td>...</td>\n",
       "      <td>...</td>\n",
       "      <td>...</td>\n",
       "    </tr>\n",
       "    <tr>\n",
       "      <th>37194</th>\n",
       "      <td>0.030488</td>\n",
       "      <td>0.963415</td>\n",
       "      <td>0.006098</td>\n",
       "    </tr>\n",
       "    <tr>\n",
       "      <th>37195</th>\n",
       "      <td>0.606168</td>\n",
       "      <td>0.167150</td>\n",
       "      <td>0.226681</td>\n",
       "    </tr>\n",
       "    <tr>\n",
       "      <th>37196</th>\n",
       "      <td>0.030488</td>\n",
       "      <td>0.963415</td>\n",
       "      <td>0.006098</td>\n",
       "    </tr>\n",
       "    <tr>\n",
       "      <th>37197</th>\n",
       "      <td>0.024390</td>\n",
       "      <td>0.969512</td>\n",
       "      <td>0.006098</td>\n",
       "    </tr>\n",
       "    <tr>\n",
       "      <th>37198</th>\n",
       "      <td>0.024390</td>\n",
       "      <td>0.969512</td>\n",
       "      <td>0.006098</td>\n",
       "    </tr>\n",
       "  </tbody>\n",
       "</table>\n",
       "<p>37199 rows × 3 columns</p>\n",
       "</div>"
      ],
      "text/plain": [
       "          topo1     topo2     topo3\n",
       "0      0.000000  0.993902  0.006098\n",
       "1      0.706852  0.061286  0.231862\n",
       "2      0.532234  0.190201  0.277566\n",
       "3      0.000000  0.993902  0.006098\n",
       "4      0.000000  0.993902  0.006098\n",
       "...         ...       ...       ...\n",
       "37194  0.030488  0.963415  0.006098\n",
       "37195  0.606168  0.167150  0.226681\n",
       "37196  0.030488  0.963415  0.006098\n",
       "37197  0.024390  0.969512  0.006098\n",
       "37198  0.024390  0.969512  0.006098\n",
       "\n",
       "[37199 rows x 3 columns]"
      ]
     },
     "execution_count": 7,
     "metadata": {},
     "output_type": "execute_result"
    }
   ],
   "source": [
    "p_df"
   ]
  },
  {
   "cell_type": "code",
   "execution_count": 8,
   "id": "d4d9b4fa-853d-49ca-914f-3e59e752094c",
   "metadata": {},
   "outputs": [
    {
     "data": {
      "text/html": [
       "<div>\n",
       "<style scoped>\n",
       "    .dataframe tbody tr th:only-of-type {\n",
       "        vertical-align: middle;\n",
       "    }\n",
       "\n",
       "    .dataframe tbody tr th {\n",
       "        vertical-align: top;\n",
       "    }\n",
       "\n",
       "    .dataframe thead th {\n",
       "        text-align: right;\n",
       "    }\n",
       "</style>\n",
       "<table border=\"1\" class=\"dataframe\">\n",
       "  <thead>\n",
       "    <tr style=\"text-align: right;\">\n",
       "      <th></th>\n",
       "      <th>topo1</th>\n",
       "      <th>topo2</th>\n",
       "      <th>topo3</th>\n",
       "      <th>chrom</th>\n",
       "      <th>start</th>\n",
       "      <th>stop</th>\n",
       "    </tr>\n",
       "  </thead>\n",
       "  <tbody>\n",
       "    <tr>\n",
       "      <th>0</th>\n",
       "      <td>0.000000</td>\n",
       "      <td>0.993902</td>\n",
       "      <td>0.006098</td>\n",
       "      <td>NC_067195.1</td>\n",
       "      <td>10000000</td>\n",
       "      <td>10010000</td>\n",
       "    </tr>\n",
       "    <tr>\n",
       "      <th>1</th>\n",
       "      <td>0.706852</td>\n",
       "      <td>0.061286</td>\n",
       "      <td>0.231862</td>\n",
       "      <td>NC_067195.1</td>\n",
       "      <td>1000000</td>\n",
       "      <td>1010000</td>\n",
       "    </tr>\n",
       "    <tr>\n",
       "      <th>2</th>\n",
       "      <td>0.532234</td>\n",
       "      <td>0.190201</td>\n",
       "      <td>0.277566</td>\n",
       "      <td>NC_067195.1</td>\n",
       "      <td>10000</td>\n",
       "      <td>20000</td>\n",
       "    </tr>\n",
       "    <tr>\n",
       "      <th>3</th>\n",
       "      <td>0.000000</td>\n",
       "      <td>0.993902</td>\n",
       "      <td>0.006098</td>\n",
       "      <td>NC_067195.1</td>\n",
       "      <td>10010000</td>\n",
       "      <td>10020000</td>\n",
       "    </tr>\n",
       "    <tr>\n",
       "      <th>4</th>\n",
       "      <td>0.000000</td>\n",
       "      <td>0.993902</td>\n",
       "      <td>0.006098</td>\n",
       "      <td>NC_067195.1</td>\n",
       "      <td>10020000</td>\n",
       "      <td>10030000</td>\n",
       "    </tr>\n",
       "    <tr>\n",
       "      <th>...</th>\n",
       "      <td>...</td>\n",
       "      <td>...</td>\n",
       "      <td>...</td>\n",
       "      <td>...</td>\n",
       "      <td>...</td>\n",
       "      <td>...</td>\n",
       "    </tr>\n",
       "    <tr>\n",
       "      <th>37194</th>\n",
       "      <td>0.030488</td>\n",
       "      <td>0.963415</td>\n",
       "      <td>0.006098</td>\n",
       "      <td>NC_067202.1</td>\n",
       "      <td>9950000</td>\n",
       "      <td>9960000</td>\n",
       "    </tr>\n",
       "    <tr>\n",
       "      <th>37195</th>\n",
       "      <td>0.606168</td>\n",
       "      <td>0.167150</td>\n",
       "      <td>0.226681</td>\n",
       "      <td>NC_067202.1</td>\n",
       "      <td>9960000</td>\n",
       "      <td>9970000</td>\n",
       "    </tr>\n",
       "    <tr>\n",
       "      <th>37196</th>\n",
       "      <td>0.030488</td>\n",
       "      <td>0.963415</td>\n",
       "      <td>0.006098</td>\n",
       "      <td>NC_067202.1</td>\n",
       "      <td>9970000</td>\n",
       "      <td>9980000</td>\n",
       "    </tr>\n",
       "    <tr>\n",
       "      <th>37197</th>\n",
       "      <td>0.024390</td>\n",
       "      <td>0.969512</td>\n",
       "      <td>0.006098</td>\n",
       "      <td>NC_067202.1</td>\n",
       "      <td>9980000</td>\n",
       "      <td>9990000</td>\n",
       "    </tr>\n",
       "    <tr>\n",
       "      <th>37198</th>\n",
       "      <td>0.024390</td>\n",
       "      <td>0.969512</td>\n",
       "      <td>0.006098</td>\n",
       "      <td>NC_067202.1</td>\n",
       "      <td>9990000</td>\n",
       "      <td>10000000</td>\n",
       "    </tr>\n",
       "  </tbody>\n",
       "</table>\n",
       "<p>37199 rows × 6 columns</p>\n",
       "</div>"
      ],
      "text/plain": [
       "          topo1     topo2     topo3        chrom     start      stop\n",
       "0      0.000000  0.993902  0.006098  NC_067195.1  10000000  10010000\n",
       "1      0.706852  0.061286  0.231862  NC_067195.1   1000000   1010000\n",
       "2      0.532234  0.190201  0.277566  NC_067195.1     10000     20000\n",
       "3      0.000000  0.993902  0.006098  NC_067195.1  10010000  10020000\n",
       "4      0.000000  0.993902  0.006098  NC_067195.1  10020000  10030000\n",
       "...         ...       ...       ...          ...       ...       ...\n",
       "37194  0.030488  0.963415  0.006098  NC_067202.1   9950000   9960000\n",
       "37195  0.606168  0.167150  0.226681  NC_067202.1   9960000   9970000\n",
       "37196  0.030488  0.963415  0.006098  NC_067202.1   9970000   9980000\n",
       "37197  0.024390  0.969512  0.006098  NC_067202.1   9980000   9990000\n",
       "37198  0.024390  0.969512  0.006098  NC_067202.1   9990000  10000000\n",
       "\n",
       "[37199 rows x 6 columns]"
      ]
     },
     "execution_count": 8,
     "metadata": {},
     "output_type": "execute_result"
    }
   ],
   "source": [
    "df = pd.concat([p_df, c_df], axis=1)\n",
    "df"
   ]
  },
  {
   "cell_type": "code",
   "execution_count": 9,
   "id": "cd5590f8-3c71-4a3b-8c4f-4f94f8acdc75",
   "metadata": {},
   "outputs": [
    {
     "data": {
      "text/html": [
       "<div>\n",
       "<style scoped>\n",
       "    .dataframe tbody tr th:only-of-type {\n",
       "        vertical-align: middle;\n",
       "    }\n",
       "\n",
       "    .dataframe tbody tr th {\n",
       "        vertical-align: top;\n",
       "    }\n",
       "\n",
       "    .dataframe thead th {\n",
       "        text-align: right;\n",
       "    }\n",
       "</style>\n",
       "<table border=\"1\" class=\"dataframe\">\n",
       "  <thead>\n",
       "    <tr style=\"text-align: right;\">\n",
       "      <th></th>\n",
       "      <th>topo1</th>\n",
       "      <th>topo2</th>\n",
       "      <th>topo3</th>\n",
       "      <th>chrom</th>\n",
       "      <th>start</th>\n",
       "      <th>stop</th>\n",
       "      <th>x_start</th>\n",
       "      <th>x_end</th>\n",
       "    </tr>\n",
       "  </thead>\n",
       "  <tbody>\n",
       "    <tr>\n",
       "      <th>0</th>\n",
       "      <td>0.332619</td>\n",
       "      <td>0.321227</td>\n",
       "      <td>0.346154</td>\n",
       "      <td>NC_067196.1</td>\n",
       "      <td>140000</td>\n",
       "      <td>150000</td>\n",
       "      <td>140000.0</td>\n",
       "      <td>150000.0</td>\n",
       "    </tr>\n",
       "    <tr>\n",
       "      <th>1</th>\n",
       "      <td>0.440908</td>\n",
       "      <td>0.245261</td>\n",
       "      <td>0.313831</td>\n",
       "      <td>NC_067196.1</td>\n",
       "      <td>150000</td>\n",
       "      <td>160000</td>\n",
       "      <td>150000.0</td>\n",
       "      <td>160000.0</td>\n",
       "    </tr>\n",
       "    <tr>\n",
       "      <th>2</th>\n",
       "      <td>0.173354</td>\n",
       "      <td>0.347872</td>\n",
       "      <td>0.478774</td>\n",
       "      <td>NC_067196.1</td>\n",
       "      <td>170000</td>\n",
       "      <td>180000</td>\n",
       "      <td>170000.0</td>\n",
       "      <td>180000.0</td>\n",
       "    </tr>\n",
       "    <tr>\n",
       "      <th>3</th>\n",
       "      <td>0.230086</td>\n",
       "      <td>0.344603</td>\n",
       "      <td>0.425311</td>\n",
       "      <td>NC_067196.1</td>\n",
       "      <td>190000</td>\n",
       "      <td>200000</td>\n",
       "      <td>190000.0</td>\n",
       "      <td>200000.0</td>\n",
       "    </tr>\n",
       "    <tr>\n",
       "      <th>4</th>\n",
       "      <td>0.044135</td>\n",
       "      <td>0.345819</td>\n",
       "      <td>0.610046</td>\n",
       "      <td>NC_067196.1</td>\n",
       "      <td>200000</td>\n",
       "      <td>210000</td>\n",
       "      <td>200000.0</td>\n",
       "      <td>210000.0</td>\n",
       "    </tr>\n",
       "    <tr>\n",
       "      <th>...</th>\n",
       "      <td>...</td>\n",
       "      <td>...</td>\n",
       "      <td>...</td>\n",
       "      <td>...</td>\n",
       "      <td>...</td>\n",
       "      <td>...</td>\n",
       "      <td>...</td>\n",
       "      <td>...</td>\n",
       "    </tr>\n",
       "    <tr>\n",
       "      <th>37194</th>\n",
       "      <td>0.034983</td>\n",
       "      <td>0.944381</td>\n",
       "      <td>0.020635</td>\n",
       "      <td>NC_067195.1</td>\n",
       "      <td>89100000</td>\n",
       "      <td>89110000</td>\n",
       "      <td>462013657.0</td>\n",
       "      <td>462023657.0</td>\n",
       "    </tr>\n",
       "    <tr>\n",
       "      <th>37195</th>\n",
       "      <td>0.286237</td>\n",
       "      <td>0.567856</td>\n",
       "      <td>0.145907</td>\n",
       "      <td>NC_067195.1</td>\n",
       "      <td>89110000</td>\n",
       "      <td>89120000</td>\n",
       "      <td>462023657.0</td>\n",
       "      <td>462033657.0</td>\n",
       "    </tr>\n",
       "    <tr>\n",
       "      <th>37196</th>\n",
       "      <td>0.035714</td>\n",
       "      <td>0.963415</td>\n",
       "      <td>0.000871</td>\n",
       "      <td>NC_067195.1</td>\n",
       "      <td>89120000</td>\n",
       "      <td>89130000</td>\n",
       "      <td>462033657.0</td>\n",
       "      <td>462043657.0</td>\n",
       "    </tr>\n",
       "    <tr>\n",
       "      <th>37197</th>\n",
       "      <td>0.044543</td>\n",
       "      <td>0.737650</td>\n",
       "      <td>0.217807</td>\n",
       "      <td>NC_067195.1</td>\n",
       "      <td>89130000</td>\n",
       "      <td>89140000</td>\n",
       "      <td>462043657.0</td>\n",
       "      <td>462053657.0</td>\n",
       "    </tr>\n",
       "    <tr>\n",
       "      <th>37198</th>\n",
       "      <td>0.462662</td>\n",
       "      <td>0.271602</td>\n",
       "      <td>0.265736</td>\n",
       "      <td>NC_067195.1</td>\n",
       "      <td>89140000</td>\n",
       "      <td>89150000</td>\n",
       "      <td>462053657.0</td>\n",
       "      <td>462063657.0</td>\n",
       "    </tr>\n",
       "  </tbody>\n",
       "</table>\n",
       "<p>37199 rows × 8 columns</p>\n",
       "</div>"
      ],
      "text/plain": [
       "          topo1     topo2     topo3        chrom     start      stop  \\\n",
       "0      0.332619  0.321227  0.346154  NC_067196.1    140000    150000   \n",
       "1      0.440908  0.245261  0.313831  NC_067196.1    150000    160000   \n",
       "2      0.173354  0.347872  0.478774  NC_067196.1    170000    180000   \n",
       "3      0.230086  0.344603  0.425311  NC_067196.1    190000    200000   \n",
       "4      0.044135  0.345819  0.610046  NC_067196.1    200000    210000   \n",
       "...         ...       ...       ...          ...       ...       ...   \n",
       "37194  0.034983  0.944381  0.020635  NC_067195.1  89100000  89110000   \n",
       "37195  0.286237  0.567856  0.145907  NC_067195.1  89110000  89120000   \n",
       "37196  0.035714  0.963415  0.000871  NC_067195.1  89120000  89130000   \n",
       "37197  0.044543  0.737650  0.217807  NC_067195.1  89130000  89140000   \n",
       "37198  0.462662  0.271602  0.265736  NC_067195.1  89140000  89150000   \n",
       "\n",
       "           x_start        x_end  \n",
       "0         140000.0     150000.0  \n",
       "1         150000.0     160000.0  \n",
       "2         170000.0     180000.0  \n",
       "3         190000.0     200000.0  \n",
       "4         200000.0     210000.0  \n",
       "...            ...          ...  \n",
       "37194  462013657.0  462023657.0  \n",
       "37195  462023657.0  462033657.0  \n",
       "37196  462033657.0  462043657.0  \n",
       "37197  462043657.0  462053657.0  \n",
       "37198  462053657.0  462063657.0  \n",
       "\n",
       "[37199 rows x 8 columns]"
      ]
     },
     "execution_count": 9,
     "metadata": {},
     "output_type": "execute_result"
    }
   ],
   "source": [
    "#chrom          #len       #x_pos\n",
    "#chr1   NC_067196.1\t93306550\t0\n",
    "#chr2   NC_067197.1\t47367863\t141634678\n",
    "#chr3   NC_067198.1\t48328128\t93306550\n",
    "#chr4   NC_067199.1\t46771736\t189002541\n",
    "#chr5   NC_067200.1\t22148653\t261283815 \n",
    "#chr6   NC_067201.1\t25509538\t235774277\n",
    "#chr7   NC_067202.1\t19481189\t283432468\n",
    "#chrzw  NC_067195.1\t89168492\t302913657\n",
    "\n",
    "chr_aliases = { \"NC_067195.1\": \"chrzw\",\n",
    "                \"NC_067196.1\": \"chr1\",\n",
    "                \"NC_067197.1\": \"chr2\",\n",
    "                \"NC_067198.1\": \"chr3\",\n",
    "                \"NC_067199.1\": \"chr4\",\n",
    "                \"NC_067200.1\": \"chr5\",\n",
    "                \"NC_067201.1\": \"chr6\",\n",
    "                \"NC_067202.1\": \"chr7\" }\n",
    "\n",
    "x_chr_pos = { \"NC_067196.1\":           0 + 10e6 * 0,\n",
    "              \"NC_067197.1\":  93_306_550 + 10e6 * 1,\n",
    "              \"NC_067198.1\": 141_634_678 + 10e6 * 2, \n",
    "              \"NC_067199.1\": 189_002_541 + 10e6 * 3,\n",
    "              \"NC_067200.1\": 235_774_277 + 10e6 * 4,\n",
    "              \"NC_067201.1\": 261_283_815 + 10e6 * 5,\n",
    "              \"NC_067202.1\": 283_432_468 + 10e6 * 6,\n",
    "              \"NC_067195.1\": 302_913_657 + 10e6 * 7}\n",
    "\n",
    "chr_ticks = [ (          0 +  93_306_550) /2 + 10e6 * 0,\n",
    "              ( 93_306_550 + 141_634_678) /2 + 10e6 * 1,\n",
    "              (141_634_678 + 189_002_541) /2 + 10e6 * 2,\n",
    "              (189_002_541 + 235_774_277) /2 + 10e6 * 3,\n",
    "              (235_774_277 + 261_283_815) /2 + 10e6 * 4,\n",
    "              (261_283_815 + 283_432_468) /2 + 10e6 * 5,\n",
    "              (283_432_468 + 302_913_657) /2 + 10e6 * 6,\n",
    "              (302_913_657 + 392_082_149) /2 + 10e6 * 7 ]\n",
    "\n",
    "#chr_labels=list(x_chr_pos.keys())\n",
    "chr_labels=[ \"Chr1\", \"Chr2\", \"Chr3\", \"Chr4\", \"Chr5\", \"Chr6\", \"Chr7\", \"ChrZW\"]\n",
    "\n",
    "x_starts = []\n",
    "x_ends = []\n",
    "for index, row in df.iterrows():\n",
    "    chrom = row[\"chrom\"]\n",
    "    start = row[\"start\"]\n",
    "    end   = row[\"stop\"]\n",
    "    x_start = start + x_chr_pos[chrom]\n",
    "    x_end   = end + x_chr_pos[chrom]\n",
    "    \n",
    "    x_starts.append(x_start)\n",
    "    x_ends.append(x_end)\n",
    "    \n",
    "df[\"x_start\"] = x_starts\n",
    "df[\"x_end\"]  = x_ends\n",
    "\n",
    "df.sort_values(by=[\"x_start\"], inplace=True)\n",
    "df.reset_index(inplace=True, drop=True)\n",
    "df"
   ]
  },
  {
   "cell_type": "code",
   "execution_count": 10,
   "id": "f71ddefd-bd32-42ff-a50e-2b7691fa95a4",
   "metadata": {},
   "outputs": [],
   "source": [
    "df.to_csv(\"twisst_results.csv\", sep=\",\", header=True, index=False)"
   ]
  },
  {
   "cell_type": "code",
   "execution_count": 63,
   "id": "1d30feb0-d115-49b2-a782-47fe5ccfb789",
   "metadata": {},
   "outputs": [],
   "source": [
    "#get mean topology weights"
   ]
  },
  {
   "cell_type": "code",
   "execution_count": 11,
   "id": "ad458514-fa78-4d08-a976-17f637fafec5",
   "metadata": {},
   "outputs": [
    {
     "name": "stdout",
     "output_type": "stream",
     "text": [
      "mean topo weight for topo1 is 0.0851454183302735 (outgroup,((sh_nw,sb),sh_se))\n",
      "mean topo weight for topo2 is 0.8755419749162067 (outgroup,((sh_nw,sh_se),sb))\n",
      "mean topo weight for topo3 is 0.03931260675351987 (outgroup,(sh_nw,(sb,sh_se)))\n"
     ]
    }
   ],
   "source": [
    "topos = {\n",
    "    \"topo1\": \"(outgroup,((sh_nw,sb),sh_se))\",\n",
    "    \"topo2\": \"(outgroup,((sh_nw,sh_se),sb))\",\n",
    "    \"topo3\": \"(outgroup,(sh_nw,(sb,sh_se)))\" }\n",
    "\n",
    "for x in [\"topo1\", \"topo2\", \"topo3\"]:\n",
    "    print(f\"mean topo weight for {x} is {str(df[x].mean())} {topos[x]}\")\n",
    "\n",
    "# df[\"topo1\"].mean()"
   ]
  },
  {
   "cell_type": "code",
   "execution_count": 12,
   "id": "aa7a8d25-5941-4486-8ea3-9fcb51959d30",
   "metadata": {},
   "outputs": [],
   "source": [
    "#plot weights\n",
    "figure(figsize=(12, 3), dpi=300)\n",
    "\n",
    "w=df[\"x_end\"] - df[\"x_start\"]\n",
    "x=df[\"x_start\"]\n",
    "\n",
    "\n",
    "plt.bar(x, df[\"topo1\"], w,                                   label=\"(sh_nw,sb),sh_se)\", color=\"red\")\n",
    "plt.bar(x, df[\"topo3\"], w, bottom=df[\"topo1\"],               label=\"(sh_nw,(sb,sh_se)\", color=\"blue\")\n",
    "plt.bar(x, df[\"topo2\"], w, bottom=df[\"topo1\"] + df[\"topo3\"], label=\"((sh_nw,sh_se),sb)\", color=\"silver\")\n",
    "# plt.xlabel(\"Position\")\n",
    "# plt.ylabel(\"Topo\")\n",
    "# plt.legend(title=\"Topologies\")\n",
    "plt.xticks(chr_ticks, chr_labels, fontsize=8)\n",
    "plt.yticks(fontsize=8)\n",
    "#plt.xlim([x.min()-5_000_000, x.max()+5_000_000])\n",
    "plt.ylim([0,1])\n",
    "\n",
    "#plt.savefig(\"twisst.svg\")\n",
    "plt.savefig(\"twisst.png\", dpi=300)\n",
    "plt.close()"
   ]
  },
  {
   "cell_type": "code",
   "execution_count": 13,
   "id": "4acaeb26-5eee-499a-baf4-33b867d4c1d1",
   "metadata": {},
   "outputs": [
    {
     "data": {
      "image/png": "[encoded data removed]",
      "text/plain": [
       "<IPython.core.display.Image object>"
      ]
     },
     "execution_count": 13,
     "metadata": {},
     "output_type": "execute_result"
    }
   ],
   "source": [
    "Image(\"twisst.png\")"
   ]
  },
  {
   "cell_type": "code",
   "execution_count": 14,
   "id": "49b3204e-09f3-412c-b380-5849727bf131",
   "metadata": {},
   "outputs": [],
   "source": [
    "#plot weights\n",
    "figure(figsize=(12, 3), dpi=300)\n",
    "\n",
    "kernel_size=21\n",
    "\n",
    "w=df[\"x_end\"] - df[\"x_start\"]\n",
    "x=df[\"x_start\"]\n",
    "\n",
    "t1 = uniform_filter(df[\"topo1\"], size=kernel_size)\n",
    "t2 = uniform_filter(df[\"topo2\"], size=kernel_size)\n",
    "t3 = uniform_filter(df[\"topo3\"], size=kernel_size)\n",
    "\n",
    "plt.bar(x, t1, w,                 label=\"(sh_nw,sb),sh_se)\", color=\"red\")\n",
    "plt.bar(x, t3, w, bottom=t1,      label=\"(sh_nw,(sb,sh_se)\", color=\"blue\")\n",
    "plt.bar(x, t2, w, bottom=t1 + t3, label=\"((sh_nw,sh_se),sb)\", color=\"silver\")\n",
    "\n",
    "plt.xlabel(\"Chromosome\")\n",
    "plt.ylabel(\"Topo Weight\")\n",
    "plt.legend(title=\"Topologies\", loc='upper right')\n",
    "plt.xticks(chr_ticks, chr_labels, fontsize=8)\n",
    "plt.yticks(fontsize=8)\n",
    "plt.xlim([x.min()-5_000_000, x.max()+5_000_000])\n",
    "plt.ylim([0,1])\n",
    "\n",
    "plt.savefig(f\"twisst_k{kernel_size}.png\", dpi=300)\n",
    "plt.close()"
   ]
  },
  {
   "cell_type": "code",
   "execution_count": 15,
   "id": "fb187749-91af-4549-91bf-80917382c9f6",
   "metadata": {},
   "outputs": [
    {
     "data": {
      "image/png": "[encoded data removed]",
      "text/plain": [
       "<IPython.core.display.Image object>"
      ]
     },
     "execution_count": 15,
     "metadata": {},
     "output_type": "execute_result"
    }
   ],
   "source": [
    "Image(\"twisst_k21.png\")"
   ]
  },
  {
   "cell_type": "markdown",
   "id": "f2810c1d-c350-44cd-8c91-66609997222f",
   "metadata": {
    "tags": []
   },
   "source": [
    "### Get basic data on the size of windows used for gene trees"
   ]
  },
  {
   "cell_type": "code",
   "execution_count": 75,
   "id": "d1ee6d31-4c26-47ee-839e-d26115554d9f",
   "metadata": {},
   "outputs": [
    {
     "data": {
      "text/plain": [
       "9999.528697007983"
      ]
     },
     "execution_count": 75,
     "metadata": {},
     "output_type": "execute_result"
    }
   ],
   "source": [
    "(c_df[\"stop\"] - c_df[\"start\"]).mean()"
   ]
  },
  {
   "cell_type": "code",
   "execution_count": 76,
   "id": "18d2e003-7808-4c00-ac4c-9160858da247",
   "metadata": {},
   "outputs": [
    {
     "data": {
      "text/plain": [
       "10000.0"
      ]
     },
     "execution_count": 76,
     "metadata": {},
     "output_type": "execute_result"
    }
   ],
   "source": [
    "(c_df[\"stop\"] - c_df[\"start\"]).median()"
   ]
  },
  {
   "cell_type": "code",
   "execution_count": 77,
   "id": "e4240f67-a83d-40fc-b492-0cf011e070ca",
   "metadata": {},
   "outputs": [
    {
     "data": {
      "text/plain": [
       "10000"
      ]
     },
     "execution_count": 77,
     "metadata": {},
     "output_type": "execute_result"
    }
   ],
   "source": [
    "(c_df[\"stop\"] - c_df[\"start\"]).max()"
   ]
  },
  {
   "cell_type": "code",
   "execution_count": 78,
   "id": "7178db17-36f7-4b81-ae3d-e81768832f55",
   "metadata": {},
   "outputs": [
    {
     "data": {
      "text/plain": [
       "1736"
      ]
     },
     "execution_count": 78,
     "metadata": {},
     "output_type": "execute_result"
    }
   ],
   "source": [
    "(c_df[\"stop\"] - c_df[\"start\"]).min()"
   ]
  },
  {
   "cell_type": "code",
   "execution_count": 79,
   "id": "3752b70d-e9b1-48cf-bed1-0e71b6622816",
   "metadata": {},
   "outputs": [
    {
     "data": {
      "text/plain": [
       "(0.0, 100000.0)"
      ]
     },
     "execution_count": 79,
     "metadata": {},
     "output_type": "execute_result"
    },
    {
     "data": {
      "image/png": "[encoded data removed]",
      "text/plain": [
       "<Figure size 432x288 with 1 Axes>"
      ]
     },
     "metadata": {
      "needs_background": "light"
     },
     "output_type": "display_data"
    }
   ],
   "source": [
    "plt.hist((c_df[\"stop\"] - c_df[\"start\"]), bins=300)\n",
    "plt.xlim([0, 100_000])"
   ]
  },
  {
   "cell_type": "markdown",
   "id": "7c0a282e-b096-47e6-9adf-81e8f8989210",
   "metadata": {
    "tags": []
   },
   "source": [
    "# SVDquartets: Species Tree"
   ]
  },
  {
   "cell_type": "code",
   "execution_count": 5,
   "id": "e62c74bb-c047-45ee-ae9a-9b3202ce0fd3",
   "metadata": {},
   "outputs": [],
   "source": [
    "Path(\"{}/results/svdq\".format(proj_dir)).mkdir(parents=True, exist_ok=True)\n",
    "os.chdir(\"{}/results/svdq\".format(proj_dir))"
   ]
  },
  {
   "cell_type": "code",
   "execution_count": 14,
   "id": "c9d85c78-4a39-4046-a377-9cec37c500da",
   "metadata": {},
   "outputs": [
    {
     "name": "stderr",
     "output_type": "stream",
     "text": [
      "\n",
      "VCFtools - 0.1.17\n",
      "(C) Adam Auton and Anthony Marcketta 2009\n",
      "\n",
      "Parameters as interpreted:\n",
      "\t--vcf ../post_phase_filtering/autosomes_unrelated.vcf\n",
      "\t--recode-INFO-all\n",
      "\t--recode\n",
      "\t--stdout\n",
      "\t--remove-indv guineensis_saotome_ERR119612\n",
      "\t--remove-indv intercalatum_drcongo_ERR119613\n",
      "\t--remove-indv matthei_zambia_ERR103051\n",
      "\n",
      "Excluding individuals in 'exclude' list\n",
      "After filtering, kept 163 out of 166 Individuals\n",
      "Outputting VCF file...\n",
      "After filtering, kept 28590241 out of a possible 28590241 Sites\n",
      "Run Time = 2021.00 seconds\n"
     ]
    }
   ],
   "source": [
    "%%bash\n",
    "\n",
    "vcftools \\\n",
    "    --vcf ../post_phase_filtering/autosomes_unrelated.vcf \\\n",
    "    --remove-indv guineensis_saotome_ERR119612 \\\n",
    "    --remove-indv intercalatum_drcongo_ERR119613 \\\n",
    "    --remove-indv matthei_zambia_ERR103051 \\\n",
    "    --recode \\\n",
    "    --recode-INFO-all \\\n",
    "    --stdout \\\n",
    "    >sb_sh_sm.vcf"
   ]
  },
  {
   "cell_type": "code",
   "execution_count": 232,
   "id": "b61ee8e5-760b-4243-b4dd-549f921a3090",
   "metadata": {},
   "outputs": [
    {
     "name": "stdout",
     "output_type": "stream",
     "text": [
      "\n",
      "VCFtools - 0.1.17\n",
      "(C) Adam Auton and Anthony Marcketta 2009\n",
      "\n",
      "Parameters as interpreted:\n",
      "\t--vcf ../post_phase_filtering/autosomes_unrelated.vcf\n",
      "\t--singletons\n",
      "\n",
      "After filtering, kept 166 out of 166 Individuals\n",
      "Outputting Singleton Locations\n",
      "After filtering, kept 28590241 out of a possible 28590241 Sites\n",
      "Run Time = 647.00 seconds\n"
     ]
    }
   ],
   "source": [
    "!vcftools --singletons --vcf sb_sh_sm.vcf"
   ]
  },
  {
   "cell_type": "code",
   "execution_count": 31,
   "id": "b3f5de38-77f1-4d6d-883f-988d3e484b85",
   "metadata": {},
   "outputs": [
    {
     "name": "stdout",
     "output_type": "stream",
     "text": [
      "7942341 singleton_positions.list\n"
     ]
    }
   ],
   "source": [
    "%%bash\n",
    "\n",
    "sed 1d out.singletons | cut -f1,2 >singleton_positions.list\n",
    "wc -l singleton_positions.list"
   ]
  },
  {
   "cell_type": "code",
   "execution_count": 32,
   "id": "8f932265-3c22-4494-9cd5-fc3730f92412",
   "metadata": {},
   "outputs": [
    {
     "name": "stderr",
     "output_type": "stream",
     "text": [
      "\n",
      "VCFtools - 0.1.17\n",
      "(C) Adam Auton and Anthony Marcketta 2009\n",
      "\n",
      "Parameters as interpreted:\n",
      "\t--vcf sb_sh_sm.vcf\n",
      "\t--exclude-positions singleton_positions.list\n",
      "\t--recode-INFO-all\n",
      "\t--recode\n",
      "\t--stdout\n",
      "\n",
      "After filtering, kept 163 out of 163 Individuals\n",
      "Outputting VCF file...\n",
      "After filtering, kept 20647900 out of a possible 28590241 Sites\n",
      "Run Time = 1531.00 seconds\n"
     ]
    }
   ],
   "source": [
    "%%bash\n",
    "\n",
    "vcftools \\\n",
    "    --exclude-positions singleton_positions.list \\\n",
    "    --vcf sb_sh_sm.vcf \\\n",
    "    --recode \\\n",
    "    --recode-INFO-all \\\n",
    "    --stdout \\\n",
    "    >svdq.vcf"
   ]
  },
  {
   "cell_type": "code",
   "execution_count": 33,
   "id": "393df476-fbb9-42ae-b9ab-3a6df5628b5c",
   "metadata": {
    "collapsed": true,
    "jupyter": {
     "outputs_hidden": true
    },
    "tags": []
   },
   "outputs": [
    {
     "name": "stdout",
     "output_type": "stream",
     "text": [
      "\n",
      "Converting file 'svdq.vcf':\n",
      "\n",
      "Number of samples in VCF: 163\n",
      "500000 genotypes processed.\n",
      "1000000 genotypes processed.\n",
      "1500000 genotypes processed.\n",
      "2000000 genotypes processed.\n",
      "2500000 genotypes processed.\n",
      "3000000 genotypes processed.\n",
      "3500000 genotypes processed.\n",
      "4000000 genotypes processed.\n",
      "4500000 genotypes processed.\n",
      "5000000 genotypes processed.\n",
      "5500000 genotypes processed.\n",
      "6000000 genotypes processed.\n",
      "6500000 genotypes processed.\n",
      "7000000 genotypes processed.\n",
      "7500000 genotypes processed.\n",
      "8000000 genotypes processed.\n",
      "8500000 genotypes processed.\n",
      "9000000 genotypes processed.\n",
      "9500000 genotypes processed.\n",
      "10000000 genotypes processed.\n",
      "10500000 genotypes processed.\n",
      "11000000 genotypes processed.\n",
      "11500000 genotypes processed.\n",
      "12000000 genotypes processed.\n",
      "12500000 genotypes processed.\n",
      "13000000 genotypes processed.\n",
      "13500000 genotypes processed.\n",
      "14000000 genotypes processed.\n",
      "14500000 genotypes processed.\n",
      "15000000 genotypes processed.\n",
      "15500000 genotypes processed.\n",
      "16000000 genotypes processed.\n",
      "16500000 genotypes processed.\n",
      "17000000 genotypes processed.\n",
      "17500000 genotypes processed.\n",
      "18000000 genotypes processed.\n",
      "18500000 genotypes processed.\n",
      "19000000 genotypes processed.\n",
      "19500000 genotypes processed.\n",
      "20000000 genotypes processed.\n",
      "20500000 genotypes processed.\n",
      "Total of genotypes processed: 20647900\n",
      "Genotypes excluded because they exceeded the amount of missing data allowed: 0\n",
      "Genotypes that passed missing data filter but were excluded for being MNPs: 0\n",
      "SNPs that passed the filters: 20647900\n",
      "\n",
      "Sample 1 of 163, 'Sb_NG_au_1.2', added to the nucleotide matrix(ces).\n",
      "Sample 2 of 163, 'Sb_NG_au_2.10', added to the nucleotide matrix(ces).\n",
      "Sample 3 of 163, 'Sb_NG_au_2.13', added to the nucleotide matrix(ces).\n",
      "Sample 4 of 163, 'Sb_NG_au_2.5', added to the nucleotide matrix(ces).\n",
      "Sample 5 of 163, 'Sb_NG_au_2.6', added to the nucleotide matrix(ces).\n",
      "Sample 6 of 163, 'Sb_NG_be_1.10', added to the nucleotide matrix(ces).\n",
      "Sample 7 of 163, 'Sb_NG_be_1.3', added to the nucleotide matrix(ces).\n",
      "Sample 8 of 163, 'Sb_NG_be_1.5', added to the nucleotide matrix(ces).\n",
      "Sample 9 of 163, 'Sb_NG_en_1.1', added to the nucleotide matrix(ces).\n",
      "Sample 10 of 163, 'Sh_NG_eb_6_2', added to the nucleotide matrix(ces).\n",
      "Sample 11 of 163, 'Sh_NG_ed_1_3', added to the nucleotide matrix(ces).\n",
      "Sample 12 of 163, 'Sh_NG_ed_3_2', added to the nucleotide matrix(ces).\n",
      "Sample 13 of 163, 'Sh_NG_kb_2_1', added to the nucleotide matrix(ces).\n",
      "Sample 14 of 163, 'Sh_NG_kw_1_10', added to the nucleotide matrix(ces).\n",
      "Sample 15 of 163, 'Sh_NG_os_1_4', added to the nucleotide matrix(ces).\n",
      "Sample 16 of 163, 'bovis_ethiopia_SRR13579874', added to the nucleotide matrix(ces).\n",
      "Sample 17 of 163, 'bovis_keyna_SRR13579878', added to the nucleotide matrix(ces).\n",
      "Sample 18 of 163, 'bovis_senegal_SRR13579876', added to the nucleotide matrix(ces).\n",
      "Sample 19 of 163, 'bovis_tanzania_ERR103048', added to the nucleotide matrix(ces).\n",
      "Sample 20 of 163, 'margrebowiei_zambia_ERR310940', added to the nucleotide matrix(ces).\n",
      "Sample 21 of 163, 'sbo_cdivoire_foro_106', added to the nucleotide matrix(ces).\n",
      "Sample 22 of 163, 'sbo_cdivoire_foro_116', added to the nucleotide matrix(ces).\n",
      "Sample 23 of 163, 'sbo_cdivoire_noumousso_107', added to the nucleotide matrix(ces).\n",
      "Sample 24 of 163, 'sbo_cdivoire_noumousso_117', added to the nucleotide matrix(ces).\n",
      "Sample 25 of 163, 'sbo_cdivoire_raviart_108', added to the nucleotide matrix(ces).\n",
      "Sample 26 of 163, 'sbo_cdivoire_raviart_109', added to the nucleotide matrix(ces).\n",
      "Sample 27 of 163, 'sbo_niger_libore_154', added to the nucleotide matrix(ces).\n",
      "Sample 28 of 163, 'sbo_niger_libore_155', added to the nucleotide matrix(ces).\n",
      "Sample 29 of 163, 'sbo_niger_libore_160', added to the nucleotide matrix(ces).\n",
      "Sample 30 of 163, 'sbo_niger_libore_162', added to the nucleotide matrix(ces).\n",
      "Sample 31 of 163, 'sbo_niger_libore_163', added to the nucleotide matrix(ces).\n",
      "Sample 32 of 163, 'sbo_niger_libore_164', added to the nucleotide matrix(ces).\n",
      "Sample 33 of 163, 'sbo_niger_libore_170', added to the nucleotide matrix(ces).\n",
      "Sample 34 of 163, 'sbo_niger_libore_171', added to the nucleotide matrix(ces).\n",
      "Sample 35 of 163, 'sbo_niger_libore_172', added to the nucleotide matrix(ces).\n",
      "Sample 36 of 163, 'sbo_niger_libore_175', added to the nucleotide matrix(ces).\n",
      "Sample 37 of 163, 'sbo_niger_libore_176', added to the nucleotide matrix(ces).\n",
      "Sample 38 of 163, 'sbo_uganda_apac13_35', added to the nucleotide matrix(ces).\n",
      "Sample 39 of 163, 'sbo_uganda_runga_44', added to the nucleotide matrix(ces).\n",
      "Sample 40 of 163, 'sh_cameroon_SRR13579883', added to the nucleotide matrix(ces).\n",
      "Sample 41 of 163, 'sh_egypt_SRR13579865', added to the nucleotide matrix(ces).\n",
      "Sample 42 of 163, 'sh_egypt_SRR433862', added to the nucleotide matrix(ces).\n",
      "Sample 43 of 163, 'sh_gambia_SRR13579872', added to the nucleotide matrix(ces).\n",
      "Sample 44 of 163, 'sh_guineabissau_SRR13579870', added to the nucleotide matrix(ces).\n",
      "Sample 45 of 163, 'sh_ivorycoast_SRR13579866', added to the nucleotide matrix(ces).\n",
      "Sample 46 of 163, 'sh_mali_SRR13579867', added to the nucleotide matrix(ces).\n",
      "Sample 47 of 163, 'sh_niger_SRR8284786', added to the nucleotide matrix(ces).\n",
      "Sample 48 of 163, 'sh_niger_SRR8284787', added to the nucleotide matrix(ces).\n",
      "Sample 49 of 163, 'sh_niger_SRR8284788', added to the nucleotide matrix(ces).\n",
      "Sample 50 of 163, 'sh_niger_SRR8284789', added to the nucleotide matrix(ces).\n",
      "Sample 51 of 163, 'sh_niger_SRR8284790', added to the nucleotide matrix(ces).\n",
      "Sample 52 of 163, 'sh_niger_SRR8284791', added to the nucleotide matrix(ces).\n",
      "Sample 53 of 163, 'sh_nigeria_SRR13579869', added to the nucleotide matrix(ces).\n",
      "Sample 54 of 163, 'sh_senegal_SRR13579881', added to the nucleotide matrix(ces).\n",
      "Sample 55 of 163, 'sh_tzpem_SRR8284792', added to the nucleotide matrix(ces).\n",
      "Sample 56 of 163, 'sh_tzpem_SRR8284794', added to the nucleotide matrix(ces).\n",
      "Sample 57 of 163, 'sh_tzpem_SRR8284796', added to the nucleotide matrix(ces).\n",
      "Sample 58 of 163, 'sh_tzpem_SRR8284797', added to the nucleotide matrix(ces).\n",
      "Sample 59 of 163, 'sh_zanzibar_SRR13579868', added to the nucleotide matrix(ces).\n",
      "Sample 60 of 163, 'sha_angola_cota_57', added to the nucleotide matrix(ces).\n",
      "Sample 61 of 163, 'sha_angola_cota_58', added to the nucleotide matrix(ces).\n",
      "Sample 62 of 163, 'sha_angola_cota_59', added to the nucleotide matrix(ces).\n",
      "Sample 63 of 163, 'sha_angola_icau_60', added to the nucleotide matrix(ces).\n",
      "Sample 64 of 163, 'sha_angola_icau_61', added to the nucleotide matrix(ces).\n",
      "Sample 65 of 163, 'sha_angola_icau_62', added to the nucleotide matrix(ces).\n",
      "Sample 66 of 163, 'sha_angola_icau_63', added to the nucleotide matrix(ces).\n",
      "Sample 67 of 163, 'sha_angola_icau_64', added to the nucleotide matrix(ces).\n",
      "Sample 68 of 163, 'sha_cdivoire_kongobo_115', added to the nucleotide matrix(ces).\n",
      "Sample 69 of 163, 'sha_kenya_unk_49', added to the nucleotide matrix(ces).\n",
      "Sample 70 of 163, 'sha_liberia_dormeyan_54', added to the nucleotide matrix(ces).\n",
      "Sample 71 of 163, 'sha_liberia_joekpenmue_55', added to the nucleotide matrix(ces).\n",
      "Sample 72 of 163, 'sha_madag_belesalampy_73', added to the nucleotide matrix(ces).\n",
      "Sample 73 of 163, 'sha_madag_belesalampy_74', added to the nucleotide matrix(ces).\n",
      "Sample 74 of 163, 'sha_madag_belesalampy_75', added to the nucleotide matrix(ces).\n",
      "Sample 75 of 163, 'sha_madag_belesalampy_76', added to the nucleotide matrix(ces).\n",
      "Sample 76 of 163, 'sha_madag_belesalampy_77', added to the nucleotide matrix(ces).\n",
      "Sample 77 of 163, 'sha_madag_belesalampy_78', added to the nucleotide matrix(ces).\n",
      "Sample 78 of 163, 'sha_madag_belesalampy_80', added to the nucleotide matrix(ces).\n",
      "Sample 79 of 163, 'sha_madag_belesalampy_81', added to the nucleotide matrix(ces).\n",
      "Sample 80 of 163, 'sha_madag_belesalampy_82', added to the nucleotide matrix(ces).\n",
      "Sample 81 of 163, 'sha_madag_belesalampy_83', added to the nucleotide matrix(ces).\n",
      "Sample 82 of 163, 'sha_madag_belesalampy_84', added to the nucleotide matrix(ces).\n",
      "Sample 83 of 163, 'sha_madag_belesalampy_87', added to the nucleotide matrix(ces).\n",
      "Sample 84 of 163, 'sha_namib_mayenzere_134', added to the nucleotide matrix(ces).\n",
      "Sample 85 of 163, 'sha_niger_libore_138', added to the nucleotide matrix(ces).\n",
      "Sample 86 of 163, 'sha_niger_libore_139', added to the nucleotide matrix(ces).\n",
      "Sample 87 of 163, 'sha_niger_libore_140', added to the nucleotide matrix(ces).\n",
      "Sample 88 of 163, 'sha_niger_libore_141', added to the nucleotide matrix(ces).\n",
      "Sample 89 of 163, 'sha_niger_libore_142', added to the nucleotide matrix(ces).\n",
      "Sample 90 of 163, 'sha_niger_libore_143', added to the nucleotide matrix(ces).\n",
      "Sample 91 of 163, 'sha_niger_libore_146', added to the nucleotide matrix(ces).\n",
      "Sample 92 of 163, 'sha_niger_libore_147', added to the nucleotide matrix(ces).\n",
      "Sample 93 of 163, 'sha_niger_libore_148', added to the nucleotide matrix(ces).\n",
      "Sample 94 of 163, 'sha_niger_libore_149', added to the nucleotide matrix(ces).\n",
      "Sample 95 of 163, 'sha_niger_libore_150', added to the nucleotide matrix(ces).\n",
      "Sample 96 of 163, 'sha_niger_libore_151', added to the nucleotide matrix(ces).\n",
      "Sample 97 of 163, 'sha_pemba_uwandani_1', added to the nucleotide matrix(ces).\n",
      "Sample 98 of 163, 'sha_pemba_uwandani_10', added to the nucleotide matrix(ces).\n",
      "Sample 99 of 163, 'sha_pemba_uwandani_11', added to the nucleotide matrix(ces).\n",
      "Sample 100 of 163, 'sha_pemba_uwandani_12', added to the nucleotide matrix(ces).\n",
      "Sample 101 of 163, 'sha_pemba_uwandani_13', added to the nucleotide matrix(ces).\n",
      "Sample 102 of 163, 'sha_pemba_uwandani_15', added to the nucleotide matrix(ces).\n",
      "Sample 103 of 163, 'sha_pemba_uwandani_2', added to the nucleotide matrix(ces).\n",
      "Sample 104 of 163, 'sha_pemba_uwandani_5', added to the nucleotide matrix(ces).\n",
      "Sample 105 of 163, 'sha_pemba_uwandani_7', added to the nucleotide matrix(ces).\n",
      "Sample 106 of 163, 'sha_sudan_canal4_125', added to the nucleotide matrix(ces).\n",
      "Sample 107 of 163, 'sha_sudan_canal4_126', added to the nucleotide matrix(ces).\n",
      "Sample 108 of 163, 'sha_sudan_canal4_127', added to the nucleotide matrix(ces).\n",
      "Sample 109 of 163, 'sha_sudan_canal4_132', added to the nucleotide matrix(ces).\n",
      "Sample 110 of 163, 'sha_sudan_schoole_120', added to the nucleotide matrix(ces).\n",
      "Sample 111 of 163, 'sha_sudan_schoolh_123', added to the nucleotide matrix(ces).\n",
      "Sample 112 of 163, 'sha_sudan_schooli_129', added to the nucleotide matrix(ces).\n",
      "Sample 113 of 163, 'sha_sudan_schooli_130', added to the nucleotide matrix(ces).\n",
      "Sample 114 of 163, 'sha_swaz_mkhuzweni_177', added to the nucleotide matrix(ces).\n",
      "Sample 115 of 163, 'sha_swaz_mkhuzweni_178', added to the nucleotide matrix(ces).\n",
      "Sample 116 of 163, 'sha_swaz_mkhuzweni_179', added to the nucleotide matrix(ces).\n",
      "Sample 117 of 163, 'sha_swaz_mkhuzweni_180', added to the nucleotide matrix(ces).\n",
      "Sample 118 of 163, 'sha_swaz_mkhuzweni_182', added to the nucleotide matrix(ces).\n",
      "Sample 119 of 163, 'sha_swaz_mkhuzweni_184', added to the nucleotide matrix(ces).\n",
      "Sample 120 of 163, 'sha_swaz_njojane_188', added to the nucleotide matrix(ces).\n",
      "Sample 121 of 163, 'sha_swaz_njojane_190', added to the nucleotide matrix(ces).\n",
      "Sample 122 of 163, 'sha_swaz_njojane_191', added to the nucleotide matrix(ces).\n",
      "Sample 123 of 163, 'sha_swaz_qomintaba_185', added to the nucleotide matrix(ces).\n",
      "Sample 124 of 163, 'sha_swaz_unk_186', added to the nucleotide matrix(ces).\n",
      "Sample 125 of 163, 'sha_unguja_kinyasini_16', added to the nucleotide matrix(ces).\n",
      "Sample 126 of 163, 'sha_unguja_kinyasini_19', added to the nucleotide matrix(ces).\n",
      "Sample 127 of 163, 'sha_unguja_kinyasini_23', added to the nucleotide matrix(ces).\n",
      "Sample 128 of 163, 'sha_unguja_kinyasini_25', added to the nucleotide matrix(ces).\n",
      "Sample 129 of 163, 'sha_unguja_kinyasini_26', added to the nucleotide matrix(ces).\n",
      "Sample 130 of 163, 'sha_unguja_kinyasini_27', added to the nucleotide matrix(ces).\n",
      "Sample 131 of 163, 'sha_unguja_kinyasini_28', added to the nucleotide matrix(ces).\n",
      "Sample 132 of 163, 'sha_unguja_kinyasini_29', added to the nucleotide matrix(ces).\n",
      "Sample 133 of 163, 'sha_unguja_kinyasini_30', added to the nucleotide matrix(ces).\n",
      "Sample 134 of 163, 'sha_zambia_lishiko_66', added to the nucleotide matrix(ces).\n",
      "Sample 135 of 163, 'ssp_cdivoire_allokokro_102', added to the nucleotide matrix(ces).\n",
      "Sample 136 of 163, 'ssp_cdivoire_foro_101', added to the nucleotide matrix(ces).\n",
      "Sample 137 of 163, 'ssp_cdivoire_foro_103', added to the nucleotide matrix(ces).\n",
      "Sample 138 of 163, 'ssp_cdivoire_kongobo_95', added to the nucleotide matrix(ces).\n",
      "Sample 139 of 163, 'ssp_cdivoire_kongobo_96', added to the nucleotide matrix(ces).\n",
      "Sample 140 of 163, 'ssp_cdivoire_kongobo_97', added to the nucleotide matrix(ces).\n",
      "Sample 141 of 163, 'ssp_cdivoire_kongobo_98', added to the nucleotide matrix(ces).\n",
      "Sample 142 of 163, 'ssp_cdivoire_linguebo_100', added to the nucleotide matrix(ces).\n",
      "Sample 143 of 163, 'ssp_cdivoire_linguebo_105', added to the nucleotide matrix(ces).\n",
      "Sample 144 of 163, 'ssp_cdivoire_noumousso_88', added to the nucleotide matrix(ces).\n",
      "Sample 145 of 163, 'ssp_cdivoire_noumousso_94', added to the nucleotide matrix(ces).\n",
      "Sample 146 of 163, 'ssp_cdivoire_raviart_110', added to the nucleotide matrix(ces).\n",
      "Sample 147 of 163, 'ssp_cdivoire_raviart_111', added to the nucleotide matrix(ces).\n",
      "Sample 148 of 163, 'ssp_cdivoire_raviart_113', added to the nucleotide matrix(ces).\n",
      "Sample 149 of 163, 'ssp_cdivoire_raviart_114', added to the nucleotide matrix(ces).\n",
      "Sample 150 of 163, 'ssp_cdivoire_raviart_89', added to the nucleotide matrix(ces).\n",
      "Sample 151 of 163, 'ssp_cdivoire_raviart_90', added to the nucleotide matrix(ces).\n",
      "Sample 152 of 163, 'ssp_cdivoire_raviart_91', added to the nucleotide matrix(ces).\n",
      "Sample 153 of 163, 'ssp_cdivoire_raviart_92', added to the nucleotide matrix(ces).\n",
      "Sample 154 of 163, 'ssp_cdivoire_raviart_99', added to the nucleotide matrix(ces).\n",
      "Sample 155 of 163, 'ssp_niger_libore_156', added to the nucleotide matrix(ces).\n",
      "Sample 156 of 163, 'ssp_niger_libore_157', added to the nucleotide matrix(ces).\n",
      "Sample 157 of 163, 'ssp_niger_libore_159', added to the nucleotide matrix(ces).\n",
      "Sample 158 of 163, 'ssp_niger_libore_165', added to the nucleotide matrix(ces).\n",
      "Sample 159 of 163, 'ssp_niger_libore_166', added to the nucleotide matrix(ces).\n",
      "Sample 160 of 163, 'ssp_niger_libore_167', added to the nucleotide matrix(ces).\n",
      "Sample 161 of 163, 'ssp_niger_libore_168', added to the nucleotide matrix(ces).\n",
      "Sample 162 of 163, 'ssp_niger_libore_169', added to the nucleotide matrix(ces).\n",
      "Sample 163 of 163, 'ssp_zambia_kafue_71', added to the nucleotide matrix(ces).\n",
      "\n",
      "NEXUS matrix saved to: svdq.min4.nex\n",
      "\n",
      "Done!\n",
      "\n"
     ]
    }
   ],
   "source": [
    "#convert to nexus\n",
    "!~/sch_hae_scan/bin/vcf2phylip/vcf2phylip.py -i svdq.vcf -r -n -p"
   ]
  },
  {
   "cell_type": "code",
   "execution_count": 67,
   "id": "2c2a93ed-d01a-4d9d-bf07-5ca1dd28ef01",
   "metadata": {},
   "outputs": [],
   "source": [
    "!conda run -n bcftools --cwd . --live-stream bcftools query -l svdq.vcf >samples.list"
   ]
  },
  {
   "cell_type": "code",
   "execution_count": 68,
   "id": "f28fb9c7-6306-4739-9e71-8406149f920f",
   "metadata": {},
   "outputs": [],
   "source": [
    "!cp svdq.min4.nexus svdq.nexus"
   ]
  },
  {
   "cell_type": "code",
   "execution_count": 7,
   "id": "db7c5259-7e43-43e1-81d3-659601b16d58",
   "metadata": {},
   "outputs": [],
   "source": [
    "pca_df=pd.read_csv(\"{}/results/pca/pca_df.csv\".format(proj_dir), sep=\",\")"
   ]
  },
  {
   "cell_type": "code",
   "execution_count": 8,
   "id": "6ac1206a-a63e-4d27-8cb5-ff047c35b0b2",
   "metadata": {},
   "outputs": [],
   "source": [
    "# Read in samples.list\n",
    "with open(\"samples.list\", \"r\") as f:\n",
    "    samples = [line.strip() for line in f]\n",
    "\n",
    "# Create a defaultdict with lists as default values\n",
    "sample_dict = defaultdict(list)\n",
    "\n",
    "# Iterate through the samples\n",
    "for sample in samples:\n",
    "    # Look up the \"pca_species\" and \"country\" in pca_df for the current sample\n",
    "    pca_species, country = pca_df.loc[pca_df['sample_name'] == sample, ['pca_species', 'country']].values[0]\n",
    "\n",
    "    # Create the dictionary key\n",
    "    key = f\"{pca_species}.{country}\".replace(\"_\", \".\")\n",
    "\n",
    "    # Append the sample to the list in the dictionary\n",
    "    sample_dict[key].append(sample)"
   ]
  },
  {
   "cell_type": "code",
   "execution_count": 9,
   "id": "c5d84f71-5607-4b84-a4fb-7fd29d8e25e9",
   "metadata": {},
   "outputs": [],
   "source": [
    "#write the nexus block    \n",
    "with open(\"tax_partition.nex\", 'w') as f:\n",
    "    \n",
    "    f.write(\"#NEXUS\\n\")\n",
    "    f.write(\"begin sets;\\n\")\n",
    "    f.write(\"taxpartition populations = \\n\")    \n",
    "    for pop in sample_dict:\n",
    "        pop_samples = \" \".join(sample_dict[pop])\n",
    "        #pop_samples = \" \".join([item + suffix for item in sample_dict[pop] for suffix in ('_h1', '_h2')])\n",
    "        f.write(f\"\\t{pop}:\\t\\t{pop_samples},\\n\")\n",
    "    f.write(\"\\t;\\n\")\n",
    "    f.write(\"end;\\n\")"
   ]
  },
  {
   "cell_type": "code",
   "execution_count": 10,
   "id": "64133e7a-ef20-423e-9245-304ac3f1c060",
   "metadata": {},
   "outputs": [],
   "source": [
    "%%bash \n",
    "\n",
    "echo \"\"\"\n",
    "\n",
    "begin paup;\n",
    "    \n",
    "    log start file=svdq_pops.log replace;\n",
    "\n",
    "    svdq evalQuartets=random\n",
    "         nquartets=2500000\n",
    "         taxpartition=populations\n",
    "         nthreads=192\n",
    "         bootstrap=standard\n",
    "         nreps=100\n",
    "         treeFile=svdq_pops_boottrees.nex\n",
    "         seed=12345\n",
    "         replace=yes\n",
    "         ;\n",
    "\n",
    "    savetrees\n",
    "        file=svdq_pops_constree.nex\n",
    "        supportValues=Both\n",
    "        maxDecimals=2\n",
    "        ;\n",
    "end;\n",
    "\n",
    "\"\"\" >svdq_pops_block.nexus"
   ]
  },
  {
   "cell_type": "code",
   "execution_count": null,
   "id": "73daeb64-b12d-493d-a558-fb0d34fc4de8",
   "metadata": {},
   "outputs": [],
   "source": [
    "~/sch_hae_scan/bin/paup4a168_ubuntu64"
   ]
  },
  {
   "cell_type": "code",
   "execution_count": null,
   "id": "6ac9881e-72bb-4bb7-89de-02b8c64d9a2b",
   "metadata": {},
   "outputs": [],
   "source": [
    "execute svdq.nexus"
   ]
  },
  {
   "cell_type": "code",
   "execution_count": null,
   "id": "edbcb62c-119c-4ce8-bee1-2ccf7dd31010",
   "metadata": {},
   "outputs": [],
   "source": [
    "execute tax_partition.nex"
   ]
  },
  {
   "cell_type": "code",
   "execution_count": null,
   "id": "9407c8d6-5732-41ed-bcf2-a07677e61cbd",
   "metadata": {},
   "outputs": [],
   "source": [
    "execute svdq_pops_block.nexus"
   ]
  },
  {
   "cell_type": "code",
   "execution_count": null,
   "id": "24c9c0be-bb38-4482-b507-611a9a0f6342",
   "metadata": {},
   "outputs": [],
   "source": [
    "# Analysis using SVDQuartets method\n",
    "#                                                                                                                                                                                                                                                Number of taxa (lineages) in the analysis = 163                                                                                                                                                                                              Tips assigned to species using taxon partition 'populations'                                                                                                                                                                                 Quartet sampling = random (seed = 12345)                                                                                                                                                                                                     Number of random quartets sampled = 2500000                                                                                                                                                                                                    This number equals the number of taxa raised to the power of 2.892,                                                                                                                                                                          and represents 16.92% of the total number of distinct quartets                                                                                                                                                                             Doing standard bootstrap analysis                                                                                                                                                                                                              Initial bootstrap seed comes from same sequence as random quartet sampling                                                                                                                                                                   Number of bootstrap replicates = 100                                                                                                                                                                                                       Tree model = multispecies coalescent (expected rank of flattening matrix for true tree = 10)                                                                                                                                                 Using 192 parallel threads on 96 physical (192 logical) processors\n",
    "#   Tree search:                                                                                                                                                                                                                                   Quartet assembly algorithm = QFM\n",
    "#     Local search = none                                                                                                                                                                                                                        Writing trees for bootstrap replicates to file: svdq_pops_boottrees.nex                                                                                                                                                                                                                                                                                                                                                                                                                 Getting SVD scores for random quartets...                                                                                                                                                                                                    [##################################################] 100.0%                                                                                                                                                                                  \n",
    "# Assembling quartets...                                                                                                                                                                                                                       [##################################################] 100.0%\n",
    "#                                                                                                                                                                                                                                              Quartet assembly completed:                                                                                                                                                                                                                    Total weight of incompatible quartets = 387749 (15.510%)                                                                                                                                                                                     Total weight of compatible quartets   = 2112251 (84.490%)\n",
    "#   Time used for QFM = 0.82 sec (CPU time = 00:01:53.7)"
   ]
  },
  {
   "cell_type": "code",
   "execution_count": null,
   "id": "4ffafeae-9f58-4152-a6de-5f17df3c0281",
   "metadata": {},
   "outputs": [],
   "source": [
    "#restart paup"
   ]
  },
  {
   "cell_type": "code",
   "execution_count": null,
   "id": "90def17f-1472-40c3-93f6-4d4bceb69405",
   "metadata": {},
   "outputs": [],
   "source": [
    "~/sch_hae_scan/bin/paup4a168_ubuntu64"
   ]
  },
  {
   "cell_type": "code",
   "execution_count": null,
   "id": "11fb92f1-c7ca-4536-bc23-aeb31490fcba",
   "metadata": {},
   "outputs": [],
   "source": [
    "log start file=svdq_indv.log replace;"
   ]
  },
  {
   "cell_type": "code",
   "execution_count": null,
   "id": "1916437a-4a97-488a-bfad-8af513f0dd0f",
   "metadata": {},
   "outputs": [],
   "source": [
    "execute svdq.nexus"
   ]
  },
  {
   "cell_type": "code",
   "execution_count": null,
   "id": "538032b2-a2fa-451a-8964-f445fa01720c",
   "metadata": {},
   "outputs": [],
   "source": [
    "svdq evalQuartets=random nquartets=2500000 bootstrap=standard nreps=100 nthreads=192 treeFile=svdq_indv_boottrees.nex seed=12345 replace=yes"
   ]
  },
  {
   "cell_type": "code",
   "execution_count": null,
   "id": "026ba871-9301-4418-80e9-0cbedd03a8e2",
   "metadata": {},
   "outputs": [],
   "source": [
    "savetrees file=svdq_indv_constree.nex supportValues=Both maxDecimals=2"
   ]
  },
  {
   "cell_type": "code",
   "execution_count": null,
   "id": "612b5ec5-8dcd-4b09-9080-ff4955aee157",
   "metadata": {},
   "outputs": [],
   "source": [
    "# Number of taxa (lineages) in the analysis = 163\n",
    "# No species-membership partition is in effect; assuming one tip per species\n",
    "# Quartet sampling = random (seed = 12345)\n",
    "# Number of random quartets sampled = 2500000\n",
    "#     This number equals the number of taxa raised to the power of 2.892,\n",
    "#     and represents 8.821% of the total number of distinct quartets\n",
    "# Doing standard bootstrap analysis\n",
    "#     Initial bootstrap seed comes from same sequence as random quartet sampling\n",
    "#     Number of bootstrap replicates = 100\n",
    "# Tree model = multispecies coalescent (expected rank of flattening matrix for true tree = 10)\n",
    "# Using 192 parallel threads on 96 physical (192 logical) processors\n",
    "# Tree search:\n",
    "#     Quartet assembly algorithm = QFM\n",
    "#     Local search = none\n",
    "# Writing trees for bootstrap replicates to file: svdq_indv_boottrees.nex\n",
    "\n",
    "# Getting SVD scores for random quartets...\n",
    "# [##################################################] 100.0%\n",
    "\n",
    "# Assembling quartets...\n",
    "# [##################################################] 100.0%\n",
    "# Quartet assembly completed:\n",
    "#     Total weight of incompatible quartets = 463571 (18.543%)\n",
    "#     Total weight of compatible quartets   = 2036429 (81.457%)\n",
    "#     Time used for QFM = 8.56 sec (CPU time = 00:25:39.8)"
   ]
  },
  {
   "cell_type": "code",
   "execution_count": null,
   "id": "caa68d45-62cf-4256-8233-783f477e240f",
   "metadata": {},
   "outputs": [],
   "source": [
    "# begin trees;\n",
    "# translate\n",
    "# 1 one,\n",
    "# 2 two,\n",
    "# 3 three,\n",
    "# 4 four;"
   ]
  },
  {
   "cell_type": "code",
   "execution_count": 222,
   "id": "99e80332-0408-4925-a0c5-3df5faa2c4c6",
   "metadata": {},
   "outputs": [],
   "source": [
    "# Create a defaultdict with lists as default values\n",
    "countries = {}\n",
    "species = {}\n",
    "\n",
    "# Iterate through the samples\n",
    "for sample in samples:\n",
    "    # Look up the \"pca_species\" and \"country\" in pca_df for the current sample\n",
    "    species[sample], countries[sample] = pca_df.loc[pca_df['sample_name'] == sample, ['pca_species', 'country']].values[0]"
   ]
  },
  {
   "cell_type": "code",
   "execution_count": 221,
   "id": "54c52d41-0512-4485-b0a3-21f0ef9c074f",
   "metadata": {},
   "outputs": [
    {
     "data": {
      "text/plain": [
       "'s_bovis'"
      ]
     },
     "execution_count": 221,
     "metadata": {},
     "output_type": "execute_result"
    }
   ],
   "source": [
    "species"
   ]
  },
  {
   "cell_type": "code",
   "execution_count": 225,
   "id": "b93a9301-6f70-4d2a-8bcf-452e7c7f882e",
   "metadata": {},
   "outputs": [],
   "source": [
    "with open(\"translate.nex\", 'w') as f:\n",
    "    \n",
    "    f.write(\"#NEXUS\\n\")\n",
    "    f.write(\"begin trees;\\n\")\n",
    "    f.write(\"\\ttranslate\\n\")    \n",
    "    for original_sample_name in samples:\n",
    "        sp=species[original_sample_name]\n",
    "        country=countries[original_sample_name]\n",
    "        new_sample_name=f\"{sp}-{country}-{original_sample_name}\"\n",
    "        f.write(f\"\\t\\t{original_sample_name}\\t\\t{new_sample_name},\\n\")\n",
    "    f.write(\"\\t;\\n\")\n",
    "    f.write(\"end;\\n\")"
   ]
  },
  {
   "cell_type": "code",
   "execution_count": 226,
   "id": "2ef8ca57-bd7b-4930-95d5-d80ec738760d",
   "metadata": {
    "collapsed": true,
    "jupyter": {
     "outputs_hidden": true
    },
    "tags": []
   },
   "outputs": [
    {
     "name": "stdout",
     "output_type": "stream",
     "text": [
      "#NEXUS\n",
      "begin trees;\n",
      "\ttranslate\n",
      "\t\tSb_NG_au_1.2\t\ts_bovis-nigeria-Sb_NG_au_1.2,\n",
      "\t\tSb_NG_au_2.10\t\ts_bovis-nigeria-Sb_NG_au_2.10,\n",
      "\t\tSb_NG_au_2.13\t\ts_bovis-nigeria-Sb_NG_au_2.13,\n",
      "\t\tSb_NG_au_2.5\t\ts_bovis-nigeria-Sb_NG_au_2.5,\n",
      "\t\tSb_NG_au_2.6\t\ts_bovis-nigeria-Sb_NG_au_2.6,\n",
      "\t\tSb_NG_be_1.10\t\ts_bovis-nigeria-Sb_NG_be_1.10,\n",
      "\t\tSb_NG_be_1.3\t\ts_bovis-nigeria-Sb_NG_be_1.3,\n",
      "\t\tSb_NG_be_1.5\t\ts_bovis-nigeria-Sb_NG_be_1.5,\n",
      "\t\tSb_NG_en_1.1\t\ts_bovis-nigeria-Sb_NG_en_1.1,\n",
      "\t\tSh_NG_eb_6_2\t\ts_haematobium-nigeria-Sh_NG_eb_6_2,\n",
      "\t\tSh_NG_ed_1_3\t\ts_haematobium-nigeria-Sh_NG_ed_1_3,\n",
      "\t\tSh_NG_ed_3_2\t\ts_haematobium-nigeria-Sh_NG_ed_3_2,\n",
      "\t\tSh_NG_kb_2_1\t\ts_haematobium-nigeria-Sh_NG_kb_2_1,\n",
      "\t\tSh_NG_kw_1_10\t\ts_haematobium-nigeria-Sh_NG_kw_1_10,\n",
      "\t\tSh_NG_os_1_4\t\ts_haematobium-nigeria-Sh_NG_os_1_4,\n",
      "\t\tbovis_ethiopia_SRR13579874\t\ts_bovis-ethiopia-bovis_ethiopia_SRR13579874,\n",
      "\t\tbovis_keyna_SRR13579878\t\ts_bovis-kenya-bovis_keyna_SRR13579878,\n",
      "\t\tbovis_senegal_SRR13579876\t\ts_bovis-senegal-bovis_senegal_SRR13579876,\n",
      "\t\tbovis_tanzania_ERR103048\t\ts_bovis-tanzania-bovis_tanzania_ERR103048,\n",
      "\t\tguineensis_saotome_ERR119612\t\ts_guineensis-na-guineensis_saotome_ERR119612,\n",
      "\t\tintercalatum_drcongo_ERR119613\t\ts_intercalatum-na-intercalatum_drcongo_ERR119613,\n",
      "\t\tmargrebowiei_zambia_ERR310940\t\ts_margrebowiei-na-margrebowiei_zambia_ERR310940,\n",
      "\t\tmatthei_zambia_ERR103051\t\ts_matthei-na-matthei_zambia_ERR103051,\n",
      "\t\tsbo_cdivoire_foro_106\t\ts_bovis-cote_d_ivoire-sbo_cdivoire_foro_106,\n",
      "\t\tsbo_cdivoire_foro_116\t\ts_bovis-cote_d_ivoire-sbo_cdivoire_foro_116,\n",
      "\t\tsbo_cdivoire_noumousso_107\t\ts_bovis-cote_d_ivoire-sbo_cdivoire_noumousso_107,\n",
      "\t\tsbo_cdivoire_noumousso_117\t\ts_bovis-cote_d_ivoire-sbo_cdivoire_noumousso_117,\n",
      "\t\tsbo_cdivoire_raviart_108\t\ts_haematobium-cote_d_ivoire-sbo_cdivoire_raviart_108,\n",
      "\t\tsbo_cdivoire_raviart_109\t\ts_haematobium-cote_d_ivoire-sbo_cdivoire_raviart_109,\n",
      "\t\tsbo_niger_libore_154\t\ts_haematobium-niger-sbo_niger_libore_154,\n",
      "\t\tsbo_niger_libore_155\t\ts_haematobium-niger-sbo_niger_libore_155,\n",
      "\t\tsbo_niger_libore_160\t\ts_haematobium-niger-sbo_niger_libore_160,\n",
      "\t\tsbo_niger_libore_162\t\ts_haematobium-niger-sbo_niger_libore_162,\n",
      "\t\tsbo_niger_libore_163\t\ts_haematobium-niger-sbo_niger_libore_163,\n",
      "\t\tsbo_niger_libore_164\t\ts_haematobium-niger-sbo_niger_libore_164,\n",
      "\t\tsbo_niger_libore_170\t\ts_haematobium-niger-sbo_niger_libore_170,\n",
      "\t\tsbo_niger_libore_171\t\ts_haematobium-niger-sbo_niger_libore_171,\n",
      "\t\tsbo_niger_libore_172\t\ts_haematobium-niger-sbo_niger_libore_172,\n",
      "\t\tsbo_niger_libore_175\t\ts_haematobium-niger-sbo_niger_libore_175,\n",
      "\t\tsbo_niger_libore_176\t\ts_haematobium-niger-sbo_niger_libore_176,\n",
      "\t\tsbo_uganda_apac13_35\t\ts_bovis-uganda-sbo_uganda_apac13_35,\n",
      "\t\tsbo_uganda_runga_44\t\ts_haematobium-uganda-sbo_uganda_runga_44,\n",
      "\t\tsh_cameroon_SRR13579883\t\ts_haematobium-cameroon-sh_cameroon_SRR13579883,\n",
      "\t\tsh_egypt_SRR13579865\t\ts_haematobium-egypt-sh_egypt_SRR13579865,\n",
      "\t\tsh_egypt_SRR433862\t\ts_haematobium-egypt-sh_egypt_SRR433862,\n",
      "\t\tsh_gambia_SRR13579872\t\ts_haematobium-gambia-sh_gambia_SRR13579872,\n",
      "\t\tsh_guineabissau_SRR13579870\t\ts_haematobium-guineabissau-sh_guineabissau_SRR13579870,\n",
      "\t\tsh_ivorycoast_SRR13579866\t\ts_haematobium-ivorycoast-sh_ivorycoast_SRR13579866,\n",
      "\t\tsh_mali_SRR13579867\t\ts_haematobium-mali-sh_mali_SRR13579867,\n",
      "\t\tsh_niger_SRR8284786\t\ts_haematobium-niger-sh_niger_SRR8284786,\n",
      "\t\tsh_niger_SRR8284787\t\ts_haematobium-niger-sh_niger_SRR8284787,\n",
      "\t\tsh_niger_SRR8284788\t\ts_haematobium-niger-sh_niger_SRR8284788,\n",
      "\t\tsh_niger_SRR8284789\t\ts_haematobium-niger-sh_niger_SRR8284789,\n",
      "\t\tsh_niger_SRR8284790\t\ts_haematobium-niger-sh_niger_SRR8284790,\n",
      "\t\tsh_niger_SRR8284791\t\ts_haematobium-niger-sh_niger_SRR8284791,\n",
      "\t\tsh_nigeria_SRR13579869\t\ts_haematobium-nigeria-sh_nigeria_SRR13579869,\n",
      "\t\tsh_senegal_SRR13579881\t\ts_haematobium-senegal-sh_senegal_SRR13579881,\n",
      "\t\tsh_tzpem_SRR8284792\t\ts_haematobium-zanzibar-sh_tzpem_SRR8284792,\n",
      "\t\tsh_tzpem_SRR8284794\t\ts_haematobium-zanzibar-sh_tzpem_SRR8284794,\n",
      "\t\tsh_tzpem_SRR8284796\t\ts_haematobium-zanzibar-sh_tzpem_SRR8284796,\n",
      "\t\tsh_tzpem_SRR8284797\t\ts_haematobium-zanzibar-sh_tzpem_SRR8284797,\n",
      "\t\tsh_zanzibar_SRR13579868\t\ts_haematobium-zanzibar-sh_zanzibar_SRR13579868,\n",
      "\t\tsha_angola_cota_57\t\ts_haematobium-angola-sha_angola_cota_57,\n",
      "\t\tsha_angola_cota_58\t\ts_haematobium-angola-sha_angola_cota_58,\n",
      "\t\tsha_angola_cota_59\t\ts_haematobium-angola-sha_angola_cota_59,\n",
      "\t\tsha_angola_icau_60\t\ts_haematobium-angola-sha_angola_icau_60,\n",
      "\t\tsha_angola_icau_61\t\ts_haematobium-angola-sha_angola_icau_61,\n",
      "\t\tsha_angola_icau_62\t\ts_haematobium-angola-sha_angola_icau_62,\n",
      "\t\tsha_angola_icau_63\t\ts_haematobium-angola-sha_angola_icau_63,\n",
      "\t\tsha_angola_icau_64\t\ts_haematobium-angola-sha_angola_icau_64,\n",
      "\t\tsha_cdivoire_kongobo_115\t\ts_haematobium-cote_d_ivoire-sha_cdivoire_kongobo_115,\n",
      "\t\tsha_kenya_unk_49\t\ts_haematobium-kenya-sha_kenya_unk_49,\n",
      "\t\tsha_liberia_dormeyan_54\t\ts_haematobium-liberia-sha_liberia_dormeyan_54,\n",
      "\t\tsha_liberia_joekpenmue_55\t\ts_haematobium-liberia-sha_liberia_joekpenmue_55,\n",
      "\t\tsha_madag_belesalampy_73\t\ts_haematobium-madagascar-sha_madag_belesalampy_73,\n",
      "\t\tsha_madag_belesalampy_74\t\ts_haematobium-madagascar-sha_madag_belesalampy_74,\n",
      "\t\tsha_madag_belesalampy_75\t\ts_haematobium-madagascar-sha_madag_belesalampy_75,\n",
      "\t\tsha_madag_belesalampy_76\t\ts_haematobium-madagascar-sha_madag_belesalampy_76,\n",
      "\t\tsha_madag_belesalampy_77\t\ts_haematobium-madagascar-sha_madag_belesalampy_77,\n",
      "\t\tsha_madag_belesalampy_78\t\ts_haematobium-madagascar-sha_madag_belesalampy_78,\n",
      "\t\tsha_madag_belesalampy_80\t\ts_haematobium-madagascar-sha_madag_belesalampy_80,\n",
      "\t\tsha_madag_belesalampy_81\t\ts_haematobium-madagascar-sha_madag_belesalampy_81,\n",
      "\t\tsha_madag_belesalampy_82\t\ts_haematobium-madagascar-sha_madag_belesalampy_82,\n",
      "\t\tsha_madag_belesalampy_83\t\ts_haematobium-madagascar-sha_madag_belesalampy_83,\n",
      "\t\tsha_madag_belesalampy_84\t\ts_haematobium-madagascar-sha_madag_belesalampy_84,\n",
      "\t\tsha_madag_belesalampy_87\t\ts_haematobium-madagascar-sha_madag_belesalampy_87,\n",
      "\t\tsha_namib_mayenzere_134\t\ts_haematobium-namibia-sha_namib_mayenzere_134,\n",
      "\t\tsha_niger_libore_138\t\ts_haematobium-niger-sha_niger_libore_138,\n",
      "\t\tsha_niger_libore_139\t\ts_haematobium-niger-sha_niger_libore_139,\n",
      "\t\tsha_niger_libore_140\t\ts_haematobium-niger-sha_niger_libore_140,\n",
      "\t\tsha_niger_libore_141\t\ts_haematobium-niger-sha_niger_libore_141,\n",
      "\t\tsha_niger_libore_142\t\ts_haematobium-niger-sha_niger_libore_142,\n",
      "\t\tsha_niger_libore_143\t\ts_haematobium-niger-sha_niger_libore_143,\n",
      "\t\tsha_niger_libore_146\t\ts_haematobium-niger-sha_niger_libore_146,\n",
      "\t\tsha_niger_libore_147\t\ts_haematobium-niger-sha_niger_libore_147,\n",
      "\t\tsha_niger_libore_148\t\ts_haematobium-niger-sha_niger_libore_148,\n",
      "\t\tsha_niger_libore_149\t\ts_haematobium-niger-sha_niger_libore_149,\n",
      "\t\tsha_niger_libore_150\t\ts_haematobium-niger-sha_niger_libore_150,\n",
      "\t\tsha_niger_libore_151\t\ts_haematobium-niger-sha_niger_libore_151,\n",
      "\t\tsha_pemba_uwandani_1\t\ts_haematobium-zanzibar-sha_pemba_uwandani_1,\n",
      "\t\tsha_pemba_uwandani_10\t\ts_haematobium-zanzibar-sha_pemba_uwandani_10,\n",
      "\t\tsha_pemba_uwandani_11\t\ts_haematobium-zanzibar-sha_pemba_uwandani_11,\n",
      "\t\tsha_pemba_uwandani_12\t\ts_haematobium-zanzibar-sha_pemba_uwandani_12,\n",
      "\t\tsha_pemba_uwandani_13\t\ts_haematobium-zanzibar-sha_pemba_uwandani_13,\n",
      "\t\tsha_pemba_uwandani_15\t\ts_haematobium-zanzibar-sha_pemba_uwandani_15,\n",
      "\t\tsha_pemba_uwandani_2\t\ts_haematobium-zanzibar-sha_pemba_uwandani_2,\n",
      "\t\tsha_pemba_uwandani_5\t\ts_haematobium-zanzibar-sha_pemba_uwandani_5,\n",
      "\t\tsha_pemba_uwandani_7\t\ts_haematobium-zanzibar-sha_pemba_uwandani_7,\n",
      "\t\tsha_sudan_canal4_125\t\ts_haematobium-sudan-sha_sudan_canal4_125,\n",
      "\t\tsha_sudan_canal4_126\t\ts_haematobium-sudan-sha_sudan_canal4_126,\n",
      "\t\tsha_sudan_canal4_127\t\ts_haematobium-sudan-sha_sudan_canal4_127,\n",
      "\t\tsha_sudan_canal4_132\t\ts_haematobium-sudan-sha_sudan_canal4_132,\n",
      "\t\tsha_sudan_schoole_120\t\ts_haematobium-sudan-sha_sudan_schoole_120,\n",
      "\t\tsha_sudan_schoolh_123\t\ts_haematobium-sudan-sha_sudan_schoolh_123,\n",
      "\t\tsha_sudan_schooli_129\t\ts_haematobium-sudan-sha_sudan_schooli_129,\n",
      "\t\tsha_sudan_schooli_130\t\ts_haematobium-sudan-sha_sudan_schooli_130,\n",
      "\t\tsha_swaz_mkhuzweni_177\t\ts_haematobium-swaziland-sha_swaz_mkhuzweni_177,\n",
      "\t\tsha_swaz_mkhuzweni_178\t\ts_haematobium-swaziland-sha_swaz_mkhuzweni_178,\n",
      "\t\tsha_swaz_mkhuzweni_179\t\ts_haematobium-swaziland-sha_swaz_mkhuzweni_179,\n",
      "\t\tsha_swaz_mkhuzweni_180\t\ts_haematobium-swaziland-sha_swaz_mkhuzweni_180,\n",
      "\t\tsha_swaz_mkhuzweni_182\t\ts_haematobium-swaziland-sha_swaz_mkhuzweni_182,\n",
      "\t\tsha_swaz_mkhuzweni_184\t\ts_haematobium-swaziland-sha_swaz_mkhuzweni_184,\n",
      "\t\tsha_swaz_njojane_188\t\ts_haematobium-swaziland-sha_swaz_njojane_188,\n",
      "\t\tsha_swaz_njojane_190\t\ts_haematobium-swaziland-sha_swaz_njojane_190,\n",
      "\t\tsha_swaz_njojane_191\t\ts_haematobium-swaziland-sha_swaz_njojane_191,\n",
      "\t\tsha_swaz_qomintaba_185\t\ts_haematobium-swaziland-sha_swaz_qomintaba_185,\n",
      "\t\tsha_swaz_unk_186\t\ts_haematobium-swaziland-sha_swaz_unk_186,\n",
      "\t\tsha_unguja_kinyasini_16\t\ts_haematobium-zanzibar-sha_unguja_kinyasini_16,\n",
      "\t\tsha_unguja_kinyasini_19\t\ts_haematobium-zanzibar-sha_unguja_kinyasini_19,\n",
      "\t\tsha_unguja_kinyasini_23\t\ts_haematobium-zanzibar-sha_unguja_kinyasini_23,\n",
      "\t\tsha_unguja_kinyasini_25\t\ts_haematobium-zanzibar-sha_unguja_kinyasini_25,\n",
      "\t\tsha_unguja_kinyasini_26\t\ts_haematobium-zanzibar-sha_unguja_kinyasini_26,\n",
      "\t\tsha_unguja_kinyasini_27\t\ts_haematobium-zanzibar-sha_unguja_kinyasini_27,\n",
      "\t\tsha_unguja_kinyasini_28\t\ts_haematobium-zanzibar-sha_unguja_kinyasini_28,\n",
      "\t\tsha_unguja_kinyasini_29\t\ts_haematobium-zanzibar-sha_unguja_kinyasini_29,\n",
      "\t\tsha_unguja_kinyasini_30\t\ts_haematobium-zanzibar-sha_unguja_kinyasini_30,\n",
      "\t\tsha_zambia_lishiko_66\t\ts_haematobium-zambia-sha_zambia_lishiko_66,\n",
      "\t\tssp_cdivoire_allokokro_102\t\ts_haematobium-cote_d_ivoire-ssp_cdivoire_allokokro_102,\n",
      "\t\tssp_cdivoire_foro_101\t\ts_bovis-cote_d_ivoire-ssp_cdivoire_foro_101,\n",
      "\t\tssp_cdivoire_foro_103\t\ts_bovis-cote_d_ivoire-ssp_cdivoire_foro_103,\n",
      "\t\tssp_cdivoire_kongobo_95\t\ts_haematobium-cote_d_ivoire-ssp_cdivoire_kongobo_95,\n",
      "\t\tssp_cdivoire_kongobo_96\t\ts_haematobium-cote_d_ivoire-ssp_cdivoire_kongobo_96,\n",
      "\t\tssp_cdivoire_kongobo_97\t\ts_haematobium-cote_d_ivoire-ssp_cdivoire_kongobo_97,\n",
      "\t\tssp_cdivoire_kongobo_98\t\ts_haematobium-cote_d_ivoire-ssp_cdivoire_kongobo_98,\n",
      "\t\tssp_cdivoire_linguebo_100\t\ts_haematobium-cote_d_ivoire-ssp_cdivoire_linguebo_100,\n",
      "\t\tssp_cdivoire_linguebo_105\t\ts_haematobium-cote_d_ivoire-ssp_cdivoire_linguebo_105,\n",
      "\t\tssp_cdivoire_noumousso_88\t\ts_bovis-cote_d_ivoire-ssp_cdivoire_noumousso_88,\n",
      "\t\tssp_cdivoire_noumousso_94\t\ts_haematobium-cote_d_ivoire-ssp_cdivoire_noumousso_94,\n",
      "\t\tssp_cdivoire_raviart_110\t\ts_haematobium-cote_d_ivoire-ssp_cdivoire_raviart_110,\n",
      "\t\tssp_cdivoire_raviart_111\t\ts_haematobium-cote_d_ivoire-ssp_cdivoire_raviart_111,\n",
      "\t\tssp_cdivoire_raviart_113\t\ts_haematobium-cote_d_ivoire-ssp_cdivoire_raviart_113,\n",
      "\t\tssp_cdivoire_raviart_114\t\ts_haematobium-cote_d_ivoire-ssp_cdivoire_raviart_114,\n",
      "\t\tssp_cdivoire_raviart_89\t\ts_haematobium-cote_d_ivoire-ssp_cdivoire_raviart_89,\n",
      "\t\tssp_cdivoire_raviart_90\t\ts_haematobium-cote_d_ivoire-ssp_cdivoire_raviart_90,\n",
      "\t\tssp_cdivoire_raviart_91\t\ts_haematobium-cote_d_ivoire-ssp_cdivoire_raviart_91,\n",
      "\t\tssp_cdivoire_raviart_92\t\ts_haematobium-cote_d_ivoire-ssp_cdivoire_raviart_92,\n",
      "\t\tssp_cdivoire_raviart_99\t\ts_haematobium-cote_d_ivoire-ssp_cdivoire_raviart_99,\n",
      "\t\tssp_niger_libore_156\t\ts_haematobium-niger-ssp_niger_libore_156,\n",
      "\t\tssp_niger_libore_157\t\ts_haematobium-niger-ssp_niger_libore_157,\n",
      "\t\tssp_niger_libore_159\t\ts_haematobium-niger-ssp_niger_libore_159,\n",
      "\t\tssp_niger_libore_165\t\ts_haematobium-niger-ssp_niger_libore_165,\n",
      "\t\tssp_niger_libore_166\t\ts_haematobium-niger-ssp_niger_libore_166,\n",
      "\t\tssp_niger_libore_167\t\ts_haematobium-niger-ssp_niger_libore_167,\n",
      "\t\tssp_niger_libore_168\t\ts_haematobium-niger-ssp_niger_libore_168,\n",
      "\t\tssp_niger_libore_169\t\ts_haematobium-niger-ssp_niger_libore_169,\n",
      "\t\tssp_zambia_kafue_71\t\ts_haematobium-zambia-ssp_zambia_kafue_71,\n",
      "\t;\n",
      "end;\n"
     ]
    }
   ],
   "source": [
    "!cat translate.nex"
   ]
  },
  {
   "cell_type": "code",
   "execution_count": null,
   "id": "95c32ce8-a61a-4cf4-bd01-94ab76fecf2a",
   "metadata": {},
   "outputs": [],
   "source": [
    "#converted both trees to nwk with figtree"
   ]
  },
  {
   "cell_type": "code",
   "execution_count": null,
   "id": "ee080e14-22ad-4625-96d4-d21f262043ee",
   "metadata": {},
   "outputs": [],
   "source": [
    "%%bash \n",
    "\n",
    "nw_ed svdq_pops_constree.nwk 'i & b<=50' o > svdq_pops_constree_BS50.nwk"
   ]
  },
  {
   "cell_type": "code",
   "execution_count": null,
   "id": "ac21fdf0-ae48-4f07-a606-89a677c6c9e9",
   "metadata": {},
   "outputs": [],
   "source": [
    "%%bash\n",
    "\n",
    "nw_ed svdq_indv_constree.nwk 'i & b<=50' o > svdq_indv_constree_BS50.nwk"
   ]
  },
  {
   "cell_type": "markdown",
   "id": "adeea967-8ab4-4bad-ba7b-e794022cb77f",
   "metadata": {
    "jp-MarkdownHeadingCollapsed": true,
    "tags": []
   },
   "source": [
    "# TreeMix: Identify migration edges in the species tree"
   ]
  },
  {
   "cell_type": "code",
   "execution_count": 23,
   "id": "705db874-d2de-4e2f-b3c5-c40c2973ff70",
   "metadata": {},
   "outputs": [],
   "source": [
    "Path(\"{}/results/treemix\".format(proj_dir)).mkdir(parents=True, exist_ok=True)\n",
    "os.chdir(\"{}/results/treemix\".format(proj_dir))"
   ]
  },
  {
   "cell_type": "code",
   "execution_count": null,
   "id": "33b42c35-ce6b-46e0-808f-4aacfb3f13cf",
   "metadata": {},
   "outputs": [],
   "source": [
    "# wget https://bitbucket.org/nygcresearch/treemix/downloads/treemix-1.13.tar.gz\n",
    "# tar -xvzf bin/treemix-1.13.tar.gz -C bin/treemix\n",
    "\n",
    "# source(\"bin/treemix-1.13/src/plotting_funcs.R\")\n",
    "# plot tree(\"out\")"
   ]
  },
  {
   "cell_type": "code",
   "execution_count": 98,
   "id": "b4e187ec-c61e-4dc9-b471-d5055b9e4420",
   "metadata": {},
   "outputs": [],
   "source": [
    "!ln -s ../svdq/chrs_unrelated.vcf"
   ]
  },
  {
   "cell_type": "code",
   "execution_count": null,
   "id": "f48d5bb4-4933-4e86-a3f7-ef8d0191b80d",
   "metadata": {},
   "outputs": [],
   "source": [
    "%%bash \n",
    "\n",
    "conda run -n popstructure plink \\\n",
    "    --vcf chrs_unrelated.vcf \\\n",
    "    --allow-extra-chr \\\n",
    "    --double-id \\\n",
    "    --indep-pairwise 25 5 0.20 \\\n",
    "    --out ld"
   ]
  },
  {
   "cell_type": "code",
   "execution_count": null,
   "id": "de09c633-6496-4ea3-82a4-3664f179c1f3",
   "metadata": {},
   "outputs": [],
   "source": [
    "%%bash \n",
    "\n",
    "conda run -n popstructure vcftools \\\n",
    "    --vcf chrs_unrelated.vcf \\\n",
    "    --exclude ld.prune.out \\\n",
    "    --recode \\\n",
    "    --recode-INFO-all \\\n",
    "    --stdout \\\n",
    "    >ld.vcf"
   ]
  },
  {
   "cell_type": "code",
   "execution_count": null,
   "id": "167fbd6d-e996-4f9d-9c01-0b820f453e6e",
   "metadata": {},
   "outputs": [],
   "source": [
    "# %%bash\n",
    "\n",
    "# vcftools \\\n",
    "#     --remove-indv guineensis_saotome_ERR119612\n",
    "#     --remove-indv intercalatum_drcongo_ERR119613\n",
    "#     --remove-indv margrebowiei_zambia_ERR310940\n",
    "#     --remove-indv matthei_zambia_ERR103051\n",
    "#     --vcf ../post_phase_filtering/autosomes_unrelated.vcf \\\n",
    "#     --recode \\\n",
    "#     --recode-INFO-all \\\n",
    "#     --stdout \\\n",
    "#     >inf.vcf"
   ]
  },
  {
   "cell_type": "code",
   "execution_count": 24,
   "id": "fadb51d9-e82e-48da-9771-8114593776fa",
   "metadata": {},
   "outputs": [],
   "source": [
    "!conda run -n bcftools --cwd . --live-stream bcftools query -l ld.vcf >samples.list"
   ]
  },
  {
   "cell_type": "code",
   "execution_count": 25,
   "id": "f4bada0f-ec9a-429a-b16f-578dc156d08f",
   "metadata": {},
   "outputs": [],
   "source": [
    "pca_df=pd.read_csv(\"{}/results/pca/pca_df.csv\".format(proj_dir), sep=\",\")"
   ]
  },
  {
   "cell_type": "code",
   "execution_count": 26,
   "id": "96ca6c1a-b18d-4a27-83fd-5a50cf6f9f80",
   "metadata": {},
   "outputs": [],
   "source": [
    "with open(\"samples.list\", \"r\") as f:\n",
    "    samples = [line.strip() for line in f]"
   ]
  },
  {
   "cell_type": "code",
   "execution_count": 27,
   "id": "7600c99d-9b92-4f54-9977-95224421889f",
   "metadata": {},
   "outputs": [],
   "source": [
    "with open(\"samples.list\", \"r\") as f:\n",
    "    samples = [line.strip() for line in f]\n",
    "    \n",
    "with open(\"pop.map\", 'w') as f:\n",
    "    for sample in samples:\n",
    "        country=pca_df.loc[pca_df[\"sample_name\"] == sample, \"country\"].values[0]\n",
    "        pca_species=pca_df.loc[pca_df[\"sample_name\"] == sample, \"pca_species\"].values[0]\n",
    "        population=f\"{pca_species}.{country}\".replace(\"_\", \".\")\n",
    "        f.write(f\"{sample}\\t{population}\\n\")  "
   ]
  },
  {
   "cell_type": "code",
   "execution_count": 29,
   "id": "3c7aee7a-812d-4c14-b8cb-f150ae64b6ff",
   "metadata": {},
   "outputs": [
    {
     "name": "stdout",
     "output_type": "stream",
     "text": [
      "100%|██████████████████████████▉| 10043974/10043975 [1:40:37<00:00, 1663.72it/s]\n"
     ]
    }
   ],
   "source": [
    "#looking for format like:\n",
    "#pop1 pop2 pop3 pop4\n",
    "#5,1 1,1 4,0 0,4\n",
    "#3,3 0,2 2,2 0,4\n",
    "#1,5 0,2 2,2 1,3\n",
    "\n",
    "!conda run -n popstructure --cwd . --live-stream python ~/sch_hae_scan/code/vcf2treemix.py -v ld.vcf -o pops.treemix -p pop.map"
   ]
  },
  {
   "cell_type": "code",
   "execution_count": 35,
   "id": "9c59d5ee-3ca3-4451-b38e-ee107e3dc40c",
   "metadata": {},
   "outputs": [
    {
     "data": {
      "text/html": [
       "<div>\n",
       "<style scoped>\n",
       "    .dataframe tbody tr th:only-of-type {\n",
       "        vertical-align: middle;\n",
       "    }\n",
       "\n",
       "    .dataframe tbody tr th {\n",
       "        vertical-align: top;\n",
       "    }\n",
       "\n",
       "    .dataframe thead th {\n",
       "        text-align: right;\n",
       "    }\n",
       "</style>\n",
       "<table border=\"1\" class=\"dataframe\">\n",
       "  <thead>\n",
       "    <tr style=\"text-align: right;\">\n",
       "      <th></th>\n",
       "      <th>s.bovis.nigeria</th>\n",
       "      <th>s.haematobium.nigeria</th>\n",
       "      <th>s.bovis.ethiopia</th>\n",
       "      <th>s.bovis.kenya</th>\n",
       "      <th>s.bovis.senegal</th>\n",
       "      <th>s.bovis.tanzania</th>\n",
       "      <th>s.guineensis.na</th>\n",
       "      <th>s.intercalatum.na</th>\n",
       "      <th>s.margrebowiei.na</th>\n",
       "      <th>s.matthei.na</th>\n",
       "      <th>...</th>\n",
       "      <th>s.haematobium.senegal</th>\n",
       "      <th>s.haematobium.zanzibar</th>\n",
       "      <th>s.haematobium.angola</th>\n",
       "      <th>s.haematobium.kenya</th>\n",
       "      <th>s.haematobium.liberia</th>\n",
       "      <th>s.haematobium.madagascar</th>\n",
       "      <th>s.haematobium.namibia</th>\n",
       "      <th>s.haematobium.sudan</th>\n",
       "      <th>s.haematobium.swaziland</th>\n",
       "      <th>s.haematobium.zambia</th>\n",
       "    </tr>\n",
       "  </thead>\n",
       "  <tbody>\n",
       "    <tr>\n",
       "      <th>0</th>\n",
       "      <td>18,0</td>\n",
       "      <td>0,14</td>\n",
       "      <td>1,1</td>\n",
       "      <td>2,0</td>\n",
       "      <td>2,0</td>\n",
       "      <td>2,0</td>\n",
       "      <td>1,1</td>\n",
       "      <td>1,1</td>\n",
       "      <td>0,2</td>\n",
       "      <td>0,2</td>\n",
       "      <td>...</td>\n",
       "      <td>0,2</td>\n",
       "      <td>12,34</td>\n",
       "      <td>4,12</td>\n",
       "      <td>0,2</td>\n",
       "      <td>0,4</td>\n",
       "      <td>2,22</td>\n",
       "      <td>1,1</td>\n",
       "      <td>2,14</td>\n",
       "      <td>9,13</td>\n",
       "      <td>1,3</td>\n",
       "    </tr>\n",
       "    <tr>\n",
       "      <th>1</th>\n",
       "      <td>18,0</td>\n",
       "      <td>14,0</td>\n",
       "      <td>2,0</td>\n",
       "      <td>2,0</td>\n",
       "      <td>2,0</td>\n",
       "      <td>2,0</td>\n",
       "      <td>2,0</td>\n",
       "      <td>2,0</td>\n",
       "      <td>2,0</td>\n",
       "      <td>2,0</td>\n",
       "      <td>...</td>\n",
       "      <td>2,0</td>\n",
       "      <td>46,0</td>\n",
       "      <td>16,0</td>\n",
       "      <td>2,0</td>\n",
       "      <td>4,0</td>\n",
       "      <td>24,0</td>\n",
       "      <td>2,0</td>\n",
       "      <td>16,0</td>\n",
       "      <td>22,0</td>\n",
       "      <td>4,0</td>\n",
       "    </tr>\n",
       "    <tr>\n",
       "      <th>2</th>\n",
       "      <td>18,0</td>\n",
       "      <td>14,0</td>\n",
       "      <td>2,0</td>\n",
       "      <td>2,0</td>\n",
       "      <td>2,0</td>\n",
       "      <td>2,0</td>\n",
       "      <td>2,0</td>\n",
       "      <td>2,0</td>\n",
       "      <td>2,0</td>\n",
       "      <td>2,0</td>\n",
       "      <td>...</td>\n",
       "      <td>2,0</td>\n",
       "      <td>45,1</td>\n",
       "      <td>16,0</td>\n",
       "      <td>2,0</td>\n",
       "      <td>4,0</td>\n",
       "      <td>24,0</td>\n",
       "      <td>2,0</td>\n",
       "      <td>16,0</td>\n",
       "      <td>22,0</td>\n",
       "      <td>4,0</td>\n",
       "    </tr>\n",
       "    <tr>\n",
       "      <th>3</th>\n",
       "      <td>18,0</td>\n",
       "      <td>14,0</td>\n",
       "      <td>2,0</td>\n",
       "      <td>2,0</td>\n",
       "      <td>2,0</td>\n",
       "      <td>2,0</td>\n",
       "      <td>2,0</td>\n",
       "      <td>2,0</td>\n",
       "      <td>2,0</td>\n",
       "      <td>2,0</td>\n",
       "      <td>...</td>\n",
       "      <td>2,0</td>\n",
       "      <td>44,2</td>\n",
       "      <td>13,3</td>\n",
       "      <td>2,0</td>\n",
       "      <td>4,0</td>\n",
       "      <td>24,0</td>\n",
       "      <td>2,0</td>\n",
       "      <td>16,0</td>\n",
       "      <td>20,2</td>\n",
       "      <td>4,0</td>\n",
       "    </tr>\n",
       "    <tr>\n",
       "      <th>4</th>\n",
       "      <td>18,0</td>\n",
       "      <td>14,0</td>\n",
       "      <td>2,0</td>\n",
       "      <td>2,0</td>\n",
       "      <td>2,0</td>\n",
       "      <td>2,0</td>\n",
       "      <td>2,0</td>\n",
       "      <td>2,0</td>\n",
       "      <td>2,0</td>\n",
       "      <td>2,0</td>\n",
       "      <td>...</td>\n",
       "      <td>2,0</td>\n",
       "      <td>45,1</td>\n",
       "      <td>16,0</td>\n",
       "      <td>2,0</td>\n",
       "      <td>4,0</td>\n",
       "      <td>24,0</td>\n",
       "      <td>2,0</td>\n",
       "      <td>16,0</td>\n",
       "      <td>22,0</td>\n",
       "      <td>4,0</td>\n",
       "    </tr>\n",
       "    <tr>\n",
       "      <th>...</th>\n",
       "      <td>...</td>\n",
       "      <td>...</td>\n",
       "      <td>...</td>\n",
       "      <td>...</td>\n",
       "      <td>...</td>\n",
       "      <td>...</td>\n",
       "      <td>...</td>\n",
       "      <td>...</td>\n",
       "      <td>...</td>\n",
       "      <td>...</td>\n",
       "      <td>...</td>\n",
       "      <td>...</td>\n",
       "      <td>...</td>\n",
       "      <td>...</td>\n",
       "      <td>...</td>\n",
       "      <td>...</td>\n",
       "      <td>...</td>\n",
       "      <td>...</td>\n",
       "      <td>...</td>\n",
       "      <td>...</td>\n",
       "      <td>...</td>\n",
       "    </tr>\n",
       "    <tr>\n",
       "      <th>10043969</th>\n",
       "      <td>18,0</td>\n",
       "      <td>14,0</td>\n",
       "      <td>2,0</td>\n",
       "      <td>2,0</td>\n",
       "      <td>2,0</td>\n",
       "      <td>2,0</td>\n",
       "      <td>2,0</td>\n",
       "      <td>2,0</td>\n",
       "      <td>2,0</td>\n",
       "      <td>1,1</td>\n",
       "      <td>...</td>\n",
       "      <td>2,0</td>\n",
       "      <td>46,0</td>\n",
       "      <td>14,2</td>\n",
       "      <td>2,0</td>\n",
       "      <td>4,0</td>\n",
       "      <td>24,0</td>\n",
       "      <td>2,0</td>\n",
       "      <td>16,0</td>\n",
       "      <td>22,0</td>\n",
       "      <td>4,0</td>\n",
       "    </tr>\n",
       "    <tr>\n",
       "      <th>10043970</th>\n",
       "      <td>13,5</td>\n",
       "      <td>14,0</td>\n",
       "      <td>2,0</td>\n",
       "      <td>2,0</td>\n",
       "      <td>2,0</td>\n",
       "      <td>1,1</td>\n",
       "      <td>2,0</td>\n",
       "      <td>2,0</td>\n",
       "      <td>2,0</td>\n",
       "      <td>2,0</td>\n",
       "      <td>...</td>\n",
       "      <td>1,1</td>\n",
       "      <td>46,0</td>\n",
       "      <td>16,0</td>\n",
       "      <td>2,0</td>\n",
       "      <td>4,0</td>\n",
       "      <td>24,0</td>\n",
       "      <td>2,0</td>\n",
       "      <td>15,1</td>\n",
       "      <td>22,0</td>\n",
       "      <td>4,0</td>\n",
       "    </tr>\n",
       "    <tr>\n",
       "      <th>10043971</th>\n",
       "      <td>18,0</td>\n",
       "      <td>14,0</td>\n",
       "      <td>2,0</td>\n",
       "      <td>2,0</td>\n",
       "      <td>2,0</td>\n",
       "      <td>2,0</td>\n",
       "      <td>2,0</td>\n",
       "      <td>2,0</td>\n",
       "      <td>2,0</td>\n",
       "      <td>1,1</td>\n",
       "      <td>...</td>\n",
       "      <td>2,0</td>\n",
       "      <td>46,0</td>\n",
       "      <td>16,0</td>\n",
       "      <td>2,0</td>\n",
       "      <td>4,0</td>\n",
       "      <td>24,0</td>\n",
       "      <td>2,0</td>\n",
       "      <td>16,0</td>\n",
       "      <td>22,0</td>\n",
       "      <td>4,0</td>\n",
       "    </tr>\n",
       "    <tr>\n",
       "      <th>10043972</th>\n",
       "      <td>16,2</td>\n",
       "      <td>14,0</td>\n",
       "      <td>2,0</td>\n",
       "      <td>2,0</td>\n",
       "      <td>2,0</td>\n",
       "      <td>1,1</td>\n",
       "      <td>2,0</td>\n",
       "      <td>2,0</td>\n",
       "      <td>2,0</td>\n",
       "      <td>2,0</td>\n",
       "      <td>...</td>\n",
       "      <td>2,0</td>\n",
       "      <td>46,0</td>\n",
       "      <td>16,0</td>\n",
       "      <td>2,0</td>\n",
       "      <td>4,0</td>\n",
       "      <td>24,0</td>\n",
       "      <td>2,0</td>\n",
       "      <td>16,0</td>\n",
       "      <td>22,0</td>\n",
       "      <td>4,0</td>\n",
       "    </tr>\n",
       "    <tr>\n",
       "      <th>10043973</th>\n",
       "      <td>13,5</td>\n",
       "      <td>14,0</td>\n",
       "      <td>2,0</td>\n",
       "      <td>2,0</td>\n",
       "      <td>2,0</td>\n",
       "      <td>2,0</td>\n",
       "      <td>2,0</td>\n",
       "      <td>2,0</td>\n",
       "      <td>2,0</td>\n",
       "      <td>2,0</td>\n",
       "      <td>...</td>\n",
       "      <td>2,0</td>\n",
       "      <td>46,0</td>\n",
       "      <td>16,0</td>\n",
       "      <td>2,0</td>\n",
       "      <td>4,0</td>\n",
       "      <td>24,0</td>\n",
       "      <td>2,0</td>\n",
       "      <td>16,0</td>\n",
       "      <td>22,0</td>\n",
       "      <td>4,0</td>\n",
       "    </tr>\n",
       "  </tbody>\n",
       "</table>\n",
       "<p>10043974 rows × 30 columns</p>\n",
       "</div>"
      ],
      "text/plain": [
       "         s.bovis.nigeria s.haematobium.nigeria s.bovis.ethiopia s.bovis.kenya  \\\n",
       "0                   18,0                  0,14              1,1           2,0   \n",
       "1                   18,0                  14,0              2,0           2,0   \n",
       "2                   18,0                  14,0              2,0           2,0   \n",
       "3                   18,0                  14,0              2,0           2,0   \n",
       "4                   18,0                  14,0              2,0           2,0   \n",
       "...                  ...                   ...              ...           ...   \n",
       "10043969            18,0                  14,0              2,0           2,0   \n",
       "10043970            13,5                  14,0              2,0           2,0   \n",
       "10043971            18,0                  14,0              2,0           2,0   \n",
       "10043972            16,2                  14,0              2,0           2,0   \n",
       "10043973            13,5                  14,0              2,0           2,0   \n",
       "\n",
       "         s.bovis.senegal s.bovis.tanzania s.guineensis.na s.intercalatum.na  \\\n",
       "0                    2,0              2,0             1,1               1,1   \n",
       "1                    2,0              2,0             2,0               2,0   \n",
       "2                    2,0              2,0             2,0               2,0   \n",
       "3                    2,0              2,0             2,0               2,0   \n",
       "4                    2,0              2,0             2,0               2,0   \n",
       "...                  ...              ...             ...               ...   \n",
       "10043969             2,0              2,0             2,0               2,0   \n",
       "10043970             2,0              1,1             2,0               2,0   \n",
       "10043971             2,0              2,0             2,0               2,0   \n",
       "10043972             2,0              1,1             2,0               2,0   \n",
       "10043973             2,0              2,0             2,0               2,0   \n",
       "\n",
       "         s.margrebowiei.na s.matthei.na  ... s.haematobium.senegal  \\\n",
       "0                      0,2          0,2  ...                   0,2   \n",
       "1                      2,0          2,0  ...                   2,0   \n",
       "2                      2,0          2,0  ...                   2,0   \n",
       "3                      2,0          2,0  ...                   2,0   \n",
       "4                      2,0          2,0  ...                   2,0   \n",
       "...                    ...          ...  ...                   ...   \n",
       "10043969               2,0          1,1  ...                   2,0   \n",
       "10043970               2,0          2,0  ...                   1,1   \n",
       "10043971               2,0          1,1  ...                   2,0   \n",
       "10043972               2,0          2,0  ...                   2,0   \n",
       "10043973               2,0          2,0  ...                   2,0   \n",
       "\n",
       "         s.haematobium.zanzibar s.haematobium.angola s.haematobium.kenya  \\\n",
       "0                         12,34                 4,12                 0,2   \n",
       "1                          46,0                 16,0                 2,0   \n",
       "2                          45,1                 16,0                 2,0   \n",
       "3                          44,2                 13,3                 2,0   \n",
       "4                          45,1                 16,0                 2,0   \n",
       "...                         ...                  ...                 ...   \n",
       "10043969                   46,0                 14,2                 2,0   \n",
       "10043970                   46,0                 16,0                 2,0   \n",
       "10043971                   46,0                 16,0                 2,0   \n",
       "10043972                   46,0                 16,0                 2,0   \n",
       "10043973                   46,0                 16,0                 2,0   \n",
       "\n",
       "         s.haematobium.liberia s.haematobium.madagascar s.haematobium.namibia  \\\n",
       "0                          0,4                     2,22                   1,1   \n",
       "1                          4,0                     24,0                   2,0   \n",
       "2                          4,0                     24,0                   2,0   \n",
       "3                          4,0                     24,0                   2,0   \n",
       "4                          4,0                     24,0                   2,0   \n",
       "...                        ...                      ...                   ...   \n",
       "10043969                   4,0                     24,0                   2,0   \n",
       "10043970                   4,0                     24,0                   2,0   \n",
       "10043971                   4,0                     24,0                   2,0   \n",
       "10043972                   4,0                     24,0                   2,0   \n",
       "10043973                   4,0                     24,0                   2,0   \n",
       "\n",
       "         s.haematobium.sudan s.haematobium.swaziland s.haematobium.zambia  \n",
       "0                       2,14                    9,13                  1,3  \n",
       "1                       16,0                    22,0                  4,0  \n",
       "2                       16,0                    22,0                  4,0  \n",
       "3                       16,0                    20,2                  4,0  \n",
       "4                       16,0                    22,0                  4,0  \n",
       "...                      ...                     ...                  ...  \n",
       "10043969                16,0                    22,0                  4,0  \n",
       "10043970                15,1                    22,0                  4,0  \n",
       "10043971                16,0                    22,0                  4,0  \n",
       "10043972                16,0                    22,0                  4,0  \n",
       "10043973                16,0                    22,0                  4,0  \n",
       "\n",
       "[10043974 rows x 30 columns]"
      ]
     },
     "execution_count": 35,
     "metadata": {},
     "output_type": "execute_result"
    }
   ],
   "source": [
    "tm_df=pd.read_csv(\"pops.treemix\", sep=\" \")\n",
    "tm_df"
   ]
  },
  {
   "cell_type": "code",
   "execution_count": 36,
   "id": "8ae87773-f60d-4a74-b39c-7159883e2136",
   "metadata": {},
   "outputs": [
    {
     "data": {
      "text/plain": [
       "Index(['s.bovis.nigeria', 's.haematobium.nigeria', 's.bovis.ethiopia',\n",
       "       's.bovis.kenya', 's.bovis.senegal', 's.bovis.tanzania',\n",
       "       's.guineensis.na', 's.intercalatum.na', 's.margrebowiei.na',\n",
       "       's.matthei.na', 's.bovis.cote.d.ivoire', 's.haematobium.cote.d.ivoire',\n",
       "       's.haematobium.niger', 's.bovis.uganda', 's.haematobium.uganda',\n",
       "       's.haematobium.cameroon', 's.haematobium.egypt', 's.haematobium.gambia',\n",
       "       's.haematobium.guineabissau', 's.haematobium.mali',\n",
       "       's.haematobium.senegal', 's.haematobium.zanzibar',\n",
       "       's.haematobium.angola', 's.haematobium.kenya', 's.haematobium.liberia',\n",
       "       's.haematobium.madagascar', 's.haematobium.namibia',\n",
       "       's.haematobium.sudan', 's.haematobium.swaziland',\n",
       "       's.haematobium.zambia'],\n",
       "      dtype='object')"
      ]
     },
     "execution_count": 36,
     "metadata": {},
     "output_type": "execute_result"
    }
   ],
   "source": [
    "tm_df.columns"
   ]
  },
  {
   "cell_type": "code",
   "execution_count": 31,
   "id": "beeea372-2386-4bb9-b150-c26951811331",
   "metadata": {},
   "outputs": [
    {
     "name": "stdout",
     "output_type": "stream",
     "text": [
      "s.bovis.nigeria s.haematobium.nigeria s.bovis.ethiopia s.bovis.kenya s.bovis.senegal s.bovis.tanzania s.guineensis.na s.intercalatum.na s.margrebowiei.na s.matthei.na s.bovis.cote.d.ivoire s.haematobium.cote.d.ivoire s.haematobium.niger s.bovis.uganda s.haematobium.uganda s.haematobium.cameroon s.haematobium.egypt s.haematobium.gambia s.haematobium.guineabissau s.haematobium.mali s.haematobium.senegal s.haematobium.zanzibar s.haematobium.angola s.haematobium.kenya s.haematobium.liberia s.haematobium.madagascar s.haematobium.namibia s.haematobium.sudan s.haematobium.swaziland s.haematobium.zambia\n",
      "18,0 0,14 1,1 2,0 2,0 2,0 1,1 1,1 0,2 0,2 14,0 7,35 3,71 1,1 1,1 0,2 3,1 0,2 0,2 1,1 0,2 12,34 4,12 0,2 0,4 2,22 1,1 2,14 9,13 1,3\n",
      "18,0 14,0 2,0 2,0 2,0 2,0 2,0 2,0 2,0 2,0 14,0 35,7 73,1 2,0 2,0 2,0 4,0 2,0 2,0 2,0 2,0 46,0 16,0 2,0 4,0 24,0 2,0 16,0 22,0 4,0\n",
      "18,0 14,0 2,0 2,0 2,0 2,0 2,0 2,0 2,0 2,0 14,0 42,0 74,0 2,0 2,0 2,0 4,0 2,0 2,0 2,0 2,0 45,1 16,0 2,0 4,0 24,0 2,0 16,0 22,0 4,0\n",
      "18,0 14,0 2,0 2,0 2,0 2,0 2,0 2,0 2,0 2,0 14,0 42,0 74,0 2,0 1,1 2,0 4,0 2,0 2,0 2,0 2,0 44,2 13,3 2,0 4,0 24,0 2,0 16,0 20,2 4,0\n",
      "18,0 14,0 2,0 2,0 2,0 2,0 2,0 2,0 2,0 2,0 14,0 42,0 74,0 2,0 2,0 2,0 4,0 2,0 2,0 2,0 2,0 45,1 16,0 2,0 4,0 24,0 2,0 16,0 22,0 4,0\n",
      "18,0 14,0 2,0 2,0 2,0 2,0 2,0 2,0 2,0 2,0 14,0 42,0 74,0 2,0 2,0 2,0 4,0 2,0 2,0 2,0 2,0 46,0 16,0 2,0 4,0 24,0 2,0 16,0 20,2 4,0\n",
      "18,0 14,0 2,0 2,0 2,0 2,0 2,0 2,0 2,0 2,0 14,0 42,0 74,0 2,0 2,0 2,0 4,0 2,0 2,0 2,0 2,0 46,0 16,0 2,0 3,1 24,0 2,0 16,0 22,0 4,0\n",
      "16,2 14,0 2,0 2,0 2,0 2,0 2,0 2,0 2,0 2,0 14,0 42,0 74,0 2,0 2,0 2,0 4,0 2,0 2,0 2,0 2,0 46,0 16,0 2,0 4,0 24,0 2,0 16,0 22,0 4,0\n",
      "17,1 14,0 2,0 2,0 2,0 2,0 2,0 2,0 2,0 2,0 14,0 42,0 74,0 2,0 2,0 2,0 4,0 2,0 2,0 2,0 2,0 46,0 16,0 2,0 4,0 24,0 2,0 16,0 22,0 4,0\n"
     ]
    }
   ],
   "source": [
    "!head pops.treemix"
   ]
  },
  {
   "cell_type": "code",
   "execution_count": null,
   "id": "6f08d09e-d2d9-4c9b-b4f0-cd27c5fc4cea",
   "metadata": {},
   "outputs": [],
   "source": []
  },
  {
   "cell_type": "code",
   "execution_count": 32,
   "id": "393d108b-a194-43f5-9817-57ef4f0ca6e6",
   "metadata": {},
   "outputs": [],
   "source": [
    "!gzip -c pops.treemix >pops.treemix.gz"
   ]
  },
  {
   "cell_type": "code",
   "execution_count": 38,
   "id": "ba0279e8-fbf2-44a9-86f5-e284d3950e95",
   "metadata": {},
   "outputs": [
    {
     "name": "stdout",
     "output_type": "stream",
     "text": [
      "#NEXUS \n",
      "\n",
      "Begin trees;  [Treefile saved Mon Jun 12 09:13:45 2023]\n",
      "[!\n",
      ">Data file = svdq.nexus\n",
      "]\n",
      "\tTranslate\n",
      "\t\t1 s.bovis.nigeria,\n",
      "\t\t2 s.haematobium.nigeria,\n",
      "\t\t3 s.bovis.ethiopia,\n",
      "\t\t4 s.bovis.kenya,\n",
      "\t\t5 s.bovis.senegal,\n",
      "\t\t6 s.bovis.tanzania,\n",
      "\t\t7 s.margrebowiei.na,\n",
      "\t\t8 s.bovis.cote.d.ivoire,\n",
      "\t\t9 s.haematobium.cote.d.ivoire,\n",
      "\t\t10 s.haematobium.niger,\n",
      "\t\t11 s.bovis.uganda,\n",
      "\t\t12 s.haematobium.uganda,\n",
      "\t\t13 s.haematobium.cameroon,\n",
      "\t\t14 s.haematobium.egypt,\n",
      "\t\t15 s.haematobium.gambia,\n",
      "\t\t16 s.haematobium.guineabissau,\n",
      "\t\t17 s.haematobium.mali,\n",
      "\t\t18 s.haematobium.senegal,\n",
      "\t\t19 s.haematobium.zanzibar,\n",
      "\t\t20 s.haematobium.angola,\n",
      "\t\t21 s.haematobium.kenya,\n",
      "\t\t22 s.haematobium.liberia,\n",
      "\t\t23 s.haematobium.madagascar,\n",
      "\t\t24 s.haematobium.namibia,\n",
      "\t\t25 s.haematobium.sudan,\n",
      "\t\t26 s.haematobium.swaziland,\n",
      "\t\t27 s.haematobium.zambia\n",
      "\t\t;\n",
      "tree 'PAUP_1' = [&U] (1:100,((((2:100,(((9:100,(10:100,17:100)100:100)100:100,14:100)100:100,(((((12:100,((20:100,24:100)100:100,(26:100,27:100)100:100)100:100)100:100,19:100)100:100,21:100)100:100,23:100)100:100,((13:100,25:100)100:100,((15:100,(16:100,18:100)56:56)59:59,22:100)100:100)100:100)100:100)100:100)100:100,7:100)100:100,((3:100,4:100)100:100,6:100)100:100)100:100,11:100)100:100,(5:100,8:100)100:100)100;\n",
      "End;\n"
     ]
    }
   ],
   "source": [
    "!cp ../svdq/svdq_pops_constree.nex .\n",
    "! cat svdq_pops_constree.nex"
   ]
  },
  {
   "cell_type": "code",
   "execution_count": 110,
   "id": "05159c7c-7843-4227-a850-63d2f21d56bb",
   "metadata": {},
   "outputs": [],
   "source": [
    "!cp ../svdq/svdq_pops_constree.nwk ."
   ]
  },
  {
   "cell_type": "code",
   "execution_count": 33,
   "id": "029f60dc-13ab-40fe-b4bc-3218b6b83606",
   "metadata": {},
   "outputs": [
    {
     "name": "stdout",
     "output_type": "stream",
     "text": [
      "((('s.haematobium.nigeria':100.0,((('s.haematobium.cote.d.ivoire':100.0,('s.haematobium.niger':100.0,'s.haematobium.mali':100.0):100.0):100.0,'s.haematobium.egypt':100.0):100.0,((((('s.haematobium.uganda':100.0,(('s.haematobium.angola':100.0,'s.haematobium.namibia':100.0):100.0,('s.haematobium.swaziland':100.0,'s.haematobium.zambia':100.0):100.0):100.0):100.0,'s.haematobium.zanzibar':100.0):100.0,'s.haematobium.kenya':100.0):100.0,'s.haematobium.madagascar':100.0):100.0,(('s.haematobium.cameroon':100.0,'s.haematobium.sudan':100.0):100.0,(('s.haematobium.gambia':100.0,('s.haematobium.guineabissau':100.0,'s.haematobium.senegal':100.0):56.0):59.0,'s.haematobium.liberia':100.0):100.0):100.0):100.0):100.0):100.0,((('s.bovis.ethiopia':100.0,'s.bovis.kenya':100.0):100.0,'s.bovis.tanzania':100.0):100.0,('s.bovis.uganda':100.0,('s.bovis.nigeria':100.0,('s.bovis.senegal':100.0,'s.bovis.cote.d.ivoire':100.0):100.0):100.0):100.0):100.0):50.0,'s.margrebowiei.na':50.0);"
     ]
    }
   ],
   "source": [
    "!cat svdq_pops_constree.nwk"
   ]
  },
  {
   "cell_type": "code",
   "execution_count": null,
   "id": "49f99719-6acd-43ff-b8d3-e7277179a8e5",
   "metadata": {},
   "outputs": [],
   "source": [
    "#use figtree to convert nexus tree to \n",
    "# svdq_pops_constree.nwk"
   ]
  },
  {
   "cell_type": "code",
   "execution_count": null,
   "id": "10fc7a25-2c1d-4efa-86b0-cef270adf8c5",
   "metadata": {},
   "outputs": [],
   "source": [
    "%%bash\n",
    "\n",
    "conda run -n scan_phylo --cwd . --live-stream \\\n",
    "    treemix \\\n",
    "        -i pops.treemix.gz \\\n",
    "        -k 500 \\\n",
    "        -noss \\\n",
    "        -o all.4 \\\n",
    "        -root s.margrebowiei.na \\\n",
    "        -m 4 \\\n",
    "        -tf tmp.nwk"
   ]
  },
  {
   "cell_type": "code",
   "execution_count": null,
   "id": "afabd38c-da8c-4687-a852-246b08783b81",
   "metadata": {},
   "outputs": [],
   "source": [
    "%%bash\n",
    "\n",
    "for i in $(seq 0 10); do\n",
    "    echo $i\n",
    "    treemix -i twisst.treemix.gz -k 500 -noss -o all.$i -root smargrebowiei-na -m $i -tf svdq_pops_constree.nwk >test.$i.log 2>&1\n",
    "done"
   ]
  },
  {
   "cell_type": "code",
   "execution_count": null,
   "id": "1209bac1-6ab2-4ace-a79c-511c6c2d8ef2",
   "metadata": {},
   "outputs": [],
   "source": [
    "source(\"/master/nplatt/sch_hae_scan/bin/treemix-1.13/src/plotting_funcs.R\")"
   ]
  },
  {
   "cell_type": "code",
   "execution_count": null,
   "id": "d02a9222-b51c-485a-baef-b29eb37bb9a5",
   "metadata": {},
   "outputs": [],
   "source": []
  },
  {
   "cell_type": "code",
   "execution_count": null,
   "id": "87f6b457-4b5a-4854-9278-805474be76e1",
   "metadata": {},
   "outputs": [],
   "source": []
  },
  {
   "cell_type": "code",
   "execution_count": null,
   "id": "f593270c-75e6-4f2b-8a17-5805bcac8101",
   "metadata": {},
   "outputs": [],
   "source": []
  }
 ],
 "metadata": {
  "kernelspec": {
   "display_name": "scan_phylo",
   "language": "python",
   "name": "scan_phylo"
  },
  "language_info": {
   "codemirror_mode": {
    "name": "ipython",
    "version": 3
   },
   "file_extension": ".py",
   "mimetype": "text/x-python",
   "name": "python",
   "nbconvert_exporter": "python",
   "pygments_lexer": "ipython3",
   "version": "3.10.4"
  }
 },
 "nbformat": 4,
 "nbformat_minor": 5
}
