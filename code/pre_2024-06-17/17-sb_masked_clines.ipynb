{
 "cells": [
  {
   "cell_type": "markdown",
   "id": "8c38a3ed-638b-422f-a4d1-24abcfb91613",
   "metadata": {
    "tags": []
   },
   "source": [
    "# Examine genetic clines"
   ]
  },
  {
   "cell_type": "code",
   "execution_count": 1,
   "id": "e00683fb-da69-4b10-b74d-1770aef082fb",
   "metadata": {},
   "outputs": [],
   "source": [
    "import os\n",
    "import allel\n",
    "import numpy as np\n",
    "import pandas as pd\n",
    "import vcf\n",
    "\n",
    "from matplotlib.pyplot import figure\n",
    "from matplotlib import pyplot as plt\n",
    "from matplotlib import cm\n",
    "import matplotlib.patches as mpatches\n",
    "\n",
    "from pathlib import Path\n",
    "from haversine import haversine\n",
    "from skbio.stats.distance import mantel\n",
    "\n",
    "import cartopy.crs as ccrs\n",
    "import cartopy.feature as cf\n",
    "from pykrige.ok import OrdinaryKriging\n",
    "\n",
    "from intervaltree import Interval, IntervalTree\n"
   ]
  },
  {
   "cell_type": "code",
   "execution_count": 2,
   "id": "bb27910b-1a2a-4bcb-8caa-f6bba0b36d06",
   "metadata": {},
   "outputs": [],
   "source": [
    "proj_dir=\"/master/nplatt/sch_hae_scan\"\n",
    "results_dir=\"{}/results\".format(proj_dir)\n",
    "\n",
    "os.chdir(proj_dir)"
   ]
  },
  {
   "cell_type": "code",
   "execution_count": 3,
   "id": "c8fb1ba1-09fa-4ff8-8b04-444dd97b5ce2",
   "metadata": {},
   "outputs": [],
   "source": [
    "Path(\"{}/clines\".format(results_dir)).mkdir(parents=True, exist_ok=True)\n",
    "os.chdir(\"{}/clines\".format(results_dir))"
   ]
  },
  {
   "cell_type": "code",
   "execution_count": 4,
   "id": "f633310c-3f87-48b2-999a-8f66faa466bb",
   "metadata": {},
   "outputs": [],
   "source": [
    "#read in sample info\n",
    "info_df=pd.read_csv(\"{}/data/seq_and_sample_docs/all_sh_sb_sample_data.csv\".format(proj_dir), sep=\",\") \n",
    "\n",
    "#get the pca kmeans groups\n",
    "pca_df=pd.read_csv(\"{}/results/pca/pca_df.csv\".format(proj_dir), sep=\",\")\n",
    "pca_df=pca_df[[\"sample_name\", \"kmeans_group\", \"kmeans_label\"]]\n",
    "\n",
    "#add to the sample info\n",
    "info_df=info_df.merge(pca_df, how='right', on='sample_name')"
   ]
  },
  {
   "cell_type": "code",
   "execution_count": 5,
   "id": "1cab7e0d-9881-4959-ad0f-f1817213f3f2",
   "metadata": {},
   "outputs": [],
   "source": [
    "Path(\"{}/masked_clines\".format(results_dir)).mkdir(parents=True, exist_ok=True)\n",
    "os.chdir(\"{}/masked_clines\".format(results_dir))"
   ]
  },
  {
   "cell_type": "markdown",
   "id": "43e39e92-d23d-4ba6-acd0-a2fb4b6ea307",
   "metadata": {},
   "source": [
    "# mask sb alleles (w/VCFTOOLS)"
   ]
  },
  {
   "cell_type": "markdown",
   "id": "f8ca7986-01cd-445c-bb52-34e31dc92bce",
   "metadata": {},
   "source": [
    "## Read in the rfmix data and get an autosomal vcf file of only the query SH samples from rfmix run"
   ]
  },
  {
   "cell_type": "code",
   "execution_count": 6,
   "id": "5bc9906b-2142-4060-9d95-274810563103",
   "metadata": {},
   "outputs": [
    {
     "data": {
      "text/html": [
       "<div>\n",
       "<style scoped>\n",
       "    .dataframe tbody tr th:only-of-type {\n",
       "        vertical-align: middle;\n",
       "    }\n",
       "\n",
       "    .dataframe tbody tr th {\n",
       "        vertical-align: top;\n",
       "    }\n",
       "\n",
       "    .dataframe thead th {\n",
       "        text-align: right;\n",
       "    }\n",
       "</style>\n",
       "<table border=\"1\" class=\"dataframe\">\n",
       "  <thead>\n",
       "    <tr style=\"text-align: right;\">\n",
       "      <th></th>\n",
       "      <th>chrom</th>\n",
       "      <th>s_pos</th>\n",
       "      <th>e_pos</th>\n",
       "      <th>s_gpos</th>\n",
       "      <th>e_gpos</th>\n",
       "      <th>n_snps</th>\n",
       "      <th>Sb_NG_au_1.2.0</th>\n",
       "      <th>Sb_NG_au_1.2.1</th>\n",
       "      <th>Sb_NG_au_2.13.0</th>\n",
       "      <th>Sb_NG_au_2.13.1</th>\n",
       "      <th>...</th>\n",
       "      <th>ssp_niger_libore_166.0</th>\n",
       "      <th>ssp_niger_libore_166.1</th>\n",
       "      <th>ssp_niger_libore_167.0</th>\n",
       "      <th>ssp_niger_libore_167.1</th>\n",
       "      <th>ssp_niger_libore_168.0</th>\n",
       "      <th>ssp_niger_libore_168.1</th>\n",
       "      <th>ssp_niger_libore_169.0</th>\n",
       "      <th>ssp_niger_libore_169.1</th>\n",
       "      <th>ssp_zambia_kafue_71.0</th>\n",
       "      <th>ssp_zambia_kafue_71.1</th>\n",
       "    </tr>\n",
       "  </thead>\n",
       "  <tbody>\n",
       "    <tr>\n",
       "      <th>0</th>\n",
       "      <td>NC_067196.1</td>\n",
       "      <td>124225</td>\n",
       "      <td>212192</td>\n",
       "      <td>0.43</td>\n",
       "      <td>0.74</td>\n",
       "      <td>1302</td>\n",
       "      <td>0</td>\n",
       "      <td>1</td>\n",
       "      <td>0</td>\n",
       "      <td>0</td>\n",
       "      <td>...</td>\n",
       "      <td>0</td>\n",
       "      <td>0</td>\n",
       "      <td>0</td>\n",
       "      <td>0</td>\n",
       "      <td>0</td>\n",
       "      <td>0</td>\n",
       "      <td>0</td>\n",
       "      <td>0</td>\n",
       "      <td>1</td>\n",
       "      <td>1</td>\n",
       "    </tr>\n",
       "    <tr>\n",
       "      <th>1</th>\n",
       "      <td>NC_067196.1</td>\n",
       "      <td>212192</td>\n",
       "      <td>289797</td>\n",
       "      <td>0.74</td>\n",
       "      <td>1.01</td>\n",
       "      <td>860</td>\n",
       "      <td>0</td>\n",
       "      <td>1</td>\n",
       "      <td>0</td>\n",
       "      <td>0</td>\n",
       "      <td>...</td>\n",
       "      <td>0</td>\n",
       "      <td>0</td>\n",
       "      <td>0</td>\n",
       "      <td>0</td>\n",
       "      <td>0</td>\n",
       "      <td>0</td>\n",
       "      <td>0</td>\n",
       "      <td>0</td>\n",
       "      <td>1</td>\n",
       "      <td>1</td>\n",
       "    </tr>\n",
       "    <tr>\n",
       "      <th>2</th>\n",
       "      <td>NC_067196.1</td>\n",
       "      <td>289797</td>\n",
       "      <td>302958</td>\n",
       "      <td>1.01</td>\n",
       "      <td>1.06</td>\n",
       "      <td>645</td>\n",
       "      <td>0</td>\n",
       "      <td>1</td>\n",
       "      <td>0</td>\n",
       "      <td>0</td>\n",
       "      <td>...</td>\n",
       "      <td>0</td>\n",
       "      <td>0</td>\n",
       "      <td>0</td>\n",
       "      <td>0</td>\n",
       "      <td>0</td>\n",
       "      <td>0</td>\n",
       "      <td>0</td>\n",
       "      <td>0</td>\n",
       "      <td>1</td>\n",
       "      <td>1</td>\n",
       "    </tr>\n",
       "    <tr>\n",
       "      <th>3</th>\n",
       "      <td>NC_067196.1</td>\n",
       "      <td>302958</td>\n",
       "      <td>623463</td>\n",
       "      <td>1.06</td>\n",
       "      <td>2.17</td>\n",
       "      <td>2980</td>\n",
       "      <td>0</td>\n",
       "      <td>0</td>\n",
       "      <td>0</td>\n",
       "      <td>0</td>\n",
       "      <td>...</td>\n",
       "      <td>0</td>\n",
       "      <td>0</td>\n",
       "      <td>0</td>\n",
       "      <td>0</td>\n",
       "      <td>0</td>\n",
       "      <td>0</td>\n",
       "      <td>0</td>\n",
       "      <td>0</td>\n",
       "      <td>1</td>\n",
       "      <td>1</td>\n",
       "    </tr>\n",
       "    <tr>\n",
       "      <th>4</th>\n",
       "      <td>NC_067196.1</td>\n",
       "      <td>623463</td>\n",
       "      <td>625997</td>\n",
       "      <td>2.17</td>\n",
       "      <td>2.18</td>\n",
       "      <td>25</td>\n",
       "      <td>0</td>\n",
       "      <td>0</td>\n",
       "      <td>0</td>\n",
       "      <td>0</td>\n",
       "      <td>...</td>\n",
       "      <td>0</td>\n",
       "      <td>0</td>\n",
       "      <td>0</td>\n",
       "      <td>0</td>\n",
       "      <td>0</td>\n",
       "      <td>0</td>\n",
       "      <td>0</td>\n",
       "      <td>0</td>\n",
       "      <td>1</td>\n",
       "      <td>1</td>\n",
       "    </tr>\n",
       "    <tr>\n",
       "      <th>...</th>\n",
       "      <td>...</td>\n",
       "      <td>...</td>\n",
       "      <td>...</td>\n",
       "      <td>...</td>\n",
       "      <td>...</td>\n",
       "      <td>...</td>\n",
       "      <td>...</td>\n",
       "      <td>...</td>\n",
       "      <td>...</td>\n",
       "      <td>...</td>\n",
       "      <td>...</td>\n",
       "      <td>...</td>\n",
       "      <td>...</td>\n",
       "      <td>...</td>\n",
       "      <td>...</td>\n",
       "      <td>...</td>\n",
       "      <td>...</td>\n",
       "      <td>...</td>\n",
       "      <td>...</td>\n",
       "      <td>...</td>\n",
       "      <td>...</td>\n",
       "    </tr>\n",
       "    <tr>\n",
       "      <th>39472</th>\n",
       "      <td>NC_067199.1</td>\n",
       "      <td>46758459</td>\n",
       "      <td>46761155</td>\n",
       "      <td>162.92</td>\n",
       "      <td>162.93</td>\n",
       "      <td>365</td>\n",
       "      <td>0</td>\n",
       "      <td>0</td>\n",
       "      <td>0</td>\n",
       "      <td>0</td>\n",
       "      <td>...</td>\n",
       "      <td>1</td>\n",
       "      <td>1</td>\n",
       "      <td>0</td>\n",
       "      <td>1</td>\n",
       "      <td>1</td>\n",
       "      <td>1</td>\n",
       "      <td>1</td>\n",
       "      <td>1</td>\n",
       "      <td>1</td>\n",
       "      <td>1</td>\n",
       "    </tr>\n",
       "    <tr>\n",
       "      <th>39473</th>\n",
       "      <td>NC_067199.1</td>\n",
       "      <td>46761155</td>\n",
       "      <td>46761224</td>\n",
       "      <td>162.93</td>\n",
       "      <td>162.93</td>\n",
       "      <td>15</td>\n",
       "      <td>0</td>\n",
       "      <td>0</td>\n",
       "      <td>0</td>\n",
       "      <td>0</td>\n",
       "      <td>...</td>\n",
       "      <td>1</td>\n",
       "      <td>1</td>\n",
       "      <td>0</td>\n",
       "      <td>1</td>\n",
       "      <td>1</td>\n",
       "      <td>1</td>\n",
       "      <td>1</td>\n",
       "      <td>1</td>\n",
       "      <td>1</td>\n",
       "      <td>1</td>\n",
       "    </tr>\n",
       "    <tr>\n",
       "      <th>39474</th>\n",
       "      <td>NC_067199.1</td>\n",
       "      <td>46761224</td>\n",
       "      <td>46762583</td>\n",
       "      <td>162.93</td>\n",
       "      <td>162.94</td>\n",
       "      <td>115</td>\n",
       "      <td>0</td>\n",
       "      <td>0</td>\n",
       "      <td>0</td>\n",
       "      <td>0</td>\n",
       "      <td>...</td>\n",
       "      <td>1</td>\n",
       "      <td>1</td>\n",
       "      <td>0</td>\n",
       "      <td>1</td>\n",
       "      <td>1</td>\n",
       "      <td>1</td>\n",
       "      <td>1</td>\n",
       "      <td>1</td>\n",
       "      <td>1</td>\n",
       "      <td>1</td>\n",
       "    </tr>\n",
       "    <tr>\n",
       "      <th>39475</th>\n",
       "      <td>NC_067199.1</td>\n",
       "      <td>46762583</td>\n",
       "      <td>46763230</td>\n",
       "      <td>162.94</td>\n",
       "      <td>162.94</td>\n",
       "      <td>75</td>\n",
       "      <td>0</td>\n",
       "      <td>0</td>\n",
       "      <td>0</td>\n",
       "      <td>0</td>\n",
       "      <td>...</td>\n",
       "      <td>1</td>\n",
       "      <td>1</td>\n",
       "      <td>0</td>\n",
       "      <td>1</td>\n",
       "      <td>1</td>\n",
       "      <td>1</td>\n",
       "      <td>1</td>\n",
       "      <td>1</td>\n",
       "      <td>1</td>\n",
       "      <td>1</td>\n",
       "    </tr>\n",
       "    <tr>\n",
       "      <th>39476</th>\n",
       "      <td>NC_067199.1</td>\n",
       "      <td>46763230</td>\n",
       "      <td>46771719</td>\n",
       "      <td>162.94</td>\n",
       "      <td>162.97</td>\n",
       "      <td>983</td>\n",
       "      <td>0</td>\n",
       "      <td>0</td>\n",
       "      <td>0</td>\n",
       "      <td>0</td>\n",
       "      <td>...</td>\n",
       "      <td>1</td>\n",
       "      <td>1</td>\n",
       "      <td>1</td>\n",
       "      <td>1</td>\n",
       "      <td>1</td>\n",
       "      <td>1</td>\n",
       "      <td>1</td>\n",
       "      <td>1</td>\n",
       "      <td>1</td>\n",
       "      <td>1</td>\n",
       "    </tr>\n",
       "  </tbody>\n",
       "</table>\n",
       "<p>39477 rows × 228 columns</p>\n",
       "</div>"
      ],
      "text/plain": [
       "             chrom     s_pos     e_pos  s_gpos  e_gpos  n_snps  \\\n",
       "0      NC_067196.1    124225    212192    0.43    0.74    1302   \n",
       "1      NC_067196.1    212192    289797    0.74    1.01     860   \n",
       "2      NC_067196.1    289797    302958    1.01    1.06     645   \n",
       "3      NC_067196.1    302958    623463    1.06    2.17    2980   \n",
       "4      NC_067196.1    623463    625997    2.17    2.18      25   \n",
       "...            ...       ...       ...     ...     ...     ...   \n",
       "39472  NC_067199.1  46758459  46761155  162.92  162.93     365   \n",
       "39473  NC_067199.1  46761155  46761224  162.93  162.93      15   \n",
       "39474  NC_067199.1  46761224  46762583  162.93  162.94     115   \n",
       "39475  NC_067199.1  46762583  46763230  162.94  162.94      75   \n",
       "39476  NC_067199.1  46763230  46771719  162.94  162.97     983   \n",
       "\n",
       "       Sb_NG_au_1.2.0  Sb_NG_au_1.2.1  Sb_NG_au_2.13.0  Sb_NG_au_2.13.1  ...  \\\n",
       "0                   0               1                0                0  ...   \n",
       "1                   0               1                0                0  ...   \n",
       "2                   0               1                0                0  ...   \n",
       "3                   0               0                0                0  ...   \n",
       "4                   0               0                0                0  ...   \n",
       "...               ...             ...              ...              ...  ...   \n",
       "39472               0               0                0                0  ...   \n",
       "39473               0               0                0                0  ...   \n",
       "39474               0               0                0                0  ...   \n",
       "39475               0               0                0                0  ...   \n",
       "39476               0               0                0                0  ...   \n",
       "\n",
       "       ssp_niger_libore_166.0  ssp_niger_libore_166.1  ssp_niger_libore_167.0  \\\n",
       "0                           0                       0                       0   \n",
       "1                           0                       0                       0   \n",
       "2                           0                       0                       0   \n",
       "3                           0                       0                       0   \n",
       "4                           0                       0                       0   \n",
       "...                       ...                     ...                     ...   \n",
       "39472                       1                       1                       0   \n",
       "39473                       1                       1                       0   \n",
       "39474                       1                       1                       0   \n",
       "39475                       1                       1                       0   \n",
       "39476                       1                       1                       1   \n",
       "\n",
       "       ssp_niger_libore_167.1  ssp_niger_libore_168.0  ssp_niger_libore_168.1  \\\n",
       "0                           0                       0                       0   \n",
       "1                           0                       0                       0   \n",
       "2                           0                       0                       0   \n",
       "3                           0                       0                       0   \n",
       "4                           0                       0                       0   \n",
       "...                       ...                     ...                     ...   \n",
       "39472                       1                       1                       1   \n",
       "39473                       1                       1                       1   \n",
       "39474                       1                       1                       1   \n",
       "39475                       1                       1                       1   \n",
       "39476                       1                       1                       1   \n",
       "\n",
       "       ssp_niger_libore_169.0  ssp_niger_libore_169.1  ssp_zambia_kafue_71.0  \\\n",
       "0                           0                       0                      1   \n",
       "1                           0                       0                      1   \n",
       "2                           0                       0                      1   \n",
       "3                           0                       0                      1   \n",
       "4                           0                       0                      1   \n",
       "...                       ...                     ...                    ...   \n",
       "39472                       1                       1                      1   \n",
       "39473                       1                       1                      1   \n",
       "39474                       1                       1                      1   \n",
       "39475                       1                       1                      1   \n",
       "39476                       1                       1                      1   \n",
       "\n",
       "       ssp_zambia_kafue_71.1  \n",
       "0                          1  \n",
       "1                          1  \n",
       "2                          1  \n",
       "3                          1  \n",
       "4                          1  \n",
       "...                      ...  \n",
       "39472                      1  \n",
       "39473                      1  \n",
       "39474                      1  \n",
       "39475                      1  \n",
       "39476                      1  \n",
       "\n",
       "[39477 rows x 228 columns]"
      ]
     },
     "execution_count": 6,
     "metadata": {},
     "output_type": "execute_result"
    }
   ],
   "source": [
    "#read in rfmix table\n",
    "rf_df=pd.read_csv(f\"{results_dir}/rfmix/rfmix_df.csv\")\n",
    "rf_df"
   ]
  },
  {
   "cell_type": "code",
   "execution_count": 7,
   "id": "74dda0d6-98f4-42ae-a49e-d96aee52c2fc",
   "metadata": {},
   "outputs": [],
   "source": [
    "rf_samples = rf_df.columns[6:]\n",
    "rf_samples = list(set([s[:-2] if s.endswith('.0') or s.endswith('.1') else s for s in rf_samples]))"
   ]
  },
  {
   "cell_type": "code",
   "execution_count": 8,
   "id": "cea5fb2c-c6d3-478d-9c97-0fd1aff794e3",
   "metadata": {},
   "outputs": [
    {
     "data": {
      "text/plain": [
       "111"
      ]
     },
     "execution_count": 8,
     "metadata": {},
     "output_type": "execute_result"
    }
   ],
   "source": [
    "len(rf_samples)"
   ]
  },
  {
   "cell_type": "code",
   "execution_count": 9,
   "id": "3e061a13-775a-4f8d-a4d0-7fbf40869d2d",
   "metadata": {},
   "outputs": [],
   "source": [
    "if os.path.exists(\"sh_se.samples.list\"):\n",
    "    os.remove(\"sh_se.samples.list\")\n",
    "    \n",
    "if os.path.exists(\"sh_nw.samples.list\"):\n",
    "    os.remove(\"sh_nw.samples.list\")\n",
    "\n",
    "\n",
    "for sample in rf_samples:\n",
    "    try:\n",
    "        pop = info_df.dropna(axis=0, subset=[\"lat\", \"lon\"]).loc[info_df[\"sample_name\"] == sample, \"kmeans_label\" ].values[0]\n",
    "        with open(f\"{pop}.samples.list\", 'a') as f:\n",
    "            f.write(f\"{sample}\\n\")\n",
    "            \n",
    "    except:\n",
    "        next"
   ]
  },
  {
   "cell_type": "code",
   "execution_count": 10,
   "id": "e86b8f07-a051-4c01-b60d-50615abe484a",
   "metadata": {},
   "outputs": [
    {
     "name": "stdout",
     "output_type": "stream",
     "text": [
      "89 sh.samples.list\n"
     ]
    }
   ],
   "source": [
    "%%bash\n",
    "\n",
    "cat sh_se.samples.list sh_nw.samples.list >sh.samples.list\n",
    "wc -l sh.samples.list\n"
   ]
  },
  {
   "cell_type": "code",
   "execution_count": null,
   "id": "5c0b21e7-fe07-4a9d-b9da-78db93850ca5",
   "metadata": {},
   "outputs": [],
   "source": [
    "%%bash\n",
    "\n",
    "conda run -n scan-clines --cwd . --live-stream \\\n",
    "    vcftools \\\n",
    "        --vcf  ~/sch_hae_scan/results/filter_genotypes/sorted_annotated_snps.vcf \\\n",
    "        --chr NC_067196.1 \\\n",
    "        --chr NC_067197.1 \\\n",
    "        --chr NC_067198.1 \\\n",
    "        --chr NC_067199.1 \\\n",
    "        --chr NC_067200.1 \\\n",
    "        --chr NC_067201.1 \\\n",
    "        --chr NC_067202.1 \\\n",
    "        --keep sh.samples.list \\\n",
    "        --recode \\\n",
    "        --recode-INFO-all \\\n",
    "        --out sh_rf_autosomes"
   ]
  },
  {
   "cell_type": "code",
   "execution_count": null,
   "id": "661701ae-60ad-4e07-bdf4-617f412b7d27",
   "metadata": {},
   "outputs": [],
   "source": [
    "%%bash\n",
    "\n",
    "conda run -n scan-clines --cwd . --live-stream bgzip sh_rf_autosomes.recode.vcf\n",
    "conda run -n scan-clines --cwd . --live-stream tabix -p vcf sh_rf_autosomes.recode.vcf.gz"
   ]
  },
  {
   "cell_type": "code",
   "execution_count": 11,
   "id": "b99bb2de-7d8a-4925-b1c2-fd760933b1b3",
   "metadata": {},
   "outputs": [],
   "source": [
    "%%bash\n",
    "\n",
    "cat sh.samples.list | parallel -j 48 \"conda run -n scan-clines --cwd . --live-stream bcftools view -s {} sh_rf_autosomes.recode.vcf.gz -o {}.vcf\""
   ]
  },
  {
   "cell_type": "markdown",
   "id": "32d45b40-b4a3-4eb4-b9d4-8b8846c635fc",
   "metadata": {},
   "source": [
    "## Now find all the locations of Sb alleles in each sample and create a bed file for masking"
   ]
  },
  {
   "cell_type": "code",
   "execution_count": 12,
   "id": "3265ceef-9913-4eaf-8b2f-8a963ce6ba48",
   "metadata": {},
   "outputs": [],
   "source": [
    "se_samples = np.loadtxt(\"sh_se.samples.list\", dtype=str)\n",
    "nw_samples = np.loadtxt(\"sh_nw.samples.list\", dtype=str)\n",
    "\n",
    "sh_samples = np.concatenate((se_samples, nw_samples))\n",
    "\n",
    "sh_haplotypes = [sample + suffix for sample in sh_samples for suffix in [\".0\", \".1\"]]\n",
    "\n",
    "\n",
    "#intersection_cols = list(set(rf_df.columns) & set(sh_haplotypes))\n",
    "\n",
    "# Combine the individual strings and the list from the intersection\n",
    "cols_to_use = [\"chrom\", \"s_pos\", \"e_pos\", \"n_snps\"] + sh_haplotypes\n"
   ]
  },
  {
   "cell_type": "code",
   "execution_count": null,
   "id": "9c3af91f-a72a-414f-a2dd-1b52054e6466",
   "metadata": {},
   "outputs": [],
   "source": [
    "to_mask_df=rf_df[cols_to_use]\n",
    "to_mask_df[\"samples\"]=None\n",
    "to_mask_df"
   ]
  },
  {
   "cell_type": "code",
   "execution_count": null,
   "id": "0fa42a60-9216-408f-a530-e0d40edd66ed",
   "metadata": {
    "tags": []
   },
   "outputs": [],
   "source": [
    "mask_samples = list(to_mask_df.columns[4:-1])\n",
    "mask_samples = [s[:-2] if s.endswith('.1') or s.endswith('.0') else s for s in mask_samples]\n",
    "mask_samples = list(set(mask_samples))\n",
    "mask_samples"
   ]
  },
  {
   "cell_type": "code",
   "execution_count": null,
   "id": "5b0e430e-e84c-4c80-8a3a-13e7ddcb1487",
   "metadata": {},
   "outputs": [],
   "source": [
    "len(mask_samples)"
   ]
  },
  {
   "cell_type": "code",
   "execution_count": null,
   "id": "d102f1cb-c9ae-431d-8381-cd88cf150af8",
   "metadata": {},
   "outputs": [],
   "source": [
    "sb_allele = 0\n",
    "\n",
    "for sample in mask_samples:\n",
    "    sample_to_mask_bed = to_mask_df.loc[((to_mask_df[f\"{sample}.0\"] == sb_allele) | (to_mask_df[f\"{sample}.1\"] == sb_allele)), [\"chrom\", \"s_pos\", \"e_pos\"]]\n",
    "    sample_to_mask_bed[\"s_pos\"] = sample_to_mask_bed[\"s_pos\"]-1\n",
    "    sample_to_mask_bed[\"e_pos\"] = sample_to_mask_bed[\"e_pos\"]+1\n",
    "    sample_to_mask_bed.to_csv(f\"{sample}.mask.bed\", sep=\"\\t\", header=False, index=False)"
   ]
  },
  {
   "cell_type": "markdown",
   "id": "5a5abfff-34c2-4b5b-9e12-9b936b9bbe3f",
   "metadata": {},
   "source": [
    "## Mask each sample and then merge into a single masked.vcf"
   ]
  },
  {
   "cell_type": "code",
   "execution_count": null,
   "id": "b55a60f2-a69e-4ff4-b0c8-17dfc8a857db",
   "metadata": {},
   "outputs": [],
   "source": [
    "%%bash\n",
    "cat sh.samples.list | parallel -j 48 \"conda run -n scan-clines --cwd . --live-stream vcftools --vcf {}.vcf --exclude-bed {}.mask.bed --recode --recode-INFO-all --out {}.masked\""
   ]
  },
  {
   "cell_type": "code",
   "execution_count": null,
   "id": "3e86a967-ec09-404c-abd4-db33c1d2f5ff",
   "metadata": {},
   "outputs": [],
   "source": [
    "cat sh.samples.list | parallel -j 48 \"conda run -n scan-clines --cwd . --live-stream bgzip {}.masked.recode.vcf\"\n",
    "cat sh.samples.list | parallel -j 48 \"conda run -n scan-clines --cwd . --live-stream tabix -p vcf {}.masked.recode.vcf.gz\"\n",
    "ls *.masked.recode.vcf.gz >masked.list"
   ]
  },
  {
   "cell_type": "code",
   "execution_count": null,
   "id": "a2e50792-fc75-4eed-887e-6b5ca345441d",
   "metadata": {},
   "outputs": [],
   "source": [
    "#https://samtools.github.io/bcftools/bcftools.html#merge\n",
    "bcftools --merge snps --file-list masked.list --output masked.vcf --output-type v"
   ]
  },
  {
   "cell_type": "markdown",
   "id": "c9770bed-ad75-4f70-84ed-d14cddab8db1",
   "metadata": {},
   "source": [
    "## Filter and prep the masked vcf for downstream analyses"
   ]
  },
  {
   "cell_type": "code",
   "execution_count": null,
   "id": "edc53a99-ef04-4da2-9717-de91403b7170",
   "metadata": {},
   "outputs": [],
   "source": [
    "%%bash\n",
    "\n",
    "conda run -n scan-clines --cwd . --live-stream \\\n",
    "    vcftools --missing-site --vcf masked.vcf"
   ]
  },
  {
   "cell_type": "code",
   "execution_count": null,
   "id": "7f012ca2-726f-4a40-a7e4-1822739d5df6",
   "metadata": {},
   "outputs": [],
   "source": [
    "miss_df=pd.read_csv(\"out.lmiss\", sep=\"\\t\", header=0)"
   ]
  },
  {
   "cell_type": "code",
   "execution_count": null,
   "id": "dc0c2446-5a4b-4df1-898e-fd7d45d5feaf",
   "metadata": {},
   "outputs": [],
   "source": [
    "plt.hist(miss_df[\"F_MISS\"], bins=25)\n",
    "plt.show()"
   ]
  },
  {
   "cell_type": "code",
   "execution_count": null,
   "id": "de8aa0c1-a96d-47c4-a663-db3816e53ca2",
   "metadata": {},
   "outputs": [],
   "source": [
    "(miss_df[\"F_MISS\"]<0.1).sum()"
   ]
  },
  {
   "cell_type": "code",
   "execution_count": null,
   "id": "596f3fe0-d042-4b93-87e7-7709179728dd",
   "metadata": {},
   "outputs": [],
   "source": [
    "%%bash\n",
    "\n",
    "conda run -n scan-clines --cwd . --live-stream \\\n",
    "    vcftools \\\n",
    "    --max-missing 0.9 \\\n",
    "    --vcf masked.vcf \\\n",
    "    --recode \\\n",
    "    --recode-INFO-all \\\n",
    "    --out max_miss_masked"
   ]
  },
  {
   "cell_type": "code",
   "execution_count": null,
   "id": "60a02551-99e8-4c85-a5b8-7fedb999a2ef",
   "metadata": {},
   "outputs": [],
   "source": [
    "%%bash\n",
    "\n",
    "conda run -n scan-clines --cwd . --live-stream \\\n",
    "    plink \\\n",
    "        --vcf max_miss_masked.recode.vcf \\\n",
    "        --allow-extra-chr \\\n",
    "        --double-id \\\n",
    "        --indep-pairwise 25 5 0.20 \\\n",
    "        --out max_miss_masked_ld"
   ]
  },
  {
   "cell_type": "code",
   "execution_count": null,
   "id": "a9adeefd-9801-47ec-8b32-e4335ed6b861",
   "metadata": {},
   "outputs": [],
   "source": [
    "%%bash\n",
    "\n",
    "conda run -n scan-clines --cwd . --live-stream \\\n",
    "    vcftools \\\n",
    "        --vcf max_miss_masked.recode.vcf \\\n",
    "        --exclude max_miss_masked_ld.prune.out \\\n",
    "        --recode \\\n",
    "        --recode-INFO-all \\\n",
    "        --out max_miss_masked_ld"
   ]
  },
  {
   "cell_type": "code",
   "execution_count": null,
   "id": "14145b3b-6d3b-4d60-a563-137f1ca57d55",
   "metadata": {},
   "outputs": [],
   "source": [
    "%%bash\n",
    "\n",
    "conda run -n scan-clines --cwd . --live-stream \\\n",
    "    vcftools \\\n",
    "        --vcf max_miss_masked_ld.recode.vcf \\\n",
    "        --thin 10000 \\\n",
    "        --recode \\\n",
    "        --recode-INFO-all \\\n",
    "        --out minus_sb_mantel"
   ]
  },
  {
   "cell_type": "markdown",
   "id": "626234d3-5e39-4b17-9c5b-a2f1136c1069",
   "metadata": {
    "tags": []
   },
   "source": [
    "## Calculate genetic distances \n",
    "calculated wtih `VCF2Dis` from https://github.com/BGI-shenzhen/VCF2Dis.  Cloned into `sch_hae_scan/bin`"
   ]
  },
  {
   "cell_type": "code",
   "execution_count": null,
   "id": "10b9b5d1-2b8d-4482-a216-538e69f0b9a2",
   "metadata": {},
   "outputs": [],
   "source": [
    "#get the genetic data\n",
    "vcf_reader = vcf.Reader(open('minus_sb_mantel.recode.vcf', 'r'))\n",
    "#get the sample order\n",
    "samples=vcf_reader.samples"
   ]
  },
  {
   "cell_type": "code",
   "execution_count": null,
   "id": "9bf7f045-cb68-44ea-92ce-65bde2ffcc05",
   "metadata": {
    "tags": []
   },
   "outputs": [],
   "source": [
    "%%bash\n",
    "\n",
    "~/sch_hae_scan/bin/VCF2Dis/bin/VCF2Dis -InPut minus_sb_mantel.recode.vcf -OutPut minus_sb_mantel_p_distance.tsv"
   ]
  },
  {
   "cell_type": "code",
   "execution_count": null,
   "id": "63b97291-67de-4d8b-ab77-14aa10314c37",
   "metadata": {},
   "outputs": [],
   "source": [
    "#read in distance matrix\n",
    "gen_df = pd.read_table(\"minus_sb_mantel_p_distance.tsv\", sep=\"\\t\", header=None, index_col=0, skiprows=[0])\n",
    "\n",
    "#VCF2Dis only keeps the first 20 chars in the sample name... so need to re-header\n",
    "gen_df.index=samples\n",
    "gen_df.columns=samples\n",
    "gen_df.to_csv(\"minus_sb_mantel_p_distance.csv\", sep=\",\")\n",
    "gen_df"
   ]
  },
  {
   "cell_type": "markdown",
   "id": "e959b85a-a494-449d-9830-2a653e6d758b",
   "metadata": {
    "tags": []
   },
   "source": [
    "## Get geo distances"
   ]
  },
  {
   "cell_type": "code",
   "execution_count": null,
   "id": "3fe35802-27c4-4141-ba79-d8308c7d6700",
   "metadata": {},
   "outputs": [],
   "source": [
    "km_dists=np.array([])\n",
    "for s1 in samples:\n",
    "    s1_lat=info_df.loc[info_df[\"sample_name\"] == s1][\"lat\"].values[0]\n",
    "    s1_lon=info_df.loc[info_df[\"sample_name\"] == s1][\"lon\"].values[0]\n",
    "    \n",
    "    for s2 in samples:\n",
    "        s2_lat=info_df.loc[info_df[\"sample_name\"] == s2][\"lat\"].values[0]\n",
    "        s2_lon=info_df.loc[info_df[\"sample_name\"] == s2][\"lon\"].values[0]\n",
    "        \n",
    "        km_dists=np.append(km_dists, haversine((s1_lat, s1_lon), (s2_lat, s2_lon)))\n",
    "        \n",
    "#reshape into a 2d matrix\n",
    "km_dists.shape=(len(samples), len(samples))\n",
    "\n",
    "#convert to a df\n",
    "km_df=pd.DataFrame(data=km_dists, columns=samples, index=samples)\n",
    "km_df.to_csv(\"mantel_geo_distance.csv\", sep=\",\")\n",
    "km_df"
   ]
  },
  {
   "cell_type": "markdown",
   "id": "4f0a6a62-bd94-4633-8dd2-af6875476c2b",
   "metadata": {
    "tags": []
   },
   "source": [
    "## Mantel Tests"
   ]
  },
  {
   "cell_type": "code",
   "execution_count": null,
   "id": "957b16bc-7da7-4fa2-b27c-edee4ee5d980",
   "metadata": {
    "tags": []
   },
   "outputs": [],
   "source": [
    "# Need to do 4 comparisons\n",
    "# Sb\n",
    "# Sh\n",
    "# NW\n",
    "# SE\n",
    "\n",
    "#get idecies of each sample type/species of interest\n",
    "\n",
    "labels = []\n",
    "\n",
    "for sample in samples:\n",
    "    labels.append(pca_df.loc[pca_df[\"sample_name\"] == sample, \"kmeans_label\"].values[0])\n",
    "    \n",
    "sb_idx=matching_indices = [i for i, s in enumerate(labels) if s == \"sb\"]\n",
    "nw_idx=matching_indices = [i for i, s in enumerate(labels) if s == \"sh_nw\"]\n",
    "se_idx=matching_indices = [i for i, s in enumerate(labels) if s == \"sh_se\"]\n",
    "sh_idx=nw_idx + se_idx\n"
   ]
  },
  {
   "cell_type": "code",
   "execution_count": null,
   "id": "13ea8b77-aa69-46ca-aa7f-12bc256ebf77",
   "metadata": {},
   "outputs": [],
   "source": [
    "gen_df"
   ]
  },
  {
   "cell_type": "code",
   "execution_count": null,
   "id": "0765bf6c-f857-490f-8df3-a0d4d4ef0250",
   "metadata": {},
   "outputs": [],
   "source": [
    "for idx, color, label in [(se_idx, \"green\", \"sh_se\"),\n",
    "                          (nw_idx, \"red\", \"sh_nw\") ]:\n",
    "    \n",
    "    #subsample genetic and physical distance matricies\n",
    "    g=gen_df.iloc[idx, idx]\n",
    "    k=km_df.iloc[idx, idx]\n",
    "\n",
    "    #conduct the mantel test\n",
    "    r2, p, n = mantel(g, k, permutations=1000)\n",
    "    print(\"Mantel test - {}: r2={:.2f}, p={:.3f}, n={}\".format(label, r2, p, n))"
   ]
  },
  {
   "cell_type": "markdown",
   "id": "c2d1dafb-28db-4134-b308-1f741de12bec",
   "metadata": {},
   "source": [
    "## Plot d-distance vs geo-distance"
   ]
  },
  {
   "cell_type": "code",
   "execution_count": null,
   "id": "e9eb2638-c9fd-48c8-bf5b-173af85b3387",
   "metadata": {},
   "outputs": [],
   "source": [
    "samples_with_geo_data = info_df.iloc[info_df['lat'].notnull().values][\"sample_name\"].values\n",
    "\n",
    "for idx, color, label in [(se_idx, \"green\", \"sh_se\"),\n",
    "                          (nw_idx, \"red\", \"sh_nw\") ]:\n",
    "    \n",
    "    #subsample genetic and physical distance matricies\n",
    "    g=gen_df.iloc[idx, idx]\n",
    "    k=km_df.iloc[idx, idx]\n",
    "\n",
    "    #remove duplicate values for plotting\n",
    "    mask_upper = np.triu(np.ones(g.shape)).astype(bool)\n",
    "    \n",
    "    g.where(~mask_upper, np.nan, inplace=True)\n",
    "    k.where(~mask_upper, np.nan, inplace=True)\n",
    "   \n",
    "    gs=g.values.flatten()\n",
    "    ks=k.values.flatten()\n",
    "\n",
    "    gs=gs[~np.isnan(gs)]\n",
    "    ks=ks[~np.isnan(ks)]\n",
    "\n",
    "    #plot scatter plot\n",
    "    plt.scatter(ks, gs, alpha=0.5, color=color, edgecolors=\"black\", linewidth=0.3, label=label)\n",
    "\n",
    "    \n",
    "plt.legend()\n",
    "plt.title(\"Isolation by distance\")\n",
    "plt.xlabel(\"Kilometers\")\n",
    "plt.ylabel(\"P-distance\")\n",
    "\n",
    "# Display the figure\n",
    "plt.savefig(\"minus_sb_p-dist_vs_geo-dist.png\", dpi=600, bbox_inches='tight')\n",
    "plt.savefig(\"minus_sb_p-dist_vs_geo-dist.svg\", bbox_inches='tight')\n",
    "\n",
    "\n",
    "plt.show()"
   ]
  },
  {
   "cell_type": "markdown",
   "id": "8fb04284-9658-4679-b523-de9048bf8c0b",
   "metadata": {},
   "source": [
    "## Plot p-distance to a ref sample vs. lat and long"
   ]
  },
  {
   "cell_type": "code",
   "execution_count": null,
   "id": "a4a195a5-c1e4-4f0f-a672-af6e74dea26a",
   "metadata": {},
   "outputs": [],
   "source": [
    "sh_samples = np.concatenate((sh_se_samples, sh_nw_samples))\n",
    "countries=info_df.loc[info_df[\"sample_name\"].isin(sh_samples), \"country\"].unique()\n",
    "colors = cm.rainbow(np.linspace(0, 1, len(countries)))\n",
    "country_colors = dict(zip(countries, colors))"
   ]
  },
  {
   "cell_type": "code",
   "execution_count": null,
   "id": "5d091715-fde7-4cb6-86c7-75a39c3c05c8",
   "metadata": {},
   "outputs": [],
   "source": [
    "g = gen_df.iloc[sh_idx, sh_idx]\n",
    "k = km_df.iloc[sh_idx, sh_idx]\n",
    "\n",
    "ref_sample = \"sha_unguja_kinyasini_19\"\n",
    "#ref_sample=info_df.iloc[info_df[\"lat\"].astype(float).idxmin()][\"sample_name\"]\n",
    "\n",
    "# Create a figure with two subplots side by side\n",
    "fig, (ax1, ax2) = plt.subplots(1, 2, figsize=(12, 5))\n",
    "\n",
    "# Scatter plot for Latitude\n",
    "for sample, p_distance in g[ref_sample].items():\n",
    "    if sample != ref_sample:\n",
    "        country = info_df.loc[info_df[\"sample_name\"] == sample, \"country\"].item()\n",
    "        latitude = info_df.loc[info_df[\"sample_name\"] == sample, \"lat\"].item()\n",
    "        ax1.scatter(latitude, p_distance, color=country_colors[country], edgecolors=\"black\", linewidth=0.3)\n",
    "ax1.set_xlabel(\"Latitude\")\n",
    "ax1.set_ylabel(\"P-distance\")\n",
    "\n",
    "# Scatter plot for Longitude\n",
    "for sample, p_distance in g[ref_sample].items():\n",
    "    if sample != ref_sample:\n",
    "        longitude = info_df.loc[info_df[\"sample_name\"] == sample, \"lon\"].item()\n",
    "        country = info_df.loc[info_df[\"sample_name\"] == sample, \"country\"].item()\n",
    "        ax2.scatter(longitude, p_distance, color=country_colors[country], edgecolors=\"black\", linewidth=0.3)\n",
    "ax2.set_xlabel(\"Longitude\")\n",
    "ax2.set_ylabel(\"P-distance\")\n",
    "\n",
    "# Create a custom legend for the entire figure\n",
    "legend_handles = [mpatches.Patch(color=country_colors[country], label=country) for country in countries]\n",
    "\n",
    "# Positioning the legend can be done using bbox_to_anchor. \n",
    "# Here, I'm placing it outside the second subplot to the right.\n",
    "fig.legend(handles=legend_handles, loc='center right', bbox_to_anchor=(1.2, 0.5))\n",
    "\n",
    "\n",
    "# Display the figure\n",
    "plt.savefig(\"minus_sb_p-distance_lat_lon_gradient.png\", dpi=600, bbox_inches='tight')\n",
    "plt.savefig(\"minus_sb_p-distance_lat_lon_gradient.svg\", bbox_inches='tight')\n",
    "\n",
    "\n",
    "plt.show()\n"
   ]
  }
 ],
 "metadata": {
  "kernelspec": {
   "display_name": "scan-clines",
   "language": "python",
   "name": "scan-clines"
  },
  "language_info": {
   "codemirror_mode": {
    "name": "ipython",
    "version": 3
   },
   "file_extension": ".py",
   "mimetype": "text/x-python",
   "name": "python",
   "nbconvert_exporter": "python",
   "pygments_lexer": "ipython3",
   "version": "3.9.16"
  },
  "toc-autonumbering": true
 },
 "nbformat": 4,
 "nbformat_minor": 5
}
