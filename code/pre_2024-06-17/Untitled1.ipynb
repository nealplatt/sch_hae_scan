{
 "cells": [
  {
   "cell_type": "code",
   "execution_count": 1,
   "id": "176c0380-472e-42c5-8a25-d87fdd7eb35d",
   "metadata": {
    "scrolled": true
   },
   "outputs": [
    {
     "name": "stderr",
     "output_type": "stream",
     "text": [
      "/tmp/ipykernel_441120/1735971683.py:11: DeprecationWarning: Please use `median_filter` from the `scipy.ndimage` namespace, the `scipy.ndimage.filters` namespace is deprecated.\n",
      "  from scipy.ndimage.filters import median_filter\n"
     ]
    },
    {
     "ename": "ModuleNotFoundError",
     "evalue": "No module named 'pybedtools'",
     "output_type": "error",
     "traceback": [
      "\u001b[0;31m---------------------------------------------------------------------------\u001b[0m",
      "\u001b[0;31mModuleNotFoundError\u001b[0m                       Traceback (most recent call last)",
      "Cell \u001b[0;32mIn[1], line 14\u001b[0m\n\u001b[1;32m     12\u001b[0m \u001b[38;5;28;01mfrom\u001b[39;00m \u001b[38;5;21;01mIPython\u001b[39;00m\u001b[38;5;21;01m.\u001b[39;00m\u001b[38;5;21;01mdisplay\u001b[39;00m \u001b[38;5;28;01mimport\u001b[39;00m Image \n\u001b[1;32m     13\u001b[0m \u001b[38;5;28;01mimport\u001b[39;00m \u001b[38;5;21;01mglob\u001b[39;00m\n\u001b[0;32m---> 14\u001b[0m \u001b[38;5;28;01mimport\u001b[39;00m \u001b[38;5;21;01mpybedtools\u001b[39;00m\n\u001b[1;32m     15\u001b[0m \u001b[38;5;28;01mimport\u001b[39;00m \u001b[38;5;21;01mgffutils\u001b[39;00m\n\u001b[1;32m     16\u001b[0m \u001b[38;5;28;01mimport\u001b[39;00m \u001b[38;5;21;01mvcf\u001b[39;00m\n",
      "\u001b[0;31mModuleNotFoundError\u001b[0m: No module named 'pybedtools'"
     ]
    }
   ],
   "source": [
    "import os\n",
    "import allel\n",
    "import numpy as np\n",
    "import pandas as pd\n",
    "import matplotlib.pyplot as plt\n",
    "from collections import defaultdict\n",
    "from matplotlib.pyplot import figure\n",
    "from tqdm import tqdm\n",
    "from pathlib import Path\n",
    "from itertools import combinations \n",
    "from scipy.ndimage.filters import median_filter\n",
    "from IPython.display import Image \n",
    "import glob\n",
    "import pybedtools\n",
    "import gffutils\n",
    "import vcf\n",
    "import itertools\n",
    "from scipy.stats import linregress"
   ]
  },
  {
   "cell_type": "code",
   "execution_count": null,
   "id": "30f66a9f-0704-4c98-89f5-b93cbffb4bc6",
   "metadata": {
    "tags": []
   },
   "outputs": [],
   "source": [
    "proj_dir=\"/master/nplatt/sch_hae_scan\"\n",
    "results_dir=\"{}/results\".format(proj_dir)\n",
    "os.chdir(results_dir)"
   ]
  },
  {
   "cell_type": "markdown",
   "id": "c520f5e8-95d1-42ab-95d9-e8711135fc32",
   "metadata": {
    "tags": []
   },
   "source": [
    "## Get sample info"
   ]
  },
  {
   "cell_type": "code",
   "execution_count": null,
   "id": "35b4cc0c-4f87-451a-9b8b-c288bc0c2f3e",
   "metadata": {},
   "outputs": [],
   "source": [
    "sample_info_df = pd.read_csv(\"{}/data/seq_and_sample_docs/all_sh_sb_sample_data.csv\".format(proj_dir))"
   ]
  },
  {
   "cell_type": "code",
   "execution_count": null,
   "id": "da92b7e9-f67b-451e-8bd4-35b3e8305823",
   "metadata": {
    "tags": []
   },
   "outputs": [],
   "source": [
    "sample_info_df"
   ]
  },
  {
   "cell_type": "markdown",
   "id": "26c0b31d-c092-4a9b-882d-f8329dfbf38b",
   "metadata": {
    "tags": []
   },
   "source": [
    "## Read in data and get allele counts"
   ]
  },
  {
   "cell_type": "code",
   "execution_count": null,
   "id": "19ec7f14-85d9-4d9e-8a9e-b1fe5a7ab3c8",
   "metadata": {
    "tags": []
   },
   "outputs": [],
   "source": [
    "#read in the vcf file\n",
    "filtered_callset=allel.read_vcf('post_phase_filtering/chrs_unrelated.vcf')"
   ]
  },
  {
   "cell_type": "code",
   "execution_count": null,
   "id": "900ec183-764c-4549-8943-713fda2dbc09",
   "metadata": {
    "tags": []
   },
   "outputs": [],
   "source": [
    "#get relevant info\n",
    "gt      = allel.GenotypeArray(filtered_callset['calldata/GT'])\n",
    "chroms  = filtered_callset[\"variants/CHROM\"]\n",
    "samples = filtered_callset[\"samples\"]\n",
    "poss    = filtered_callset[\"variants/POS\"]\n",
    "var_ids = filtered_callset[\"variants/ID\"]\n",
    "\n",
    "uniq_chroms=np.unique(chroms)"
   ]
  },
  {
   "cell_type": "code",
   "execution_count": null,
   "id": "cfd40f7a-9f79-4e0a-bc8a-79b83d0d9ece",
   "metadata": {
    "tags": []
   },
   "outputs": [],
   "source": [
    "#read in pca df since it has species ids and kmeans labels\n",
    "pca_df=pd.read_csv(\"{}/pca/pca_df.csv\".format(results_dir), sep=\",\")\n",
    "pca_df[\"country\"] = pca_df[\"country\"].astype(str)"
   ]
  },
  {
   "cell_type": "markdown",
   "id": "46ddf391-8124-43c5-8991-a1674dbb2a34",
   "metadata": {
    "tags": []
   },
   "source": [
    "### Species"
   ]
  },
  {
   "cell_type": "code",
   "execution_count": null,
   "id": "21de7c57-0adb-48fd-acd4-59e047f238bf",
   "metadata": {},
   "outputs": [],
   "source": [
    "#get species idxs\n",
    "sp_idxs = {}\n",
    "sp_acs  = {}\n",
    "\n",
    "for sp in tqdm([\"s_bovis\", \"s_haematobium\"]):\n",
    "    \n",
    "    #find indecies for each sample from that species\n",
    "    names = pca_df.loc[pca_df[\"pca_species\"] ==  sp, \"sample_name\"]\n",
    "    sp_idxs[sp]=np.in1d(samples, names).nonzero()[0]\n",
    "\n",
    "    #get allele counts for each species\n",
    "    sp_acs[sp] = gt.count_alleles(subpop=sp_idxs[sp])"
   ]
  },
  {
   "cell_type": "code",
   "execution_count": null,
   "id": "a4ee15c5-f05a-4643-8340-4bd25c2420d7",
   "metadata": {},
   "outputs": [],
   "source": [
    "#add outgroups\n",
    "s_guineensis   = \"guineensis_saotome_ERR119612\"\n",
    "s_intercalatum = \"intercalatum_drcongo_ERR119613\"\n",
    "s_margrebowiei = \"margrebowiei_zambia_ERR310940\"\n",
    "s_matthei      = \"matthei_zambia_ERR103051\"\n",
    "\n",
    "outgroups=[s_guineensis, s_intercalatum, s_margrebowiei, s_matthei]\n"
   ]
  },
  {
   "cell_type": "code",
   "execution_count": null,
   "id": "db8f1d0b-d839-4250-9cc1-4b19cd92fd37",
   "metadata": {},
   "outputs": [],
   "source": [
    "for sp in tqdm(outgroups):\n",
    "    sp_idxs[sp] = [list(samples).index(sp)]\n",
    "    sp_acs[sp] = gt.count_alleles(subpop=sp_idxs[sp])"
   ]
  },
  {
   "cell_type": "markdown",
   "id": "b33e6d37-1b14-46de-bf22-d7c683966859",
   "metadata": {
    "tags": []
   },
   "source": [
    "### Kmeans group"
   ]
  },
  {
   "cell_type": "code",
   "execution_count": null,
   "id": "459813ce-b421-48f7-a8a9-8b24322d1b07",
   "metadata": {},
   "outputs": [],
   "source": [
    "#get species idxs\n",
    "k_pop_idxs = {}\n",
    "k_pop_acs  = {}\n",
    "\n",
    "for k in tqdm(pca_df[\"kmeans_label\"].unique()):\n",
    "    \n",
    "    #find indecies for each sample per k population\n",
    "    ks = pca_df.loc[pca_df[\"kmeans_label\"] ==  k, \"sample_name\"]\n",
    "    k_pop_idxs[k]=np.in1d(samples, ks).nonzero()[0]\n",
    "    \n",
    "    #get allele counts for k group\n",
    "    k_pop_acs[k] = gt.count_alleles(subpop=k_pop_idxs[k])"
   ]
  },
  {
   "cell_type": "code",
   "execution_count": null,
   "id": "4c503966-4ef4-41db-848b-4e234249f4f5",
   "metadata": {
    "tags": []
   },
   "outputs": [],
   "source": [
    "major_acs={\"sh_nw\":          k_pop_acs[\"sh_nw\"],\n",
    "           \"sh_se\":          k_pop_acs[\"sh_se\"],\n",
    "           \"sb\":             k_pop_acs[\"sb\"] ,\n",
    "           \"sh\":             sp_acs[\"s_haematobium\"],\n",
    "           \"s_guineensis\":   sp_acs[\"guineensis_saotome_ERR119612\"],\n",
    "           \"s_intercalatum\": sp_acs[\"intercalatum_drcongo_ERR119613\"],\n",
    "           \"s_margrebowiei\": sp_acs[\"margrebowiei_zambia_ERR310940\"],\n",
    "           \"s_matthei\":      sp_acs[\"matthei_zambia_ERR103051\"]  }"
   ]
  },
  {
   "cell_type": "markdown",
   "id": "8ebb1889-a574-452b-acaa-4ab4207c9d2f",
   "metadata": {},
   "source": [
    "# get regions of selection"
   ]
  },
  {
   "cell_type": "code",
   "execution_count": null,
   "id": "aa271549-71bd-4b0a-ac7d-88f023a44fcd",
   "metadata": {},
   "outputs": [],
   "source": []
  },
  {
   "cell_type": "code",
   "execution_count": null,
   "id": "2520bdd6-7d3d-4251-9eab-997f8060915b",
   "metadata": {},
   "outputs": [],
   "source": []
  },
  {
   "cell_type": "code",
   "execution_count": null,
   "id": "a189ff3c-ffda-4910-b8ee-f4c6454ac7a9",
   "metadata": {},
   "outputs": [],
   "source": []
  }
 ],
 "metadata": {
  "kernelspec": {
   "display_name": "popstructure",
   "language": "python",
   "name": "popstructure"
  },
  "language_info": {
   "codemirror_mode": {
    "name": "ipython",
    "version": 3
   },
   "file_extension": ".py",
   "mimetype": "text/x-python",
   "name": "python",
   "nbconvert_exporter": "python",
   "pygments_lexer": "ipython3",
   "version": "3.9.15"
  }
 },
 "nbformat": 4,
 "nbformat_minor": 5
}
