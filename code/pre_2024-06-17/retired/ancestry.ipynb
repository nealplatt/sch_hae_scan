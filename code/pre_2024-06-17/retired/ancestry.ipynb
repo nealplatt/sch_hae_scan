{
 "cells": [
  {
   "cell_type": "markdown",
   "id": "68cd7802-2282-44d4-bc0f-fa47b46dc088",
   "metadata": {},
   "source": [
    "### questions from TJC\n",
    " - can we get estimates/error bars from wihtin individuals when it comes to dating admixture\n",
    " - can we get individual admixture ages per country (maybe a boxplot).\n",
    " - test for selection consider using the same ones from the previous paper and/or iHS."
   ]
  },
  {
   "cell_type": "markdown",
   "id": "b68a76ed-f7ae-4980-bba1-c562dbeca49c",
   "metadata": {
    "jp-MarkdownHeadingCollapsed": true,
    "tags": []
   },
   "source": [
    "# Ancestry *S.haematobium* vs. *S. bovis* across Africa (SCAN)\n",
    "\n",
    "Neal Platt 2021"
   ]
  },
  {
   "cell_type": "markdown",
   "id": "2259ab5f-d036-4485-a195-de28ee4cd0ee",
   "metadata": {
    "tags": [],
    "toc-hr-collapsed": true
   },
   "source": [
    "# Prep envrinoment and data for analyses"
   ]
  },
  {
   "cell_type": "markdown",
   "id": "f1e661df-6cfd-405e-9de3-75a4178c196c",
   "metadata": {},
   "source": [
    "use the `sch_hae_scan/envs/jupyterlab_ancestry` conda environment"
   ]
  },
  {
   "cell_type": "code",
   "execution_count": 1,
   "id": "7c35122a-e458-4bec-9c29-c875fa386805",
   "metadata": {},
   "outputs": [],
   "source": [
    "import os\n",
    "import allel\n",
    "import numpy as np\n",
    "import loter.locanc.local_ancestry as lc\n",
    "import pandas as pd\n",
    "import vcf\n",
    "import matplotlib.pyplot as plt\n",
    "from collections import defaultdict\n",
    "from matplotlib.pyplot import figure\n",
    "from tqdm import tqdm\n",
    "from pathlib import Path\n",
    "from itertools import groupby\n",
    "import seaborn as sns\n",
    "import pickle\n",
    "from collections import Counter\n",
    "from IPython.display import Image \n",
    "import dask.dataframe\n",
    "from dask.diagnostics import ProgressBar\n",
    "import glob\n",
    "from dask.distributed import Client\n",
    "import pybedtools\n",
    "import gffutils\n",
    "from scipy.signal import medfilt"
   ]
  },
  {
   "cell_type": "code",
   "execution_count": 2,
   "id": "cfaa4a9e-a910-44db-9415-79d3a6185878",
   "metadata": {
    "tags": []
   },
   "outputs": [],
   "source": [
    "proj_dir=\"/master/nplatt/sch_hae_scan\"\n",
    "results_dir=\"{}/results\".format(proj_dir)\n",
    "os.chdir(results_dir)"
   ]
  },
  {
   "cell_type": "markdown",
   "id": "61b6d82d-933e-4818-a31e-08e58305d9c5",
   "metadata": {
    "tags": []
   },
   "source": [
    "## Start dask client"
   ]
  },
  {
   "cell_type": "code",
   "execution_count": 3,
   "id": "56901d51-82cc-4346-b384-200f1c3231fc",
   "metadata": {},
   "outputs": [],
   "source": [
    "# %time client = Client(n_workers=10, threads_per_worker=8)\n",
    "# client"
   ]
  },
  {
   "cell_type": "code",
   "execution_count": 4,
   "id": "b3500b68-4bf2-49e2-991c-95ccc2d25baf",
   "metadata": {},
   "outputs": [],
   "source": [
    "# Client().close()"
   ]
  },
  {
   "cell_type": "markdown",
   "id": "1edb0330-537c-46d0-b50b-fd52f62adf06",
   "metadata": {
    "tags": []
   },
   "source": [
    "## Get sample info"
   ]
  },
  {
   "cell_type": "code",
   "execution_count": 5,
   "id": "9a4837a2-c41e-440d-8b18-56aa40ea391d",
   "metadata": {},
   "outputs": [],
   "source": [
    "sample_info_df = pd.read_csv(\"{}/data/seq_and_sample_docs/all_sh_sb_sample_data.csv\".format(proj_dir))"
   ]
  },
  {
   "cell_type": "code",
   "execution_count": 6,
   "id": "7da20ad0-918c-47de-88fd-c95dffa58dcc",
   "metadata": {
    "tags": []
   },
   "outputs": [
    {
     "data": {
      "text/html": [
       "<div>\n",
       "<style scoped>\n",
       "    .dataframe tbody tr th:only-of-type {\n",
       "        vertical-align: middle;\n",
       "    }\n",
       "\n",
       "    .dataframe tbody tr th {\n",
       "        vertical-align: top;\n",
       "    }\n",
       "\n",
       "    .dataframe thead th {\n",
       "        text-align: right;\n",
       "    }\n",
       "</style>\n",
       "<table border=\"1\" class=\"dataframe\">\n",
       "  <thead>\n",
       "    <tr style=\"text-align: right;\">\n",
       "      <th></th>\n",
       "      <th>admera_id</th>\n",
       "      <th>barcode_label_ID</th>\n",
       "      <th>library_id</th>\n",
       "      <th>sample_name</th>\n",
       "      <th>sra_accession</th>\n",
       "      <th>presumed_species</th>\n",
       "      <th>country</th>\n",
       "      <th>locale</th>\n",
       "      <th>host</th>\n",
       "      <th>phenotype</th>\n",
       "      <th>project</th>\n",
       "      <th>data_type</th>\n",
       "      <th>lat</th>\n",
       "      <th>lon</th>\n",
       "    </tr>\n",
       "  </thead>\n",
       "  <tbody>\n",
       "    <tr>\n",
       "      <th>0</th>\n",
       "      <td>19047FL-14-02-03</td>\n",
       "      <td>MCF03050E0612</td>\n",
       "      <td>na</td>\n",
       "      <td>sha_angola_cota_57</td>\n",
       "      <td>SRR11907442</td>\n",
       "      <td>s_sp</td>\n",
       "      <td>angola</td>\n",
       "      <td>na</td>\n",
       "      <td>snail</td>\n",
       "      <td>unk</td>\n",
       "      <td>scan_africa</td>\n",
       "      <td>genome</td>\n",
       "      <td>-9.26186</td>\n",
       "      <td>16.13693</td>\n",
       "    </tr>\n",
       "    <tr>\n",
       "      <th>1</th>\n",
       "      <td>19047FL-14-02-04</td>\n",
       "      <td>MCF03050E0613</td>\n",
       "      <td>na</td>\n",
       "      <td>sha_angola_cota_58</td>\n",
       "      <td>SRR11907441</td>\n",
       "      <td>s_sp</td>\n",
       "      <td>angola</td>\n",
       "      <td>na</td>\n",
       "      <td>snail</td>\n",
       "      <td>unk</td>\n",
       "      <td>scan_africa</td>\n",
       "      <td>genome</td>\n",
       "      <td>-9.26186</td>\n",
       "      <td>16.13693</td>\n",
       "    </tr>\n",
       "    <tr>\n",
       "      <th>2</th>\n",
       "      <td>19047FL-14-02-05</td>\n",
       "      <td>MCF03050E0614</td>\n",
       "      <td>na</td>\n",
       "      <td>sha_angola_cota_59</td>\n",
       "      <td>SRR11907440</td>\n",
       "      <td>s_sp</td>\n",
       "      <td>angola</td>\n",
       "      <td>na</td>\n",
       "      <td>snail</td>\n",
       "      <td>unk</td>\n",
       "      <td>scan_africa</td>\n",
       "      <td>genome</td>\n",
       "      <td>-9.26186</td>\n",
       "      <td>16.13693</td>\n",
       "    </tr>\n",
       "    <tr>\n",
       "      <th>3</th>\n",
       "      <td>19047FL-14-02-06</td>\n",
       "      <td>MCF03050E0615</td>\n",
       "      <td>na</td>\n",
       "      <td>sha_angola_icau_60</td>\n",
       "      <td>SRR11907439</td>\n",
       "      <td>s_haematobium</td>\n",
       "      <td>angola</td>\n",
       "      <td>na</td>\n",
       "      <td>human</td>\n",
       "      <td>haematobium</td>\n",
       "      <td>scan_africa</td>\n",
       "      <td>genome</td>\n",
       "      <td>-8.64510</td>\n",
       "      <td>13.79642</td>\n",
       "    </tr>\n",
       "    <tr>\n",
       "      <th>4</th>\n",
       "      <td>19047FL-14-02-07</td>\n",
       "      <td>MCF03050E0615</td>\n",
       "      <td>na</td>\n",
       "      <td>sha_angola_icau_61</td>\n",
       "      <td>SRR11907438</td>\n",
       "      <td>s_haematobium</td>\n",
       "      <td>angola</td>\n",
       "      <td>na</td>\n",
       "      <td>human</td>\n",
       "      <td>haematobium</td>\n",
       "      <td>scan_africa</td>\n",
       "      <td>genome</td>\n",
       "      <td>-8.64510</td>\n",
       "      <td>13.79642</td>\n",
       "    </tr>\n",
       "    <tr>\n",
       "      <th>...</th>\n",
       "      <td>...</td>\n",
       "      <td>...</td>\n",
       "      <td>...</td>\n",
       "      <td>...</td>\n",
       "      <td>...</td>\n",
       "      <td>...</td>\n",
       "      <td>...</td>\n",
       "      <td>...</td>\n",
       "      <td>...</td>\n",
       "      <td>...</td>\n",
       "      <td>...</td>\n",
       "      <td>...</td>\n",
       "      <td>...</td>\n",
       "      <td>...</td>\n",
       "    </tr>\n",
       "    <tr>\n",
       "      <th>445</th>\n",
       "      <td>na</td>\n",
       "      <td>na</td>\n",
       "      <td>na</td>\n",
       "      <td>sh_egypt_SRR433862</td>\n",
       "      <td>SRR433862</td>\n",
       "      <td>s_haematobium</td>\n",
       "      <td>egypt</td>\n",
       "      <td>na</td>\n",
       "      <td>na</td>\n",
       "      <td>haematobium</td>\n",
       "      <td>Rey_2019</td>\n",
       "      <td>genome</td>\n",
       "      <td>NaN</td>\n",
       "      <td>NaN</td>\n",
       "    </tr>\n",
       "    <tr>\n",
       "      <th>446</th>\n",
       "      <td>na</td>\n",
       "      <td>na</td>\n",
       "      <td>na</td>\n",
       "      <td>sh_gambia_SRR13579872</td>\n",
       "      <td>SRR13579872</td>\n",
       "      <td>s_haematobium</td>\n",
       "      <td>gambia</td>\n",
       "      <td>na</td>\n",
       "      <td>na</td>\n",
       "      <td>haematobium</td>\n",
       "      <td>Rey_2019</td>\n",
       "      <td>genome</td>\n",
       "      <td>NaN</td>\n",
       "      <td>NaN</td>\n",
       "    </tr>\n",
       "    <tr>\n",
       "      <th>447</th>\n",
       "      <td>na</td>\n",
       "      <td>na</td>\n",
       "      <td>na</td>\n",
       "      <td>sh_ivorycoast_SRR13579866</td>\n",
       "      <td>SRR13579866</td>\n",
       "      <td>s_haematobium</td>\n",
       "      <td>ivorycoast</td>\n",
       "      <td>na</td>\n",
       "      <td>na</td>\n",
       "      <td>haematobium</td>\n",
       "      <td>Rey_2019</td>\n",
       "      <td>genome</td>\n",
       "      <td>NaN</td>\n",
       "      <td>NaN</td>\n",
       "    </tr>\n",
       "    <tr>\n",
       "      <th>448</th>\n",
       "      <td>na</td>\n",
       "      <td>na</td>\n",
       "      <td>na</td>\n",
       "      <td>sh_madagascar_SRR13579871</td>\n",
       "      <td>SRR13579871</td>\n",
       "      <td>s_haematobium</td>\n",
       "      <td>madagascar</td>\n",
       "      <td>na</td>\n",
       "      <td>na</td>\n",
       "      <td>haematobium</td>\n",
       "      <td>Rey_2019</td>\n",
       "      <td>genome</td>\n",
       "      <td>NaN</td>\n",
       "      <td>NaN</td>\n",
       "    </tr>\n",
       "    <tr>\n",
       "      <th>449</th>\n",
       "      <td>na</td>\n",
       "      <td>na</td>\n",
       "      <td>na</td>\n",
       "      <td>sh_nigeria_SRR13579882</td>\n",
       "      <td>SRR13579882</td>\n",
       "      <td>s_haematobium</td>\n",
       "      <td>nigeria</td>\n",
       "      <td>na</td>\n",
       "      <td>na</td>\n",
       "      <td>haematobium</td>\n",
       "      <td>Rey_2019</td>\n",
       "      <td>genome</td>\n",
       "      <td>NaN</td>\n",
       "      <td>NaN</td>\n",
       "    </tr>\n",
       "  </tbody>\n",
       "</table>\n",
       "<p>450 rows × 14 columns</p>\n",
       "</div>"
      ],
      "text/plain": [
       "            admera_id barcode_label_ID library_id                sample_name  \\\n",
       "0    19047FL-14-02-03    MCF03050E0612         na         sha_angola_cota_57   \n",
       "1    19047FL-14-02-04    MCF03050E0613         na         sha_angola_cota_58   \n",
       "2    19047FL-14-02-05    MCF03050E0614         na         sha_angola_cota_59   \n",
       "3    19047FL-14-02-06    MCF03050E0615         na         sha_angola_icau_60   \n",
       "4    19047FL-14-02-07    MCF03050E0615         na         sha_angola_icau_61   \n",
       "..                ...              ...        ...                        ...   \n",
       "445                na               na         na         sh_egypt_SRR433862   \n",
       "446                na               na         na      sh_gambia_SRR13579872   \n",
       "447                na               na         na  sh_ivorycoast_SRR13579866   \n",
       "448                na               na         na  sh_madagascar_SRR13579871   \n",
       "449                na               na         na     sh_nigeria_SRR13579882   \n",
       "\n",
       "    sra_accession presumed_species     country locale   host    phenotype  \\\n",
       "0     SRR11907442             s_sp      angola     na  snail          unk   \n",
       "1     SRR11907441             s_sp      angola     na  snail          unk   \n",
       "2     SRR11907440             s_sp      angola     na  snail          unk   \n",
       "3     SRR11907439    s_haematobium      angola     na  human  haematobium   \n",
       "4     SRR11907438    s_haematobium      angola     na  human  haematobium   \n",
       "..            ...              ...         ...    ...    ...          ...   \n",
       "445     SRR433862    s_haematobium       egypt     na     na  haematobium   \n",
       "446   SRR13579872    s_haematobium      gambia     na     na  haematobium   \n",
       "447   SRR13579866    s_haematobium  ivorycoast     na     na  haematobium   \n",
       "448   SRR13579871    s_haematobium  madagascar     na     na  haematobium   \n",
       "449   SRR13579882    s_haematobium     nigeria     na     na  haematobium   \n",
       "\n",
       "         project data_type      lat       lon  \n",
       "0    scan_africa    genome -9.26186  16.13693  \n",
       "1    scan_africa    genome -9.26186  16.13693  \n",
       "2    scan_africa    genome -9.26186  16.13693  \n",
       "3    scan_africa    genome -8.64510  13.79642  \n",
       "4    scan_africa    genome -8.64510  13.79642  \n",
       "..           ...       ...      ...       ...  \n",
       "445     Rey_2019    genome      NaN       NaN  \n",
       "446     Rey_2019    genome      NaN       NaN  \n",
       "447     Rey_2019    genome      NaN       NaN  \n",
       "448     Rey_2019    genome      NaN       NaN  \n",
       "449     Rey_2019    genome      NaN       NaN  \n",
       "\n",
       "[450 rows x 14 columns]"
      ]
     },
     "execution_count": 6,
     "metadata": {},
     "output_type": "execute_result"
    }
   ],
   "source": [
    "sample_info_df"
   ]
  },
  {
   "cell_type": "markdown",
   "id": "87243293-92d2-4510-929b-6ba2e016a9c5",
   "metadata": {
    "tags": []
   },
   "source": [
    "## Read in data and get allele counts"
   ]
  },
  {
   "cell_type": "code",
   "execution_count": 7,
   "id": "c12b235c-9a22-4cc9-b8ad-189124558ccc",
   "metadata": {
    "tags": []
   },
   "outputs": [],
   "source": [
    "#read in the vcf file\n",
    "filtered_callset=allel.read_vcf('filter_genotypes/ingroup_indv_and_site_filt.vcf')\n",
    "\n",
    "#get relevant info\n",
    "gt      = allel.GenotypeArray(filtered_callset['calldata/GT'])\n",
    "chroms  = filtered_callset[\"variants/CHROM\"]\n",
    "samples = filtered_callset[\"samples\"]\n",
    "poss    = filtered_callset[\"variants/POS\"]\n",
    "var_ids = filtered_callset[\"variants/ID\"]\n",
    "\n",
    "uniq_chroms=np.unique(chroms)"
   ]
  },
  {
   "cell_type": "code",
   "execution_count": 8,
   "id": "6911054d-0401-4252-b437-8b13068572d5",
   "metadata": {
    "tags": []
   },
   "outputs": [],
   "source": [
    "#read in pca df since it has species ids and kmeans labels\n",
    "pca_df=pd.read_csv(\"{}/pca/pca_df.csv\".format(results_dir), sep=\",\")\n",
    "pca_df[\"country\"] = pca_df[\"country\"].astype(str)"
   ]
  },
  {
   "cell_type": "markdown",
   "id": "a914775a-9c3f-40b3-b320-970a028c00d3",
   "metadata": {
    "tags": []
   },
   "source": [
    "### Species"
   ]
  },
  {
   "cell_type": "code",
   "execution_count": 9,
   "id": "2bd6edd2-715a-460b-a4e6-856d3aa52579",
   "metadata": {},
   "outputs": [
    {
     "name": "stderr",
     "output_type": "stream",
     "text": [
      "100%|██████████| 2/2 [00:44<00:00, 22.28s/it]\n"
     ]
    }
   ],
   "source": [
    "#get species idxs\n",
    "sp_idxs = {}\n",
    "sp_acs  = {}\n",
    "\n",
    "for sp in tqdm([\"s_bovis\", \"s_haematobium\"]):\n",
    "    sp_idxs[sp] = list(pca_df.loc[pca_df[\"pca_species\"] ==  sp].index)\n",
    "\n",
    "    #get allele counts for each species\n",
    "    sp_acs[sp] = gt.count_alleles(subpop=sp_idxs[sp])"
   ]
  },
  {
   "cell_type": "markdown",
   "id": "6b2332c1-f6ce-4293-9b65-086a953b13d1",
   "metadata": {
    "tags": []
   },
   "source": [
    "### Country"
   ]
  },
  {
   "cell_type": "code",
   "execution_count": 10,
   "id": "842d220c-a706-4e56-ae2b-03e48ba97756",
   "metadata": {},
   "outputs": [
    {
     "name": "stderr",
     "output_type": "stream",
     "text": [
      "100%|██████████| 2/2 [03:56<00:00, 118.21s/it]\n"
     ]
    }
   ],
   "source": [
    "#now get species/country idexs\n",
    "sp_country_idxs = defaultdict(lambda: {})\n",
    "sp_country_acs  = defaultdict(lambda: {})\n",
    "\n",
    "for sp in tqdm([\"s_bovis\", \"s_haematobium\"]):\n",
    "    sp_countries = pca_df.loc[ pca_df[\"pca_species\"] == sp][\"country\"].astype(str).unique()\n",
    "    \n",
    "    for country in sp_countries:\n",
    "        sp_country_idxs[sp][country] = list(pca_df.loc[ (pca_df[\"pca_species\"] == sp) &  (pca_df[\"country\"] == country)].index)\n",
    "        #if len(sp_country_idxs[sp][country]) > 1:\n",
    "\n",
    "        #get allele counts for each species\n",
    "        sp_country_acs[sp][country] = gt.count_alleles(subpop=sp_country_idxs[sp][country])"
   ]
  },
  {
   "cell_type": "code",
   "execution_count": 11,
   "id": "f9dd0a05-055f-44ca-9eb6-579764663dd8",
   "metadata": {},
   "outputs": [
    {
     "data": {
      "text/html": [
       "<div>\n",
       "<style scoped>\n",
       "    .dataframe tbody tr th:only-of-type {\n",
       "        vertical-align: middle;\n",
       "    }\n",
       "\n",
       "    .dataframe tbody tr th {\n",
       "        vertical-align: top;\n",
       "    }\n",
       "\n",
       "    .dataframe thead th {\n",
       "        text-align: right;\n",
       "    }\n",
       "</style>\n",
       "<table border=\"1\" class=\"dataframe\">\n",
       "  <thead>\n",
       "    <tr style=\"text-align: right;\">\n",
       "      <th></th>\n",
       "      <th>country</th>\n",
       "      <th>pca_species</th>\n",
       "      <th>count</th>\n",
       "    </tr>\n",
       "  </thead>\n",
       "  <tbody>\n",
       "    <tr>\n",
       "      <th>0</th>\n",
       "      <td>angola</td>\n",
       "      <td>s_haematobium</td>\n",
       "      <td>7</td>\n",
       "    </tr>\n",
       "    <tr>\n",
       "      <th>2</th>\n",
       "      <td>cote_d_ivoire</td>\n",
       "      <td>s_bovis</td>\n",
       "      <td>7</td>\n",
       "    </tr>\n",
       "    <tr>\n",
       "      <th>3</th>\n",
       "      <td>cote_d_ivoire</td>\n",
       "      <td>s_haematobium</td>\n",
       "      <td>21</td>\n",
       "    </tr>\n",
       "    <tr>\n",
       "      <th>8</th>\n",
       "      <td>liberia</td>\n",
       "      <td>s_haematobium</td>\n",
       "      <td>2</td>\n",
       "    </tr>\n",
       "    <tr>\n",
       "      <th>9</th>\n",
       "      <td>madagascar</td>\n",
       "      <td>s_haematobium</td>\n",
       "      <td>12</td>\n",
       "    </tr>\n",
       "    <tr>\n",
       "      <th>12</th>\n",
       "      <td>nan</td>\n",
       "      <td>s_haematobium</td>\n",
       "      <td>3</td>\n",
       "    </tr>\n",
       "    <tr>\n",
       "      <th>13</th>\n",
       "      <td>niger</td>\n",
       "      <td>s_haematobium</td>\n",
       "      <td>35</td>\n",
       "    </tr>\n",
       "    <tr>\n",
       "      <th>14</th>\n",
       "      <td>nigeria</td>\n",
       "      <td>s_bovis</td>\n",
       "      <td>9</td>\n",
       "    </tr>\n",
       "    <tr>\n",
       "      <th>15</th>\n",
       "      <td>nigeria</td>\n",
       "      <td>s_haematobium</td>\n",
       "      <td>6</td>\n",
       "    </tr>\n",
       "    <tr>\n",
       "      <th>18</th>\n",
       "      <td>sudan</td>\n",
       "      <td>s_haematobium</td>\n",
       "      <td>8</td>\n",
       "    </tr>\n",
       "    <tr>\n",
       "      <th>19</th>\n",
       "      <td>swaziland</td>\n",
       "      <td>s_haematobium</td>\n",
       "      <td>12</td>\n",
       "    </tr>\n",
       "    <tr>\n",
       "      <th>20</th>\n",
       "      <td>tanzania</td>\n",
       "      <td>s_bovis</td>\n",
       "      <td>3</td>\n",
       "    </tr>\n",
       "    <tr>\n",
       "      <th>24</th>\n",
       "      <td>zanzibar</td>\n",
       "      <td>s_haematobium</td>\n",
       "      <td>22</td>\n",
       "    </tr>\n",
       "  </tbody>\n",
       "</table>\n",
       "</div>"
      ],
      "text/plain": [
       "          country    pca_species  count\n",
       "0          angola  s_haematobium      7\n",
       "2   cote_d_ivoire        s_bovis      7\n",
       "3   cote_d_ivoire  s_haematobium     21\n",
       "8         liberia  s_haematobium      2\n",
       "9      madagascar  s_haematobium     12\n",
       "12            nan  s_haematobium      3\n",
       "13          niger  s_haematobium     35\n",
       "14        nigeria        s_bovis      9\n",
       "15        nigeria  s_haematobium      6\n",
       "18          sudan  s_haematobium      8\n",
       "19      swaziland  s_haematobium     12\n",
       "20       tanzania        s_bovis      3\n",
       "24       zanzibar  s_haematobium     22"
      ]
     },
     "execution_count": 11,
     "metadata": {},
     "output_type": "execute_result"
    }
   ],
   "source": [
    "count_df = pca_df.groupby(['country','pca_species']).size().reset_index().rename(columns={0:'count'})\n",
    "count_df = count_df.loc[ (count_df[\"count\"] > 1) ]\n",
    "count_df"
   ]
  },
  {
   "cell_type": "markdown",
   "id": "9e012bbf-1cf0-43b3-971f-579e8ede4df5",
   "metadata": {
    "tags": []
   },
   "source": [
    "### Kmeans group"
   ]
  },
  {
   "cell_type": "code",
   "execution_count": 12,
   "id": "6bd199db-b97d-4b52-bf52-b61b7797ba1c",
   "metadata": {},
   "outputs": [
    {
     "name": "stderr",
     "output_type": "stream",
     "text": [
      "100%|██████████| 3/3 [00:52<00:00, 17.35s/it]\n"
     ]
    }
   ],
   "source": [
    "#get species idxs\n",
    "k_pop_idxs = {}\n",
    "k_pop_acs  = {}\n",
    "\n",
    "for k in tqdm(pca_df[\"kmeans_label\"].unique()):\n",
    "    k_pop_idxs[k] = list(pca_df.loc[pca_df[\"kmeans_label\"] ==  k].index)\n",
    "\n",
    "    #get allele counts for k group\n",
    "    k_pop_acs[k] = gt.count_alleles(subpop=k_pop_idxs[k])"
   ]
  },
  {
   "cell_type": "markdown",
   "id": "3a1b4c79-fc7f-44d9-85d5-592d95392b2d",
   "metadata": {
    "jp-MarkdownHeadingCollapsed": true,
    "tags": [],
    "toc-hr-collapsed": true
   },
   "source": [
    "# Genomewide summary stats"
   ]
  },
  {
   "cell_type": "markdown",
   "id": "db9ebb76-6466-4f06-a560-29f35ec222fb",
   "metadata": {
    "jp-MarkdownHeadingCollapsed": true,
    "tags": []
   },
   "source": [
    "## Pi"
   ]
  },
  {
   "cell_type": "code",
   "execution_count": 288,
   "id": "ada965d7-b121-4c7b-9d27-3df8ce8ebf8d",
   "metadata": {},
   "outputs": [],
   "source": [
    "Path(\"{}/pi\".format(results_dir)).mkdir(parents=True, exist_ok=True)\n",
    "os.chdir(\"{}/pi\".format(results_dir))"
   ]
  },
  {
   "cell_type": "code",
   "execution_count": 291,
   "id": "ac158b44-aaf0-4769-b564-87e1ce1eb946",
   "metadata": {},
   "outputs": [],
   "source": [
    "window_kb_size = 10"
   ]
  },
  {
   "cell_type": "markdown",
   "id": "eaa37b5f-b233-4d78-bd9a-7227ec36719e",
   "metadata": {
    "jp-MarkdownHeadingCollapsed": true,
    "tags": []
   },
   "source": [
    "### Species Pi"
   ]
  },
  {
   "cell_type": "code",
   "execution_count": 292,
   "id": "f53c187b-d8b6-4ede-bdc3-cc335075adc2",
   "metadata": {},
   "outputs": [
    {
     "name": "stderr",
     "output_type": "stream",
     "text": [
      "100%|██████████| 564/564 [16:40<00:00,  1.77s/it]\n",
      "100%|██████████| 564/564 [16:58<00:00,  1.81s/it]\n"
     ]
    }
   ],
   "source": [
    "sp_pi_dfs=defaultdict(lambda: pd.DataFrame(columns=[\"pi\", \"start\", \"stop\", \"n_bases\", \"n_snps\", \"chrom\"]))\n",
    "\n",
    "for sp in sp_acs.keys():\n",
    "    for chrom in tqdm(uniq_chroms):\n",
    "        chrom_pos = poss[chroms == chrom]\n",
    "        chrom_ac =  sp_acs[sp][chroms == chrom]\n",
    "        \n",
    "        if len(chrom_ac) > 10:\n",
    "\n",
    "            try:\n",
    "                pi, windows, nbases, counts = allel.windowed_diversity(chrom_pos, chrom_ac, window_kb_size*1_000)\n",
    "                \n",
    "                #add info to a df\n",
    "                chr_df=pd.DataFrame([pi, windows[:,0], windows[:,1], nbases, counts]).T\n",
    "                chr_df.columns=[\"pi\", \"start\", \"stop\", \"n_bases\", \"n_snps\"]\n",
    "                chr_df[\"chrom\"]=chrom\n",
    "\n",
    "                sp_pi_dfs[sp]=sp_pi_dfs[sp].append(chr_df)\n",
    "\n",
    "            except:\n",
    "                print(\"An exception occurred: {}:{}\".format(sp, chrom))\n",
    "                break\n",
    "\n",
    "        #reset index\n",
    "        sp_pi_dfs[sp]=sp_pi_dfs[sp].reset_index(drop=True)\n",
    "\n",
    "        #save df to a csv\n",
    "        sp_pi_dfs[sp].to_csv(\"pi_kb_windows_{}.csv\".format(window_kb_size, sp), index=False, sep=\",\")"
   ]
  },
  {
   "cell_type": "markdown",
   "id": "612f7fd2-c4c8-4973-83a7-10f72111ab0e",
   "metadata": {
    "jp-MarkdownHeadingCollapsed": true,
    "tags": []
   },
   "source": [
    "### Country Pi"
   ]
  },
  {
   "cell_type": "code",
   "execution_count": 216,
   "id": "cffbaa4e-7ed4-4e44-bf88-c9124d34971f",
   "metadata": {},
   "outputs": [
    {
     "name": "stderr",
     "output_type": "stream",
     "text": [
      "100%|██████████| 564/564 [17:12<00:00,  1.83s/it]\n",
      "100%|██████████| 564/564 [17:02<00:00,  1.81s/it]\n",
      "100%|██████████| 564/564 [16:45<00:00,  1.78s/it]\n",
      "100%|██████████| 564/564 [16:48<00:00,  1.79s/it]\n",
      "100%|██████████| 564/564 [17:02<00:00,  1.81s/it]\n",
      "100%|██████████| 564/564 [21:02<00:00,  2.24s/it]\n",
      "100%|██████████| 564/564 [19:45<00:00,  2.10s/it]\n",
      "100%|██████████| 564/564 [21:11<00:00,  2.25s/it]\n",
      "100%|██████████| 564/564 [20:53<00:00,  2.22s/it]\n",
      "100%|██████████| 564/564 [20:40<00:00,  2.20s/it]\n",
      "100%|██████████| 564/564 [21:12<00:00,  2.26s/it]\n",
      "100%|██████████| 564/564 [17:18<00:00,  1.84s/it]\n",
      "100%|██████████| 564/564 [17:14<00:00,  1.83s/it]\n",
      "100%|██████████| 564/564 [17:08<00:00,  1.82s/it]\n",
      "100%|██████████| 564/564 [17:02<00:00,  1.81s/it]\n",
      "100%|██████████| 564/564 [16:55<00:00,  1.80s/it]\n",
      "100%|██████████| 564/564 [17:10<00:00,  1.83s/it]\n",
      "100%|██████████| 564/564 [17:08<00:00,  1.82s/it]\n",
      "100%|██████████| 564/564 [16:51<00:00,  1.79s/it]\n",
      "100%|██████████| 564/564 [19:34<00:00,  2.08s/it]\n",
      "100%|██████████| 564/564 [21:25<00:00,  2.28s/it]\n",
      "100%|██████████| 564/564 [20:10<00:00,  2.15s/it]\n",
      "100%|██████████| 564/564 [21:00<00:00,  2.23s/it]\n",
      "100%|██████████| 564/564 [21:02<00:00,  2.24s/it]\n",
      "100%|██████████| 564/564 [19:52<00:00,  2.11s/it]\n"
     ]
    }
   ],
   "source": [
    "#get pi per country\n",
    "sp_country_pi_dfs=defaultdict(lambda: defaultdict(lambda: pd.DataFrame(columns=[\"pi\", \"start\", \"stop\", \"n_bases\", \"n_snps\", \"chrom\"])))\n",
    "\n",
    "for sp in sp_country_acs.keys():\n",
    "    for country in sp_country_acs[sp].keys():\n",
    "\n",
    "        for chrom in tqdm(uniq_chroms):\n",
    "            chrom_pos = poss[chroms == chrom]\n",
    "            chrom_ac =  sp_country_acs[sp][country][chroms == chrom]\n",
    "\n",
    "            if len(chrom_ac) > 10:\n",
    "\n",
    "                try:\n",
    "                    pi, windows, nbases, counts = allel.windowed_diversity(chrom_pos, chrom_ac, window_kb_size*1_000)\n",
    "\n",
    "                    #add info to a df\n",
    "                    chr_df=pd.DataFrame([pi, windows[:,0], windows[:,1], nbases, counts]).T\n",
    "                    chr_df.columns=[\"pi\", \"start\", \"stop\", \"n_bases\", \"n_snps\"]\n",
    "                    chr_df[\"chrom\"]=chrom\n",
    "\n",
    "                    sp_country_pi_dfs[sp][country]=sp_country_pi_dfs[sp][country].append(chr_df)\n",
    "\n",
    "                except:\n",
    "                    print(\"An exception occurred: {}-{}:{}\".format(sp, country, chrom))\n",
    "                    #break\n",
    "\n",
    "            #reset index\n",
    "            sp_country_pi_dfs[sp][country]=sp_country_pi_dfs[sp][country].reset_index(drop=True)\n",
    "\n",
    "            #save df to a csv\n",
    "            sp_country_pi_dfs[sp][country].to_csv(\"pi_{}kb_windows_{}-{}.csv\".format(window_kb_size, sp, country), index=False, sep=\",\")\n",
    "        "
   ]
  },
  {
   "cell_type": "markdown",
   "id": "a7dca348-f792-4ec2-b9b6-a13f773ab0a3",
   "metadata": {
    "jp-MarkdownHeadingCollapsed": true,
    "tags": []
   },
   "source": [
    "### Kmeans pi"
   ]
  },
  {
   "cell_type": "code",
   "execution_count": 188,
   "id": "648ea621-8b46-4ed0-9300-8e2f8f787d23",
   "metadata": {},
   "outputs": [
    {
     "name": "stderr",
     "output_type": "stream",
     "text": [
      "100%|██████████| 564/564 [17:05<00:00,  1.82s/it]\n",
      "100%|██████████| 564/564 [17:09<00:00,  1.82s/it]\n",
      "100%|██████████| 564/564 [17:09<00:00,  1.82s/it]\n"
     ]
    }
   ],
   "source": [
    "#get pi per population NW vs SE vs bovis\n",
    "k_pi_dfs=defaultdict(lambda: pd.DataFrame(columns=[\"pi\", \"start\", \"stop\", \"n_bases\", \"n_snps\", \"chrom\"]))\n",
    "\n",
    "for k in k_pop_acs.keys():\n",
    "    for chrom in tqdm(uniq_chroms):\n",
    "        chrom_pos = poss[chroms == chrom]\n",
    "        chrom_ac =  k_pop_acs[k][chroms == chrom]\n",
    "        \n",
    "        if len(chrom_ac) > 10:\n",
    "\n",
    "            try:\n",
    "                pi, windows, nbases, counts = allel.windowed_diversity(chrom_pos, chrom_ac, window_kb_size*1_000)\n",
    "                \n",
    "                #add info to a df\n",
    "                chr_df=pd.DataFrame([pi, windows[:,0], windows[:,1], nbases, counts]).T\n",
    "                chr_df.columns=[\"pi\", \"start\", \"stop\", \"n_bases\", \"n_snps\"]\n",
    "                chr_df[\"chrom\"]=chrom\n",
    "\n",
    "                k_pi_dfs[k]=k_pi_dfs[k].append(chr_df)\n",
    "\n",
    "            except:\n",
    "                print(\"An exception occurred: {}:{}\".format(k, chrom))\n",
    "                break\n",
    "\n",
    "        #reset index\n",
    "        k_pi_dfs[k]=k_pi_dfs[k].reset_index(drop=True)\n",
    "\n",
    "        #save df to a csv\n",
    "        k_pi_dfs[k].to_csv(\"pi_{}kb_windows_{}.csv\".format(window_kb_size, k), index=False, sep=\",\")"
   ]
  },
  {
   "cell_type": "markdown",
   "id": "bdf21341-2c48-489b-8303-42d0ee888d3b",
   "metadata": {
    "jp-MarkdownHeadingCollapsed": true,
    "tags": []
   },
   "source": [
    "### Plot Pi"
   ]
  },
  {
   "cell_type": "code",
   "execution_count": 293,
   "id": "72b88d78-03a9-487a-94c8-aac69ef1b8c6",
   "metadata": {},
   "outputs": [
    {
     "data": {
      "image/png": "[encoded data removed]",
      "text/plain": [
       "<Figure size 432x288 with 1 Axes>"
      ]
     },
     "metadata": {
      "needs_background": "light"
     },
     "output_type": "display_data"
    }
   ],
   "source": [
    "plt.boxplot([ sp_pi_dfs[\"s_haematobium\"].dropna(subset=[\"pi\"])[\"pi\"],\n",
    "              sp_pi_dfs[\"s_bovis\"].dropna(subset=[\"pi\"])[\"pi\"],\n",
    "              k_pi_dfs[\"sh_nw\"].dropna(subset=[\"pi\"])[\"pi\"],\n",
    "              k_pi_dfs[\"sh_se\"].dropna(subset=[\"pi\"])[\"pi\"],\n",
    "              sp_country_pi_dfs[\"s_haematobium\"][\"angola\"].dropna(subset=[\"pi\"])[\"pi\"],\n",
    "              sp_country_pi_dfs[\"s_bovis\"][\"cote_d_ivoire\"].dropna(subset=[\"pi\"])[\"pi\"],\n",
    "              sp_country_pi_dfs[\"s_haematobium\"][\"cote_d_ivoire\"].dropna(subset=[\"pi\"])[\"pi\"],\n",
    "              sp_country_pi_dfs[\"s_haematobium\"][\"liberia\"].dropna(subset=[\"pi\"])[\"pi\"],\n",
    "              sp_country_pi_dfs[\"s_haematobium\"][\"madagascar\"].dropna(subset=[\"pi\"])[\"pi\"],\n",
    "              sp_country_pi_dfs[\"s_haematobium\"][\"nan\"].dropna(subset=[\"pi\"])[\"pi\"],\n",
    "              sp_country_pi_dfs[\"s_haematobium\"][\"niger\"].dropna(subset=[\"pi\"])[\"pi\"],\n",
    "              sp_country_pi_dfs[\"s_bovis\"][\"nigeria\"].dropna(subset=[\"pi\"])[\"pi\"],\n",
    "              sp_country_pi_dfs[\"s_haematobium\"][\"nigeria\"].dropna(subset=[\"pi\"])[\"pi\"],\n",
    "              sp_country_pi_dfs[\"s_haematobium\"][\"sudan\"].dropna(subset=[\"pi\"])[\"pi\"],\n",
    "              sp_country_pi_dfs[\"s_haematobium\"][\"swaziland\"].dropna(subset=[\"pi\"])[\"pi\"],\n",
    "              sp_country_pi_dfs[\"s_bovis\"][\"tanzania\"].dropna(subset=[\"pi\"])[\"pi\"],\n",
    "              sp_country_pi_dfs[\"s_haematobium\"][\"zanzibar\"].dropna(subset=[\"pi\"])[\"pi\"] ],\n",
    "             showfliers=False, \n",
    "             notch=True,\n",
    "             labels=[\"Sh\", \"Sb\", \"Sh (NW)\", \"Sh (SE)\", \"Sh-Angola\", \"Sb-cote_d_ivoire\", \"Sh-cote_d_ivoire\", \"Sh-liberia\", \"Sh-madagascar\", \n",
    "                     \"Sh-nan\", \"Sb-niger\", \"Sb-nigeria\", \"Sh-nigeria\", \"Sh-sudan\", \"Sh-swaziland\", \"Sb-tanzania\", \"Sh-zanzibar\" ],\n",
    "\n",
    "             medianprops=dict(color=\"black\", lw=1))\n",
    "\n",
    "plt.xticks(rotation=90)\n",
    "plt.xlabel(\"Population\", fontsize=12)\n",
    "plt.ylabel(\"$\\pi$\", fontsize=14)\n",
    "plt.savefig(\"pi_boxplot_{}kb_windows.svg\".format(window_kb_size))\n",
    "plt.savefig(\"pi_boxplot_{}kb_windows.png\".format(window_kb_size), dpi=300)\n",
    "plt.show()\n"
   ]
  },
  {
   "cell_type": "markdown",
   "id": "c174a0c8-5129-485c-8a58-685e61941bfe",
   "metadata": {
    "jp-MarkdownHeadingCollapsed": true,
    "tags": []
   },
   "source": [
    "### Make table of mean Pi"
   ]
  },
  {
   "cell_type": "code",
   "execution_count": 294,
   "id": "961670ee-4742-4d20-9141-b0f8449181b4",
   "metadata": {},
   "outputs": [
    {
     "data": {
      "text/html": [
       "<div>\n",
       "<style scoped>\n",
       "    .dataframe tbody tr th:only-of-type {\n",
       "        vertical-align: middle;\n",
       "    }\n",
       "\n",
       "    .dataframe tbody tr th {\n",
       "        vertical-align: top;\n",
       "    }\n",
       "\n",
       "    .dataframe thead th {\n",
       "        text-align: right;\n",
       "    }\n",
       "</style>\n",
       "<table border=\"1\" class=\"dataframe\">\n",
       "  <thead>\n",
       "    <tr style=\"text-align: right;\">\n",
       "      <th></th>\n",
       "      <th>Species</th>\n",
       "      <th>Location</th>\n",
       "      <th>n</th>\n",
       "      <th>pi</th>\n",
       "    </tr>\n",
       "  </thead>\n",
       "  <tbody>\n",
       "    <tr>\n",
       "      <th>0</th>\n",
       "      <td>s_bovis</td>\n",
       "      <td>Africa</td>\n",
       "      <td>23</td>\n",
       "      <td>0.00764</td>\n",
       "    </tr>\n",
       "    <tr>\n",
       "      <th>1</th>\n",
       "      <td>s_haematobium</td>\n",
       "      <td>Africa</td>\n",
       "      <td>136</td>\n",
       "      <td>0.002248</td>\n",
       "    </tr>\n",
       "    <tr>\n",
       "      <th>2</th>\n",
       "      <td>s_haematobium</td>\n",
       "      <td>Africa</td>\n",
       "      <td>23</td>\n",
       "      <td>0.00764</td>\n",
       "    </tr>\n",
       "    <tr>\n",
       "      <th>3</th>\n",
       "      <td>s_haematobium</td>\n",
       "      <td>NW Africa</td>\n",
       "      <td>79</td>\n",
       "      <td>0.002572</td>\n",
       "    </tr>\n",
       "    <tr>\n",
       "      <th>4</th>\n",
       "      <td>s_haematobium</td>\n",
       "      <td>SE Africa</td>\n",
       "      <td>57</td>\n",
       "      <td>0.001357</td>\n",
       "    </tr>\n",
       "    <tr>\n",
       "      <th>5</th>\n",
       "      <td>s_bovis</td>\n",
       "      <td>nigeria</td>\n",
       "      <td>9</td>\n",
       "      <td>0.007479</td>\n",
       "    </tr>\n",
       "    <tr>\n",
       "      <th>6</th>\n",
       "      <td>s_bovis</td>\n",
       "      <td>ethiopia</td>\n",
       "      <td>1</td>\n",
       "      <td>0.003897</td>\n",
       "    </tr>\n",
       "    <tr>\n",
       "      <th>7</th>\n",
       "      <td>s_bovis</td>\n",
       "      <td>kenya</td>\n",
       "      <td>1</td>\n",
       "      <td>0.004516</td>\n",
       "    </tr>\n",
       "    <tr>\n",
       "      <th>8</th>\n",
       "      <td>s_bovis</td>\n",
       "      <td>senegal</td>\n",
       "      <td>1</td>\n",
       "      <td>0.003437</td>\n",
       "    </tr>\n",
       "    <tr>\n",
       "      <th>9</th>\n",
       "      <td>s_bovis</td>\n",
       "      <td>tanzania</td>\n",
       "      <td>3</td>\n",
       "      <td>0.004976</td>\n",
       "    </tr>\n",
       "    <tr>\n",
       "      <th>10</th>\n",
       "      <td>s_bovis</td>\n",
       "      <td>cote_d_ivoire</td>\n",
       "      <td>7</td>\n",
       "      <td>0.006803</td>\n",
       "    </tr>\n",
       "    <tr>\n",
       "      <th>11</th>\n",
       "      <td>s_bovis</td>\n",
       "      <td>uganda</td>\n",
       "      <td>1</td>\n",
       "      <td>0.003902</td>\n",
       "    </tr>\n",
       "    <tr>\n",
       "      <th>12</th>\n",
       "      <td>s_haematobium</td>\n",
       "      <td>nigeria</td>\n",
       "      <td>6</td>\n",
       "      <td>0.003542</td>\n",
       "    </tr>\n",
       "    <tr>\n",
       "      <th>13</th>\n",
       "      <td>s_haematobium</td>\n",
       "      <td>cote_d_ivoire</td>\n",
       "      <td>21</td>\n",
       "      <td>0.002692</td>\n",
       "    </tr>\n",
       "    <tr>\n",
       "      <th>14</th>\n",
       "      <td>s_haematobium</td>\n",
       "      <td>niger</td>\n",
       "      <td>35</td>\n",
       "      <td>0.002379</td>\n",
       "    </tr>\n",
       "    <tr>\n",
       "      <th>15</th>\n",
       "      <td>s_haematobium</td>\n",
       "      <td>uganda</td>\n",
       "      <td>1</td>\n",
       "      <td>0.00109</td>\n",
       "    </tr>\n",
       "    <tr>\n",
       "      <th>16</th>\n",
       "      <td>s_haematobium</td>\n",
       "      <td>cameroon</td>\n",
       "      <td>1</td>\n",
       "      <td>0.00088</td>\n",
       "    </tr>\n",
       "    <tr>\n",
       "      <th>17</th>\n",
       "      <td>s_haematobium</td>\n",
       "      <td>egypt</td>\n",
       "      <td>1</td>\n",
       "      <td>0.001295</td>\n",
       "    </tr>\n",
       "    <tr>\n",
       "      <th>18</th>\n",
       "      <td>s_haematobium</td>\n",
       "      <td>mali</td>\n",
       "      <td>1</td>\n",
       "      <td>0.00204</td>\n",
       "    </tr>\n",
       "    <tr>\n",
       "      <th>19</th>\n",
       "      <td>s_haematobium</td>\n",
       "      <td>nan</td>\n",
       "      <td>3</td>\n",
       "      <td>0.002105</td>\n",
       "    </tr>\n",
       "    <tr>\n",
       "      <th>20</th>\n",
       "      <td>s_haematobium</td>\n",
       "      <td>senegal</td>\n",
       "      <td>1</td>\n",
       "      <td>0.001098</td>\n",
       "    </tr>\n",
       "    <tr>\n",
       "      <th>21</th>\n",
       "      <td>s_haematobium</td>\n",
       "      <td>zanzibar</td>\n",
       "      <td>22</td>\n",
       "      <td>0.001179</td>\n",
       "    </tr>\n",
       "    <tr>\n",
       "      <th>22</th>\n",
       "      <td>s_haematobium</td>\n",
       "      <td>angola</td>\n",
       "      <td>7</td>\n",
       "      <td>0.001067</td>\n",
       "    </tr>\n",
       "    <tr>\n",
       "      <th>23</th>\n",
       "      <td>s_haematobium</td>\n",
       "      <td>kenya</td>\n",
       "      <td>1</td>\n",
       "      <td>0.000748</td>\n",
       "    </tr>\n",
       "    <tr>\n",
       "      <th>24</th>\n",
       "      <td>s_haematobium</td>\n",
       "      <td>liberia</td>\n",
       "      <td>2</td>\n",
       "      <td>0.001442</td>\n",
       "    </tr>\n",
       "    <tr>\n",
       "      <th>25</th>\n",
       "      <td>s_haematobium</td>\n",
       "      <td>madagascar</td>\n",
       "      <td>12</td>\n",
       "      <td>0.001237</td>\n",
       "    </tr>\n",
       "    <tr>\n",
       "      <th>26</th>\n",
       "      <td>s_haematobium</td>\n",
       "      <td>namibia</td>\n",
       "      <td>1</td>\n",
       "      <td>0.000652</td>\n",
       "    </tr>\n",
       "    <tr>\n",
       "      <th>27</th>\n",
       "      <td>s_haematobium</td>\n",
       "      <td>sudan</td>\n",
       "      <td>8</td>\n",
       "      <td>0.002023</td>\n",
       "    </tr>\n",
       "    <tr>\n",
       "      <th>28</th>\n",
       "      <td>s_haematobium</td>\n",
       "      <td>swaziland</td>\n",
       "      <td>12</td>\n",
       "      <td>0.00133</td>\n",
       "    </tr>\n",
       "    <tr>\n",
       "      <th>29</th>\n",
       "      <td>s_haematobium</td>\n",
       "      <td>zambia</td>\n",
       "      <td>1</td>\n",
       "      <td>0.001412</td>\n",
       "    </tr>\n",
       "  </tbody>\n",
       "</table>\n",
       "</div>"
      ],
      "text/plain": [
       "          Species       Location    n        pi\n",
       "0         s_bovis         Africa   23   0.00764\n",
       "1   s_haematobium         Africa  136  0.002248\n",
       "2   s_haematobium         Africa   23   0.00764\n",
       "3   s_haematobium      NW Africa   79  0.002572\n",
       "4   s_haematobium      SE Africa   57  0.001357\n",
       "5         s_bovis        nigeria    9  0.007479\n",
       "6         s_bovis       ethiopia    1  0.003897\n",
       "7         s_bovis          kenya    1  0.004516\n",
       "8         s_bovis        senegal    1  0.003437\n",
       "9         s_bovis       tanzania    3  0.004976\n",
       "10        s_bovis  cote_d_ivoire    7  0.006803\n",
       "11        s_bovis         uganda    1  0.003902\n",
       "12  s_haematobium        nigeria    6  0.003542\n",
       "13  s_haematobium  cote_d_ivoire   21  0.002692\n",
       "14  s_haematobium          niger   35  0.002379\n",
       "15  s_haematobium         uganda    1   0.00109\n",
       "16  s_haematobium       cameroon    1   0.00088\n",
       "17  s_haematobium          egypt    1  0.001295\n",
       "18  s_haematobium           mali    1   0.00204\n",
       "19  s_haematobium            nan    3  0.002105\n",
       "20  s_haematobium        senegal    1  0.001098\n",
       "21  s_haematobium       zanzibar   22  0.001179\n",
       "22  s_haematobium         angola    7  0.001067\n",
       "23  s_haematobium          kenya    1  0.000748\n",
       "24  s_haematobium        liberia    2  0.001442\n",
       "25  s_haematobium     madagascar   12  0.001237\n",
       "26  s_haematobium        namibia    1  0.000652\n",
       "27  s_haematobium          sudan    8  0.002023\n",
       "28  s_haematobium      swaziland   12   0.00133\n",
       "29  s_haematobium         zambia    1  0.001412"
      ]
     },
     "execution_count": 294,
     "metadata": {},
     "output_type": "execute_result"
    }
   ],
   "source": [
    "# species, location(s), pi, conf\n",
    "sp_s = []\n",
    "loc_s= []\n",
    "pi_s = []\n",
    "n_s  = []\n",
    "\n",
    "for sp in sp_pi_dfs.keys():\n",
    "    df = sp_pi_dfs[sp]\n",
    "    loc = \"Africa\"\n",
    "    pi  = df[df[\"n_snps\"]>10].dropna(subset=[\"pi\"])[\"pi\"].mean()\n",
    "    n = len(sp_idxs[sp])\n",
    "    \n",
    "    sp_s.append(sp)\n",
    "    pi_s.append(pi)\n",
    "    loc_s.append(loc)\n",
    "    n_s.append(n)\n",
    "   \n",
    "for k in k_pi_dfs.keys():\n",
    "    df=k_pi_dfs[k]\n",
    "    x = {\"sb\": \"Africa\", \"sh_nw\": \"NW Africa\", \"sh_se\": \"SE Africa\"}\n",
    "    loc = x[k]\n",
    "    pi  = df[df[\"n_snps\"]>10].dropna(subset=[\"pi\"])[\"pi\"].mean()\n",
    "    n = len(k_pop_idxs[k])\n",
    "    \n",
    "    sp_s.append(sp)\n",
    "    pi_s.append(pi)\n",
    "    loc_s.append(loc)\n",
    "    n_s.append(n)\n",
    "    \n",
    "\n",
    "for sp in sp_country_pi_dfs.keys():\n",
    "    for loc in sp_country_pi_dfs[sp].keys():\n",
    "        df=sp_country_pi_dfs[sp][loc]\n",
    "        pi  = df[df[\"n_snps\"]>10].dropna(subset=[\"pi\"])[\"pi\"].mean()\n",
    "        n = len(sp_country_idxs[sp][loc])\n",
    "\n",
    "        sp_s.append(sp)\n",
    "        pi_s.append(pi)\n",
    "        loc_s.append(loc)\n",
    "        n_s.append(n)\n",
    "    \n",
    "pi_df = pd.DataFrame(data = [sp_s, loc_s, n_s, pi_s]).T\n",
    "pi_df.columns = [\"Species\", \"Location\", \"n\", \"pi\"]\n",
    "pi_df.to_csv(\"mean_pi_{}kb_windows.csv\".format(window_kb_size), index=False, sep=\",\")\n",
    "pi_df"
   ]
  },
  {
   "cell_type": "markdown",
   "id": "05d35016-33f1-42d1-a476-4e5696698333",
   "metadata": {
    "jp-MarkdownHeadingCollapsed": true,
    "tags": []
   },
   "source": [
    "## Tajima's D"
   ]
  },
  {
   "cell_type": "code",
   "execution_count": 295,
   "id": "2638a43e-21b3-4ed9-b177-a21ba9134270",
   "metadata": {},
   "outputs": [],
   "source": [
    "Path(\"{}/tajimas_d\".format(results_dir)).mkdir(parents=True, exist_ok=True)\n",
    "os.chdir(\"{}/tajimas_d\".format(results_dir))"
   ]
  },
  {
   "cell_type": "code",
   "execution_count": 296,
   "id": "45043a21-ce0d-4951-a5ab-38a0f28bbb2f",
   "metadata": {},
   "outputs": [],
   "source": [
    "window_kb_size = 10"
   ]
  },
  {
   "cell_type": "markdown",
   "id": "bb3407e9-178b-49a6-979c-c18b9e671a65",
   "metadata": {
    "tags": []
   },
   "source": [
    "### Kmeans Tajima's D"
   ]
  },
  {
   "cell_type": "code",
   "execution_count": 374,
   "id": "37a7507b-7a8e-4c53-aee8-5dd1fe484104",
   "metadata": {},
   "outputs": [
    {
     "name": "stderr",
     "output_type": "stream",
     "text": [
      " 82%|████████▏ | 464/564 [18:25<04:04,  2.44s/it]/master/nplatt/sch_hae_scan/envs/jupyterlab_ancestry/lib/python3.9/site-packages/allel/stats/diversity.py:1047: RuntimeWarning: divide by zero encountered in long_scalars\n",
      "  b2 = 2 * (n**2 + n + 3) / (9 * n * (n - 1))\n",
      "/master/nplatt/sch_hae_scan/envs/jupyterlab_ancestry/lib/python3.9/site-packages/allel/stats/diversity.py:1048: RuntimeWarning: divide by zero encountered in double_scalars\n",
      "  c1 = b1 - (1 / a1)\n",
      "/master/nplatt/sch_hae_scan/envs/jupyterlab_ancestry/lib/python3.9/site-packages/allel/stats/diversity.py:1049: RuntimeWarning: divide by zero encountered in true_divide\n",
      "  c2 = b2 - ((n + 2) / (a1 * n)) + (a2 / (a1**2))\n",
      "/master/nplatt/sch_hae_scan/envs/jupyterlab_ancestry/lib/python3.9/site-packages/allel/stats/diversity.py:1049: RuntimeWarning: invalid value encountered in double_scalars\n",
      "  c2 = b2 - ((n + 2) / (a1 * n)) + (a2 / (a1**2))\n",
      "100%|██████████| 564/564 [22:32<00:00,  2.40s/it]\n",
      "100%|██████████| 564/564 [22:04<00:00,  2.35s/it]\n",
      "100%|██████████| 564/564 [22:01<00:00,  2.34s/it]\n"
     ]
    }
   ],
   "source": [
    "#get pi per population NW vs SE vs bovis\n",
    "k_td_dfs=defaultdict(lambda: pd.DataFrame(columns=[\"chrom\", \"start\", \"stop\", \"tajimas_d\", \"n_snps\"]))\n",
    "\n",
    "for k in k_pop_acs.keys():\n",
    "    for chrom in tqdm(uniq_chroms):\n",
    "        chrom_pos = poss[chroms == chrom]\n",
    "        chrom_ac =  k_pop_acs[k][chroms == chrom]\n",
    "\n",
    "        if len(chrom_ac) > 10:\n",
    "            td, windows, counts =  allel.windowed_tajima_d(chrom_pos, chrom_ac, size=int(window_kb_size)*1_000, min_sites=3)\n",
    "\n",
    "            #add info to a df\n",
    "            chrs            = [chrom]*len(td)\n",
    "            chr_df          = pd.DataFrame([td, windows[:,0], windows[:,1], counts]).T\n",
    "            chr_df.columns  = [\"tajimas_d\", \"start\", \"stop\", \"n_snps\"]\n",
    "            chr_df[\"chrom\"] = chrom\n",
    "\n",
    "            k_td_dfs[k]=k_td_dfs[k].append(chr_df)\n",
    "\n",
    "            #reset index\n",
    "            k_td_dfs[k]=k_td_dfs[k].reset_index(drop=True)\n",
    "\n",
    "            #re-order\n",
    "            k_td_dfs[k] = k_td_dfs[k][[\"chrom\", \"start\", \"stop\", \"n_snps\", \"tajimas_d\"]]\n",
    "            \n",
    "            #save df to a csv\n",
    "            k_td_dfs[k].to_csv(\"td_{}kb_windows_{}.csv\".format(window_kb_size, k), index=False, sep=\",\")"
   ]
  },
  {
   "cell_type": "markdown",
   "id": "2a7ac60a-b751-4198-be5c-efd30346d2a8",
   "metadata": {
    "tags": []
   },
   "source": [
    "### Make a TD table"
   ]
  },
  {
   "cell_type": "code",
   "execution_count": 378,
   "id": "5a2572b5-313c-4cdc-8301-732b11ac8cec",
   "metadata": {},
   "outputs": [
    {
     "data": {
      "text/html": [
       "<div>\n",
       "<style scoped>\n",
       "    .dataframe tbody tr th:only-of-type {\n",
       "        vertical-align: middle;\n",
       "    }\n",
       "\n",
       "    .dataframe tbody tr th {\n",
       "        vertical-align: top;\n",
       "    }\n",
       "\n",
       "    .dataframe thead th {\n",
       "        text-align: right;\n",
       "    }\n",
       "</style>\n",
       "<table border=\"1\" class=\"dataframe\">\n",
       "  <thead>\n",
       "    <tr style=\"text-align: right;\">\n",
       "      <th></th>\n",
       "      <th>chrom</th>\n",
       "      <th>start</th>\n",
       "      <th>stop</th>\n",
       "      <th>n_snps</th>\n",
       "      <th>td_sb</th>\n",
       "      <th>td_sh_nw</th>\n",
       "      <th>td_sh_se</th>\n",
       "    </tr>\n",
       "  </thead>\n",
       "  <tbody>\n",
       "    <tr>\n",
       "      <th>0</th>\n",
       "      <td>NC_008074.1</td>\n",
       "      <td>180.0</td>\n",
       "      <td>10179.0</td>\n",
       "      <td>296.0</td>\n",
       "      <td>-0.564435</td>\n",
       "      <td>0.473794</td>\n",
       "      <td>2.196349</td>\n",
       "    </tr>\n",
       "    <tr>\n",
       "      <th>1</th>\n",
       "      <td>NC_008074.1</td>\n",
       "      <td>10180.0</td>\n",
       "      <td>12559.0</td>\n",
       "      <td>89.0</td>\n",
       "      <td>NaN</td>\n",
       "      <td>-0.742741</td>\n",
       "      <td>2.117318</td>\n",
       "    </tr>\n",
       "    <tr>\n",
       "      <th>2</th>\n",
       "      <td>NW_023366043.1</td>\n",
       "      <td>329.0</td>\n",
       "      <td>5288.0</td>\n",
       "      <td>232.0</td>\n",
       "      <td>0.469951</td>\n",
       "      <td>0.897245</td>\n",
       "      <td>-0.902501</td>\n",
       "    </tr>\n",
       "    <tr>\n",
       "      <th>3</th>\n",
       "      <td>NW_023366044.1</td>\n",
       "      <td>288.0</td>\n",
       "      <td>6268.0</td>\n",
       "      <td>258.0</td>\n",
       "      <td>-0.500382</td>\n",
       "      <td>0.972116</td>\n",
       "      <td>-0.512210</td>\n",
       "    </tr>\n",
       "    <tr>\n",
       "      <th>4</th>\n",
       "      <td>NW_023366045.1</td>\n",
       "      <td>2946.0</td>\n",
       "      <td>4498.0</td>\n",
       "      <td>21.0</td>\n",
       "      <td>NaN</td>\n",
       "      <td>-1.532747</td>\n",
       "      <td>NaN</td>\n",
       "    </tr>\n",
       "    <tr>\n",
       "      <th>...</th>\n",
       "      <td>...</td>\n",
       "      <td>...</td>\n",
       "      <td>...</td>\n",
       "      <td>...</td>\n",
       "      <td>...</td>\n",
       "      <td>...</td>\n",
       "      <td>...</td>\n",
       "    </tr>\n",
       "    <tr>\n",
       "      <th>37284</th>\n",
       "      <td>NW_023366702.1</td>\n",
       "      <td>59.0</td>\n",
       "      <td>6594.0</td>\n",
       "      <td>866.0</td>\n",
       "      <td>0.387400</td>\n",
       "      <td>1.052716</td>\n",
       "      <td>1.214353</td>\n",
       "    </tr>\n",
       "    <tr>\n",
       "      <th>37285</th>\n",
       "      <td>NW_023366703.1</td>\n",
       "      <td>2873.0</td>\n",
       "      <td>8090.0</td>\n",
       "      <td>73.0</td>\n",
       "      <td>1.250789</td>\n",
       "      <td>-1.141964</td>\n",
       "      <td>-0.590874</td>\n",
       "    </tr>\n",
       "    <tr>\n",
       "      <th>37286</th>\n",
       "      <td>NW_023366704.1</td>\n",
       "      <td>2185.0</td>\n",
       "      <td>3521.0</td>\n",
       "      <td>159.0</td>\n",
       "      <td>0.270279</td>\n",
       "      <td>-2.520215</td>\n",
       "      <td>-1.586829</td>\n",
       "    </tr>\n",
       "    <tr>\n",
       "      <th>37287</th>\n",
       "      <td>NW_023366705.1</td>\n",
       "      <td>1169.0</td>\n",
       "      <td>8969.0</td>\n",
       "      <td>172.0</td>\n",
       "      <td>-0.672302</td>\n",
       "      <td>-0.233310</td>\n",
       "      <td>-1.012078</td>\n",
       "    </tr>\n",
       "    <tr>\n",
       "      <th>37288</th>\n",
       "      <td>NW_023366706.1</td>\n",
       "      <td>902.0</td>\n",
       "      <td>3968.0</td>\n",
       "      <td>46.0</td>\n",
       "      <td>-1.746637</td>\n",
       "      <td>2.846088</td>\n",
       "      <td>NaN</td>\n",
       "    </tr>\n",
       "  </tbody>\n",
       "</table>\n",
       "<p>37289 rows × 7 columns</p>\n",
       "</div>"
      ],
      "text/plain": [
       "                chrom    start     stop  n_snps     td_sb  td_sh_nw  td_sh_se\n",
       "0         NC_008074.1    180.0  10179.0   296.0 -0.564435  0.473794  2.196349\n",
       "1         NC_008074.1  10180.0  12559.0    89.0       NaN -0.742741  2.117318\n",
       "2      NW_023366043.1    329.0   5288.0   232.0  0.469951  0.897245 -0.902501\n",
       "3      NW_023366044.1    288.0   6268.0   258.0 -0.500382  0.972116 -0.512210\n",
       "4      NW_023366045.1   2946.0   4498.0    21.0       NaN -1.532747       NaN\n",
       "...               ...      ...      ...     ...       ...       ...       ...\n",
       "37284  NW_023366702.1     59.0   6594.0   866.0  0.387400  1.052716  1.214353\n",
       "37285  NW_023366703.1   2873.0   8090.0    73.0  1.250789 -1.141964 -0.590874\n",
       "37286  NW_023366704.1   2185.0   3521.0   159.0  0.270279 -2.520215 -1.586829\n",
       "37287  NW_023366705.1   1169.0   8969.0   172.0 -0.672302 -0.233310 -1.012078\n",
       "37288  NW_023366706.1    902.0   3968.0    46.0 -1.746637  2.846088       NaN\n",
       "\n",
       "[37289 rows x 7 columns]"
      ]
     },
     "execution_count": 378,
     "metadata": {},
     "output_type": "execute_result"
    }
   ],
   "source": [
    "#merge all dfs into one\n",
    "sb_tds = k_td_dfs[\"sb\"][\"tajimas_d\"]\n",
    "se_tds = k_td_dfs[\"sh_se\"][\"tajimas_d\"]\n",
    "\n",
    "td_df = k_td_dfs[\"sh_nw\"].rename(columns = {\"tajimas_d\": \"td_sh_nw\"})\n",
    "td_df[\"td_sh_se\"] = se_tds\n",
    "td_df[\"td_sb\"] = sb_tds\n",
    "\n",
    "td_df = td_df[[\"chrom\", \"start\", \"stop\", \"n_snps\", \"td_sb\", \"td_sh_nw\", \"td_sh_se\"]]\n",
    "\n",
    "td_df.to_csv(\"td_{}kb_windows_allpops.csv\".format(window_kb_size), index=False, sep=\",\")\n",
    "td_df"
   ]
  },
  {
   "cell_type": "code",
   "execution_count": 380,
   "id": "10e1cae0-0cf8-4934-9eaa-b9e6c7245ea3",
   "metadata": {},
   "outputs": [
    {
     "name": "stdout",
     "output_type": "stream",
     "text": [
      "pop\tmean tajima's D\n",
      "Sh (NW)\t-1.3744767277114798\n",
      "Sh (SE)\t-1.3380154496856393\n",
      "Sb\t-0.11040495812797148\n"
     ]
    }
   ],
   "source": [
    "print(\"pop\\tmean tajima's D\")\n",
    "print(\"Sh (NW)\\t{}\".format(td_df[\"td_sh_nw\"].mean()))\n",
    "print(\"Sh (SE)\\t{}\".format(td_df[\"td_sh_se\"].mean()))\n",
    "print(\"Sb\\t{}\".format(td_df[\"td_sb\"].mean()))"
   ]
  },
  {
   "cell_type": "markdown",
   "id": "74c4846e-5f5c-42b9-85d2-aafd1b7e5e75",
   "metadata": {
    "tags": []
   },
   "source": [
    "### Plot Tajima's D"
   ]
  },
  {
   "cell_type": "code",
   "execution_count": 385,
   "id": "6cef5d5e-82c7-46e9-828c-0236bd8c2e72",
   "metadata": {},
   "outputs": [
    {
     "data": {
      "image/png": "[encoded data removed]",
      "text/plain": [
       "<Figure size 432x288 with 1 Axes>"
      ]
     },
     "metadata": {
      "needs_background": "light"
     },
     "output_type": "display_data"
    }
   ],
   "source": [
    "plt.boxplot([ td_df.dropna(subset=[\"td_sb\"])[\"td_sb\"],\n",
    "              td_df.dropna(subset=[\"td_sh_nw\"])[\"td_sh_nw\"],\n",
    "              td_df.dropna(subset=[\"td_sh_se\"])[\"td_sh_se\"] ],\n",
    "              showfliers=False, \n",
    "              notch=False,\n",
    "              labels=[\"S. bovis\", \"S. h. (NW)\", \"S. h. (SE)\" ],\n",
    "\n",
    "             medianprops=dict(color=\"black\", lw=1))\n",
    "\n",
    "plt.xticks(rotation=0, fontsize=14)\n",
    "plt.xlabel(\"Population\", fontsize=18)\n",
    "plt.ylabel(\"Tajima's D\", fontsize=18)\n",
    "plt.savefig(\"td_{}kb_windows_allpops.svg\".format(window_kb_size))\n",
    "plt.savefig(\"td_{}kb_windows_allpops.png\".format(window_kb_size), dpi=300)\n",
    "plt.show()\n"
   ]
  },
  {
   "cell_type": "markdown",
   "id": "42be2b26-a135-46e5-80e4-c918499e0d79",
   "metadata": {
    "jp-MarkdownHeadingCollapsed": true,
    "tags": []
   },
   "source": [
    "## Ne"
   ]
  },
  {
   "cell_type": "code",
   "execution_count": null,
   "id": "ffec5aa4-7eb3-4ee6-af10-fa9e54b86ebd",
   "metadata": {},
   "outputs": [],
   "source": [
    "Path(\"{}/ne\".format(results_dir)).mkdir(parents=True, exist_ok=True)\n",
    "os.chdir(\"{}/ne\".format(results_dir))"
   ]
  },
  {
   "cell_type": "code",
   "execution_count": null,
   "id": "2627f227-fcbf-4925-af0f-66af8eabee17",
   "metadata": {},
   "outputs": [],
   "source": []
  },
  {
   "cell_type": "code",
   "execution_count": null,
   "id": "51569a17-caa8-4eaf-909b-49bf6951e980",
   "metadata": {},
   "outputs": [],
   "source": []
  },
  {
   "cell_type": "code",
   "execution_count": null,
   "id": "8cc5281c-9624-482c-9c24-6a1c2c317858",
   "metadata": {},
   "outputs": [],
   "source": []
  },
  {
   "cell_type": "markdown",
   "id": "21a5f31d-a02b-43f5-ae57-b44f8df1d0ab",
   "metadata": {
    "tags": [],
    "toc-hr-collapsed": true
   },
   "source": [
    "# Ancestry and introgression"
   ]
  },
  {
   "cell_type": "markdown",
   "id": "dde5f707-1e29-46e9-8d07-b34b8909acc4",
   "metadata": {
    "jp-MarkdownHeadingCollapsed": true,
    "tags": []
   },
   "source": [
    "## F3"
   ]
  },
  {
   "cell_type": "markdown",
   "id": "bb8b24bb-a6d5-4489-864c-8f4e282ad0ff",
   "metadata": {
    "tags": []
   },
   "source": [
    "The expected ouptuts from F3 via scikit-allel\n",
    "\n",
    "```\n",
    "f3 = Estimated value of the statistic using all data.\n",
    "se = Estimated standard error.\n",
    "z  = Z-score (number of standard errors from zero).\n",
    "vb = Value of the statistic in each block.\n",
    "vj = Values of the statistic from block-jackknife resampling\n",
    "```\n"
   ]
  },
  {
   "cell_type": "markdown",
   "id": "f0c732b0-44e0-4cf0-8536-547e49f9eab1",
   "metadata": {
    "tags": []
   },
   "source": [
    "Is NW SH admixed?"
   ]
  },
  {
   "cell_type": "code",
   "execution_count": 99,
   "id": "93bffa1c-6eb2-4048-897b-010528b26081",
   "metadata": {
    "tags": []
   },
   "outputs": [
    {
     "name": "stdout",
     "output_type": "stream",
     "text": [
      "f3=-0.1147713696528147, SE=0.0007644922510724643, Z=-150.12757747617223: f3(C: A, B = SH_NW: SH_SE, SB)\n"
     ]
    }
   ],
   "source": [
    "f3, se, z, vb_nw, vj = allel.average_patterson_f3(k_ac[\"Sh (NW)\"], k_ac[\"Sh (SE)\"], k_ac[\"Sb\"], 500, normed=True)\n",
    "print(\"f3={}, SE={}, Z={}: f3(C: A, B = SH_NW: SH_SE, SB)\".format(f3, se, z))"
   ]
  },
  {
   "cell_type": "markdown",
   "id": "ee7f1941-4e1a-4894-8c19-2eedad239a63",
   "metadata": {
    "tags": []
   },
   "source": [
    "Is SE SH admixed?"
   ]
  },
  {
   "cell_type": "code",
   "execution_count": 100,
   "id": "4be5571d-6fc2-4a78-80a4-2a5e6c506daa",
   "metadata": {
    "tags": []
   },
   "outputs": [
    {
     "name": "stdout",
     "output_type": "stream",
     "text": [
      "f3=0.5102330334500964, SE=0.004225118197946318, Z=120.76183660331746: f3(C: A, B = SH_SE: SH_NW, SB)\n"
     ]
    }
   ],
   "source": [
    "f3, se, z, vb_se, vj = allel.average_patterson_f3(k_ac[\"Sh (SE)\"], k_ac[\"Sh (NW)\"], k_ac[\"Sb\"], 500, normed=True)\n",
    "print(\"f3={}, SE={}, Z={}: f3(C: A, B = SH_SE: SH_NW, SB)\".format(f3, se, z))"
   ]
  },
  {
   "cell_type": "code",
   "execution_count": null,
   "id": "55ca0f1b-8264-41e8-bdda-92c4e1fdcfe6",
   "metadata": {},
   "outputs": [],
   "source": [
    "#now lets do this per country\n"
   ]
  },
  {
   "cell_type": "markdown",
   "id": "ca6d1170-52de-4f66-84b5-32b2457bfb57",
   "metadata": {
    "tags": []
   },
   "source": [
    "Based of the results from these analyses, Sh from NW Africa has a *significant* signature of admixture with SE SH and Sb, the same signal is _NOT_ present when comparing SE SH with NW SH and Sb"
   ]
  },
  {
   "cell_type": "markdown",
   "id": "fc931b4d-0ad3-431b-a249-0d4bd4025016",
   "metadata": {
    "jp-MarkdownHeadingCollapsed": true,
    "tags": []
   },
   "source": [
    "## D: ABBA BABA"
   ]
  },
  {
   "cell_type": "markdown",
   "id": "587d0bd9-98e9-401c-8495-d2206022db7b",
   "metadata": {
    "tags": []
   },
   "source": [
    "The expected ouptuts from F3 via scikit-allel\n",
    "\n",
    "\n",
    "```\n",
    "d = Estimated value of the statistic using all data.\n",
    "se = Estimated standard error.\n",
    "z = Z-score (number of standard errors from zero).\n",
    "vb = Value of the statistic in each block.\n",
    "vj = Values of the statistic from block-jackknife resampling.\n",
    "```\n",
    "\n",
    "https://www.genetics.org/content/192/3/1065"
   ]
  },
  {
   "cell_type": "code",
   "execution_count": 179,
   "id": "b900c8d6-9057-4c06-9b5a-4f8763f32e8c",
   "metadata": {
    "tags": []
   },
   "outputs": [],
   "source": [
    "Path(\"{}/abba_baba\".format(results_dir)).mkdir(parents=True, exist_ok=True)\n",
    "os.chdir(\"{}/abba_baba\".format(results_dir))"
   ]
  },
  {
   "cell_type": "code",
   "execution_count": null,
   "id": "f25d43d9-1452-409d-ac4f-4e6b7c591280",
   "metadata": {
    "tags": []
   },
   "outputs": [],
   "source": [
    "#get outgroup ac (S. margrebowiei)\n",
    "outgroup_idxs = list(samples).index(\"margrebowiei_zambia_ERR310940\")\n",
    "out_ac =  gt.count_alleles(subpop=kmeans_pop_idxs[k])"
   ]
  },
  {
   "cell_type": "code",
   "execution_count": 183,
   "id": "9f92d6b7-1a69-4a55-a6e2-fab1a43d18ca",
   "metadata": {
    "tags": []
   },
   "outputs": [
    {
     "name": "stdout",
     "output_type": "stream",
     "text": [
      "D=0.6341401046001398, SE=0.005975343067937009, Z=106.12614161065686\n"
     ]
    },
    {
     "data": {
      "image/png": "[encoded data removed]",
      "text/plain": [
       "<Figure size 640x480 with 1 Axes>"
      ]
     },
     "metadata": {},
     "output_type": "display_data"
    }
   ],
   "source": [
    "d, se, z, vb, vj = allel.average_patterson_d(k_ac[\"Sh (NW)\"], k_ac[\"Sh (SE)\"], k_ac[\"Sb\"], out_ac, 5000)\n",
    "\n",
    "print(\"D={}, SE={}, Z={}\".format(d, se, z))\n",
    "plt.hist(vb, bins=100, color=\"grey\",  edgecolor=\"black\", linewidth=0.2)\n",
    "plt.xlim([-1,1])\n",
    "plt.axvline(d, color = 'black', linestyle = ':')\n",
    "plt.ylabel(\"Count)\".format(k))\n",
    "plt.xlabel(\"D per window\")\n",
    "plt.tight_layout()\n",
    "\n",
    "plt.savefig(\"d_hist.svg\".format(k))\n",
    "plt.savefig(\"d_hist.png\".format(k), dpi=300)\n",
    "\n",
    "plt.show()"
   ]
  },
  {
   "cell_type": "markdown",
   "id": "68eca21a-770e-4686-9e0a-1d5708d0fdb9",
   "metadata": {
    "tags": []
   },
   "source": [
    "## Local ancestry (LOTER)"
   ]
  },
  {
   "cell_type": "code",
   "execution_count": 12,
   "id": "c6f01090-2968-4ab5-8860-6eefcda18aaa",
   "metadata": {
    "tags": []
   },
   "outputs": [],
   "source": [
    "# Path(\"{}/loter\".format(results_dir)).mkdir(parents=True, exist_ok=True)\n",
    "os.chdir(\"{}/loter\".format(results_dir))\n",
    "\n",
    "Path(\"{}/loter/vcf_files\".format(results_dir)).mkdir(parents=True, exist_ok=True)\n",
    "Path(\"{}/loter/csv_files\".format(results_dir)).mkdir(parents=True, exist_ok=True)"
   ]
  },
  {
   "cell_type": "markdown",
   "id": "79936747-1457-4c5a-97ee-7498a2e9c6c4",
   "metadata": {
    "jp-MarkdownHeadingCollapsed": true,
    "tags": []
   },
   "source": [
    "## Prep and run Loter"
   ]
  },
  {
   "cell_type": "markdown",
   "id": "0f9b5948-b1e5-49a1-ae91-686531f20f02",
   "metadata": {
    "tags": []
   },
   "source": [
    "For Loter we need reference samples from each \"parental\" population.  Here I am using a random selection of Sh from islands of the E. Coast of Africa (Madagascar or Zanzibar).  Our previous paper plus Rey et al show these populations have minimal (if any) S. bovis alleles. For S. bovis we are using "
   ]
  },
  {
   "cell_type": "code",
   "execution_count": 4,
   "id": "028c7f73-1bdb-4151-b3a6-f8905247d470",
   "metadata": {
    "tags": []
   },
   "outputs": [
    {
     "name": "stderr",
     "output_type": "stream",
     "text": [
      "\n",
      "VCFtools - 0.1.17\n",
      "(C) Adam Auton and Anthony Marcketta 2009\n",
      "\n",
      "Parameters as interpreted:\n",
      "\t--vcf ../phasing/beagle.vcf\n",
      "\t--keep ../admixture/sh_ref.list\n",
      "\t--recode-INFO-all\n",
      "\t--recode\n",
      "\t--stdout\n",
      "\n",
      "Keeping individuals in 'keep' list\n",
      "After filtering, kept 11 out of 163 Individuals\n",
      "Outputting VCF file...\n",
      "After filtering, kept 34833640 out of a possible 34833640 Sites\n",
      "Run Time = 1852.00 seconds\n"
     ]
    }
   ],
   "source": [
    "%%bash\n",
    "\n",
    "#get random \"pure\" haematboium\n",
    "vcftools \\\n",
    "    --vcf ../phasing/beagle.vcf \\\n",
    "    --keep ../admixture/sh_ref.list \\\n",
    "    --recode \\\n",
    "    --recode-INFO-all \\\n",
    "    --stdout \\\n",
    "    >vcf_files/haem_ref_loter.vcf"
   ]
  },
  {
   "cell_type": "code",
   "execution_count": 5,
   "id": "bff7322a-17d3-4327-8c0d-031c0357e6d9",
   "metadata": {
    "tags": []
   },
   "outputs": [
    {
     "name": "stderr",
     "output_type": "stream",
     "text": [
      "\n",
      "VCFtools - 0.1.17\n",
      "(C) Adam Auton and Anthony Marcketta 2009\n",
      "\n",
      "Parameters as interpreted:\n",
      "\t--vcf ../phasing/beagle.vcf\n",
      "\t--keep ../admixture/sb_ref.list\n",
      "\t--recode-INFO-all\n",
      "\t--recode\n",
      "\t--stdout\n",
      "\n",
      "Keeping individuals in 'keep' list\n",
      "After filtering, kept 17 out of 163 Individuals\n",
      "Outputting VCF file...\n",
      "After filtering, kept 34833640 out of a possible 34833640 Sites\n",
      "Run Time = 1914.00 seconds\n"
     ]
    }
   ],
   "source": [
    "%%bash \n",
    "\n",
    "#get bovis samples\n",
    "vcftools \\\n",
    "    --vcf ../phasing/beagle.vcf \\\n",
    "    --keep ../admixture/sb_ref.list \\\n",
    "    --recode \\\n",
    "    --recode-INFO-all \\\n",
    "    --stdout \\\n",
    "    >vcf_files/bovis_ref_loter.vcf"
   ]
  },
  {
   "cell_type": "code",
   "execution_count": 14,
   "id": "eb4d8a18-5a48-47b1-bb89-6cd115a289a3",
   "metadata": {
    "tags": []
   },
   "outputs": [
    {
     "name": "stderr",
     "output_type": "stream",
     "text": [
      "\n",
      "VCFtools - 0.1.17\n",
      "(C) Adam Auton and Anthony Marcketta 2009\n",
      "\n",
      "Parameters as interpreted:\n",
      "\t--vcf ../phasing/beagle.vcf\n",
      "\t--remove remove.list\n",
      "\t--recode-INFO-all\n",
      "\t--recode\n",
      "\t--stdout\n",
      "\n",
      "Excluding individuals in 'exclude' list\n",
      "After filtering, kept 131 out of 163 Individuals\n",
      "Outputting VCF file...\n",
      "After filtering, kept 34833640 out of a possible 34833640 Sites\n",
      "Run Time = 2247.00 seconds\n"
     ]
    }
   ],
   "source": [
    "%%bash\n",
    "\n",
    "#get query samples by removing outgroups and bovis/haem references\n",
    "echo -e \"guineensis_saotome_ERR119612\\nintercalatum_drcongo_ERR119613\\nmargrebowiei_zambia_ERR310940\\nmatthei_zambia_ERR103051\">outgroup.list\n",
    "\n",
    "cat ../admixture/sb_ref.list ../admixture/sh_ref.list outgroup.list >remove.list\n",
    "\n",
    "vcftools \\\n",
    "    --vcf ../phasing/beagle.vcf \\\n",
    "    --remove remove.list \\\n",
    "    --recode \\\n",
    "    --recode-INFO-all \\\n",
    "    --stdout \\\n",
    "    >vcf_files/query_loter.vcf"
   ]
  },
  {
   "cell_type": "markdown",
   "id": "2e832b35-a72d-45d1-a140-3cfee179b288",
   "metadata": {
    "tags": []
   },
   "source": [
    "Get some relevant info from the query samples for post-porcessing (slighlty different from the same code at the top of the notebook that reads in this info from the VCF file containing all samples.)"
   ]
  },
  {
   "cell_type": "code",
   "execution_count": 8,
   "id": "f520e853-882d-402e-ae11-28d899617e2c",
   "metadata": {},
   "outputs": [
    {
     "name": "stderr",
     "output_type": "stream",
     "text": [
      "100%|██████████| 550/550 [06:55<00:00,  1.32it/s]\n"
     ]
    }
   ],
   "source": [
    "#get info from vcf\n",
    "callset = allel.read_vcf(\"vcf_files/query_loter.vcf\")\n",
    "\n",
    "#get relevant info\n",
    "chroms    = callset[\"variants/CHROM\"]\n",
    "q_samples = callset[\"samples\"]\n",
    "poss      = callset[\"variants/POS\"]\n",
    "var_ids   = callset[\"variants/ID\"]\n",
    "\n",
    "#get the INDEX of where each chromosome begins and ends in the genotyping array.  Ex. Chr1 is from pos 1-280 in the array, Chr2 is 281-404.  \n",
    "# THERE IS A DIFFERENCE BETWEEN THE INDEX (IN THE ARRAY) AND POSITION IN THE GENOME\n",
    "chrom_idxs={}\n",
    "uniq_chroms=np.unique(chroms)\n",
    "for chrom in tqdm(uniq_chroms):\n",
    "    idxs=list(np.where(chroms == chrom)[0])\n",
    "    start=min(idxs)\n",
    "    stop=max(idxs)\n",
    "    chrom_idxs[chrom]=[start, stop]\n",
    "\n",
    "#get samples and haplotype ids\n",
    "hap_ids=[]\n",
    "for sample in q_samples:\n",
    "    hap_ids.append(\"{}_h1\".format(sample))\n",
    "    hap_ids.append(\"{}_h2\".format(sample))\n",
    "    \n",
    "np.savetxt(\"hap_ids.csv\", hap_ids, fmt=\"%s\", delimiter=\",\")\n",
    "\n",
    "#del callset"
   ]
  },
  {
   "cell_type": "markdown",
   "id": "a8cd7058-fb83-430f-a393-74b53d5a6e3e",
   "metadata": {
    "tags": []
   },
   "source": [
    "vcf2npy` convert a VCF File to a numpy matrix with values 0, 1 and 2.\n",
    "\n",
    "This is a function provided by the `loter`'s example notebook and reads in a vcf to a numpy array of haplotypes (columns = variants, rows = haplotypes)"
   ]
  },
  {
   "cell_type": "code",
   "execution_count": 252,
   "id": "f05b19e9-285f-4f30-a044-e53874e4d7d8",
   "metadata": {
    "tags": []
   },
   "outputs": [],
   "source": [
    "def vcf2npy(vcfpath):\n",
    "    callset = allel.read_vcf(vcfpath)\n",
    "    haplotypes_1 = callset['calldata/GT'][:,:,0]\n",
    "    haplotypes_2 = callset['calldata/GT'][:,:,1]\n",
    "    \n",
    "    m, n = haplotypes_1.shape\n",
    "    mat_haplo = np.empty((2*n, m))\n",
    "    mat_haplo[::2] = haplotypes_1.T\n",
    "    mat_haplo[1::2] = haplotypes_2.T\n",
    "    \n",
    "    return mat_haplo.astype(np.uint8)"
   ]
  },
  {
   "cell_type": "code",
   "execution_count": 253,
   "id": "58c8119b-0d3c-4fb7-846f-38e45af20082",
   "metadata": {
    "tags": []
   },
   "outputs": [
    {
     "name": "stdout",
     "output_type": "stream",
     "text": [
      "bovis done\n",
      "haem done\n",
      "query done\n"
     ]
    }
   ],
   "source": [
    "#read in vcfs and covert to hs\n",
    "bovis_hs = vcf2npy(\"vcf_files/bovis_ref_loter.vcf\")\n",
    "print(\"bovis done\")\n",
    "haem_hs  = vcf2npy(\"vcf_files/haem_ref_loter.vcf\")\n",
    "print(\"haem done\")\n",
    "query_hs = vcf2npy(\"vcf_files/query_loter.vcf\")\n",
    "print(\"query done\")"
   ]
  },
  {
   "cell_type": "markdown",
   "id": "58826e6d-040d-4de9-825d-a1c854f32a1d",
   "metadata": {
    "tags": []
   },
   "source": [
    "Run loter on one chromosome at a time and store as a csv file"
   ]
  },
  {
   "cell_type": "code",
   "execution_count": 254,
   "id": "2407bc9f-07b7-40dd-8292-be72067d8a31",
   "metadata": {
    "tags": []
   },
   "outputs": [
    {
     "name": "stderr",
     "output_type": "stream",
     "text": [
      "100%|██████████| 550/550 [17:35<00:00,  1.92s/it]  \n",
      "Exception ignored in: <bound method GCDiagnosis._gc_callback of <distributed.utils_perf.GCDiagnosis object at 0x2b33ebb03c40>>\n",
      "Traceback (most recent call last):\n",
      "  File \"/master/nplatt/sch_hae_scan/envs/jupyterlab_ancestry/lib/python3.9/site-packages/distributed/utils_perf.py\", line 192, in _gc_callback\n",
      "    self._fractional_timer.start_timing()\n",
      "  File \"/master/nplatt/sch_hae_scan/envs/jupyterlab_ancestry/lib/python3.9/site-packages/distributed/utils_perf.py\", line 115, in start_timing\n",
      "    assert self._cur_start is None\n",
      "AssertionError: \n"
     ]
    }
   ],
   "source": [
    "Path(\"{}/loter/h_files\".format(results_dir)).mkdir(parents=True, exist_ok=True)\n",
    "\n",
    "for chrom in tqdm(uniq_chroms):\n",
    "\n",
    "    start_idx = chrom_idxs[chrom][0]\n",
    "    stop_idx  = chrom_idxs[chrom][1]+1\n",
    "    \n",
    "    #split hs\n",
    "    chr_bovis_hs = bovis_hs[:,start_idx:stop_idx]\n",
    "    chr_haem_hs  = haem_hs[ :,start_idx:stop_idx]\n",
    "    chr_query_hs = query_hs[:,start_idx:stop_idx]\n",
    "    \n",
    "    #get var_ids and save to file\n",
    "    ids=var_ids[start_idx:stop_idx]\n",
    "    np.savetxt(\"h_files/{}_variant_ids.csv\".format(chrom), ids, fmt=\"%s\", delimiter=\",\")\n",
    "\n",
    "    \n",
    "    #set up files for output\n",
    "    bovis_out =\"h_files/hs_bovis_{}\".format(chrom)\n",
    "    haem_out  =\"h_files/hs_haem_{}\".format(chrom)\n",
    "    query_out =\"h_files/hs_query_{}\".format(chrom)\n",
    "\n",
    "    #save otuput\n",
    "    np.save(bovis_out, chr_bovis_hs, allow_pickle=True, fix_imports=True)\n",
    "    np.save(haem_out,  chr_haem_hs,  allow_pickle=True, fix_imports=True)\n",
    "    np.save(query_out, chr_query_hs, allow_pickle=True, fix_imports=True)"
   ]
  },
  {
   "cell_type": "code",
   "execution_count": null,
   "id": "faf19a22-d419-46ff-a59b-4f92e5c8e03e",
   "metadata": {},
   "outputs": [],
   "source": [
    "%%bash\n",
    "\n",
    "QSUB=\"qsub -V -cwd -S /bin/bash -q high_mem.q -j y -p -1023 -pe smp 8 \" \n",
    "CONDA=\"conda activate /master/nplatt/sch_hae_scan/envs/jupyterlab_ancestry\"\n",
    "\n",
    "# #ingroup_indv_and_site_filt.vcf\n",
    "# cut -f1 results/phasing/beagle.vcf \\\n",
    "#     | grep -v \"#\" \\\n",
    "#     | sort \\\n",
    "#     | uniq -c \\\n",
    "#     | awk '{ if ($1>1) print $2}' \\\n",
    "#     >results/loter/loter_chroms.list\n",
    "\n",
    "#now run them in batch\n",
    "for CHROM in $(cat results/loter/loter_chroms.list); do\n",
    "    CMD=\"python /master/nplatt/sch_hae_scan/code/single_chrom_loter.py \"$CHROM\n",
    "\n",
    "    echo \"$CONDA; $CMD\"  | $QSUB -N loter_$CHROM -o results/loter/$CHROM.log\n",
    "\n",
    "done\n",
    "\n"
   ]
  },
  {
   "cell_type": "markdown",
   "id": "26c82360-d047-4939-ad6d-fff4fa2e131b",
   "metadata": {
    "jp-MarkdownHeadingCollapsed": true,
    "tags": []
   },
   "source": [
    "## QC Loter results"
   ]
  },
  {
   "cell_type": "code",
   "execution_count": 19,
   "id": "f7842a91-c7b5-4c5a-ad7b-514a8dc5650f",
   "metadata": {},
   "outputs": [],
   "source": [
    "hap_ids=np.loadtxt(\"hap_ids.csv\", dtype='str')"
   ]
  },
  {
   "cell_type": "code",
   "execution_count": 256,
   "id": "3ec70bc5-51e0-4352-bbd2-332cfc5a8ebe",
   "metadata": {},
   "outputs": [
    {
     "name": "stdout",
     "output_type": "stream",
     "text": [
      "[]\n"
     ]
    }
   ],
   "source": [
    "missing=[]\n",
    "\n",
    "for chrom in uniq_chroms:\n",
    "    try:\n",
    "        os.path.exists(\"csv_files/loter_{}_T.csv\".format(chrom))\n",
    "        #loter_chrom_dfs[chrom]=dask.dataframe.read_csv(\"csv_files/loter_{}.csv\".format(chrom), sep=\",\", blocksize=None, sample=40_000_000)    \n",
    "    except:\n",
    "        #print(\"{} missing\".format(chrom))\n",
    "        missing.append(chrom)\n",
    "        pass\n",
    "    \n",
    "print(missing)"
   ]
  },
  {
   "cell_type": "code",
   "execution_count": 257,
   "id": "0563f0b3-09e4-4b47-97b6-922ae04abb4e",
   "metadata": {},
   "outputs": [],
   "source": [
    "count_chroms, counts =np.unique(chroms, return_counts=True)"
   ]
  },
  {
   "cell_type": "code",
   "execution_count": 258,
   "id": "c3c9bf84-8d03-4942-94eb-45c1638c9807",
   "metadata": {},
   "outputs": [],
   "source": [
    "for chrom, count in zip(count_chroms, counts):\n",
    "    #open loter file\n",
    "    with open(\"csv_files/loter_{}_T.csv\".format(chrom), 'r') as in_file:\n",
    "        i=0\n",
    "        for line in in_file:\n",
    "            i=i+1\n",
    "            \n",
    "        i=i-1\n",
    "        \n",
    "        if i != count:\n",
    "            print(\"Something happened to {}: {}\\t{}\".format(chrom, count, i))\n"
   ]
  },
  {
   "cell_type": "code",
   "execution_count": 37,
   "id": "1245950c-febd-4907-9669-69b0d747eed1",
   "metadata": {},
   "outputs": [
    {
     "name": "stderr",
     "output_type": "stream",
     "text": [
      "100%|██████████| 550/550 [07:17<00:00,  1.26it/s]\n"
     ]
    }
   ],
   "source": [
    "# loter_chrom_dfs={}\n",
    "\n",
    "# #get each chrom that has a loter output file (should be around 550)\n",
    "# for loter_file in tqdm(glob.glob(\"csv_files/loter_N*.csv\")):\n",
    "#     chrom = loter_file.replace(\"csv_files/loter_\", \"\").replace(\"_T.csv\", \"\")\n",
    "\n",
    "#     #read in loter file\n",
    "#     chrom_loter_df=pd.read_csv(\"csv_files/loter_{}_T.csv\".format(chrom), sep=\",\", index_col=0)\n",
    "#     loter_chrom_dfs[chrom] = chrom_loter_df"
   ]
  },
  {
   "cell_type": "markdown",
   "id": "d2457516-9e88-4cf8-ae64-b78ea3af889d",
   "metadata": {
    "jp-MarkdownHeadingCollapsed": true,
    "tags": []
   },
   "source": [
    "## How many bovis alleles per individual"
   ]
  },
  {
   "cell_type": "code",
   "execution_count": 394,
   "id": "6d6a9ad7-3d28-41bc-8e03-06097282c5e5",
   "metadata": {},
   "outputs": [],
   "source": [
    "var_ids=filtered_callset[\"variants/ID\"]"
   ]
  },
  {
   "cell_type": "code",
   "execution_count": 9,
   "id": "cc227ca0-6cab-4811-9afb-52075ee3083a",
   "metadata": {},
   "outputs": [],
   "source": [
    "ddf=dask.dataframe.read_csv(\"csv_files/loter_*_T.csv\", sep=\",\", blocksize=None, sample=256_000, header=0)   "
   ]
  },
  {
   "cell_type": "code",
   "execution_count": 262,
   "id": "d8165efe-9bd3-45a7-a547-ffde5879c65a",
   "metadata": {},
   "outputs": [
    {
     "data": {
      "text/html": [
       "<div>\n",
       "<style scoped>\n",
       "    .dataframe tbody tr th:only-of-type {\n",
       "        vertical-align: middle;\n",
       "    }\n",
       "\n",
       "    .dataframe tbody tr th {\n",
       "        vertical-align: top;\n",
       "    }\n",
       "\n",
       "    .dataframe thead th {\n",
       "        text-align: right;\n",
       "    }\n",
       "</style>\n",
       "<table border=\"1\" class=\"dataframe\">\n",
       "  <thead>\n",
       "    <tr style=\"text-align: right;\">\n",
       "      <th></th>\n",
       "      <th>n_bovis_alleles</th>\n",
       "      <th>n_bovis_perc</th>\n",
       "      <th>kmeans_labels</th>\n",
       "    </tr>\n",
       "  </thead>\n",
       "  <tbody>\n",
       "    <tr>\n",
       "      <th>Sb_NG_au_2.13_h1</th>\n",
       "      <td>34642976</td>\n",
       "      <td>0.994526</td>\n",
       "      <td>Sb</td>\n",
       "    </tr>\n",
       "    <tr>\n",
       "      <th>Sb_NG_au_2.13_h2</th>\n",
       "      <td>34806260</td>\n",
       "      <td>0.999214</td>\n",
       "      <td>Sb</td>\n",
       "    </tr>\n",
       "    <tr>\n",
       "      <th>Sb_NG_au_2.5_h1</th>\n",
       "      <td>34640963</td>\n",
       "      <td>0.994469</td>\n",
       "      <td>Sb</td>\n",
       "    </tr>\n",
       "    <tr>\n",
       "      <th>Sb_NG_au_2.5_h2</th>\n",
       "      <td>34813809</td>\n",
       "      <td>0.999431</td>\n",
       "      <td>Sb</td>\n",
       "    </tr>\n",
       "    <tr>\n",
       "      <th>Sb_NG_be_1.5_h1</th>\n",
       "      <td>34657602</td>\n",
       "      <td>0.994946</td>\n",
       "      <td>Sb</td>\n",
       "    </tr>\n",
       "    <tr>\n",
       "      <th>...</th>\n",
       "      <td>...</td>\n",
       "      <td>...</td>\n",
       "      <td>...</td>\n",
       "    </tr>\n",
       "    <tr>\n",
       "      <th>ssp_niger_libore_169_h2</th>\n",
       "      <td>1958641</td>\n",
       "      <td>0.056228</td>\n",
       "      <td>Sh (NW)</td>\n",
       "    </tr>\n",
       "    <tr>\n",
       "      <th>ssp_niger_libore_173_h1</th>\n",
       "      <td>3184773</td>\n",
       "      <td>0.091428</td>\n",
       "      <td>Sh (NW)</td>\n",
       "    </tr>\n",
       "    <tr>\n",
       "      <th>ssp_niger_libore_173_h2</th>\n",
       "      <td>1963530</td>\n",
       "      <td>0.056369</td>\n",
       "      <td>Sh (NW)</td>\n",
       "    </tr>\n",
       "    <tr>\n",
       "      <th>ssp_zambia_kafue_71_h1</th>\n",
       "      <td>1025092</td>\n",
       "      <td>0.029428</td>\n",
       "      <td>Sh (SE)</td>\n",
       "    </tr>\n",
       "    <tr>\n",
       "      <th>ssp_zambia_kafue_71_h2</th>\n",
       "      <td>1007619</td>\n",
       "      <td>0.028927</td>\n",
       "      <td>Sh (SE)</td>\n",
       "    </tr>\n",
       "  </tbody>\n",
       "</table>\n",
       "<p>262 rows × 3 columns</p>\n",
       "</div>"
      ],
      "text/plain": [
       "                        n_bovis_alleles n_bovis_perc kmeans_labels\n",
       "Sb_NG_au_2.13_h1               34642976     0.994526            Sb\n",
       "Sb_NG_au_2.13_h2               34806260     0.999214            Sb\n",
       "Sb_NG_au_2.5_h1                34640963     0.994469            Sb\n",
       "Sb_NG_au_2.5_h2                34813809     0.999431            Sb\n",
       "Sb_NG_be_1.5_h1                34657602     0.994946            Sb\n",
       "...                                 ...          ...           ...\n",
       "ssp_niger_libore_169_h2         1958641     0.056228       Sh (NW)\n",
       "ssp_niger_libore_173_h1         3184773     0.091428       Sh (NW)\n",
       "ssp_niger_libore_173_h2         1963530     0.056369       Sh (NW)\n",
       "ssp_zambia_kafue_71_h1          1025092     0.029428       Sh (SE)\n",
       "ssp_zambia_kafue_71_h2          1007619     0.028927       Sh (SE)\n",
       "\n",
       "[262 rows x 3 columns]"
      ]
     },
     "execution_count": 262,
     "metadata": {},
     "output_type": "execute_result"
    }
   ],
   "source": [
    "#get the per indiv num of bovis alleles\n",
    "with ProgressBar():\n",
    "    per_indv=ddf.sum(axis=0).compute()\n",
    "\n",
    "#convert to a df and format\n",
    "per_indv_df = per_indv.to_frame()\n",
    "per_indv_df = per_indv_df.iloc[1: , :]\n",
    "\n",
    "per_indv_df.columns=[\"n_bovis_alleles\"]\n",
    "\n",
    "#divide by total num of alleles\n",
    "per_indv_df[\"n_bovis_perc\"] = per_indv_df[\"n_bovis_alleles\"]/n_snvs\n",
    "\n",
    "#now add the pca kmeans group label to each sample (haplotype)\n",
    "pca_df=pd.read_csv(\"{}/pca/pca_df.csv\".format(results_dir), sep=\",\")\n",
    "\n",
    "#store the kmeans labels for each HAPLOTYPE into a hap_labels dictionary\n",
    "hap_labels={}\n",
    "for hap_id in per_indv_df.index:\n",
    "    sample=\"_\".join(hap_id.split(\"_\")[:-1])\n",
    "    k_label=pca_df.loc[pca_df[\"sample_name\"]==sample][\"kmeans_label\"].values[0]\n",
    "    hap_labels[hap_id]=k_label\n",
    "    \n",
    "#now match the label with the sample in the wg df\n",
    "k_labels=[]\n",
    "for sample in per_indv_df.index:\n",
    "    k_labels.append(hap_labels[sample])\n",
    "    \n",
    "#and add a new column to track the k groups for each sample\n",
    "per_indv_df[\"kmeans_labels\"]=k_labels\n",
    "\n",
    "#save to csv\n",
    "per_indv_df.to_csv(\"perc_bovis_per_indiv.csv\", sep=\",\")"
   ]
  },
  {
   "cell_type": "code",
   "execution_count": null,
   "id": "616c2753-33c7-4580-9e4c-f5b18a3addb7",
   "metadata": {},
   "outputs": [],
   "source": [
    "per_indv_df=pd.read_csv(\"perc_bovis_per_indiv.csv\", sep=\",\")"
   ]
  },
  {
   "cell_type": "code",
   "execution_count": 263,
   "id": "85216e85-b010-4ec1-b618-77e9b7fb730f",
   "metadata": {
    "tags": []
   },
   "outputs": [],
   "source": [
    "se_df=per_indv_df.loc[per_indv_df[\"kmeans_labels\"]==\"Sh (SE)\"].drop([\"kmeans_labels\"], axis=1).sort_values(\"n_bovis_perc\")\n",
    "nw_df=per_indv_df.loc[per_indv_df[\"kmeans_labels\"]==\"Sh (NW)\"].drop([\"kmeans_labels\"], axis=1).sort_values(\"n_bovis_perc\")\n",
    "sb_df=per_indv_df.loc[per_indv_df[\"kmeans_labels\"]==\"Sb\"].drop([\"kmeans_labels\"], axis=1).sort_values(\"n_bovis_perc\")"
   ]
  },
  {
   "cell_type": "code",
   "execution_count": 264,
   "id": "8d769dea-a8a2-458c-8b8b-b66d60b0d952",
   "metadata": {
    "tags": []
   },
   "outputs": [
    {
     "data": {
      "image/png": "[encoded data removed]",
      "text/plain": [
       "<Figure size 576x216 with 3 Axes>"
      ]
     },
     "metadata": {
      "needs_background": "light"
     },
     "output_type": "display_data"
    }
   ],
   "source": [
    "fig, (ax_nw, ax_se, ax_sb) = plt.subplots(nrows=1, ncols=3, figsize=(8,3))\n",
    "\n",
    "ax_nw.hist(nw_df[\"n_bovis_perc\"]*100, bins=20, alpha=1, label=\"S.h. (NW)\", color='grey', edgecolor=\"black\", linewidth=0.5)\n",
    "ax_nw.set_title(\"S.haem. (NW Africa)\", fontsize=10, y=1.0, pad=-10)\n",
    "\n",
    "ax_se.hist(se_df[\"n_bovis_perc\"]*100, bins=20, alpha=1, label=\"S.h. (SE)\", color='grey', edgecolor=\"black\", linewidth=0.5)\n",
    "ax_se.set_title(\"S. haem. (SE Africa)\", fontsize=10, y=1.0, pad=-10)\n",
    "\n",
    "ax_sb.hist(sb_df[\"n_bovis_perc\"]*100, bins=20, alpha=1, label=\"S. bovis\", color='grey', edgecolor=\"black\", linewidth=0.5)\n",
    "ax_sb.set_title(\"S. bovis\", fontsize=10, y=1.0, pad=-10)\n",
    "\n",
    "\n",
    "fig.text(0.00, 0.25, 'Ind. haplotype counts', ha='center', rotation='vertical', fontsize=12)\n",
    "fig.text(0.5, -0.01, '% S. bovis alleles', ha='center', fontsize=12)\n",
    "fig.tight_layout()\n",
    "plt.savefig(\"percent_bovis_per_indiv.svg\")\n",
    "plt.savefig(\"percent_bovis_per_indiv.png\", dpi=300)\n",
    "plt.show()"
   ]
  },
  {
   "cell_type": "code",
   "execution_count": 265,
   "id": "7f639a97-6188-4368-86d9-40ef248c0231",
   "metadata": {
    "tags": []
   },
   "outputs": [
    {
     "data": {
      "text/plain": [
       "0.17966512306469562"
      ]
     },
     "execution_count": 265,
     "metadata": {},
     "output_type": "execute_result"
    }
   ],
   "source": [
    "se_df[\"n_bovis_perc\"].mean()*100"
   ]
  },
  {
   "cell_type": "code",
   "execution_count": 266,
   "id": "34e9b858-7d29-48a6-b9dc-0bfcd4310c9e",
   "metadata": {
    "tags": []
   },
   "outputs": [
    {
     "data": {
      "text/plain": [
       "6.25902752030523"
      ]
     },
     "execution_count": 266,
     "metadata": {},
     "output_type": "execute_result"
    }
   ],
   "source": [
    "nw_df[\"n_bovis_perc\"].mean()*100"
   ]
  },
  {
   "cell_type": "code",
   "execution_count": 267,
   "id": "ae62e590-5581-4d63-aa2f-d69a88716cc0",
   "metadata": {
    "tags": []
   },
   "outputs": [
    {
     "data": {
      "text/plain": [
       "99.57983456030817"
      ]
     },
     "execution_count": 267,
     "metadata": {},
     "output_type": "execute_result"
    }
   ],
   "source": [
    "sb_df[\"n_bovis_perc\"].mean()*100"
   ]
  },
  {
   "cell_type": "markdown",
   "id": "51fd3301-d594-465e-b1d9-dd92f53646a9",
   "metadata": {
    "jp-MarkdownHeadingCollapsed": true,
    "tags": []
   },
   "source": [
    "## Excess Sb alleles at each position"
   ]
  },
  {
   "cell_type": "code",
   "execution_count": 23,
   "id": "9927c318-fdaa-4a2a-aa9b-675fecebc780",
   "metadata": {},
   "outputs": [
    {
     "data": {
      "text/html": [
       "<div>\n",
       "<style scoped>\n",
       "    .dataframe tbody tr th:only-of-type {\n",
       "        vertical-align: middle;\n",
       "    }\n",
       "\n",
       "    .dataframe tbody tr th {\n",
       "        vertical-align: top;\n",
       "    }\n",
       "\n",
       "    .dataframe thead th {\n",
       "        text-align: right;\n",
       "    }\n",
       "</style>\n",
       "<table border=\"1\" class=\"dataframe\">\n",
       "  <thead>\n",
       "    <tr style=\"text-align: right;\">\n",
       "      <th></th>\n",
       "      <th>Unnamed: 0</th>\n",
       "      <th>Sb_NG_au_2.13_h1</th>\n",
       "      <th>Sb_NG_au_2.13_h2</th>\n",
       "      <th>Sb_NG_au_2.5_h1</th>\n",
       "      <th>Sb_NG_au_2.5_h2</th>\n",
       "      <th>Sb_NG_be_1.5_h1</th>\n",
       "      <th>Sb_NG_be_1.5_h2</th>\n",
       "      <th>Sh_NG_eb_6_2_h1</th>\n",
       "      <th>Sh_NG_eb_6_2_h2</th>\n",
       "      <th>Sh_NG_ed_1_3_h1</th>\n",
       "      <th>...</th>\n",
       "      <th>ssp_niger_libore_167_h1</th>\n",
       "      <th>ssp_niger_libore_167_h2</th>\n",
       "      <th>ssp_niger_libore_168_h1</th>\n",
       "      <th>ssp_niger_libore_168_h2</th>\n",
       "      <th>ssp_niger_libore_169_h1</th>\n",
       "      <th>ssp_niger_libore_169_h2</th>\n",
       "      <th>ssp_niger_libore_173_h1</th>\n",
       "      <th>ssp_niger_libore_173_h2</th>\n",
       "      <th>ssp_zambia_kafue_71_h1</th>\n",
       "      <th>ssp_zambia_kafue_71_h2</th>\n",
       "    </tr>\n",
       "  </thead>\n",
       "  <tbody>\n",
       "    <tr>\n",
       "      <th>0</th>\n",
       "      <td>NW_023366043.1:329</td>\n",
       "      <td>1</td>\n",
       "      <td>1</td>\n",
       "      <td>1</td>\n",
       "      <td>1</td>\n",
       "      <td>1</td>\n",
       "      <td>1</td>\n",
       "      <td>1</td>\n",
       "      <td>1</td>\n",
       "      <td>1</td>\n",
       "      <td>...</td>\n",
       "      <td>1</td>\n",
       "      <td>1</td>\n",
       "      <td>1</td>\n",
       "      <td>1</td>\n",
       "      <td>1</td>\n",
       "      <td>1</td>\n",
       "      <td>1</td>\n",
       "      <td>1</td>\n",
       "      <td>0</td>\n",
       "      <td>0</td>\n",
       "    </tr>\n",
       "    <tr>\n",
       "      <th>1</th>\n",
       "      <td>NW_023366043.1:341</td>\n",
       "      <td>1</td>\n",
       "      <td>1</td>\n",
       "      <td>1</td>\n",
       "      <td>1</td>\n",
       "      <td>1</td>\n",
       "      <td>1</td>\n",
       "      <td>1</td>\n",
       "      <td>1</td>\n",
       "      <td>1</td>\n",
       "      <td>...</td>\n",
       "      <td>1</td>\n",
       "      <td>1</td>\n",
       "      <td>1</td>\n",
       "      <td>1</td>\n",
       "      <td>1</td>\n",
       "      <td>1</td>\n",
       "      <td>1</td>\n",
       "      <td>1</td>\n",
       "      <td>0</td>\n",
       "      <td>0</td>\n",
       "    </tr>\n",
       "    <tr>\n",
       "      <th>2</th>\n",
       "      <td>NW_023366043.1:367</td>\n",
       "      <td>1</td>\n",
       "      <td>1</td>\n",
       "      <td>1</td>\n",
       "      <td>1</td>\n",
       "      <td>1</td>\n",
       "      <td>1</td>\n",
       "      <td>1</td>\n",
       "      <td>1</td>\n",
       "      <td>1</td>\n",
       "      <td>...</td>\n",
       "      <td>1</td>\n",
       "      <td>1</td>\n",
       "      <td>1</td>\n",
       "      <td>1</td>\n",
       "      <td>1</td>\n",
       "      <td>1</td>\n",
       "      <td>1</td>\n",
       "      <td>1</td>\n",
       "      <td>0</td>\n",
       "      <td>0</td>\n",
       "    </tr>\n",
       "    <tr>\n",
       "      <th>3</th>\n",
       "      <td>NW_023366043.1:384</td>\n",
       "      <td>1</td>\n",
       "      <td>1</td>\n",
       "      <td>1</td>\n",
       "      <td>1</td>\n",
       "      <td>1</td>\n",
       "      <td>1</td>\n",
       "      <td>1</td>\n",
       "      <td>1</td>\n",
       "      <td>1</td>\n",
       "      <td>...</td>\n",
       "      <td>1</td>\n",
       "      <td>1</td>\n",
       "      <td>1</td>\n",
       "      <td>1</td>\n",
       "      <td>1</td>\n",
       "      <td>1</td>\n",
       "      <td>1</td>\n",
       "      <td>1</td>\n",
       "      <td>0</td>\n",
       "      <td>0</td>\n",
       "    </tr>\n",
       "    <tr>\n",
       "      <th>4</th>\n",
       "      <td>NW_023366043.1:399</td>\n",
       "      <td>1</td>\n",
       "      <td>1</td>\n",
       "      <td>1</td>\n",
       "      <td>1</td>\n",
       "      <td>1</td>\n",
       "      <td>1</td>\n",
       "      <td>1</td>\n",
       "      <td>1</td>\n",
       "      <td>1</td>\n",
       "      <td>...</td>\n",
       "      <td>1</td>\n",
       "      <td>1</td>\n",
       "      <td>1</td>\n",
       "      <td>1</td>\n",
       "      <td>1</td>\n",
       "      <td>1</td>\n",
       "      <td>1</td>\n",
       "      <td>1</td>\n",
       "      <td>0</td>\n",
       "      <td>0</td>\n",
       "    </tr>\n",
       "  </tbody>\n",
       "</table>\n",
       "<p>5 rows × 263 columns</p>\n",
       "</div>"
      ],
      "text/plain": [
       "           Unnamed: 0  Sb_NG_au_2.13_h1  Sb_NG_au_2.13_h2  Sb_NG_au_2.5_h1  \\\n",
       "0  NW_023366043.1:329                 1                 1                1   \n",
       "1  NW_023366043.1:341                 1                 1                1   \n",
       "2  NW_023366043.1:367                 1                 1                1   \n",
       "3  NW_023366043.1:384                 1                 1                1   \n",
       "4  NW_023366043.1:399                 1                 1                1   \n",
       "\n",
       "   Sb_NG_au_2.5_h2  Sb_NG_be_1.5_h1  Sb_NG_be_1.5_h2  Sh_NG_eb_6_2_h1  \\\n",
       "0                1                1                1                1   \n",
       "1                1                1                1                1   \n",
       "2                1                1                1                1   \n",
       "3                1                1                1                1   \n",
       "4                1                1                1                1   \n",
       "\n",
       "   Sh_NG_eb_6_2_h2  Sh_NG_ed_1_3_h1  ...  ssp_niger_libore_167_h1  \\\n",
       "0                1                1  ...                        1   \n",
       "1                1                1  ...                        1   \n",
       "2                1                1  ...                        1   \n",
       "3                1                1  ...                        1   \n",
       "4                1                1  ...                        1   \n",
       "\n",
       "   ssp_niger_libore_167_h2  ssp_niger_libore_168_h1  ssp_niger_libore_168_h2  \\\n",
       "0                        1                        1                        1   \n",
       "1                        1                        1                        1   \n",
       "2                        1                        1                        1   \n",
       "3                        1                        1                        1   \n",
       "4                        1                        1                        1   \n",
       "\n",
       "   ssp_niger_libore_169_h1  ssp_niger_libore_169_h2  ssp_niger_libore_173_h1  \\\n",
       "0                        1                        1                        1   \n",
       "1                        1                        1                        1   \n",
       "2                        1                        1                        1   \n",
       "3                        1                        1                        1   \n",
       "4                        1                        1                        1   \n",
       "\n",
       "   ssp_niger_libore_173_h2  ssp_zambia_kafue_71_h1  ssp_zambia_kafue_71_h2  \n",
       "0                        1                       0                       0  \n",
       "1                        1                       0                       0  \n",
       "2                        1                       0                       0  \n",
       "3                        1                       0                       0  \n",
       "4                        1                       0                       0  \n",
       "\n",
       "[5 rows x 263 columns]"
      ]
     },
     "execution_count": 23,
     "metadata": {},
     "output_type": "execute_result"
    }
   ],
   "source": [
    "#read in all non-mito loter files into a dask data frame (and drop column with variant ids)\n",
    "ddf=dask.dataframe.read_csv(\"csv_files/loter_NW*_T.csv\", sep=\",\", blocksize=None, sample=256_000, header=0)\n",
    "ddf.head()"
   ]
  },
  {
   "cell_type": "code",
   "execution_count": 24,
   "id": "f0d5c183-f96a-4e60-acd2-88cd2c78effc",
   "metadata": {},
   "outputs": [],
   "source": [
    "per_indv_df=pd.read_csv(\"perc_bovis_per_indiv.csv\", sep=\",\")\n",
    "k_labels=per_indv_df[\"kmeans_labels\"]"
   ]
  },
  {
   "cell_type": "code",
   "execution_count": 25,
   "id": "abc3c84b-506f-4d7b-8662-3b742ca6643d",
   "metadata": {},
   "outputs": [],
   "source": [
    "#get idxs in the df for each pca k population\n",
    "per_indv_df=pd.read_csv(\"perc_bovis_per_indiv.csv\", sep=\",\")\n",
    "k_labels=per_indv_df[\"kmeans_labels\"]\n",
    "\n",
    "k_idxs={}    \n",
    "for k_label in set(k_labels):\n",
    "    #np.where returns tuple.  get rid of it\n",
    "    k_idxs[k_label]=np.where(np.array(k_labels)==k_label)[0]"
   ]
  },
  {
   "cell_type": "code",
   "execution_count": null,
   "id": "eb71d4e0-b60c-404f-8036-84544f520288",
   "metadata": {},
   "outputs": [],
   "source": [
    "#extract each pop from the dask dataframe and sum the number of bovis variants at each site\n",
    "sb_per_site = ddf.iloc[:,k_idxs['Sb'] + 1      ].sum(axis='columns').compute()\n",
    "nw_per_site = ddf.iloc[:,k_idxs['Sh (NW)'] + 1 ].sum(axis='columns').compute()\n",
    "se_per_site = ddf.iloc[:,k_idxs['Sh (SE)'] + 1 ].sum(axis='columns').compute()\n",
    "\n",
    "#divide the number of bovis variants by the number of samples to get % bovis at each site\n",
    "sb_per_site = sb_per_site/len(k_idxs['Sb'])\n",
    "nw_per_site = nw_per_site/len(k_idxs['Sh (NW)'])\n",
    "se_per_site = se_per_site/len(k_idxs['Sh (SE)'])"
   ]
  },
  {
   "cell_type": "code",
   "execution_count": null,
   "id": "4a75ace4-29b2-4e75-bced-c2155214421c",
   "metadata": {},
   "outputs": [],
   "source": [
    "#get the variant ids\n",
    "loter_var_ids=ddf.iloc[:,0].compute()"
   ]
  },
  {
   "cell_type": "code",
   "execution_count": 29,
   "id": "51cd98eb-a288-49f1-af37-28f2a6254fd1",
   "metadata": {},
   "outputs": [
    {
     "name": "stdout",
     "output_type": "stream",
     "text": [
      "loter_var_ids: n = 34833255\n",
      "var_ids: n = 37131010\n"
     ]
    }
   ],
   "source": [
    "#check to make sure we have the number of variants expected\n",
    "lvi = len(loter_var_ids)\n",
    "vi  = len(var_ids)\n",
    "\n",
    "print(\"loter_var_ids: n = {}\".format(lvi))\n",
    "print(\"var_ids: n = {}\".format(vi))\n"
   ]
  },
  {
   "cell_type": "code",
   "execution_count": 30,
   "id": "8799ed87-b8e5-4f44-a2e8-85799f119fe1",
   "metadata": {},
   "outputs": [
    {
     "name": "stderr",
     "output_type": "stream",
     "text": [
      "  0%|          | 173820/34833255 [00:00<00:19, 1738060.77it/s]"
     ]
    },
    {
     "name": "stdout",
     "output_type": "stream",
     "text": [
      "getting ids\n"
     ]
    },
    {
     "name": "stderr",
     "output_type": "stream",
     "text": [
      "100%|██████████| 34833255/34833255 [00:17<00:00, 1953129.32it/s]\n"
     ]
    },
    {
     "name": "stdout",
     "output_type": "stream",
     "text": [
      "initialize df\n",
      "populate chroms\n",
      "populate poss\n",
      "populate ids\n",
      "populate nw\n",
      "populate se\n",
      "populate sb\n",
      "writing to file\n"
     ]
    },
    {
     "data": {
      "text/html": [
       "<div>\n",
       "<style scoped>\n",
       "    .dataframe tbody tr th:only-of-type {\n",
       "        vertical-align: middle;\n",
       "    }\n",
       "\n",
       "    .dataframe tbody tr th {\n",
       "        vertical-align: top;\n",
       "    }\n",
       "\n",
       "    .dataframe thead th {\n",
       "        text-align: right;\n",
       "    }\n",
       "</style>\n",
       "<table border=\"1\" class=\"dataframe\">\n",
       "  <thead>\n",
       "    <tr style=\"text-align: right;\">\n",
       "      <th></th>\n",
       "      <th>chrom</th>\n",
       "      <th>pos</th>\n",
       "      <th>variant_id</th>\n",
       "      <th>NW</th>\n",
       "      <th>SE</th>\n",
       "      <th>Sb</th>\n",
       "    </tr>\n",
       "  </thead>\n",
       "  <tbody>\n",
       "    <tr>\n",
       "      <th>0</th>\n",
       "      <td>NW_023366043.1</td>\n",
       "      <td>329</td>\n",
       "      <td>NW_023366043.1:329</td>\n",
       "      <td>0.810127</td>\n",
       "      <td>0.043478</td>\n",
       "      <td>1.0</td>\n",
       "    </tr>\n",
       "    <tr>\n",
       "      <th>1</th>\n",
       "      <td>NW_023366043.1</td>\n",
       "      <td>341</td>\n",
       "      <td>NW_023366043.1:341</td>\n",
       "      <td>0.810127</td>\n",
       "      <td>0.043478</td>\n",
       "      <td>1.0</td>\n",
       "    </tr>\n",
       "    <tr>\n",
       "      <th>2</th>\n",
       "      <td>NW_023366043.1</td>\n",
       "      <td>367</td>\n",
       "      <td>NW_023366043.1:367</td>\n",
       "      <td>0.810127</td>\n",
       "      <td>0.043478</td>\n",
       "      <td>1.0</td>\n",
       "    </tr>\n",
       "    <tr>\n",
       "      <th>3</th>\n",
       "      <td>NW_023366043.1</td>\n",
       "      <td>384</td>\n",
       "      <td>NW_023366043.1:384</td>\n",
       "      <td>0.810127</td>\n",
       "      <td>0.043478</td>\n",
       "      <td>1.0</td>\n",
       "    </tr>\n",
       "    <tr>\n",
       "      <th>4</th>\n",
       "      <td>NW_023366043.1</td>\n",
       "      <td>399</td>\n",
       "      <td>NW_023366043.1:399</td>\n",
       "      <td>0.810127</td>\n",
       "      <td>0.043478</td>\n",
       "      <td>1.0</td>\n",
       "    </tr>\n",
       "  </tbody>\n",
       "</table>\n",
       "</div>"
      ],
      "text/plain": [
       "            chrom  pos          variant_id        NW        SE   Sb\n",
       "0  NW_023366043.1  329  NW_023366043.1:329  0.810127  0.043478  1.0\n",
       "1  NW_023366043.1  341  NW_023366043.1:341  0.810127  0.043478  1.0\n",
       "2  NW_023366043.1  367  NW_023366043.1:367  0.810127  0.043478  1.0\n",
       "3  NW_023366043.1  384  NW_023366043.1:384  0.810127  0.043478  1.0\n",
       "4  NW_023366043.1  399  NW_023366043.1:399  0.810127  0.043478  1.0"
      ]
     },
     "execution_count": 30,
     "metadata": {},
     "output_type": "execute_result"
    }
   ],
   "source": [
    "lchroms = []\n",
    "poss = [] \n",
    "\n",
    "print(\"getting ids\")\n",
    "for loter_var_id in tqdm(loter_var_ids):\n",
    "    chrom, pos = loter_var_id.split(\":\")\n",
    "    lchroms.append(chrom)\n",
    "    poss.append(pos)\n",
    "\n",
    "print(\"initialize df\")\n",
    "#now turn this data into a df\n",
    "df=pd.DataFrame( columns = [ \"chrom\", \n",
    "                             \"pos\", \n",
    "                             \"variant_id\", \n",
    "                             \"NW\", \n",
    "                             \"SE\", \n",
    "                             \"Sb\"])\n",
    "\n",
    "print(\"populate chroms\")\n",
    "df[\"chrom\"] = lchroms\n",
    "print(\"populate poss\")\n",
    "df[\"pos\"] = poss\n",
    "print(\"populate ids\")\n",
    "df[\"variant_id\"]=list(loter_var_ids)\n",
    "print(\"populate nw\")\n",
    "df[\"NW\"]=list(nw_per_site)\n",
    "print(\"populate se\")\n",
    "df[\"SE\"]=list(se_per_site)\n",
    "print(\"populate sb\")\n",
    "df[\"Sb\"]=list(sb_per_site)\n",
    "\n",
    "print(\"writing to file\")\n",
    "df.to_csv(\"perc_bovis_per_site.csv\", sep=\",\", index=False)\n",
    "df.head()"
   ]
  },
  {
   "cell_type": "code",
   "execution_count": 38,
   "id": "8c5924ac-b25f-4c07-91f3-8ce950828371",
   "metadata": {
    "tags": []
   },
   "outputs": [],
   "source": [
    "ys=df[\"NW\"]-df[\"SE\"]\n",
    "xs=range(0,len(ys))\n",
    "\n",
    "figure(figsize=(7, 3), dpi=300)\n",
    "plt.scatter(xs, ys, c=ys, cmap=\"cool\", s=0.5, vmin=-1, vmax=1)\n",
    "plt.colorbar()\n",
    "plt.ylim(-1, 1)\n",
    "plt.xlim([-500_000,xs[-1]+500_000])\n",
    "plt.axhline(0.90,  lw=1, linestyle=\":\", c=\"black\")\n",
    "plt.axhline(-0.90, lw=1, linestyle=\":\", c=\"black\")\n",
    "plt.axhline(0, lw=1, c=\"black\")\n",
    "plt.xlabel(\"Scaffold position\")\n",
    "plt.ylabel(\"Excess S. bovis ancestry\")\n",
    "plt.xticks([])\n",
    "plt.tick_params(labelbottom=False, length=7) \n",
    "\n",
    "plt.savefig(\"perc_bovis_per_site.png\", dpi=300)\n",
    "\n",
    "#plt.show()\n",
    "plt.close()"
   ]
  },
  {
   "cell_type": "code",
   "execution_count": 39,
   "id": "44e19903-054a-4419-a2d9-3e38eaa52d5d",
   "metadata": {},
   "outputs": [
    {
     "data": {
      "image/png": "[encoded data removed]",
      "text/plain": [
       "<IPython.core.display.Image object>"
      ]
     },
     "execution_count": 39,
     "metadata": {},
     "output_type": "execute_result"
    }
   ],
   "source": [
    "Image(\"perc_bovis_per_site.png\")"
   ]
  },
  {
   "cell_type": "code",
   "execution_count": 36,
   "id": "33ae7caf-cafa-4c6f-a4cb-f3a725a3c15d",
   "metadata": {},
   "outputs": [
    {
     "data": {
      "image/png": "[encoded data removed]",
      "text/plain": [
       "<Figure size 576x216 with 3 Axes>"
      ]
     },
     "metadata": {
      "needs_background": "light"
     },
     "output_type": "display_data"
    }
   ],
   "source": [
    "#make histograms of the per site Sb alleles\n",
    "fig, (ax_nw, ax_se, ax_sb) = plt.subplots(nrows=1, ncols=3, figsize=(8,3))\n",
    "\n",
    "ax_nw.hist(df[\"NW\"]*100, bins=50, alpha=1, label=\"S.h. (NW)\", color='grey', edgecolor=\"black\", linewidth=0.5)\n",
    "ax_nw.set_title(\"S.haem. (NW Africa)\", fontsize=10, y=1.0, pad=-10)\n",
    "\n",
    "ax_se.hist(df[\"SE\"]*100, bins=50, alpha=1, label=\"S.h. (SE)\", color='grey', edgecolor=\"black\", linewidth=0.5)\n",
    "ax_se.set_title(\"S. haem. (SE Africa)\", fontsize=10, y=1.0, pad=-10)\n",
    "\n",
    "ax_sb.hist(df[\"Sb\"]*100, bins=50, alpha=1, label=\"S. bovis\", color='grey', edgecolor=\"black\", linewidth=0.5)\n",
    "ax_sb.set_title(\"S. bovis\", fontsize=10, y=1.0, pad=-10)\n",
    "\n",
    "\n",
    "fig.text(0.00, 0.25, 'SNV count', ha='center', rotation='vertical', fontsize=12)\n",
    "fig.text(0.5, -0.01, '% S. bovis ancestry', ha='center', fontsize=12)\n",
    "fig.tight_layout()\n",
    "plt.savefig(\"per_bovis_per_site_histogram.svg\")\n",
    "plt.savefig(\"per_bovis_per_site_histogram.png\", dpi=300)\n",
    "plt.show()"
   ]
  },
  {
   "cell_type": "markdown",
   "id": "698e59b0-979e-4069-88dd-528836417c04",
   "metadata": {
    "jp-MarkdownHeadingCollapsed": true,
    "tags": []
   },
   "source": [
    "## Which sites and loci have an excess of Sb alleles (90% or greater)?"
   ]
  },
  {
   "cell_type": "code",
   "execution_count": 13,
   "id": "e56efb9f-b3ab-4263-9296-a66cb3696411",
   "metadata": {},
   "outputs": [
    {
     "data": {
      "text/html": [
       "<div>\n",
       "<style scoped>\n",
       "    .dataframe tbody tr th:only-of-type {\n",
       "        vertical-align: middle;\n",
       "    }\n",
       "\n",
       "    .dataframe tbody tr th {\n",
       "        vertical-align: top;\n",
       "    }\n",
       "\n",
       "    .dataframe thead th {\n",
       "        text-align: right;\n",
       "    }\n",
       "</style>\n",
       "<table border=\"1\" class=\"dataframe\">\n",
       "  <thead>\n",
       "    <tr style=\"text-align: right;\">\n",
       "      <th></th>\n",
       "      <th>chrom</th>\n",
       "      <th>pos</th>\n",
       "      <th>variant_id</th>\n",
       "      <th>NW</th>\n",
       "      <th>SE</th>\n",
       "      <th>Sb</th>\n",
       "    </tr>\n",
       "  </thead>\n",
       "  <tbody>\n",
       "    <tr>\n",
       "      <th>0</th>\n",
       "      <td>NC_008074.1</td>\n",
       "      <td>180</td>\n",
       "      <td>NC_008074.1:180</td>\n",
       "      <td>0.56962</td>\n",
       "      <td>0.0</td>\n",
       "      <td>1.0</td>\n",
       "    </tr>\n",
       "    <tr>\n",
       "      <th>1</th>\n",
       "      <td>NC_008074.1</td>\n",
       "      <td>199</td>\n",
       "      <td>NC_008074.1:199</td>\n",
       "      <td>0.56962</td>\n",
       "      <td>0.0</td>\n",
       "      <td>1.0</td>\n",
       "    </tr>\n",
       "    <tr>\n",
       "      <th>2</th>\n",
       "      <td>NC_008074.1</td>\n",
       "      <td>207</td>\n",
       "      <td>NC_008074.1:207</td>\n",
       "      <td>0.56962</td>\n",
       "      <td>0.0</td>\n",
       "      <td>1.0</td>\n",
       "    </tr>\n",
       "    <tr>\n",
       "      <th>3</th>\n",
       "      <td>NC_008074.1</td>\n",
       "      <td>219</td>\n",
       "      <td>NC_008074.1:219</td>\n",
       "      <td>0.56962</td>\n",
       "      <td>0.0</td>\n",
       "      <td>1.0</td>\n",
       "    </tr>\n",
       "    <tr>\n",
       "      <th>4</th>\n",
       "      <td>NC_008074.1</td>\n",
       "      <td>240</td>\n",
       "      <td>NC_008074.1:240</td>\n",
       "      <td>0.56962</td>\n",
       "      <td>0.0</td>\n",
       "      <td>1.0</td>\n",
       "    </tr>\n",
       "  </tbody>\n",
       "</table>\n",
       "</div>"
      ],
      "text/plain": [
       "         chrom  pos       variant_id       NW   SE   Sb\n",
       "0  NC_008074.1  180  NC_008074.1:180  0.56962  0.0  1.0\n",
       "1  NC_008074.1  199  NC_008074.1:199  0.56962  0.0  1.0\n",
       "2  NC_008074.1  207  NC_008074.1:207  0.56962  0.0  1.0\n",
       "3  NC_008074.1  219  NC_008074.1:219  0.56962  0.0  1.0\n",
       "4  NC_008074.1  240  NC_008074.1:240  0.56962  0.0  1.0"
      ]
     },
     "execution_count": 13,
     "metadata": {},
     "output_type": "execute_result"
    }
   ],
   "source": [
    "#df = pd.read_csv(\"perc_bovis_per_site.csv\", sep=\",\")\n",
    "ddf = dask.dataframe.read_csv(\"perc_bovis_per_site.csv\", sep=\",\", blocksize=None, sample=256_000)\n",
    "ddf.head()"
   ]
  },
  {
   "cell_type": "code",
   "execution_count": 20,
   "id": "3e760999-64fc-4eab-bc2b-cd17712dd1f0",
   "metadata": {},
   "outputs": [
    {
     "name": "stderr",
     "output_type": "stream",
     "text": [
      "/master/nplatt/sch_hae_scan/envs/jupyterlab_ancestry/lib/python3.9/site-packages/pandas/core/frame.py:3607: SettingWithCopyWarning: \n",
      "A value is trying to be set on a copy of a slice from a DataFrame.\n",
      "Try using .loc[row_indexer,col_indexer] = value instead\n",
      "\n",
      "See the caveats in the documentation: https://pandas.pydata.org/pandas-docs/stable/user_guide/indexing.html#returning-a-view-versus-a-copy\n",
      "  self._set_item(key, value)\n"
     ]
    }
   ],
   "source": [
    "df_90 = ddf.loc[ddf[\"NW\"] >= 0.90].compute()\n",
    "df_90.to_csv(\"sb_snvs_at_90p_in_nw.csv\", sep=\",\", header=0, index=False)\n",
    "\n",
    "#now convert to a bed\n",
    "df_90_bed=df_90[[\"chrom\", \"pos\"]]\n",
    "df_90_bed[\"stop\"] = df_90_bed[\"pos\"] + 1\n",
    "df_90_bed.to_csv(\"sb_snvs_at_90p_in_nw.bed\", sep=\"\\t\", header=False, index=False)"
   ]
  },
  {
   "cell_type": "code",
   "execution_count": 21,
   "id": "f9ff699e-6158-420b-b643-345d6ce1687b",
   "metadata": {},
   "outputs": [
    {
     "data": {
      "text/html": [
       "<div>\n",
       "<style scoped>\n",
       "    .dataframe tbody tr th:only-of-type {\n",
       "        vertical-align: middle;\n",
       "    }\n",
       "\n",
       "    .dataframe tbody tr th {\n",
       "        vertical-align: top;\n",
       "    }\n",
       "\n",
       "    .dataframe thead th {\n",
       "        text-align: right;\n",
       "    }\n",
       "</style>\n",
       "<table border=\"1\" class=\"dataframe\">\n",
       "  <thead>\n",
       "    <tr style=\"text-align: right;\">\n",
       "      <th></th>\n",
       "      <th>chrom</th>\n",
       "      <th>start</th>\n",
       "      <th>end</th>\n",
       "    </tr>\n",
       "  </thead>\n",
       "  <tbody>\n",
       "    <tr>\n",
       "      <th>0</th>\n",
       "      <td>NW_023366070.1</td>\n",
       "      <td>3708</td>\n",
       "      <td>14958</td>\n",
       "    </tr>\n",
       "    <tr>\n",
       "      <th>1</th>\n",
       "      <td>NW_023366099.1</td>\n",
       "      <td>250</td>\n",
       "      <td>2694</td>\n",
       "    </tr>\n",
       "    <tr>\n",
       "      <th>2</th>\n",
       "      <td>NW_023366109.1</td>\n",
       "      <td>5842727</td>\n",
       "      <td>6454176</td>\n",
       "    </tr>\n",
       "    <tr>\n",
       "      <th>3</th>\n",
       "      <td>NW_023366241.1</td>\n",
       "      <td>6722397</td>\n",
       "      <td>6725661</td>\n",
       "    </tr>\n",
       "    <tr>\n",
       "      <th>4</th>\n",
       "      <td>NW_023366290.1</td>\n",
       "      <td>85072</td>\n",
       "      <td>294879</td>\n",
       "    </tr>\n",
       "    <tr>\n",
       "      <th>5</th>\n",
       "      <td>NW_023366330.1</td>\n",
       "      <td>3311</td>\n",
       "      <td>4836</td>\n",
       "    </tr>\n",
       "    <tr>\n",
       "      <th>6</th>\n",
       "      <td>NW_023366419.1</td>\n",
       "      <td>174</td>\n",
       "      <td>831</td>\n",
       "    </tr>\n",
       "    <tr>\n",
       "      <th>7</th>\n",
       "      <td>NW_023366560.1</td>\n",
       "      <td>548</td>\n",
       "      <td>71950</td>\n",
       "    </tr>\n",
       "    <tr>\n",
       "      <th>8</th>\n",
       "      <td>NW_023366652.1</td>\n",
       "      <td>2676</td>\n",
       "      <td>170279</td>\n",
       "    </tr>\n",
       "    <tr>\n",
       "      <th>9</th>\n",
       "      <td>NW_023366679.1</td>\n",
       "      <td>8400451</td>\n",
       "      <td>8636063</td>\n",
       "    </tr>\n",
       "    <tr>\n",
       "      <th>10</th>\n",
       "      <td>NW_023366696.1</td>\n",
       "      <td>2204</td>\n",
       "      <td>3554</td>\n",
       "    </tr>\n",
       "  </tbody>\n",
       "</table>\n",
       "</div>"
      ],
      "text/plain": [
       "             chrom    start      end\n",
       "0   NW_023366070.1     3708    14958\n",
       "1   NW_023366099.1      250     2694\n",
       "2   NW_023366109.1  5842727  6454176\n",
       "3   NW_023366241.1  6722397  6725661\n",
       "4   NW_023366290.1    85072   294879\n",
       "5   NW_023366330.1     3311     4836\n",
       "6   NW_023366419.1      174      831\n",
       "7   NW_023366560.1      548    71950\n",
       "8   NW_023366652.1     2676   170279\n",
       "9   NW_023366679.1  8400451  8636063\n",
       "10  NW_023366696.1     2204     3554"
      ]
     },
     "execution_count": 21,
     "metadata": {},
     "output_type": "execute_result"
    }
   ],
   "source": [
    "snvs_bed = pybedtools.BedTool(\"sb_snvs_at_90p_in_nw.bed\")\n",
    "loci_bed = snvs_bed.merge(d=100_000)\n",
    "loci_bed.saveas('sb_loci_at_90p_in_nw.bed')\n",
    "loci_df = loci_bed.to_dataframe()\n",
    "loci_df"
   ]
  },
  {
   "cell_type": "markdown",
   "id": "6a4f12a2-c637-4c35-b6a3-3f746021f29d",
   "metadata": {
    "jp-MarkdownHeadingCollapsed": true,
    "tags": []
   },
   "source": [
    "## Which genes have high Sb. ancestry"
   ]
  },
  {
   "cell_type": "code",
   "execution_count": 86,
   "id": "7dd6189e-249d-41eb-b2cb-842a98ab9e14",
   "metadata": {},
   "outputs": [],
   "source": [
    "# gff_file = \"{}/data/GCF_000699445.2_SchHae_2.0_genomic.gff\".format(proj_dir)\n",
    "\n",
    "# gffutils.create_db(gff_file, dbfn='gff.db', force=True, keep_order=True, merge_strategy=\"create_unique\", sort_attribute_values=True)\n",
    "# gff_db = gffutils.FeatureDB('gff.db', keep_order=True)\n",
    "\n",
    "with open(\"genes_in_sb_loci.csv\", 'w') as out_f:\n",
    "    outline = \"gene,chrom,start,stop,locus\\n\"\n",
    "    out_f.write(outline)\n",
    "    \n",
    "    for loci in loci_bed:\n",
    "        genes = gff_db.region(region=(loci.chrom, loci.start, loci.stop), completely_within=False, featuretype=['gene'])\n",
    "        for gene in genes:\n",
    "            outline=\"{},{},{},{},{}:{}-{}\".format(gene.id, gene.chrom, gene.start, gene.stop, loci.chrom, loci.start, loci.stop)\n",
    "            out_f.write(\"{}\\n\".format(outline))"
   ]
  },
  {
   "cell_type": "code",
   "execution_count": 87,
   "id": "ccdaab16-9657-4cb7-97ac-5f062612a1a7",
   "metadata": {},
   "outputs": [
    {
     "data": {
      "text/html": [
       "<div>\n",
       "<style scoped>\n",
       "    .dataframe tbody tr th:only-of-type {\n",
       "        vertical-align: middle;\n",
       "    }\n",
       "\n",
       "    .dataframe tbody tr th {\n",
       "        vertical-align: top;\n",
       "    }\n",
       "\n",
       "    .dataframe thead th {\n",
       "        text-align: right;\n",
       "    }\n",
       "</style>\n",
       "<table border=\"1\" class=\"dataframe\">\n",
       "  <thead>\n",
       "    <tr style=\"text-align: right;\">\n",
       "      <th></th>\n",
       "      <th>gene</th>\n",
       "      <th>chrom</th>\n",
       "      <th>start</th>\n",
       "      <th>stop</th>\n",
       "      <th>locus</th>\n",
       "    </tr>\n",
       "  </thead>\n",
       "  <tbody>\n",
       "    <tr>\n",
       "      <th>0</th>\n",
       "      <td>gene-MS3_0018266</td>\n",
       "      <td>NW_023366109.1</td>\n",
       "      <td>5870182</td>\n",
       "      <td>5904252</td>\n",
       "      <td>NW_023366109.1:5842727-6454176</td>\n",
       "    </tr>\n",
       "    <tr>\n",
       "      <th>1</th>\n",
       "      <td>gene-MS3_0018267</td>\n",
       "      <td>NW_023366109.1</td>\n",
       "      <td>5913537</td>\n",
       "      <td>5921455</td>\n",
       "      <td>NW_023366109.1:5842727-6454176</td>\n",
       "    </tr>\n",
       "    <tr>\n",
       "      <th>2</th>\n",
       "      <td>gene-MS3_0018268</td>\n",
       "      <td>NW_023366109.1</td>\n",
       "      <td>5926902</td>\n",
       "      <td>5927822</td>\n",
       "      <td>NW_023366109.1:5842727-6454176</td>\n",
       "    </tr>\n",
       "    <tr>\n",
       "      <th>3</th>\n",
       "      <td>gene-MS3_0018269</td>\n",
       "      <td>NW_023366109.1</td>\n",
       "      <td>5954684</td>\n",
       "      <td>6002331</td>\n",
       "      <td>NW_023366109.1:5842727-6454176</td>\n",
       "    </tr>\n",
       "    <tr>\n",
       "      <th>4</th>\n",
       "      <td>gene-MS3_0018270</td>\n",
       "      <td>NW_023366109.1</td>\n",
       "      <td>6022780</td>\n",
       "      <td>6033938</td>\n",
       "      <td>NW_023366109.1:5842727-6454176</td>\n",
       "    </tr>\n",
       "    <tr>\n",
       "      <th>5</th>\n",
       "      <td>gene-MS3_0018271</td>\n",
       "      <td>NW_023366109.1</td>\n",
       "      <td>6071450</td>\n",
       "      <td>6085048</td>\n",
       "      <td>NW_023366109.1:5842727-6454176</td>\n",
       "    </tr>\n",
       "    <tr>\n",
       "      <th>6</th>\n",
       "      <td>gene-MS3_0018272</td>\n",
       "      <td>NW_023366109.1</td>\n",
       "      <td>6132005</td>\n",
       "      <td>6136032</td>\n",
       "      <td>NW_023366109.1:5842727-6454176</td>\n",
       "    </tr>\n",
       "    <tr>\n",
       "      <th>7</th>\n",
       "      <td>gene-MS3_0018273</td>\n",
       "      <td>NW_023366109.1</td>\n",
       "      <td>6137134</td>\n",
       "      <td>6137427</td>\n",
       "      <td>NW_023366109.1:5842727-6454176</td>\n",
       "    </tr>\n",
       "    <tr>\n",
       "      <th>8</th>\n",
       "      <td>gene-MS3_0018274</td>\n",
       "      <td>NW_023366109.1</td>\n",
       "      <td>6145930</td>\n",
       "      <td>6154021</td>\n",
       "      <td>NW_023366109.1:5842727-6454176</td>\n",
       "    </tr>\n",
       "    <tr>\n",
       "      <th>9</th>\n",
       "      <td>gene-MS3_0018275</td>\n",
       "      <td>NW_023366109.1</td>\n",
       "      <td>6215382</td>\n",
       "      <td>6242066</td>\n",
       "      <td>NW_023366109.1:5842727-6454176</td>\n",
       "    </tr>\n",
       "    <tr>\n",
       "      <th>10</th>\n",
       "      <td>gene-MS3_0018276</td>\n",
       "      <td>NW_023366109.1</td>\n",
       "      <td>6264919</td>\n",
       "      <td>6265164</td>\n",
       "      <td>NW_023366109.1:5842727-6454176</td>\n",
       "    </tr>\n",
       "    <tr>\n",
       "      <th>11</th>\n",
       "      <td>gene-MS3_0018277</td>\n",
       "      <td>NW_023366109.1</td>\n",
       "      <td>6300026</td>\n",
       "      <td>6319522</td>\n",
       "      <td>NW_023366109.1:5842727-6454176</td>\n",
       "    </tr>\n",
       "    <tr>\n",
       "      <th>12</th>\n",
       "      <td>gene-MS3_0018278</td>\n",
       "      <td>NW_023366109.1</td>\n",
       "      <td>6379195</td>\n",
       "      <td>6440746</td>\n",
       "      <td>NW_023366109.1:5842727-6454176</td>\n",
       "    </tr>\n",
       "    <tr>\n",
       "      <th>13</th>\n",
       "      <td>gene-MS3_0018706</td>\n",
       "      <td>NW_023366290.1</td>\n",
       "      <td>94624</td>\n",
       "      <td>100910</td>\n",
       "      <td>NW_023366290.1:85072-294879</td>\n",
       "    </tr>\n",
       "    <tr>\n",
       "      <th>14</th>\n",
       "      <td>gene-MS3_0018707</td>\n",
       "      <td>NW_023366290.1</td>\n",
       "      <td>196019</td>\n",
       "      <td>202078</td>\n",
       "      <td>NW_023366290.1:85072-294879</td>\n",
       "    </tr>\n",
       "    <tr>\n",
       "      <th>15</th>\n",
       "      <td>gene-MS3_0018708</td>\n",
       "      <td>NW_023366290.1</td>\n",
       "      <td>220968</td>\n",
       "      <td>231179</td>\n",
       "      <td>NW_023366290.1:85072-294879</td>\n",
       "    </tr>\n",
       "    <tr>\n",
       "      <th>16</th>\n",
       "      <td>gene-MS3_0018709</td>\n",
       "      <td>NW_023366290.1</td>\n",
       "      <td>240554</td>\n",
       "      <td>243465</td>\n",
       "      <td>NW_023366290.1:85072-294879</td>\n",
       "    </tr>\n",
       "    <tr>\n",
       "      <th>17</th>\n",
       "      <td>gene-MS3_0018710</td>\n",
       "      <td>NW_023366290.1</td>\n",
       "      <td>269305</td>\n",
       "      <td>284767</td>\n",
       "      <td>NW_023366290.1:85072-294879</td>\n",
       "    </tr>\n",
       "    <tr>\n",
       "      <th>18</th>\n",
       "      <td>gene-MS3_0018711</td>\n",
       "      <td>NW_023366290.1</td>\n",
       "      <td>285056</td>\n",
       "      <td>324334</td>\n",
       "      <td>NW_023366290.1:85072-294879</td>\n",
       "    </tr>\n",
       "    <tr>\n",
       "      <th>19</th>\n",
       "      <td>gene-MS3_0013477</td>\n",
       "      <td>NW_023366652.1</td>\n",
       "      <td>49359</td>\n",
       "      <td>76724</td>\n",
       "      <td>NW_023366652.1:2676-170279</td>\n",
       "    </tr>\n",
       "    <tr>\n",
       "      <th>20</th>\n",
       "      <td>gene-MS3_0013478</td>\n",
       "      <td>NW_023366652.1</td>\n",
       "      <td>83233</td>\n",
       "      <td>105049</td>\n",
       "      <td>NW_023366652.1:2676-170279</td>\n",
       "    </tr>\n",
       "    <tr>\n",
       "      <th>21</th>\n",
       "      <td>gene-MS3_0013479</td>\n",
       "      <td>NW_023366652.1</td>\n",
       "      <td>117528</td>\n",
       "      <td>129720</td>\n",
       "      <td>NW_023366652.1:2676-170279</td>\n",
       "    </tr>\n",
       "    <tr>\n",
       "      <th>22</th>\n",
       "      <td>gene-MS3_0013480</td>\n",
       "      <td>NW_023366652.1</td>\n",
       "      <td>144600</td>\n",
       "      <td>171700</td>\n",
       "      <td>NW_023366652.1:2676-170279</td>\n",
       "    </tr>\n",
       "    <tr>\n",
       "      <th>23</th>\n",
       "      <td>gene-MS3_0012548</td>\n",
       "      <td>NW_023366679.1</td>\n",
       "      <td>8440252</td>\n",
       "      <td>8458861</td>\n",
       "      <td>NW_023366679.1:8400451-8636063</td>\n",
       "    </tr>\n",
       "    <tr>\n",
       "      <th>24</th>\n",
       "      <td>gene-MS3_0012549</td>\n",
       "      <td>NW_023366679.1</td>\n",
       "      <td>8462138</td>\n",
       "      <td>8477891</td>\n",
       "      <td>NW_023366679.1:8400451-8636063</td>\n",
       "    </tr>\n",
       "    <tr>\n",
       "      <th>25</th>\n",
       "      <td>gene-MS3_0012550</td>\n",
       "      <td>NW_023366679.1</td>\n",
       "      <td>8487370</td>\n",
       "      <td>8507994</td>\n",
       "      <td>NW_023366679.1:8400451-8636063</td>\n",
       "    </tr>\n",
       "    <tr>\n",
       "      <th>26</th>\n",
       "      <td>gene-MS3_0012551</td>\n",
       "      <td>NW_023366679.1</td>\n",
       "      <td>8520710</td>\n",
       "      <td>8533971</td>\n",
       "      <td>NW_023366679.1:8400451-8636063</td>\n",
       "    </tr>\n",
       "    <tr>\n",
       "      <th>27</th>\n",
       "      <td>gene-MS3_0012552</td>\n",
       "      <td>NW_023366679.1</td>\n",
       "      <td>8541687</td>\n",
       "      <td>8557372</td>\n",
       "      <td>NW_023366679.1:8400451-8636063</td>\n",
       "    </tr>\n",
       "    <tr>\n",
       "      <th>28</th>\n",
       "      <td>gene-MS3_0012553</td>\n",
       "      <td>NW_023366679.1</td>\n",
       "      <td>8567422</td>\n",
       "      <td>8600894</td>\n",
       "      <td>NW_023366679.1:8400451-8636063</td>\n",
       "    </tr>\n",
       "    <tr>\n",
       "      <th>29</th>\n",
       "      <td>gene-MS3_0012554</td>\n",
       "      <td>NW_023366679.1</td>\n",
       "      <td>8613975</td>\n",
       "      <td>8625456</td>\n",
       "      <td>NW_023366679.1:8400451-8636063</td>\n",
       "    </tr>\n",
       "  </tbody>\n",
       "</table>\n",
       "</div>"
      ],
      "text/plain": [
       "                gene           chrom    start     stop  \\\n",
       "0   gene-MS3_0018266  NW_023366109.1  5870182  5904252   \n",
       "1   gene-MS3_0018267  NW_023366109.1  5913537  5921455   \n",
       "2   gene-MS3_0018268  NW_023366109.1  5926902  5927822   \n",
       "3   gene-MS3_0018269  NW_023366109.1  5954684  6002331   \n",
       "4   gene-MS3_0018270  NW_023366109.1  6022780  6033938   \n",
       "5   gene-MS3_0018271  NW_023366109.1  6071450  6085048   \n",
       "6   gene-MS3_0018272  NW_023366109.1  6132005  6136032   \n",
       "7   gene-MS3_0018273  NW_023366109.1  6137134  6137427   \n",
       "8   gene-MS3_0018274  NW_023366109.1  6145930  6154021   \n",
       "9   gene-MS3_0018275  NW_023366109.1  6215382  6242066   \n",
       "10  gene-MS3_0018276  NW_023366109.1  6264919  6265164   \n",
       "11  gene-MS3_0018277  NW_023366109.1  6300026  6319522   \n",
       "12  gene-MS3_0018278  NW_023366109.1  6379195  6440746   \n",
       "13  gene-MS3_0018706  NW_023366290.1    94624   100910   \n",
       "14  gene-MS3_0018707  NW_023366290.1   196019   202078   \n",
       "15  gene-MS3_0018708  NW_023366290.1   220968   231179   \n",
       "16  gene-MS3_0018709  NW_023366290.1   240554   243465   \n",
       "17  gene-MS3_0018710  NW_023366290.1   269305   284767   \n",
       "18  gene-MS3_0018711  NW_023366290.1   285056   324334   \n",
       "19  gene-MS3_0013477  NW_023366652.1    49359    76724   \n",
       "20  gene-MS3_0013478  NW_023366652.1    83233   105049   \n",
       "21  gene-MS3_0013479  NW_023366652.1   117528   129720   \n",
       "22  gene-MS3_0013480  NW_023366652.1   144600   171700   \n",
       "23  gene-MS3_0012548  NW_023366679.1  8440252  8458861   \n",
       "24  gene-MS3_0012549  NW_023366679.1  8462138  8477891   \n",
       "25  gene-MS3_0012550  NW_023366679.1  8487370  8507994   \n",
       "26  gene-MS3_0012551  NW_023366679.1  8520710  8533971   \n",
       "27  gene-MS3_0012552  NW_023366679.1  8541687  8557372   \n",
       "28  gene-MS3_0012553  NW_023366679.1  8567422  8600894   \n",
       "29  gene-MS3_0012554  NW_023366679.1  8613975  8625456   \n",
       "\n",
       "                             locus  \n",
       "0   NW_023366109.1:5842727-6454176  \n",
       "1   NW_023366109.1:5842727-6454176  \n",
       "2   NW_023366109.1:5842727-6454176  \n",
       "3   NW_023366109.1:5842727-6454176  \n",
       "4   NW_023366109.1:5842727-6454176  \n",
       "5   NW_023366109.1:5842727-6454176  \n",
       "6   NW_023366109.1:5842727-6454176  \n",
       "7   NW_023366109.1:5842727-6454176  \n",
       "8   NW_023366109.1:5842727-6454176  \n",
       "9   NW_023366109.1:5842727-6454176  \n",
       "10  NW_023366109.1:5842727-6454176  \n",
       "11  NW_023366109.1:5842727-6454176  \n",
       "12  NW_023366109.1:5842727-6454176  \n",
       "13     NW_023366290.1:85072-294879  \n",
       "14     NW_023366290.1:85072-294879  \n",
       "15     NW_023366290.1:85072-294879  \n",
       "16     NW_023366290.1:85072-294879  \n",
       "17     NW_023366290.1:85072-294879  \n",
       "18     NW_023366290.1:85072-294879  \n",
       "19      NW_023366652.1:2676-170279  \n",
       "20      NW_023366652.1:2676-170279  \n",
       "21      NW_023366652.1:2676-170279  \n",
       "22      NW_023366652.1:2676-170279  \n",
       "23  NW_023366679.1:8400451-8636063  \n",
       "24  NW_023366679.1:8400451-8636063  \n",
       "25  NW_023366679.1:8400451-8636063  \n",
       "26  NW_023366679.1:8400451-8636063  \n",
       "27  NW_023366679.1:8400451-8636063  \n",
       "28  NW_023366679.1:8400451-8636063  \n",
       "29  NW_023366679.1:8400451-8636063  "
      ]
     },
     "execution_count": 87,
     "metadata": {},
     "output_type": "execute_result"
    }
   ],
   "source": [
    "genes_df=pd.read_csv(\"genes_in_sb_loci.csv\", header=0, sep=\",\")\n",
    "genes_df"
   ]
  },
  {
   "cell_type": "markdown",
   "id": "22618d2b-68bf-4dd1-9f3b-f1d978eb2d3f",
   "metadata": {
    "tags": []
   },
   "source": [
    "## Ancestry at invadolysin"
   ]
  },
  {
   "cell_type": "code",
   "execution_count": 276,
   "id": "218bf3a9-8cb1-4ea9-be94-48f03eb767d8",
   "metadata": {},
   "outputs": [
    {
     "name": "stderr",
     "output_type": "stream",
     "text": [
      "100%|██████████| 34833640/34833640 [20:10<00:00, 28778.73it/s]\n"
     ]
    }
   ],
   "source": [
    "# Ancestry at invadolysin\n",
    "#NW_023366679.1:8567548-8600607\n",
    "\n",
    "chr_df = df.loc[df[\"chrom\"] == \"NW_023366679.1\"]\n",
    "chr_df"
   ]
  },
  {
   "cell_type": "code",
   "execution_count": 268,
   "id": "96d07329-8026-44ae-98cf-c12d2bbca195",
   "metadata": {},
   "outputs": [],
   "source": [
    "nw_y=chr_df[\"NW\"]\n",
    "se_y=chr_df[\"SE\"]\n",
    "sb_y=chr_df[\"Sb\"]\n",
    "x   =list(chr_df[\"pos\"])"
   ]
  },
  {
   "cell_type": "code",
   "execution_count": 271,
   "id": "54c77ded-d300-4e92-966c-7ea71c585f24",
   "metadata": {},
   "outputs": [
    {
     "data": {
      "image/png": "[encoded data removed]",
      "text/plain": [
       "<Figure size 2100x900 with 1 Axes>"
      ]
     },
     "metadata": {
      "needs_background": "light"
     },
     "output_type": "display_data"
    }
   ],
   "source": [
    "figure(figsize=(7, 3), dpi=300)\n",
    "plt.scatter(x, nw_y, c=\"red\",   s=0.5, label = \"NW\")\n",
    "plt.scatter(x, se_y, c=\"blue\",  s=0.5, label = \"SE\")\n",
    "plt.scatter(x, sb_y, c=\"green\", s=0.5, label = \"Sb\")\n",
    "\n",
    "# plt.scatter(x, se_y, c=\"blue\", s=0.5, label = \"SE\")\n",
    "# plt.scatter(x, sb_y, c=\"green\", s=0.5, label = \"Sb\")\n",
    "\n",
    "plt.ylim(-0.1, 1.1)\n",
    "#plt.xlim([0,x[-1]])\n",
    "plt.axhline(1,  lw=0.5, linestyle=\":\", c=\"black\")\n",
    "#plt.axhline(-0.95, lw=1, linestyle=\":\", c=\"black\")\n",
    "plt.axvline(8_567_548, lw=0.5, linestyle=\":\", c=\"black\")\n",
    "plt.axvline(8_600_607, lw=0.5, linestyle=\":\", c=\"black\")\n",
    "\n",
    "#plt.axhline(0, lw=1, c=\"black\")\n",
    "plt.xlabel(\"NW_023366679.1\")\n",
    "plt.ylabel(\"Excess S. bovis ancestry\")\n",
    "#plt.xticks([8_567_548, 8_567_548])\n",
    "#plt.tick_params(labelbottom=False, length=7) \n",
    "\n",
    "plt.vlines(8_567_548, -2, 2, colors=\"grey\")\n",
    "plt.vlines(8_600_607, -2, 2, colors=\"grey\")\n",
    "\n",
    "plt.savefig(\"{}/loter/sb_ancestry_at_invadolysin.png\".format(results_dir), dpi=300)\n",
    "\n",
    "plt.show()\n",
    "plt.close()"
   ]
  },
  {
   "cell_type": "markdown",
   "id": "2e1dd9f6-7772-40e7-9a0f-5060f25db3df",
   "metadata": {
    "jp-MarkdownHeadingCollapsed": true,
    "tags": []
   },
   "source": [
    "## Dating admixture"
   ]
  },
  {
   "cell_type": "markdown",
   "id": "e4b19b6f-d0cf-4d2d-9a42-132cc464fd67",
   "metadata": {
    "jp-MarkdownHeadingCollapsed": true,
    "tags": []
   },
   "source": [
    "### based on hap block length"
   ]
  },
  {
   "cell_type": "code",
   "execution_count": 516,
   "id": "f7db3f16-fc7b-4d0c-9a36-9b663d70629b",
   "metadata": {},
   "outputs": [],
   "source": [
    "hap_ids = [line.rstrip() for line in open('hap_ids.csv')]\n",
    "\n",
    "nw_idxs = []\n",
    "i=0\n",
    "for hap_id in hap_ids:\n",
    "    sample=\"_\".join(hap_id.split(\"_\")[:-1])\n",
    "    k_label=pca_df.loc[pca_df[\"sample_name\"]==sample][\"kmeans_label\"].values[0]\n",
    "    if k_label == \"sh_nw\":\n",
    "        nw_idxs.append(i)\n",
    "    i+=1\n",
    "    \n",
    "nw_hap_ids = list(np.array(hap_ids)[nw_idxs])"
   ]
  },
  {
   "cell_type": "code",
   "execution_count": 553,
   "id": "488440e5-730d-43d7-9ec2-675b2579af50",
   "metadata": {},
   "outputs": [
    {
     "name": "stderr",
     "output_type": "stream",
     "text": [
      "100%|██████████| 550/550 [23:20<00:00,  2.55s/it]  \n"
     ]
    }
   ],
   "source": [
    "loter_chrom_dfs={}\n",
    "\n",
    "genotype_label={0: \"Sh\", 1: \"Sb\"}\n",
    "\n",
    "#get hap block lengths per hap_id\n",
    "hap_block_lengths=defaultdict(lambda: list())\n",
    "csv_outs=[]\n",
    "\n",
    "with open(\"sb_hap_blocks_in_sh_nw_on_chr_gt_1mb.csv\",'w') as out_f:\n",
    "    out_f.write(\"haplotype,chrom,start,stop,length,ancestry\\n\")\n",
    "    \n",
    "#get each chrom that has a loter output file (should be around 550)\n",
    "for loter_file in tqdm(glob.glob(\"csv_files/loter_N*.csv\")):\n",
    "    chrom = loter_file.replace(\"csv_files/loter_\", \"\").replace(\"_T.csv\", \"\")\n",
    "\n",
    "    #read in loter file\n",
    "    chrom_loter_df=pd.read_csv(\"csv_files/loter_{}_T.csv\".format(chrom), sep=\",\", index_col=0)\n",
    "    loter_chrom_dfs[chrom] = chrom_loter_df\n",
    "    chrom_loter_df=chrom_loter_df.T\n",
    "    chrom_loter_df.index.name=\"sample_id\"\n",
    "\n",
    "    #ignore chrom if less than 1Mb\n",
    "    chrom_len=int(chrom_loter_df.columns[-1].split(\":\")[-1])\n",
    "    if chrom_len > 1_000_000:\n",
    "    \n",
    "        #convert to 2d numpy array\n",
    "        chrom_loter_numpy=chrom_loter_df.to_numpy()\n",
    "\n",
    "        #subset on the NW S. haem\n",
    "        nw_chrom_loter_numpy=np.array(chrom_loter_df.iloc[nw_idxs,])\n",
    "\n",
    "        #for each individual (listed on a row)\n",
    "        for i in range(0, len(nw_chrom_loter_numpy)):\n",
    "           \n",
    "            #get the haplotype id\n",
    "            hap_id = nw_hap_ids[i]\n",
    "\n",
    "            #get initial starting index (used to get the position of the snv/hap block)\n",
    "            start=0\n",
    "\n",
    "            #compress the data into block sizes and types ex:\n",
    "            # [(0, 649630), (1, 809), (0, 12779)]\n",
    "            # This is read as three blocks with\n",
    "            # the 1st block is genotype 0 and is 649_630 variants long\n",
    "            # the 2nd block is genotype 1 and is 809 variants long\n",
    "            # the 3rd block is genotype 0 and is 12_779 variants long\n",
    "            \n",
    "            hap_blocks = [(k, sum(1 for j in g)) for k,g in groupby(list(nw_chrom_loter_numpy[i]))]\n",
    "\n",
    "            #go through each block\n",
    "            for genotype, length in hap_blocks:\n",
    "                \n",
    "                #get the chrom and start pos from the variant id\n",
    "                chrom, start_pos=chrom_loter_df.columns[start].split(\":\")\n",
    "                \n",
    "                #get the stop position from the variant id by looking at the block length and then getting the SNV that is that many idexes down \n",
    "                stop_pos=chrom_loter_df.columns[start+length-1].split(\":\")[-1]\n",
    "\n",
    "                #get the length of the haplotype block (with some error checking)\n",
    "                hap_block_length=int(stop_pos)-int(start_pos)+1\n",
    "                if hap_block_length < 0:\n",
    "                    print(\"error; {} {}\", chrom, hap_id)\n",
    "                    break\n",
    "                    \n",
    "                #write the block length/genotype info to a csv outfile\n",
    "                csv_out=\"{},{},{},{},{},{}\\n\".format(hap_id, chrom, start_pos, stop_pos, hap_block_length, genotype_label[genotype])\n",
    "                csv_outs.append(csv_out)\n",
    "        \n",
    "#save block info as a csv for downstream processing\n",
    "with open(\"sb_hap_blocks_in_sh_nw_on_chr_gt_1mb.csv\",'a') as out_f:\n",
    "    for entry in csv_outs:\n",
    "        out_f.write(entry)"
   ]
  },
  {
   "cell_type": "code",
   "execution_count": 589,
   "id": "ed572c95-2c41-49de-8290-5b50b561578c",
   "metadata": {},
   "outputs": [
    {
     "name": "stderr",
     "output_type": "stream",
     "text": [
      "100%|██████████| 158/158 [00:02<00:00, 73.13it/s]\n"
     ]
    },
    {
     "data": {
      "image/png": "[encoded data removed]",
      "text/plain": [
       "<Figure size 432x288 with 1 Axes>"
      ]
     },
     "metadata": {
      "needs_background": "light"
     },
     "output_type": "display_data"
    },
    {
     "name": "stdout",
     "output_type": "stream",
     "text": [
      "Mean time since hybridization in the NW African metapopulation is: 5064.843282\n",
      "Median time since hybridization in the NW African metapopulation is: 4148.793563\n",
      "Min time since hybridization in the NW African metapopulation is: 249.465524\n"
     ]
    }
   ],
   "source": [
    "indv_df=pd.read_csv(\"perc_bovis_per_indiv.csv\", sep=\",\")\n",
    "blocks_df=pd.read_csv(\"sb_hap_blocks_in_sh_nw_on_chr_gt_1mb.csv\", sep=\",\", header=0)\n",
    "\n",
    "gs=[]\n",
    "#get dates from introgression tract lengths\n",
    "for hap_id in tqdm(nw_hap_ids):\n",
    "    l=blocks_df.loc[ (blocks_df[\"haplotype\"] == hap_id) & (blocks_df[\"ancestry\"] == \"Sb\"), \"length\"].mean()\n",
    "    p=indv_df.loc[indv_df[\"Unnamed: 0\"]==hap_id, \"n_bovis_perc\"].values[0]\n",
    "    \n",
    "    #calc from schumer paper\n",
    "    # recomb rate from Sm.\n",
    "    g=1/((l*3.4e-8)*p)\n",
    "    gs.append(g)\n",
    "\n",
    "plt.hist(gs, bins=40, color=\"grey\",  edgecolor=\"black\", linewidth=0.2)\n",
    "plt.ylabel(\"Count\".format(k))\n",
    "plt.xlabel(\"Estimated num generations since hybridization\")\n",
    "plt.tight_layout()\n",
    "\n",
    "plt.savefig(\"gens_since_hybridization_from_blocks.svg\".format(k))\n",
    "plt.savefig(\"gens_since_hybridization_from_blocks.png\".format(k), dpi=300)\n",
    "plt.show()\n",
    "\n",
    "print(\"Mean time since hybridization in the NW African metapopulation is: {:2f}\".format(np.mean(gs)))\n",
    "print(\"Median time since hybridization in the NW African metapopulation is: {:2f}\".format(np.median(gs)))\n",
    "print(\"Min time since hybridization in the NW African metapopulation is: {:2f}\".format(np.min(gs)))"
   ]
  },
  {
   "cell_type": "markdown",
   "id": "0cb6d098-ff26-4e15-ab84-0faa7022e1e6",
   "metadata": {
    "tags": []
   },
   "source": [
    "### [TO DO] based on something else"
   ]
  },
  {
   "cell_type": "code",
   "execution_count": null,
   "id": "c4729b3c-e7e5-4ad7-95c9-0466abbd1e1a",
   "metadata": {},
   "outputs": [],
   "source": []
  },
  {
   "cell_type": "code",
   "execution_count": null,
   "id": "aa1c3d6e-562e-45fb-93d7-2439c9000730",
   "metadata": {},
   "outputs": [],
   "source": []
  },
  {
   "cell_type": "markdown",
   "id": "2cfcf19d-3b5e-42b9-acd6-a2baa41c56f7",
   "metadata": {
    "jp-MarkdownHeadingCollapsed": true,
    "tags": []
   },
   "source": [
    "# SNPeFF"
   ]
  },
  {
   "cell_type": "markdown",
   "id": "397611e3-d309-4b2b-97fb-66e641ee3e53",
   "metadata": {
    "tags": []
   },
   "source": [
    "# Selection"
   ]
  },
  {
   "cell_type": "code",
   "execution_count": 13,
   "id": "4105928c-29d0-48a2-a45b-2e90ea5f4f51",
   "metadata": {},
   "outputs": [],
   "source": [
    "#read in the PHASED vcf file\n",
    "p_callset=allel.read_vcf('{}/phasing/beagle_maf05.vcf'.format(results_dir))\n",
    "\n",
    "#get relevant info\n",
    "p_gt      = allel.GenotypeArray(filtered_callset['calldata/GT'])\n",
    "p_chroms  = filtered_callset[\"variants/CHROM\"]\n",
    "p_samples = filtered_callset[\"samples\"]\n",
    "p_poss    = filtered_callset[\"variants/POS\"]\n",
    "p_var_ids = filtered_callset[\"variants/ID\"]\n",
    "\n",
    "p_uniq_chroms=np.unique(p_chroms)"
   ]
  },
  {
   "cell_type": "markdown",
   "id": "9f247eef-7a15-4049-8fda-c503e555f8cc",
   "metadata": {
    "tags": []
   },
   "source": [
    "## xpeHH & iHS"
   ]
  },
  {
   "cell_type": "code",
   "execution_count": 16,
   "id": "2bce160a-53d1-44e2-af39-446c7fd4a967",
   "metadata": {
    "tags": []
   },
   "outputs": [],
   "source": [
    "Path(\"{}/xpehh_and_ihs\".format(results_dir)).mkdir(parents=True, exist_ok=True)\n",
    "os.chdir(\"{}/xpehh_and_ihs\".format(results_dir))"
   ]
  },
  {
   "cell_type": "code",
   "execution_count": 224,
   "id": "30d50cc9-5aac-405b-bd31-5bcee271072d",
   "metadata": {},
   "outputs": [],
   "source": [
    "#get haplotypes for each population\n",
    "h = p_gt.to_haplotypes()\n",
    "\n",
    "sb_h=h[:, k_pop_idxs[\"sb\"]]\n",
    "nw_h=h[:, k_pop_idxs[\"sh_nw\"]]\n",
    "se_h=h[:, k_pop_idxs[\"sh_se\"]]"
   ]
  },
  {
   "cell_type": "code",
   "execution_count": 249,
   "id": "650fd028-3971-4fc9-9e0a-141d4f802c79",
   "metadata": {},
   "outputs": [
    {
     "name": "stderr",
     "output_type": "stream",
     "text": [
      "100%|██████████| 564/564 [5:31:46<00:00, 35.30s/it]    \n"
     ]
    },
    {
     "data": {
      "image/png": "[encoded data removed]",
      "text/plain": [
       "<Figure size 432x288 with 1 Axes>"
      ]
     },
     "metadata": {
      "needs_background": "light"
     },
     "output_type": "display_data"
    },
    {
     "data": {
      "image/png": "[encoded data removed]",
      "text/plain": [
       "<Figure size 432x288 with 1 Axes>"
      ]
     },
     "metadata": {
      "needs_background": "light"
     },
     "output_type": "display_data"
    }
   ],
   "source": [
    "df=pd.DataFrame(columns=[\"chrom\", \"pos\", \"var_id\", \"xpehh\", \"nw_ihs\", \"se_ihs\"])\n",
    "\n",
    "for chrom in tqdm(p_uniq_chroms):   \n",
    "#for chrom in [\"NW_023366679.1\"]:\n",
    "    mask = p_chroms == chrom\n",
    "    chrom_pos     = poss[mask]\n",
    "    chrom_nw_h    = nw_h[mask]\n",
    "    chrom_se_h    = se_h[mask]\n",
    "#     chrom_sb_h    = sb_h[mask]\n",
    "    chrom_var_ids = p_var_ids[mask]\n",
    "\n",
    "    #xpehh\n",
    "    xpehh  = allel.xpehh(chrom_nw_h, \n",
    "                         chrom_se_h, \n",
    "                         chrom_pos, \n",
    "                         min_ehh=0.1, \n",
    "                         include_edges=False, \n",
    "                         gap_scale=20_000, \n",
    "                         max_gap=200_000, \n",
    "                         is_accessible=None, \n",
    "                         use_threads=True)\n",
    "    \n",
    "    #nw africa ihs\n",
    "    nw_ihs = allel.ihs(chrom_nw_h, \n",
    "                       chrom_pos, \n",
    "                       map_pos=None, \n",
    "                       min_ehh=0.1, \n",
    "                       min_maf=0.05, \n",
    "                       include_edges=False, \n",
    "                       gap_scale=20_000, \n",
    "                       max_gap=200_000, \n",
    "                       is_accessible=None, \n",
    "                       use_threads=True)\n",
    "    \n",
    "    #se africa ihs\n",
    "    se_ihs = allel.ihs(chrom_se_h, \n",
    "                       chrom_pos, \n",
    "                       map_pos=None, \n",
    "                       min_ehh=0.1, \n",
    "                       min_maf=0.05, \n",
    "                       include_edges=False, \n",
    "                       gap_scale=20_000, \n",
    "                       max_gap=200_000, \n",
    "                       is_accessible=None, \n",
    "                       use_threads=True)\n",
    "#     #nw africa ihs\n",
    "#     sb_ihs = allel.ihs(chrom_sb_h, \n",
    "#                        chrom_pos, \n",
    "#                        map_pos=None, \n",
    "#                        min_ehh=0.1, \n",
    "#                        min_maf=0.05, \n",
    "#                        include_edges=False, \n",
    "#                        gap_scale=20_000, \n",
    "#                        max_gap=200_000, \n",
    "#                        is_accessible=None, \n",
    "#                        use_threads=True)\n",
    "    \n",
    "    #make chrom specific df for xpehh\n",
    "    chr_df           = pd.DataFrame([xpehh, chrom_pos, chrom_var_ids, nw_ihs, se_ihs]).T\n",
    "    chr_df.columns   = [\"xpehh\", \"pos\", \"var_id\", \"nw_ihs\", \"se_ihs\"]\n",
    "    chr_df[\"chrom\"]  = chrom\n",
    "    chr_df           = chr_df[[\"chrom\", \"pos\", \"var_id\", \"xpehh\", \"nw_ihs\", \"se_ihs\"]]\n",
    "    \n",
    "    #add to genomewide xpehh df\n",
    "    df=df.append(chr_df)\n",
    "    \n",
    "#reset index\n",
    "df=df.reset_index(drop=True)\n",
    "\n",
    "#standardize xpehh\n",
    "standardized_xpehhs = allel.standardize(df[\"xpehh\"])\n",
    "df[\"s_xpehh\"] = standardized_xpehhs\n",
    "\n",
    "#now standardize ihs for each pop\n",
    "# - get alternate allele counts\n",
    "se_aac = k_pop_acs[\"sh_se\"][:,1]\n",
    "nw_aac = k_pop_acs[\"sh_nw\"][:,1]\n",
    "\n",
    "#calculate standardized ihs\n",
    "nw_sihs=allel.standardize_by_allele_count(list(df[\"nw_ihs\"]), nw_aac)\n",
    "se_sihs=allel.standardize_by_allele_count(list(df[\"se_ihs\"]), nw_aac)\n",
    "\n",
    "#add to the df\n",
    "df[\"nw_sihs\"] = nw_sihs[0]\n",
    "df[\"se_sihs\"] = se_sihs[0]\n",
    "\n",
    "#save to a csv\n",
    "df.to_csv(\"xpehh_ihs.csv\", index=False, sep=\",\")"
   ]
  },
  {
   "cell_type": "code",
   "execution_count": 17,
   "id": "ddbde429-649f-4c5f-9581-9686c6e93ab8",
   "metadata": {},
   "outputs": [],
   "source": [
    "xpehh_df = pd.read_csv(\"xpehh_ihs.csv\", sep=\",\")"
   ]
  },
  {
   "cell_type": "code",
   "execution_count": 255,
   "id": "5e3efb29-ab91-4420-bf38-70729ff3627e",
   "metadata": {},
   "outputs": [
    {
     "data": {
      "image/png": "[encoded data removed]",
      "text/plain": [
       "<Figure size 432x288 with 1 Axes>"
      ]
     },
     "metadata": {
      "needs_background": "light"
     },
     "output_type": "display_data"
    }
   ],
   "source": [
    "y_s = list(df[\"s_xpehh\"])\n",
    "x_s = list(range(0, len(df[\"s_xpehh\"])))\n",
    "           \n",
    "plt.scatter(x_s, y_s, s=0.1)\n",
    "plt.show()"
   ]
  },
  {
   "cell_type": "code",
   "execution_count": 18,
   "id": "4b99ee1a-080a-40ac-8cf5-46d2cb3c7077",
   "metadata": {},
   "outputs": [
    {
     "ename": "NameError",
     "evalue": "name 'df' is not defined",
     "output_type": "error",
     "traceback": [
      "\u001b[0;31m---------------------------------------------------------------------------\u001b[0m",
      "\u001b[0;31mNameError\u001b[0m                                 Traceback (most recent call last)",
      "\u001b[0;32m<ipython-input-18-5ccea83400a4>\u001b[0m in \u001b[0;36m<module>\u001b[0;34m\u001b[0m\n\u001b[1;32m      2\u001b[0m \u001b[0;31m#NW_023366679.1:8567548-8600607\u001b[0m\u001b[0;34m\u001b[0m\u001b[0;34m\u001b[0m\u001b[0m\n\u001b[1;32m      3\u001b[0m \u001b[0;34m\u001b[0m\u001b[0m\n\u001b[0;32m----> 4\u001b[0;31m \u001b[0mxpehh_chr_df\u001b[0m \u001b[0;34m=\u001b[0m \u001b[0mdf\u001b[0m\u001b[0;34m.\u001b[0m\u001b[0mloc\u001b[0m\u001b[0;34m[\u001b[0m \u001b[0;34m(\u001b[0m\u001b[0mdf\u001b[0m\u001b[0;34m[\u001b[0m\u001b[0;34m\"chrom\"\u001b[0m\u001b[0;34m]\u001b[0m \u001b[0;34m==\u001b[0m \u001b[0;34m\"NW_023366679.1\"\u001b[0m\u001b[0;34m)\u001b[0m \u001b[0;34m]\u001b[0m\u001b[0;34m\u001b[0m\u001b[0;34m\u001b[0m\u001b[0m\n\u001b[0m",
      "\u001b[0;31mNameError\u001b[0m: name 'df' is not defined"
     ]
    }
   ],
   "source": [
    "# Ancestry at invadolysin\n",
    "#NW_023366679.1:8567548-8600607\n",
    "\n",
    "xpehh_chr_df = df.loc[ (df[\"chrom\"] == \"NW_023366679.1\") ]"
   ]
  },
  {
   "cell_type": "code",
   "execution_count": 275,
   "id": "2328b897-0280-4f3a-b736-25afd009d2ce",
   "metadata": {},
   "outputs": [
    {
     "data": {
      "text/html": [
       "<div>\n",
       "<style scoped>\n",
       "    .dataframe tbody tr th:only-of-type {\n",
       "        vertical-align: middle;\n",
       "    }\n",
       "\n",
       "    .dataframe tbody tr th {\n",
       "        vertical-align: top;\n",
       "    }\n",
       "\n",
       "    .dataframe thead th {\n",
       "        text-align: right;\n",
       "    }\n",
       "</style>\n",
       "<table border=\"1\" class=\"dataframe\">\n",
       "  <thead>\n",
       "    <tr style=\"text-align: right;\">\n",
       "      <th></th>\n",
       "      <th>chrom</th>\n",
       "      <th>pos</th>\n",
       "      <th>var_id</th>\n",
       "      <th>xpehh</th>\n",
       "      <th>nw_ihs</th>\n",
       "      <th>se_ihs</th>\n",
       "      <th>s_xpehh</th>\n",
       "      <th>nw_sihs</th>\n",
       "      <th>se_sihs</th>\n",
       "    </tr>\n",
       "  </thead>\n",
       "  <tbody>\n",
       "    <tr>\n",
       "      <th>35854598</th>\n",
       "      <td>NW_023366679.1</td>\n",
       "      <td>2043</td>\n",
       "      <td>NW_023366679.1:2043</td>\n",
       "      <td>NaN</td>\n",
       "      <td>NaN</td>\n",
       "      <td>NaN</td>\n",
       "      <td>NaN</td>\n",
       "      <td>NaN</td>\n",
       "      <td>NaN</td>\n",
       "    </tr>\n",
       "    <tr>\n",
       "      <th>35854599</th>\n",
       "      <td>NW_023366679.1</td>\n",
       "      <td>2063</td>\n",
       "      <td>NW_023366679.1:2063</td>\n",
       "      <td>NaN</td>\n",
       "      <td>NaN</td>\n",
       "      <td>NaN</td>\n",
       "      <td>NaN</td>\n",
       "      <td>NaN</td>\n",
       "      <td>NaN</td>\n",
       "    </tr>\n",
       "    <tr>\n",
       "      <th>35854600</th>\n",
       "      <td>NW_023366679.1</td>\n",
       "      <td>2078</td>\n",
       "      <td>NW_023366679.1:2078</td>\n",
       "      <td>NaN</td>\n",
       "      <td>NaN</td>\n",
       "      <td>NaN</td>\n",
       "      <td>NaN</td>\n",
       "      <td>NaN</td>\n",
       "      <td>NaN</td>\n",
       "    </tr>\n",
       "    <tr>\n",
       "      <th>35854601</th>\n",
       "      <td>NW_023366679.1</td>\n",
       "      <td>2084</td>\n",
       "      <td>NW_023366679.1:2084</td>\n",
       "      <td>NaN</td>\n",
       "      <td>NaN</td>\n",
       "      <td>NaN</td>\n",
       "      <td>NaN</td>\n",
       "      <td>NaN</td>\n",
       "      <td>NaN</td>\n",
       "    </tr>\n",
       "    <tr>\n",
       "      <th>35854602</th>\n",
       "      <td>NW_023366679.1</td>\n",
       "      <td>2095</td>\n",
       "      <td>NW_023366679.1:2095</td>\n",
       "      <td>NaN</td>\n",
       "      <td>NaN</td>\n",
       "      <td>NaN</td>\n",
       "      <td>NaN</td>\n",
       "      <td>NaN</td>\n",
       "      <td>NaN</td>\n",
       "    </tr>\n",
       "    <tr>\n",
       "      <th>...</th>\n",
       "      <td>...</td>\n",
       "      <td>...</td>\n",
       "      <td>...</td>\n",
       "      <td>...</td>\n",
       "      <td>...</td>\n",
       "      <td>...</td>\n",
       "      <td>...</td>\n",
       "      <td>...</td>\n",
       "      <td>...</td>\n",
       "    </tr>\n",
       "    <tr>\n",
       "      <th>37052242</th>\n",
       "      <td>NW_023366679.1</td>\n",
       "      <td>11476638</td>\n",
       "      <td>NW_023366679.1:11476638</td>\n",
       "      <td>NaN</td>\n",
       "      <td>NaN</td>\n",
       "      <td>NaN</td>\n",
       "      <td>NaN</td>\n",
       "      <td>NaN</td>\n",
       "      <td>NaN</td>\n",
       "    </tr>\n",
       "    <tr>\n",
       "      <th>37052243</th>\n",
       "      <td>NW_023366679.1</td>\n",
       "      <td>11476642</td>\n",
       "      <td>NW_023366679.1:11476642</td>\n",
       "      <td>NaN</td>\n",
       "      <td>NaN</td>\n",
       "      <td>NaN</td>\n",
       "      <td>NaN</td>\n",
       "      <td>NaN</td>\n",
       "      <td>NaN</td>\n",
       "    </tr>\n",
       "    <tr>\n",
       "      <th>37052244</th>\n",
       "      <td>NW_023366679.1</td>\n",
       "      <td>11476647</td>\n",
       "      <td>NW_023366679.1:11476647</td>\n",
       "      <td>NaN</td>\n",
       "      <td>NaN</td>\n",
       "      <td>NaN</td>\n",
       "      <td>NaN</td>\n",
       "      <td>NaN</td>\n",
       "      <td>NaN</td>\n",
       "    </tr>\n",
       "    <tr>\n",
       "      <th>37052245</th>\n",
       "      <td>NW_023366679.1</td>\n",
       "      <td>11476663</td>\n",
       "      <td>NW_023366679.1:11476663</td>\n",
       "      <td>NaN</td>\n",
       "      <td>NaN</td>\n",
       "      <td>NaN</td>\n",
       "      <td>NaN</td>\n",
       "      <td>NaN</td>\n",
       "      <td>NaN</td>\n",
       "    </tr>\n",
       "    <tr>\n",
       "      <th>37052246</th>\n",
       "      <td>NW_023366679.1</td>\n",
       "      <td>11476687</td>\n",
       "      <td>NW_023366679.1:11476687</td>\n",
       "      <td>NaN</td>\n",
       "      <td>NaN</td>\n",
       "      <td>NaN</td>\n",
       "      <td>NaN</td>\n",
       "      <td>NaN</td>\n",
       "      <td>NaN</td>\n",
       "    </tr>\n",
       "  </tbody>\n",
       "</table>\n",
       "<p>1197649 rows × 9 columns</p>\n",
       "</div>"
      ],
      "text/plain": [
       "                   chrom       pos                   var_id xpehh nw_ihs  \\\n",
       "35854598  NW_023366679.1      2043      NW_023366679.1:2043   NaN    NaN   \n",
       "35854599  NW_023366679.1      2063      NW_023366679.1:2063   NaN    NaN   \n",
       "35854600  NW_023366679.1      2078      NW_023366679.1:2078   NaN    NaN   \n",
       "35854601  NW_023366679.1      2084      NW_023366679.1:2084   NaN    NaN   \n",
       "35854602  NW_023366679.1      2095      NW_023366679.1:2095   NaN    NaN   \n",
       "...                  ...       ...                      ...   ...    ...   \n",
       "37052242  NW_023366679.1  11476638  NW_023366679.1:11476638   NaN    NaN   \n",
       "37052243  NW_023366679.1  11476642  NW_023366679.1:11476642   NaN    NaN   \n",
       "37052244  NW_023366679.1  11476647  NW_023366679.1:11476647   NaN    NaN   \n",
       "37052245  NW_023366679.1  11476663  NW_023366679.1:11476663   NaN    NaN   \n",
       "37052246  NW_023366679.1  11476687  NW_023366679.1:11476687   NaN    NaN   \n",
       "\n",
       "         se_ihs s_xpehh  nw_sihs  se_sihs  \n",
       "35854598    NaN     NaN      NaN      NaN  \n",
       "35854599    NaN     NaN      NaN      NaN  \n",
       "35854600    NaN     NaN      NaN      NaN  \n",
       "35854601    NaN     NaN      NaN      NaN  \n",
       "35854602    NaN     NaN      NaN      NaN  \n",
       "...         ...     ...      ...      ...  \n",
       "37052242    NaN     NaN      NaN      NaN  \n",
       "37052243    NaN     NaN      NaN      NaN  \n",
       "37052244    NaN     NaN      NaN      NaN  \n",
       "37052245    NaN     NaN      NaN      NaN  \n",
       "37052246    NaN     NaN      NaN      NaN  \n",
       "\n",
       "[1197649 rows x 9 columns]"
      ]
     },
     "execution_count": 275,
     "metadata": {},
     "output_type": "execute_result"
    }
   ],
   "source": [
    "xpehh_chr_df"
   ]
  },
  {
   "cell_type": "code",
   "execution_count": 278,
   "id": "e9c6d81b-b294-46cf-970a-4777acb79b68",
   "metadata": {},
   "outputs": [
    {
     "data": {
      "text/html": [
       "<div>\n",
       "<style scoped>\n",
       "    .dataframe tbody tr th:only-of-type {\n",
       "        vertical-align: middle;\n",
       "    }\n",
       "\n",
       "    .dataframe tbody tr th {\n",
       "        vertical-align: top;\n",
       "    }\n",
       "\n",
       "    .dataframe thead th {\n",
       "        text-align: right;\n",
       "    }\n",
       "</style>\n",
       "<table border=\"1\" class=\"dataframe\">\n",
       "  <thead>\n",
       "    <tr style=\"text-align: right;\">\n",
       "      <th></th>\n",
       "      <th>chrom</th>\n",
       "      <th>pos</th>\n",
       "      <th>var_id</th>\n",
       "      <th>xpehh</th>\n",
       "      <th>nw_ihs</th>\n",
       "      <th>se_ihs</th>\n",
       "      <th>s_xpehh</th>\n",
       "      <th>nw_sihs</th>\n",
       "      <th>se_sihs</th>\n",
       "    </tr>\n",
       "  </thead>\n",
       "  <tbody>\n",
       "    <tr>\n",
       "      <th>36802270</th>\n",
       "      <td>NW_023366679.1</td>\n",
       "      <td>9209034</td>\n",
       "      <td>NW_023366679.1:9209034</td>\n",
       "      <td>4.026666</td>\n",
       "      <td>0.204579</td>\n",
       "      <td>-0.78486</td>\n",
       "      <td>9.487848</td>\n",
       "      <td>1.020606</td>\n",
       "      <td>0.395481</td>\n",
       "    </tr>\n",
       "    <tr>\n",
       "      <th>36802267</th>\n",
       "      <td>NW_023366679.1</td>\n",
       "      <td>9209014</td>\n",
       "      <td>NW_023366679.1:9209014</td>\n",
       "      <td>3.95077</td>\n",
       "      <td>0.125625</td>\n",
       "      <td>-0.161344</td>\n",
       "      <td>9.332546</td>\n",
       "      <td>0.972519</td>\n",
       "      <td>0.782378</td>\n",
       "    </tr>\n",
       "    <tr>\n",
       "      <th>36802272</th>\n",
       "      <td>NW_023366679.1</td>\n",
       "      <td>9209036</td>\n",
       "      <td>NW_023366679.1:9209036</td>\n",
       "      <td>3.851231</td>\n",
       "      <td>-0.372049</td>\n",
       "      <td>0.411667</td>\n",
       "      <td>9.128865</td>\n",
       "      <td>0.847929</td>\n",
       "      <td>1.312326</td>\n",
       "    </tr>\n",
       "    <tr>\n",
       "      <th>36802269</th>\n",
       "      <td>NW_023366679.1</td>\n",
       "      <td>9209033</td>\n",
       "      <td>NW_023366679.1:9209033</td>\n",
       "      <td>3.782411</td>\n",
       "      <td>NaN</td>\n",
       "      <td>NaN</td>\n",
       "      <td>8.98804</td>\n",
       "      <td>NaN</td>\n",
       "      <td>NaN</td>\n",
       "    </tr>\n",
       "    <tr>\n",
       "      <th>36802268</th>\n",
       "      <td>NW_023366679.1</td>\n",
       "      <td>9209031</td>\n",
       "      <td>NW_023366679.1:9209031</td>\n",
       "      <td>3.782411</td>\n",
       "      <td>NaN</td>\n",
       "      <td>NaN</td>\n",
       "      <td>8.98804</td>\n",
       "      <td>NaN</td>\n",
       "      <td>NaN</td>\n",
       "    </tr>\n",
       "    <tr>\n",
       "      <th>...</th>\n",
       "      <td>...</td>\n",
       "      <td>...</td>\n",
       "      <td>...</td>\n",
       "      <td>...</td>\n",
       "      <td>...</td>\n",
       "      <td>...</td>\n",
       "      <td>...</td>\n",
       "      <td>...</td>\n",
       "      <td>...</td>\n",
       "    </tr>\n",
       "    <tr>\n",
       "      <th>37052242</th>\n",
       "      <td>NW_023366679.1</td>\n",
       "      <td>11476638</td>\n",
       "      <td>NW_023366679.1:11476638</td>\n",
       "      <td>NaN</td>\n",
       "      <td>NaN</td>\n",
       "      <td>NaN</td>\n",
       "      <td>NaN</td>\n",
       "      <td>NaN</td>\n",
       "      <td>NaN</td>\n",
       "    </tr>\n",
       "    <tr>\n",
       "      <th>37052243</th>\n",
       "      <td>NW_023366679.1</td>\n",
       "      <td>11476642</td>\n",
       "      <td>NW_023366679.1:11476642</td>\n",
       "      <td>NaN</td>\n",
       "      <td>NaN</td>\n",
       "      <td>NaN</td>\n",
       "      <td>NaN</td>\n",
       "      <td>NaN</td>\n",
       "      <td>NaN</td>\n",
       "    </tr>\n",
       "    <tr>\n",
       "      <th>37052244</th>\n",
       "      <td>NW_023366679.1</td>\n",
       "      <td>11476647</td>\n",
       "      <td>NW_023366679.1:11476647</td>\n",
       "      <td>NaN</td>\n",
       "      <td>NaN</td>\n",
       "      <td>NaN</td>\n",
       "      <td>NaN</td>\n",
       "      <td>NaN</td>\n",
       "      <td>NaN</td>\n",
       "    </tr>\n",
       "    <tr>\n",
       "      <th>37052245</th>\n",
       "      <td>NW_023366679.1</td>\n",
       "      <td>11476663</td>\n",
       "      <td>NW_023366679.1:11476663</td>\n",
       "      <td>NaN</td>\n",
       "      <td>NaN</td>\n",
       "      <td>NaN</td>\n",
       "      <td>NaN</td>\n",
       "      <td>NaN</td>\n",
       "      <td>NaN</td>\n",
       "    </tr>\n",
       "    <tr>\n",
       "      <th>37052246</th>\n",
       "      <td>NW_023366679.1</td>\n",
       "      <td>11476687</td>\n",
       "      <td>NW_023366679.1:11476687</td>\n",
       "      <td>NaN</td>\n",
       "      <td>NaN</td>\n",
       "      <td>NaN</td>\n",
       "      <td>NaN</td>\n",
       "      <td>NaN</td>\n",
       "      <td>NaN</td>\n",
       "    </tr>\n",
       "  </tbody>\n",
       "</table>\n",
       "<p>1197649 rows × 9 columns</p>\n",
       "</div>"
      ],
      "text/plain": [
       "                   chrom       pos                   var_id     xpehh  \\\n",
       "36802270  NW_023366679.1   9209034   NW_023366679.1:9209034  4.026666   \n",
       "36802267  NW_023366679.1   9209014   NW_023366679.1:9209014   3.95077   \n",
       "36802272  NW_023366679.1   9209036   NW_023366679.1:9209036  3.851231   \n",
       "36802269  NW_023366679.1   9209033   NW_023366679.1:9209033  3.782411   \n",
       "36802268  NW_023366679.1   9209031   NW_023366679.1:9209031  3.782411   \n",
       "...                  ...       ...                      ...       ...   \n",
       "37052242  NW_023366679.1  11476638  NW_023366679.1:11476638       NaN   \n",
       "37052243  NW_023366679.1  11476642  NW_023366679.1:11476642       NaN   \n",
       "37052244  NW_023366679.1  11476647  NW_023366679.1:11476647       NaN   \n",
       "37052245  NW_023366679.1  11476663  NW_023366679.1:11476663       NaN   \n",
       "37052246  NW_023366679.1  11476687  NW_023366679.1:11476687       NaN   \n",
       "\n",
       "            nw_ihs    se_ihs   s_xpehh   nw_sihs   se_sihs  \n",
       "36802270  0.204579  -0.78486  9.487848  1.020606  0.395481  \n",
       "36802267  0.125625 -0.161344  9.332546  0.972519  0.782378  \n",
       "36802272 -0.372049  0.411667  9.128865  0.847929  1.312326  \n",
       "36802269       NaN       NaN   8.98804       NaN       NaN  \n",
       "36802268       NaN       NaN   8.98804       NaN       NaN  \n",
       "...            ...       ...       ...       ...       ...  \n",
       "37052242       NaN       NaN       NaN       NaN       NaN  \n",
       "37052243       NaN       NaN       NaN       NaN       NaN  \n",
       "37052244       NaN       NaN       NaN       NaN       NaN  \n",
       "37052245       NaN       NaN       NaN       NaN       NaN  \n",
       "37052246       NaN       NaN       NaN       NaN       NaN  \n",
       "\n",
       "[1197649 rows x 9 columns]"
      ]
     },
     "execution_count": 278,
     "metadata": {},
     "output_type": "execute_result"
    }
   ],
   "source": [
    "xpehh_chr_df.sort_values('s_xpehh', ascending=False)"
   ]
  },
  {
   "cell_type": "code",
   "execution_count": 279,
   "id": "d9690dc3-8e89-490e-b261-8d5f10ad7db6",
   "metadata": {},
   "outputs": [],
   "source": [
    "i_df = xpehh_chr_df.loc[ (xpehh_chr_df[\"pos\"] > 8_567_548) &\n",
    "                         (xpehh_chr_df[\"pos\"] < 8_600_607) ]"
   ]
  },
  {
   "cell_type": "code",
   "execution_count": 281,
   "id": "d39d5a82-cb6c-42bd-82f5-6f47c616b500",
   "metadata": {},
   "outputs": [
    {
     "data": {
      "text/html": [
       "<div>\n",
       "<style scoped>\n",
       "    .dataframe tbody tr th:only-of-type {\n",
       "        vertical-align: middle;\n",
       "    }\n",
       "\n",
       "    .dataframe tbody tr th {\n",
       "        vertical-align: top;\n",
       "    }\n",
       "\n",
       "    .dataframe thead th {\n",
       "        text-align: right;\n",
       "    }\n",
       "</style>\n",
       "<table border=\"1\" class=\"dataframe\">\n",
       "  <thead>\n",
       "    <tr style=\"text-align: right;\">\n",
       "      <th></th>\n",
       "      <th>chrom</th>\n",
       "      <th>pos</th>\n",
       "      <th>var_id</th>\n",
       "      <th>xpehh</th>\n",
       "      <th>nw_ihs</th>\n",
       "      <th>se_ihs</th>\n",
       "      <th>s_xpehh</th>\n",
       "      <th>nw_sihs</th>\n",
       "      <th>se_sihs</th>\n",
       "    </tr>\n",
       "  </thead>\n",
       "  <tbody>\n",
       "    <tr>\n",
       "      <th>36751335</th>\n",
       "      <td>NW_023366679.1</td>\n",
       "      <td>8567553</td>\n",
       "      <td>NW_023366679.1:8567553</td>\n",
       "      <td>0.724161</td>\n",
       "      <td>-0.918081</td>\n",
       "      <td>-3.092465</td>\n",
       "      <td>2.730077</td>\n",
       "      <td>0.667814</td>\n",
       "      <td>-0.867539</td>\n",
       "    </tr>\n",
       "    <tr>\n",
       "      <th>36751353</th>\n",
       "      <td>NW_023366679.1</td>\n",
       "      <td>8567749</td>\n",
       "      <td>NW_023366679.1:8567749</td>\n",
       "      <td>0.737437</td>\n",
       "      <td>1.538378</td>\n",
       "      <td>0.620385</td>\n",
       "      <td>2.757245</td>\n",
       "      <td>2.327986</td>\n",
       "      <td>1.477991</td>\n",
       "    </tr>\n",
       "    <tr>\n",
       "      <th>36751354</th>\n",
       "      <td>NW_023366679.1</td>\n",
       "      <td>8567766</td>\n",
       "      <td>NW_023366679.1:8567766</td>\n",
       "      <td>0.741868</td>\n",
       "      <td>1.017664</td>\n",
       "      <td>-1.008595</td>\n",
       "      <td>2.766311</td>\n",
       "      <td>1.976067</td>\n",
       "      <td>0.448911</td>\n",
       "    </tr>\n",
       "    <tr>\n",
       "      <th>36751356</th>\n",
       "      <td>NW_023366679.1</td>\n",
       "      <td>8567791</td>\n",
       "      <td>NW_023366679.1:8567791</td>\n",
       "      <td>0.758053</td>\n",
       "      <td>1.241458</td>\n",
       "      <td>-2.907842</td>\n",
       "      <td>2.79943</td>\n",
       "      <td>2.127315</td>\n",
       "      <td>-0.750906</td>\n",
       "    </tr>\n",
       "    <tr>\n",
       "      <th>36751358</th>\n",
       "      <td>NW_023366679.1</td>\n",
       "      <td>8567803</td>\n",
       "      <td>NW_023366679.1:8567803</td>\n",
       "      <td>0.754799</td>\n",
       "      <td>1.094925</td>\n",
       "      <td>-1.63571</td>\n",
       "      <td>2.79277</td>\n",
       "      <td>2.028283</td>\n",
       "      <td>0.052741</td>\n",
       "    </tr>\n",
       "    <tr>\n",
       "      <th>...</th>\n",
       "      <td>...</td>\n",
       "      <td>...</td>\n",
       "      <td>...</td>\n",
       "      <td>...</td>\n",
       "      <td>...</td>\n",
       "      <td>...</td>\n",
       "      <td>...</td>\n",
       "      <td>...</td>\n",
       "      <td>...</td>\n",
       "    </tr>\n",
       "    <tr>\n",
       "      <th>36753735</th>\n",
       "      <td>NW_023366679.1</td>\n",
       "      <td>8600270</td>\n",
       "      <td>NW_023366679.1:8600270</td>\n",
       "      <td>-0.24075</td>\n",
       "      <td>-1.389076</td>\n",
       "      <td>-2.461347</td>\n",
       "      <td>0.755622</td>\n",
       "      <td>0.349497</td>\n",
       "      <td>-0.468841</td>\n",
       "    </tr>\n",
       "    <tr>\n",
       "      <th>36753746</th>\n",
       "      <td>NW_023366679.1</td>\n",
       "      <td>8600498</td>\n",
       "      <td>NW_023366679.1:8600498</td>\n",
       "      <td>-0.239901</td>\n",
       "      <td>-1.216881</td>\n",
       "      <td>-2.367133</td>\n",
       "      <td>0.75736</td>\n",
       "      <td>0.317743</td>\n",
       "      <td>-0.499051</td>\n",
       "    </tr>\n",
       "    <tr>\n",
       "      <th>36753753</th>\n",
       "      <td>NW_023366679.1</td>\n",
       "      <td>8600540</td>\n",
       "      <td>NW_023366679.1:8600540</td>\n",
       "      <td>-0.246278</td>\n",
       "      <td>-1.546594</td>\n",
       "      <td>-2.661738</td>\n",
       "      <td>0.74431</td>\n",
       "      <td>0.040904</td>\n",
       "      <td>-0.686958</td>\n",
       "    </tr>\n",
       "    <tr>\n",
       "      <th>36753755</th>\n",
       "      <td>NW_023366679.1</td>\n",
       "      <td>8600574</td>\n",
       "      <td>NW_023366679.1:8600574</td>\n",
       "      <td>-0.243716</td>\n",
       "      <td>-0.306948</td>\n",
       "      <td>-1.266179</td>\n",
       "      <td>0.749553</td>\n",
       "      <td>1.080841</td>\n",
       "      <td>0.286186</td>\n",
       "    </tr>\n",
       "    <tr>\n",
       "      <th>36753757</th>\n",
       "      <td>NW_023366679.1</td>\n",
       "      <td>8600578</td>\n",
       "      <td>NW_023366679.1:8600578</td>\n",
       "      <td>-0.243185</td>\n",
       "      <td>-0.133977</td>\n",
       "      <td>-1.18351</td>\n",
       "      <td>0.750639</td>\n",
       "      <td>1.184008</td>\n",
       "      <td>0.329631</td>\n",
       "    </tr>\n",
       "  </tbody>\n",
       "</table>\n",
       "<p>901 rows × 9 columns</p>\n",
       "</div>"
      ],
      "text/plain": [
       "                   chrom      pos                  var_id     xpehh    nw_ihs  \\\n",
       "36751335  NW_023366679.1  8567553  NW_023366679.1:8567553  0.724161 -0.918081   \n",
       "36751353  NW_023366679.1  8567749  NW_023366679.1:8567749  0.737437  1.538378   \n",
       "36751354  NW_023366679.1  8567766  NW_023366679.1:8567766  0.741868  1.017664   \n",
       "36751356  NW_023366679.1  8567791  NW_023366679.1:8567791  0.758053  1.241458   \n",
       "36751358  NW_023366679.1  8567803  NW_023366679.1:8567803  0.754799  1.094925   \n",
       "...                  ...      ...                     ...       ...       ...   \n",
       "36753735  NW_023366679.1  8600270  NW_023366679.1:8600270  -0.24075 -1.389076   \n",
       "36753746  NW_023366679.1  8600498  NW_023366679.1:8600498 -0.239901 -1.216881   \n",
       "36753753  NW_023366679.1  8600540  NW_023366679.1:8600540 -0.246278 -1.546594   \n",
       "36753755  NW_023366679.1  8600574  NW_023366679.1:8600574 -0.243716 -0.306948   \n",
       "36753757  NW_023366679.1  8600578  NW_023366679.1:8600578 -0.243185 -0.133977   \n",
       "\n",
       "            se_ihs   s_xpehh   nw_sihs   se_sihs  \n",
       "36751335 -3.092465  2.730077  0.667814 -0.867539  \n",
       "36751353  0.620385  2.757245  2.327986  1.477991  \n",
       "36751354 -1.008595  2.766311  1.976067  0.448911  \n",
       "36751356 -2.907842   2.79943  2.127315 -0.750906  \n",
       "36751358  -1.63571   2.79277  2.028283  0.052741  \n",
       "...            ...       ...       ...       ...  \n",
       "36753735 -2.461347  0.755622  0.349497 -0.468841  \n",
       "36753746 -2.367133   0.75736  0.317743 -0.499051  \n",
       "36753753 -2.661738   0.74431  0.040904 -0.686958  \n",
       "36753755 -1.266179  0.749553  1.080841  0.286186  \n",
       "36753757  -1.18351  0.750639  1.184008  0.329631  \n",
       "\n",
       "[901 rows x 9 columns]"
      ]
     },
     "execution_count": 281,
     "metadata": {},
     "output_type": "execute_result"
    }
   ],
   "source": [
    "i_df.dropna()"
   ]
  },
  {
   "cell_type": "code",
   "execution_count": 291,
   "id": "862f8e3b-d5a4-46d3-a10e-afe592b73805",
   "metadata": {},
   "outputs": [
    {
     "data": {
      "image/png": "[encoded data removed]",
      "text/plain": [
       "<Figure size 432x288 with 1 Axes>"
      ]
     },
     "metadata": {
      "needs_background": "light"
     },
     "output_type": "display_data"
    }
   ],
   "source": [
    "y_s = list(xpehh_chr_df.dropna()[\"s_xpehh\"])\n",
    "x_s = list(xpehh_chr_df.dropna()[\"pos\"])\n",
    "\n",
    "plt.scatter(x_s, y_s, s=0.1, c=\"blue\", label=\"xpehh\")\n",
    "\n",
    "plt.vlines(8_567_548, -12, 12, colors=\"black\")\n",
    "plt.vlines(8_600_607, -12, 12, colors=\"black\")\n",
    "\n",
    "plt.xlabel(\"NW_023366679.1 position\")\n",
    "plt.ylabel(\"s_xpEHH\")\n",
    "plt.ylim(min(y_s) * 1.1 , max(y_s) * 1.1)        \n",
    "\n",
    "#plt.savefig(\"xpehh.svg\")\n",
    "plt.savefig(\"xpehh.png\", dpi=300)\n",
    "\n",
    "plt.show()\n"
   ]
  },
  {
   "cell_type": "code",
   "execution_count": 16,
   "id": "5582f83e-35ce-4ad9-919b-3360429decef",
   "metadata": {},
   "outputs": [
    {
     "data": {
      "image/png": "[encoded data removed]",
      "text/plain": [
       "<Figure size 432x288 with 1 Axes>"
      ]
     },
     "metadata": {
      "needs_background": "light"
     },
     "output_type": "display_data"
    }
   ],
   "source": [
    "nw_y_s = list(xpehh_df.dropna(subset=[\"nw_sihs\"])[\"nw_sihs\"])\n",
    "x_s    = list(xpehh_df.dropna(subset=[\"nw_sihs\"])[\"pos\"])\n",
    "\n",
    "plt.scatter(x_s, nw_y_s, s=0.1, c=\"blue\", label=\"siHS\")\n",
    "\n",
    "plt.xlabel(\"Scaffold possition\")\n",
    "plt.ylabel(\"iHS (standardized)\")\n",
    "#plt.ylim(min(y_s) * 1.1 , max(y_s) * 1.1)        \n",
    "\n",
    "plt.savefig(\"nw_sihs.png\", dpi=300)\n",
    "\n",
    "plt.show()"
   ]
  },
  {
   "cell_type": "code",
   "execution_count": 17,
   "id": "1da28c7f-1d5a-4a5f-a6af-ba7f33aef2d9",
   "metadata": {},
   "outputs": [
    {
     "data": {
      "image/png": "[encoded data removed]",
      "text/plain": [
       "<Figure size 432x288 with 1 Axes>"
      ]
     },
     "metadata": {
      "needs_background": "light"
     },
     "output_type": "display_data"
    }
   ],
   "source": [
    "se_y_s = list(xpehh_df.dropna(subset=[\"se_sihs\"])[\"se_sihs\"])\n",
    "x_s    = list(xpehh_df.dropna(subset=[\"se_sihs\"])[\"pos\"])\n",
    "\n",
    "plt.scatter(x_s, se_y_s, s=0.1, c=\"red\", label=\"siHS\")\n",
    "\n",
    "plt.xlabel(\"Scaffold possition\")\n",
    "plt.ylabel(\"iHS (standardized)\")\n",
    "#plt.ylim(min(y_s) * 1.1 , max(y_s) * 1.1)        \n",
    "\n",
    "plt.savefig(\"nw_sihs.png\", dpi=300)\n",
    "\n",
    "plt.show()"
   ]
  },
  {
   "cell_type": "code",
   "execution_count": null,
   "id": "5dc33dd3-65a9-44f7-8601-06f80cc31155",
   "metadata": {},
   "outputs": [],
   "source": [
    "invadolysin_xpehh_df = xpehh_df.loc[xpehh_df[\"chrom\"] == \"NW_023366679.1\"]"
   ]
  },
  {
   "cell_type": "code",
   "execution_count": 24,
   "id": "ded4e0d3-331a-452d-8818-931656115b00",
   "metadata": {},
   "outputs": [
    {
     "data": {
      "image/png": "[encoded data removed]",
      "text/plain": [
       "<Figure size 432x288 with 1 Axes>"
      ]
     },
     "metadata": {
      "needs_background": "light"
     },
     "output_type": "display_data"
    }
   ],
   "source": [
    "nw_y_s  = np.array(invadolysin_xpehh_df.dropna(subset=[\"nw_sihs\"])[\"nw_sihs\"])\n",
    "snw_y_s = medfilt(nw_y_s, 1001)\n",
    "nw_x_s  = list(invadolysin_xpehh_df.dropna(subset=[\"nw_sihs\"])[\"pos\"])\n",
    "\n",
    "plt.scatter(nw_x_s, nw_y_s, s=0.1, c=\"blue\", label=\"siHS\")\n",
    "plt.scatter(nw_x_s, snw_y_s, s=0.1, c=\"black\", label=\"smoothed\")\n",
    "\n",
    "plt.xlabel(\"Scaffold possition\")\n",
    "plt.ylabel(\"iHS (standardized)\")\n",
    "#plt.ylim(min(y_s) * 1.1 , max(y_s) * 1.1)        \n",
    "\n",
    "plt.savefig(\"nw_sihs.png\", dpi=300)\n",
    "\n",
    "plt.show()"
   ]
  },
  {
   "cell_type": "code",
   "execution_count": 23,
   "id": "bfff4180-0197-431d-8d8a-f6c00ac68d15",
   "metadata": {},
   "outputs": [
    {
     "data": {
      "image/png": "[encoded data removed]",
      "text/plain": [
       "<Figure size 432x288 with 1 Axes>"
      ]
     },
     "metadata": {
      "needs_background": "light"
     },
     "output_type": "display_data"
    }
   ],
   "source": [
    "se_y_s = np.array(invadolysin_xpehh_df.dropna(subset=[\"se_sihs\"])[\"se_sihs\"])\n",
    "sse_y_s = medfilt(se_y_s, 1001)\n",
    "se_x_s = list(invadolysin_xpehh_df.dropna(subset=[\"se_sihs\"])[\"pos\"])\n",
    "\n",
    "plt.scatter(se_x_s, se_y_s, s=0.1, c=\"red\", label=\"siHS\")\n",
    "plt.scatter(se_x_s, sse_y_s, s=0.1, c=\"black\", label=\"smoothed\")\n",
    "\n",
    "plt.xlabel(\"Scaffold possition\")\n",
    "plt.ylabel(\"iHS (standardized)\")\n",
    "#plt.ylim(min(y_s) * 1.1 , max(y_s) * 1.1)        \n",
    "\n",
    "plt.savefig(\"se_sihs.png\", dpi=300)\n",
    "\n",
    "plt.show()"
   ]
  },
  {
   "cell_type": "code",
   "execution_count": 26,
   "id": "e5d0d5aa-a75e-4671-9a65-d10fb867ff95",
   "metadata": {
    "tags": []
   },
   "outputs": [
    {
     "data": {
      "image/png": "[encoded data removed]",
      "text/plain": [
       "<Figure size 432x288 with 1 Axes>"
      ]
     },
     "metadata": {
      "needs_background": "light"
     },
     "output_type": "display_data"
    }
   ],
   "source": [
    "plt.scatter(nw_x_s, snw_y_s, s=0.1, c=\"red\", label=\"NW\")\n",
    "plt.scatter(se_x_s, sse_y_s, s=0.1, c=\"blue\", label=\"SE\")\n",
    "\n",
    "plt.legend()\n",
    "plt.xlabel(\"Scaffold possition\")\n",
    "plt.ylabel(\"iHS (standardized)\")\n",
    "#plt.ylim(min(y_s) * 1.1 , max(y_s) * 1.1)        \n",
    "\n",
    "plt.savefig(\"sihs.png\", dpi=300)\n",
    "\n",
    "plt.show()"
   ]
  },
  {
   "cell_type": "code",
   "execution_count": null,
   "id": "ecf72060-f1c1-4e47-8abd-b6b32d94cbd8",
   "metadata": {},
   "outputs": [],
   "source": [
    "anc_df = pd.read_csv(\"{}/loter/perc_bovis_per_site.csv\".format(results_dir), sep=\",\")\n",
    "invadolysin_anc_df = anc_df.loc[anc_df[\"chrom\"] == \"NW_023366679.1\"]"
   ]
  },
  {
   "cell_type": "markdown",
   "id": "ab41020f-d661-4329-9212-bb31aee6146f",
   "metadata": {},
   "source": [
    "## delta Tajima's D"
   ]
  },
  {
   "cell_type": "code",
   "execution_count": null,
   "id": "6e5bd402-6cd1-44a2-af77-3d8e167731dc",
   "metadata": {},
   "outputs": [],
   "source": [
    "allel.moving_delta_tajima_d(ac1, ac2, size, start=0, stop=None, step=None)"
   ]
  },
  {
   "cell_type": "code",
   "execution_count": 80,
   "id": "7606bf2b-ac27-47bc-bec9-d769bf4b0393",
   "metadata": {},
   "outputs": [
    {
     "data": {
      "text/plain": [
       "array([[ 1,  2,  3,  4,  5,  6,  7,  8,  9, 10],\n",
       "       [ 2,  3,  4,  5,  6,  7,  8,  9, 10, 11],\n",
       "       [ 3,  4,  5,  6,  7,  8,  9, 10, 11, 12],\n",
       "       [ 4,  5,  6,  7,  8,  9, 10, 11, 12, 13],\n",
       "       [ 5,  6,  7,  8,  9, 10, 11, 12, 13, 14],\n",
       "       [ 6,  7,  8,  9, 10, 11, 12, 13, 14, 15],\n",
       "       [ 7,  8,  9, 10, 11, 12, 13, 14, 15, 16],\n",
       "       [ 8,  9, 10, 11, 12, 13, 14, 15, 16, 17],\n",
       "       [ 9, 10, 11, 12, 13, 14, 15, 16, 17, 18],\n",
       "       [10, 11, 12, 13, 14, 15, 16, 17, 18, 19],\n",
       "       [11, 12, 13, 14, 15, 16, 17, 18, 19, 20],\n",
       "       [12, 13, 14, 15, 16, 17, 18, 19, 20, 21],\n",
       "       [13, 14, 15, 16, 17, 18, 19, 20, 21, 22],\n",
       "       [14, 15, 16, 17, 18, 19, 20, 21, 22, 23],\n",
       "       [15, 16, 17, 18, 19, 20, 21, 22, 23, 24],\n",
       "       [16, 17, 18, 19, 20, 21, 22, 23, 24, 25],\n",
       "       [17, 18, 19, 20, 21, 22, 23, 24, 25, 26],\n",
       "       [18, 19, 20, 21, 22, 23, 24, 25, 26, 27]])"
      ]
     },
     "execution_count": 80,
     "metadata": {},
     "output_type": "execute_result"
    }
   ],
   "source": [
    "x=list(range(1,28))\n",
    "np.lib.stride_tricks.sliding_window_view(x, 10)"
   ]
  },
  {
   "cell_type": "code",
   "execution_count": null,
   "id": "017187a6-52dd-4edf-8ecf-057c5533786c",
   "metadata": {},
   "outputs": [],
   "source": [
    "np.lib.stride_tricks.as_strided(a, strides = st, shape = sh)"
   ]
  },
  {
   "cell_type": "code",
   "execution_count": 30,
   "id": "42bca2ea-7b5b-48f8-ad3d-8b5356977b4e",
   "metadata": {},
   "outputs": [
    {
     "name": "stderr",
     "output_type": "stream",
     "text": [
      "100%|██████████| 1/1 [00:00<00:00,  1.37it/s]\n"
     ]
    }
   ],
   "source": [
    "dtd_df=pd.DataFrame(columns=[\"chrom\", \"pos\", \"var_id\", \"delta_td\"])\n",
    "\n",
    "window_size = 100\n",
    "for chrom in tqdm(uniq_chroms[0:1]):   \n",
    "#for chrom in [\"NW_023366679.1\"]:\n",
    "    mask = chroms == chrom\n",
    "    chrom_pos      = poss[mask]\n",
    "    chrom_nw_ac    = k_pop_acs[\"sh_nw\"][mask]\n",
    "    chrom_se_ac    = k_pop_acs[\"sh_se\"][mask]\n",
    "    chrom_var_ids  = var_ids[mask]\n",
    "\n",
    "    \n",
    "    #xpehh\n",
    "    d_td = allel.moving_delta_tajima_d(chrom_nw_ac, chrom_se_ac, window_size)\n",
    "    \n",
    "#     #make chrom specific df for xpehh\n",
    "#     chr_df           = pd.DataFrame([chrom_pos, chrom_var_ids, d_td, se_ihs]).T\n",
    "#     chr_df.columns   = [\"xpehh\", \"pos\", \"var_id\", \"nw_ihs\", \"se_ihs\"]\n",
    "#     chr_df[\"chrom\"]  = chrom\n",
    "#     chr_df           = chr_df[[\"chrom\", \"pos\", \"var_id\", \"xpehh\", \"nw_ihs\", \"se_ihs\"]]\n",
    "    \n",
    "#     #add to genomewide xpehh df\n",
    "#     df=df.append(chr_df)\n",
    "    \n",
    "# #reset index\n",
    "# df=df.reset_index(drop=True)\n",
    "\n",
    "# #standardize xpehh\n",
    "# standardized_xpehhs = allel.standardize(df[\"xpehh\"])\n",
    "# df[\"s_xpehh\"] = standardized_xpehhs\n",
    "\n",
    "# #now standardize ihs for each pop\n",
    "# # - get alternate allele counts\n",
    "# se_aac = k_pop_acs[\"sh_se\"][:,1]\n",
    "# nw_aac = k_pop_acs[\"sh_nw\"][:,1]\n",
    "\n",
    "# #calculate standardized ihs\n",
    "# nw_sihs=allel.standardize_by_allele_count(list(df[\"nw_ihs\"]), nw_aac)\n",
    "# se_sihs=allel.standardize_by_allele_count(list(df[\"se_ihs\"]), nw_aac)\n",
    "\n",
    "# #add to the df\n",
    "# df[\"nw_sihs\"] = nw_sihs[0]\n",
    "# df[\"se_sihs\"] = se_sihs[0]\n",
    "\n",
    "# #save to a csv\n",
    "# df.to_csv(\"xpehh_ihs.csv\", index=False, sep=\",\")"
   ]
  },
  {
   "cell_type": "markdown",
   "id": "f3e186d1-e857-4a7b-96ff-b7fee0d5d048",
   "metadata": {},
   "source": [
    "## bayescan"
   ]
  },
  {
   "cell_type": "markdown",
   "id": "7a1d5678-ba49-48e3-9407-02be988520ec",
   "metadata": {
    "jp-MarkdownHeadingCollapsed": true,
    "tags": []
   },
   "source": [
    "## Volcanofinder"
   ]
  },
  {
   "cell_type": "code",
   "execution_count": null,
   "id": "c38a1b7b-bd61-4e3c-b0c7-dd6f897f3480",
   "metadata": {},
   "outputs": [],
   "source": [
    "Path(\"{}/volcanofinder\".format(results_dir)).mkdir(parents=True, exist_ok=True)\n",
    "os.chdir(\"{}/volcanofinder\".format(results_dir))"
   ]
  },
  {
   "cell_type": "code",
   "execution_count": null,
   "id": "1ade0695-184f-4f03-9a8f-d433bb1b1260",
   "metadata": {},
   "outputs": [],
   "source": [
    "#read in pca_df and split into populations\n",
    "pca_df[\"kmeans_label\"]"
   ]
  },
  {
   "cell_type": "code",
   "execution_count": null,
   "id": "9508b941-d85e-4156-92bd-95c431b6857f",
   "metadata": {},
   "outputs": [],
   "source": [
    "%%bash\n",
    "\n",
    "cd ~/sch_hae_scan/bin/\n",
    "\n",
    "wget http://degiorgiogroup.fau.edu/volcanofinder_v1.0.tar.gz\n",
    "\n",
    "cd volcanofinder_v1.0\n",
    "\n",
    "make"
   ]
  },
  {
   "cell_type": "code",
   "execution_count": null,
   "id": "dc81914b-7de9-4abf-9f01-aac12c065c0f",
   "metadata": {},
   "outputs": [],
   "source": [
    "%%bash \n",
    "\n",
    "#convert to vcf to volcanofinder format\n",
    "\n",
    "#split into populations\n",
    "\n",
    "\n",
    "vcftools \\\n",
    "    --vcf ../filter_genotypes/ingroup_indv_and_site_filt.vcf \\\n",
    "    --counts2 \\\n",
    "    --out ingroup_indv_and_site_filt\n",
    "\n",
    "tail -n+2 ingroup_indv_and_site_filt.frq.count \\\n",
    "   | awk -v OFS=\"\\t\" '{print $2,$6,$4,\"1\"}' \\\n",
    "   >ingroup_indv_and_site_filt.in\n",
    "\n",
    "echo -e 'position\\tx\\tn\\tfolded' \\\n",
    "   | cat - ingroup_indv_and_site_filt.in \\\n",
    "   > temp && mv temp ingroup_indv_and_site_filt.in"
   ]
  },
  {
   "cell_type": "code",
   "execution_count": null,
   "id": "7b219115-d218-425b-8707-9b2f0f0bd241",
   "metadata": {},
   "outputs": [],
   "source": [
    "%%bash \n",
    "\n",
    "#calculate genome-wide sfs\n",
    "SweepFinder2 -f smv7_ex_autosomes.in smv7_ex_autosomes.SpectFile"
   ]
  },
  {
   "cell_type": "code",
   "execution_count": null,
   "id": "6da2a851-ff5f-4a35-9a3a-1fcb26fda27a",
   "metadata": {},
   "outputs": [],
   "source": [
    "conda activate sch_man_nwinvasion-sweepfinder\n",
    "\n",
    "cd /master/nplatt/sch_man_nwinvasion/results/sweepfinder\n",
    "\n",
    "\n",
    "for POP in brazil senegal niger tanzania; do\n",
    "    mkdir $POP\n",
    "\n",
    "    #get the pop specific sfs\n",
    "    vcftools \\\n",
    "        --keep ~/sch_man_nwinvasion/results/lists/$POP.list \\\n",
    "        --vcf ../variant_filtration/smv7_ex_autosomes.vcf  \\\n",
    "        --counts2 \\\n",
    "        --stdout \\\n",
    "        >$POP/$POP.freq\n",
    "\n",
    "    tail -n+2 $POP/$POP.freq  | awk -v OFS=\"\\t\" '{print $2,$6,$4,\"1\"}' >$POP/$POP.in\n",
    "\n",
    "    echo -e 'position\\tx\\tn\\tfolded' | cat - $POP/$POP.in > temp && mv temp $POP/$POP.in\n",
    "\n",
    "    SweepFinder2 -f $POP/$POP.in $POP/$POP.sfs\n",
    " \n",
    "    #run sweepfinder for each chrom\n",
    "    for I in $(seq 1 7); do\n",
    "        CHR=SM_V7_$I\n",
    "\n",
    "        #convert vcf to sw input format\n",
    "        vcftools \\\n",
    "            --keep ~/sch_man_nwinvasion/results/lists/$POP.list \\\n",
    "            --vcf ../variant_filtration/smv7_ex_autosomes.vcf \\\n",
    "            --chr $CHR \\\n",
    "            --counts2 \\\n",
    "            --stdout \\\n",
    "            >$POP/$CHR\"_\"$POP.freq\n",
    "\n",
    "        tail -n+2 $POP/$CHR\"_\"$POP.freq  | awk -v OFS=\"\\t\" '{print $2,$6,$4,\"1\"}' >$POP/$CHR\"_\"$POP.in\n",
    "\n",
    "        echo -e 'position\\tx\\tn\\tfolded' | cat - $POP/$CHR\"_\"$POP.in > temp && mv temp $POP/$CHR\"_\"$POP.in\n",
    "\n",
    "        #submit sweepfinder        \n",
    "        CMD=\"conda activate sch_man_nwinvasion-sweepfinder; SweepFinder2 -lg 1000 $POP/$CHR\"_\"$POP.in $POP/$POP.sfs $POP/$CHR\"_\"$POP.sf2out\"\n",
    "\n",
    "        echo $CMD | qsub -V -cwd -S /bin/bash -q all.q -j y -N sf2r\"$I\"_\"$POP\" -o $POP/real_$CHR.log -pe smp 2\n",
    "    done\n",
    "done\n",
    "\n",
    "\n",
    "\n",
    "\n",
    "\n"
   ]
  },
  {
   "cell_type": "code",
   "execution_count": null,
   "id": "92ead699-1a84-4419-b1c3-5c5714ece04d",
   "metadata": {},
   "outputs": [],
   "source": []
  },
  {
   "cell_type": "code",
   "execution_count": null,
   "id": "81a827da-54d6-4337-a08f-8c9e3dbf5333",
   "metadata": {},
   "outputs": [],
   "source": []
  },
  {
   "cell_type": "code",
   "execution_count": null,
   "id": "8d017504-54f9-4925-b533-fca2ef19fdeb",
   "metadata": {},
   "outputs": [],
   "source": []
  }
 ],
 "metadata": {
  "kernelspec": {
   "display_name": "Python [conda env:sch_hae_scan-jupyterlab_ancestry]",
   "language": "python",
   "name": "conda-env-sch_hae_scan-jupyterlab_ancestry-py"
  },
  "language_info": {
   "codemirror_mode": {
    "name": "ipython",
    "version": 3
   },
   "file_extension": ".py",
   "mimetype": "text/x-python",
   "name": "python",
   "nbconvert_exporter": "python",
   "pygments_lexer": "ipython3",
   "version": "3.9.7"
  },
  "toc-autonumbering": true,
  "toc-showcode": false,
  "toc-showmarkdowntxt": false,
  "toc-showtags": false
 },
 "nbformat": 4,
 "nbformat_minor": 5
}
