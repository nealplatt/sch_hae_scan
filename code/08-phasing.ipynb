{
 "cells": [
  {
   "cell_type": "code",
   "execution_count": null,
   "id": "10c6923b-99e9-44b7-b946-991e4cab82ff",
   "metadata": {},
   "outputs": [],
   "source": [
    "#using calysto bash kernel"
   ]
  },
  {
   "cell_type": "code",
   "execution_count": 7,
   "id": "80232ca4-545a-4fa7-8c85-c1482502b0db",
   "metadata": {},
   "outputs": [
    {
     "name": "stdout",
     "output_type": "stream",
     "text": [
      "(scan-04-phasing) \n"
     ]
    }
   ],
   "source": [
    "conda activate scan-04-phasing"
   ]
  },
  {
   "cell_type": "code",
   "execution_count": 8,
   "id": "8a694655-43ac-45b5-9c1b-1ab70a94f235",
   "metadata": {},
   "outputs": [
    {
     "name": "stdout",
     "output_type": "stream",
     "text": [
      "(scan-04-phasing) \n"
     ]
    }
   ],
   "source": [
    "mkdir -p /master/nplatt/sch_hae_scan/results/phasing && cd /master/nplatt/sch_hae_scan/results/phasing"
   ]
  },
  {
   "cell_type": "code",
   "execution_count": null,
   "id": "06d2d157-ce9a-48a4-b1e8-bb167667ee7b",
   "metadata": {},
   "outputs": [],
   "source": [
    "sleep 5h"
   ]
  },
  {
   "cell_type": "code",
   "execution_count": null,
   "id": "33f763b9-610b-4b23-a50d-0c1563c4513f",
   "metadata": {},
   "outputs": [],
   "source": [
    "    \n",
    "#calculate a recomb map.  1cm = 287Kb based on data from Criscione et al. (2009) avg\n",
    "cat ../mapping_rates/mappable_snvs.vcf | awk '!/^#/ {printf \"%s\\t%s\\t%.6f\\t%s\\n\", $1, $3, $2/287000, $2}' | grep NC > gen.map"
   ]
  },
  {
   "cell_type": "code",
   "execution_count": null,
   "id": "6d467b3a-4ed4-467c-b76b-d468797c0c95",
   "metadata": {},
   "outputs": [],
   "source": [
    "#get major chroms\n",
    "cut -f1 gen.map | grep NC_067 | sort | uniq >chrs.list"
   ]
  },
  {
   "cell_type": "code",
   "execution_count": null,
   "id": "6493246f-79ea-47aa-8b3e-644fb9356602",
   "metadata": {},
   "outputs": [],
   "source": [
    "#make dirs for each contig/chrom\n",
    "for CHR in $(cat chrs.list); do\n",
    "    mkdir $CHR\n",
    "done"
   ]
  },
  {
   "cell_type": "code",
   "execution_count": null,
   "id": "998414c4-a1ea-4f1f-8aea-e47212f97e0d",
   "metadata": {},
   "outputs": [],
   "source": [
    "#print chrom specific recomb maps\n",
    "awk '{print $0 > $1\"/\"$1\".gen.map\" }' gen.map"
   ]
  },
  {
   "cell_type": "code",
   "execution_count": null,
   "id": "85a2faaf-8a8d-4b85-b652-ceb42a1bad06",
   "metadata": {},
   "outputs": [],
   "source": [
    "cp /master/nplatt/sch_hae_scan/data/header.sge.sh .\n",
    "cat  header.sge.sh"
   ]
  },
  {
   "cell_type": "code",
   "execution_count": null,
   "id": "14fe6d39-b8bb-474a-bde0-9e9979f7bf8f",
   "metadata": {},
   "outputs": [],
   "source": [
    "#impute on each seperatley (create seperate qsub scripts)\n",
    "for CHR in $(cat chrs.list); do\n",
    "\n",
    "    cd $CHR\n",
    "\n",
    "    sed \"s/CHR/$CHR/\" ../header.sge.sh >$CHR.sge.sh\n",
    "\n",
    "    #extract autosome specific vcf for the samples of interest\n",
    "    CMD=\"vcftools \\\n",
    "        --vcf /master/nplatt/sch_hae_scan/results/mapping_rates/mappable_snvs.vcf \\\n",
    "        --chr $CHR \\\n",
    "        --recode \\\n",
    "        --recode-INFO-all \\\n",
    "        --stdout \\\n",
    "        >$CHR.vcf\"\n",
    "    echo -e $CMD\"\\n\" >>$CHR.sge.sh\n",
    "\n",
    "    CMD=\"java -Xmx64g -jar /master/nplatt/anaconda3/envs/scan-04-phasing/share/beagle-5.2_21Apr21.304-0/beagle.jar \\\n",
    "        gt=$CHR.vcf \\\n",
    "        out=\"$CHR\"_beagle \\\n",
    "        map=$CHR.gen.map \\\n",
    "        nthreads=96 \\\n",
    "        window=20 \\\n",
    "        overlap=10 \\\n",
    "        iterations=60 \\\n",
    "        burnin=20 \\\n",
    "        >$CHR.log 2>&1\"\n",
    "    echo -e $CMD\"\\n\" >>$CHR.sge.sh\n",
    "\n",
    "    CMD=\"gunzip \"$CHR\"_beagle.vcf.gz\"\n",
    "    echo -e $CMD\"\\n\" >>$CHR.sge.sh\n",
    "\n",
    "    qsub $CHR.sge.sh\n",
    "    cd ..\n",
    "\n",
    "done"
   ]
  },
  {
   "cell_type": "markdown",
   "id": "d95fce5d-6d59-42ab-b7ba-dc007a0ffa29",
   "metadata": {},
   "source": [
    "### ... wait for everything to phase"
   ]
  },
  {
   "cell_type": "code",
   "execution_count": 9,
   "id": "d2550f5b-54ea-40fa-8486-e91cb39ada63",
   "metadata": {},
   "outputs": [
    {
     "name": "stdout",
     "output_type": "stream",
     "text": [
      "(scan-04-phasing) (scan-04-phasing) \n"
     ]
    }
   ],
   "source": [
    "#create one file of phased snps (for all autosomes)\n",
    "vcfcombine $(ls NC_067*.1/*beagle.vcf) >beagle.vcf"
   ]
  }
 ],
 "metadata": {
  "kernelspec": {
   "display_name": "Calysto Bash",
   "language": "bash",
   "name": "calysto_bash"
  },
  "language_info": {
   "file_extension": ".sh",
   "help_links": [
    {
     "text": "MetaKernel Magics",
     "url": "https://metakernel.readthedocs.io/en/latest/source/README.html"
    }
   ],
   "mimetype": "text/x-sh",
   "name": "bash",
   "version": "0.2.2"
  }
 },
 "nbformat": 4,
 "nbformat_minor": 5
}
