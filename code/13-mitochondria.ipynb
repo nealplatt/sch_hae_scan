{
 "cells": [
  {
   "cell_type": "code",
   "execution_count": null,
   "id": "de460fa0-de0e-4f13-95d4-6bb89c6d6bed",
   "metadata": {},
   "outputs": [],
   "source": [
    "#!/bin/bash\n",
    "\n",
    "PROJ_DIR=\"/master/nplatt/sch_hae_scan\"\n",
    "RESULTS_DIR=\"$PROJ_DIR/results\"\n",
    "QSUB=\"qsub -V -cwd -S /bin/bash -q high_mem.q -j y -p -1023\" \n",
    "CONDA=\"conda activate $PROJ_DIR/envs/mito_assembly\"\n",
    "\n",
    "conda activate $PROJ_DIR/envs/mito_assembly\n",
    "\n",
    "mkdir $RESULTS_DIR/mito_assembly \n",
    "\n",
    "cp  $RESULTS_DIR/filter_genotypes/indvs_to_keep.list \\\n",
    "    $RESULTS_DIR/mito_assembly/samples.list\n",
    "    \n",
    "#just in case...add animal mt to database\n",
    "get_organelle_config.py --add animal_mt\n",
    "\n",
    "for SAMPLE in $(cat $RESULTS_DIR/mito_assembly/samples.list); do\n",
    "\n",
    "    FQ1=$RESULTS_DIR/filtered_reads/\"$SAMPLE\"_filtered_R1.fq.gz \n",
    "    FQ2=$RESULTS_DIR/filtered_reads/\"$SAMPLE\"_filtered_R2.fq.gz\n",
    "    FQX=$RESULTS_DIR/filtered_reads/\"$SAMPLE\"_filtered_RX.fq.gz\n",
    "\n",
    "    CMD=\"get_organelle_from_reads.py \\\n",
    "        -1 $FQ1 \\\n",
    "        -2 $FQ2 \\\n",
    "        -u $FQX \\\n",
    "        -t 12 \\\n",
    "        -R 10 \\\n",
    "        -k 21,45,65,85,105 \\\n",
    "        -F animal_mt \\\n",
    "        -o $RESULTS_DIR/mito_assembly/$SAMPLE\"\n",
    "        \n",
    "    echo \"$CONDA; $CMD\" | $QSUB -pe smp 12 -N mito_$SAMPLE -o results/logs/mito_$SAMPLE.log\n",
    "done\n",
    "\n",
    "\n"
   ]
  },
  {
   "cell_type": "code",
   "execution_count": null,
   "id": "d9308852-4e8f-4611-b29b-cb61d541d1ae",
   "metadata": {},
   "outputs": [],
   "source": [
    "#distance in clades"
   ]
  },
  {
   "cell_type": "code",
   "execution_count": 1,
   "id": "2ee874c4-8885-4419-82bd-41a92d760f20",
   "metadata": {},
   "outputs": [
    {
     "ename": "ModuleNotFoundError",
     "evalue": "No module named 'haversine'",
     "output_type": "error",
     "traceback": [
      "\u001b[0;31m---------------------------------------------------------------------------\u001b[0m",
      "\u001b[0;31mModuleNotFoundError\u001b[0m                       Traceback (most recent call last)",
      "Input \u001b[0;32mIn [1]\u001b[0m, in \u001b[0;36m<cell line: 1>\u001b[0;34m()\u001b[0m\n\u001b[0;32m----> 1\u001b[0m \u001b[38;5;28;01mfrom\u001b[39;00m \u001b[38;5;21;01mhaversine\u001b[39;00m \u001b[38;5;28;01mimport\u001b[39;00m haversine\n",
      "\u001b[0;31mModuleNotFoundError\u001b[0m: No module named 'haversine'"
     ]
    }
   ],
   "source": [
    "from haversine import haversine"
   ]
  },
  {
   "cell_type": "code",
   "execution_count": null,
   "id": "14a75ffb-015d-4466-b58d-e4a65386d0ac",
   "metadata": {},
   "outputs": [],
   "source": [
    "sh_introgressed_clade_1 = [ \"ssp_cdivoire_kongobo_98\",\n",
    "                            \"sha_niger_libore_147\",\n",
    "                            \"sha_niger_libore_138\",\n",
    "                            \"sha_niger_libore_146\",\n",
    "                            \"sbo_niger_libore_171\",\n",
    "                            \"Sh_NG_os_1_4\",\n",
    "                            \"sha_niger_libore_139\",\n",
    "                            \"ssp_cdivoire_kongobo_97\",\n",
    "                            \"sha_niger_libore_143\",\n",
    "                            \"sha_niger_libore_140\",\n",
    "                            \"sbo_niger_libore_175\",\n",
    "                            \"sbo_niger_libore_172\",\n",
    "                            \"ssp_niger_libore_169\",\n",
    "                            \"sha_niger_libore_142\",\n",
    "                            \"ssp_niger_libore_173\",\n",
    "                            \"ssp_niger_libore_157\",\n",
    "                            \"ssp_niger_libore_165\",\n",
    "                            \"sha_niger_libore_151\",\n",
    "                            \"ssp_cdivoire_allokokro_104\",\n",
    "                            \"ssp_cdivoire_allokokro_102\",\n",
    "                            \"sha_niger_libore_150\",\n",
    "                            \"sbo_niger_libore_176\",\n",
    "                            \"sh_egypt_SRR13579865\"]\n",
    "\n",
    "sh_introgressed_clade_2 = [ \"Sh_NG_ed_1_3\",\n",
    "                            \"sbo_cdivoire_raviart_108\",\n",
    "                            \"ssp_cdivoire_raviart_111\",\n",
    "                            \"sh_niger_SRR8284787\",\n",
    "                            \"ssp_niger_libore_167\",\n",
    "                            \"sbo_niger_libore_155\",\n",
    "                            \"ssp_cdivoire_raviart_110\",\n",
    "                            \"ssp_cdivoire_raviart_92\",\n",
    "                            \"sh_niger_SRR8284788\",\n",
    "                            \"sbo_niger_libore_162\",\n",
    "                            \"ssp_niger_libore_166\",\n",
    "                            \"sh_niger_SRR8284791\",\n",
    "                            \"sh_niger_SRR8284790\",\n",
    "                            \"sbo_niger_libore_164\",\n",
    "                            \"sbo_niger_libore_163\",\n",
    "                            \"Sh_NG_kw_1_10\",\n",
    "                            \"Sh_NG_eb_6_2\"]\n"
   ]
  },
  {
   "cell_type": "code",
   "execution_count": null,
   "id": "d7db843c-e563-43fb-8a84-7c66151561a5",
   "metadata": {},
   "outputs": [],
   "source": [
    "\n",
    "furthest_dist = 0\n",
    "samples=[]\n",
    "\n",
    "for s1 in sh_introgressed_clade_1:\n",
    "    s1_lat=info_df.loc[info_df[\"sample_name\"] == s1][\"lat\"].values[0]\n",
    "    s1_lon=info_df.loc[info_df[\"sample_name\"] == s1][\"lon\"].values[0]\n",
    "    \n",
    "    for s2 in samples:\n",
    "        s2_lat=info_df.loc[info_df[\"sample_name\"] == s2][\"lat\"].values[0]\n",
    "        s2_lon=info_df.loc[info_df[\"sample_name\"] == s2][\"lon\"].values[0]\n",
    "        \n",
    "        dist=haversine((s1_lat, s1_lon), (s2_lat, s2_lon)))\n",
    "\n",
    "        if dist<furthest_dist:\n",
    "            furthest_dist=dist\n",
    "            samples=[s1, s2]\n",
    "            "
   ]
  },
  {
   "cell_type": "code",
   "execution_count": null,
   "id": "3d4872ba-4182-48c8-8c84-2f48e65afa31",
   "metadata": {},
   "outputs": [],
   "source": []
  },
  {
   "cell_type": "code",
   "execution_count": null,
   "id": "b9b4f746-bb94-42a0-91f1-e5da4b5429a1",
   "metadata": {},
   "outputs": [],
   "source": []
  }
 ],
 "metadata": {
  "kernelspec": {
   "display_name": "scan_phylo",
   "language": "python",
   "name": "scan_phylo"
  },
  "language_info": {
   "codemirror_mode": {
    "name": "ipython",
    "version": 3
   },
   "file_extension": ".py",
   "mimetype": "text/x-python",
   "name": "python",
   "nbconvert_exporter": "python",
   "pygments_lexer": "ipython3",
   "version": "3.10.4"
  }
 },
 "nbformat": 4,
 "nbformat_minor": 5
}
