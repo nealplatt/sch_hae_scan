{
 "cells": [
  {
   "cell_type": "code",
   "execution_count": null,
   "id": "c7d31607-b994-438a-b06a-e271680dedbb",
   "metadata": {},
   "outputs": [],
   "source": [
    "#using calysto bash kernel"
   ]
  },
  {
   "cell_type": "code",
   "execution_count": 4,
   "id": "a900016b-06e3-45cb-a223-022da82b877d",
   "metadata": {},
   "outputs": [
    {
     "name": "stdout",
     "output_type": "stream",
     "text": [
      "(scan-03-filter_genotypes) \n"
     ]
    }
   ],
   "source": [
    "conda activate scan-03-filter_genotypes"
   ]
  },
  {
   "cell_type": "code",
   "execution_count": 5,
   "id": "4c13d26d-7073-4ce5-a292-fe265e3048ce",
   "metadata": {},
   "outputs": [
    {
     "name": "stdout",
     "output_type": "stream",
     "text": [
      "(scan-03-filter_genotypes) \n"
     ]
    }
   ],
   "source": [
    "mkdir -p /master/nplatt/sch_hae_scan/results/post_phase_filtering && cd /master/nplatt/sch_hae_scan/results/post_phase_filtering"
   ]
  },
  {
   "cell_type": "markdown",
   "id": "d69cb7ba-6a2f-4077-a033-5cf99135acc7",
   "metadata": {},
   "source": [
    "# Remove \"related\" samples"
   ]
  },
  {
   "cell_type": "code",
   "execution_count": 3,
   "id": "5fabd1a8-6344-4d94-821d-a173598dd982",
   "metadata": {},
   "outputs": [
    {
     "name": "stdout",
     "output_type": "stream",
     "text": [
      "(scan-03-filter_genotypes) (scan-03-filter_genotypes) (scan-03-filter_genotypes) \n"
     ]
    }
   ],
   "source": [
    "#calculate relatedness and then remove any below a cutoff of 0.025 (https://www.nature.com/articles/ng.608)\n",
    "vcftools \\\n",
    "    --vcf ../phasing/beagle.vcf \\\n",
    "    --not-chr NC_067195.1 \\\n",
    "    --recode \\\n",
    "    --recode-INFO-all \\\n",
    "    --stdout \\\n",
    "    >autosomes.vcf\n",
    "#After filtering, kept 24_638_821 out of a possible 31_866_337 Sites"
   ]
  },
  {
   "cell_type": "code",
   "execution_count": 6,
   "id": "11746fa1-20d2-418b-ba52-abc75f703a20",
   "metadata": {},
   "outputs": [
    {
     "name": "stdout",
     "output_type": "stream",
     "text": [
      "PLINK v2.00a3.3LM 64-bit Intel (3 Jun 2022)    www.cog-genomics.org/plink/2.0/\n",
      "(C) 2005-2022 Shaun Purcell, Christopher Chang   GNU General Public License v3\n",
      "Logging to autosomes.log.\n",
      "Options in effect:\n",
      "  --allow-extra-chr\n",
      "  --double-id\n",
      "  --make-bed\n",
      "  --out autosomes\n",
      "  --vcf autosomes.vcf\n",
      "\n",
      "Start time: Wed Apr 19 15:45:32 2023\n",
      "1031287 MiB RAM detected; reserving 515643 MiB for main workspace.\n",
      "Using up to 192 threads (change this with --threads).\n",
      "--vcf: 28590241 variants scanned.\n",
      "--vcf: autosomes-temporary.pgen + autosomes-temporary.pvar.zst +\n",
      "autosomes-temporary.psam written.\n",
      "171 samples (0 females, 0 males, 171 ambiguous; 171 founders) loaded from\n",
      "autosomes-temporary.psam.\n",
      "28590241 variants loaded from autosomes-temporary.pvar.zst.\n",
      "Note: No phenotype data present.\n",
      "Writing autosomes.fam ... done.\n",
      "Writing autosomes.bim ... done.\n",
      "Writing autosomes.bed ... 101112131415161718192021222324252627282930313233343536373839404142434445464748495051525354555657585960616263646566676869707172737475767778798081828384858687888990919293949596979899done.\n",
      "End time: Wed Apr 19 15:46:43 2023\n",
      "(scan-03-filter_genotypes) \n"
     ]
    }
   ],
   "source": [
    "plink2 \\\n",
    "    --vcf autosomes.vcf \\\n",
    "    --make-bed \\\n",
    "    --allow-extra-chr \\\n",
    "    --double-id \\\n",
    "    --out autosomes"
   ]
  },
  {
   "cell_type": "code",
   "execution_count": 7,
   "id": "24edd72e-bb06-44ca-a6a2-66917b01371e",
   "metadata": {},
   "outputs": [
    {
     "name": "stdout",
     "output_type": "stream",
     "text": [
      "(scan-03-filter_genotypes) (scan-03-filter_genotypes) (scan-03-filter_genotypes) (scan-03-filter_genotypes) (scan-03-filter_genotypes) (scan-03-filter_genotypes) (scan-03-filter_genotypes) (scan-03-filter_genotypes) \n"
     ]
    }
   ],
   "source": [
    "#add number to front of position to store as \"autosome\"\n",
    "sed -i 's/^\\(NC_067..\\)\\([0-9]\\)\\(.1*\\)/\\2:\\1\\2\\3/g' autosomes.bim\n",
    "\n",
    "awk 'BEGIN {FS=\":\"}; {print $1+1\":\"$2\":\"$3}' autosomes.bim >tmp.bim\n",
    "sort -k1,1 -k4,4n tmp.bim >sorted.bim\n",
    "mv sorted.bim autosomes.bim\n",
    "\n",
    "rm tmp.bim"
   ]
  },
  {
   "cell_type": "code",
   "execution_count": 8,
   "id": "d2665a6d-c5b4-4733-9620-d36b9a141644",
   "metadata": {},
   "outputs": [
    {
     "name": "stdout",
     "output_type": "stream",
     "text": [
      "KING 2.2.7 - (c) 2010-2021 Wei-Min Chen\n",
      "\n",
      "The following parameters are in effect:\n",
      "                   Binary File :   autosomes.bed (-bname)\n",
      "\n",
      "Additional Options\n",
      "         Close Relative Inference : --related, --duplicate\n",
      "   Pairwise Relatedness Inference : --kinship, --ibdseg, --ibs, --homog\n",
      "              Inference Parameter : --degree, --seglength\n",
      "         Relationship Application : --unrelated [ON], --cluster, --build\n",
      "                        QC Report : --bysample, --bySNP, --roh, --autoQC\n",
      "                     QC Parameter : --callrateN, --callrateM\n",
      "             Population Structure : --pca, --mds\n",
      "              Structure Parameter : --projection, --pcs\n",
      "              Disease Association : --tdt\n",
      "   Quantitative Trait Association : --mtscore\n",
      "                Association Model : --trait [], --covariate []\n",
      "            Association Parameter : --invnorm, --maxP\n",
      "               Genetic Risk Score : --risk, --model [], --prevalence, --noflip\n",
      "              Computing Parameter : --cpus\n",
      "                   Optional Input : --fam [], --bim [], --sexchr [23]\n",
      "                           Output : --rplot, --pngplot, --plink\n",
      "                 Output Parameter : --prefix [king], --rpath []\n",
      "\n",
      "KING starts at Wed Apr 19 15:55:08 2023\n",
      "Loading genotype data in PLINK binary format...\n",
      "Read in PLINK fam file autosomes.fam...\n",
      "  PLINK pedigrees loaded: 171 samples\n",
      "Read in PLINK bim file autosomes.bim...\n",
      "  Genotype data consist of 28590241 autosome SNPs\n",
      "  PLINK maps loaded: 28590241 SNPs\n",
      "Read in PLINK bed file autosomes.bed...\n",
      "  PLINK binary genotypes loaded.\n",
      "  KING format genotype data successfully converted.\n",
      "\n",
      "Options in effect:\n",
      "\t--unrelated\n",
      "\n",
      "Family clustering starts at Wed Apr 19 15:56:01 2023\n",
      "Autosome genotypes stored in 446723 words for each of 171 individuals.\n",
      "Sorting autosomes...\n",
      "Chromosomes unsorted: NC_067199.1:46771719 on chr 10, NC_067200.1:2804 on chr 1.\n",
      "  Inference will be based on kinship estimation only.\n",
      "96 CPU cores are used to compute the pairwise kinship coefficients...\n",
      "Cutoff value for IBS0 between FS and PO is set at 0.0055\n",
      "Clustering up to 1st-degree relatives in families...\n",
      "Individual IDs are unique across all families.\n",
      "\n",
      "Relationship summary (total relatives: 0 by pedigree, 36 by inference)\n",
      "        \tMZ\tPO\tFS\t2nd\n",
      "  =====================================================\n",
      "  Inference\t3\t3\t0\t30\n",
      "\n",
      "The following families are found to be connected\n",
      "  NewFamID  OriginalFamID                                     \n",
      "  KING1     bovis_tanzania_SRR7867225,bovis_tanzania_SRR7867226,bovis_tanzania_ERR103048\n",
      "  KING2     sbo_niger_libore_172,ssp_niger_libore_173\n",
      "  KING3     ssp_cdivoire_allokokro_102,ssp_cdivoire_allokokro_104\n",
      "  KING4     sha_swaz_unk_186,sha_swaz_unk_187\n",
      "\n",
      "\n",
      "A list of 166 unrelated individuals saved in file kingunrelated.txt\n",
      "An alternative list of 5 to-be-removed individuals saved in file kingunrelated_toberemoved.txt\n",
      "\n",
      "Extracting a subset of unrelated individuals ends at Wed Apr 19 15:56:19 2023\n",
      "KING ends at Wed Apr 19 15:56:19 2023\n",
      "\n",
      "(scan-03-filter_genotypes) \n"
     ]
    }
   ],
   "source": [
    "king \\\n",
    "    -b autosomes.bed \\\n",
    "    --unrelated"
   ]
  },
  {
   "cell_type": "code",
   "execution_count": 9,
   "id": "f6fdc7e6-74ba-4524-b4e2-366a224e86d8",
   "metadata": {},
   "outputs": [
    {
     "name": "stdout",
     "output_type": "stream",
     "text": [
      "(scan-03-filter_genotypes) \n"
     ]
    }
   ],
   "source": [
    "cut -f1 kingunrelated.txt >relatives_to_keep.txt"
   ]
  },
  {
   "cell_type": "code",
   "execution_count": 10,
   "id": "691dfd7b-2759-47f9-9cc8-b5d9a929c524",
   "metadata": {},
   "outputs": [
    {
     "name": "stdout",
     "output_type": "stream",
     "text": [
      "bovis_tanzania_SRR7867225\n",
      "bovis_tanzania_SRR7867226\n",
      "ssp_niger_libore_173\n",
      "ssp_cdivoire_allokokro_104\n",
      "sha_swaz_unk_187\n",
      "(scan-03-filter_genotypes) \n"
     ]
    }
   ],
   "source": [
    "cut -f1 kingunrelated_toberemoved.txt"
   ]
  },
  {
   "cell_type": "code",
   "execution_count": 11,
   "id": "99c3ab28-8cf3-4bbe-a741-7771d850785d",
   "metadata": {},
   "outputs": [
    {
     "name": "stdout",
     "output_type": "stream",
     "text": [
      "(scan-03-filter_genotypes) \n"
     ]
    }
   ],
   "source": [
    "vcftools \\\n",
    "    --vcf ../phasing/beagle.vcf \\\n",
    "    --keep relatives_to_keep.txt   \\\n",
    "    --recode \\\n",
    "    --recode-INFO-all \\\n",
    "    --stdout \\\n",
    "    >chrs_unrelated.vcf"
   ]
  },
  {
   "cell_type": "code",
   "execution_count": 12,
   "id": "a8a786a5-e1bd-443c-a506-e0231d5eae7f",
   "metadata": {},
   "outputs": [
    {
     "name": "stdout",
     "output_type": "stream",
     "text": [
      "(scan-03-filter_genotypes) \n"
     ]
    }
   ],
   "source": [
    "vcftools \\\n",
    "    --vcf autosomes.vcf \\\n",
    "    --keep relatives_to_keep.txt   \\\n",
    "    --recode \\\n",
    "    --recode-INFO-all \\\n",
    "    --stdout \\\n",
    "    >autosomes_unrelated.vcf"
   ]
  },
  {
   "cell_type": "markdown",
   "id": "38e0c4e8-a229-433b-aa06-0ddd57bac428",
   "metadata": {},
   "source": [
    "# Maf and LD filter"
   ]
  },
  {
   "cell_type": "markdown",
   "id": "6c7cb189-a5ff-4e78-bccd-02fd418c15e4",
   "metadata": {},
   "source": [
    "## all chromosomes"
   ]
  },
  {
   "cell_type": "code",
   "execution_count": 13,
   "id": "990f1237-3c78-4690-8d9f-2712506f3ca0",
   "metadata": {},
   "outputs": [
    {
     "name": "stdout",
     "output_type": "stream",
     "text": [
      "(scan-03-filter_genotypes) \n"
     ]
    }
   ],
   "source": [
    "vcftools \\\n",
    "    --vcf chrs_unrelated.vcf \\\n",
    "    --maf 0.05 \\\n",
    "    --recode \\\n",
    "    --recode-INFO-all \\\n",
    "    --stdout \\\n",
    "    >chrs_unrelated_maf05.vcf"
   ]
  },
  {
   "cell_type": "code",
   "execution_count": 14,
   "id": "f8aea881-8223-4cf7-a9cf-d9dbc3d1e56d",
   "metadata": {},
   "outputs": [
    {
     "name": "stdout",
     "output_type": "stream",
     "text": [
      "(scan-03-filter_genotypes) PLINK v1.90b6.21 64-bit (19 Oct 2020)          www.cog-genomics.org/plink/1.9/\n",
      "(C) 2005-2020 Shaun Purcell, Christopher Chang   GNU General Public License v3\n",
      "Logging to chrs_unrelated_maf05_ld_filtered.log.\n",
      "Options in effect:\n",
      "  --allow-extra-chr\n",
      "  --double-id\n",
      "  --indep-pairwise 25 5 0.20\n",
      "  --out chrs_unrelated_maf05_ld_filtered\n",
      "  --vcf chrs_unrelated_maf05.vcf\n",
      "\n",
      "1031287 MB RAM detected; reserving 515643 MB for main workspace.\n",
      "--vcf: chrs_unrelated_maf05_ld_filtered-temporary.bed +\n",
      "chrs_unrelated_maf05_ld_filtered-temporary.bim +\n",
      "chrs_unrelated_maf05_ld_filtered-temporary.fam written.\n",
      "7206957 variants loaded from .bim file.\n",
      "166 people (0 males, 0 females, 166 ambiguous) loaded from .fam.\n",
      "Ambiguous sex IDs written to chrs_unrelated_maf05_ld_filtered.nosex .\n",
      "Using 1 thread (no multithreaded calculations invoked).\n",
      "Before main variant filters, 166 founders and 0 nonfounders present.\n",
      "Calculating allele frequencies... 10111213141516171819202122232425262728293031323334353637383940414243444546474849505152535455565758596061626364656667686970717273747576777879808182838485868788899091929394959697989 done.\n",
      "7206957 variants and 166 people pass filters and QC.\n",
      "Note: No phenotypes present.\n",
      "Pruned 1264504 variants from chromosome 27, leaving 78406.\n",
      "Pruned 1514695 variants from chromosome 28, leaving 95869.\n",
      "Pruned 829163 variants from chromosome 29, leaving 59070.\n",
      "Pruned 813101 variants from chromosome 30, leaving 53292.\n",
      "Pruned 885446 variants from chromosome 31, leaving 56947.\n",
      "Pruned 516051 variants from chromosome 32, leaving 42623.\n",
      "Pruned 570364 variants from chromosome 33, leaving 35814.\n",
      "Pruned 367471 variants from chromosome 34, leaving 24141.\n",
      "Pruning complete.  6760795 of 7206957 variants removed.\n",
      "Marker lists written to chrs_unrelated_maf05_ld_filtered.prune.in and\n",
      "chrs_unrelated_maf05_ld_filtered.prune.out .\n",
      "(scan-03-filter_genotypes) \n"
     ]
    }
   ],
   "source": [
    "#ld filtering\n",
    "plink \\\n",
    "    --vcf chrs_unrelated_maf05.vcf \\\n",
    "    --allow-extra-chr \\\n",
    "    --double-id \\\n",
    "    --indep-pairwise 25 5 0.20 \\\n",
    "    --out chrs_unrelated_maf05_ld_filtered"
   ]
  },
  {
   "cell_type": "code",
   "execution_count": 15,
   "id": "a2f49892-ebfa-4289-aab2-253a157c79b6",
   "metadata": {},
   "outputs": [
    {
     "name": "stdout",
     "output_type": "stream",
     "text": [
      "(scan-03-filter_genotypes) \n"
     ]
    }
   ],
   "source": [
    "vcftools \\\n",
    "    --vcf chrs_unrelated_maf05.vcf \\\n",
    "    --exclude chrs_unrelated_maf05_ld_filtered.prune.out \\\n",
    "    --recode \\\n",
    "    --recode-INFO-all \\\n",
    "    --stdout \\\n",
    "    >chrs_unrelated_maf05_ld_filtered.vcf"
   ]
  },
  {
   "cell_type": "markdown",
   "id": "56459a27-a89a-4301-9db2-add4a92f382a",
   "metadata": {},
   "source": [
    "## autosomes"
   ]
  },
  {
   "cell_type": "code",
   "execution_count": 16,
   "id": "ba0e4071-9455-40a0-acc0-31139c9b56d0",
   "metadata": {
    "tags": []
   },
   "outputs": [
    {
     "name": "stdout",
     "output_type": "stream",
     "text": [
      "(scan-03-filter_genotypes) \n"
     ]
    }
   ],
   "source": [
    "vcftools \\\n",
    "    --vcf autosomes_unrelated.vcf \\\n",
    "    --maf 0.05 \\\n",
    "    --recode \\\n",
    "    --recode-INFO-all \\\n",
    "    --stdout \\\n",
    "    >autosomes_unrelated_maf05.vcf"
   ]
  },
  {
   "cell_type": "code",
   "execution_count": 17,
   "id": "30d3f7aa-381f-46cf-8eaa-bd18b678b8f7",
   "metadata": {},
   "outputs": [
    {
     "name": "stdout",
     "output_type": "stream",
     "text": [
      "(scan-03-filter_genotypes) PLINK v1.90b6.21 64-bit (19 Oct 2020)          www.cog-genomics.org/plink/1.9/\n",
      "(C) 2005-2020 Shaun Purcell, Christopher Chang   GNU General Public License v3\n",
      "Logging to autosomes_unrelated_maf05_ld_filtered.log.\n",
      "Options in effect:\n",
      "  --allow-extra-chr\n",
      "  --double-id\n",
      "  --indep-pairwise 25 5 0.20\n",
      "  --out autosomes_unrelated_maf05_ld_filtered\n",
      "  --vcf autosomes_unrelated_maf05.vcf\n",
      "\n",
      "1031287 MB RAM detected; reserving 515643 MB for main workspace.\n",
      "--vcf: autosomes_unrelated_maf05_ld_filtered-temporary.bed +\n",
      "autosomes_unrelated_maf05_ld_filtered-temporary.bim +\n",
      "autosomes_unrelated_maf05_ld_filtered-temporary.fam written.\n",
      "5864047 variants loaded from .bim file.\n",
      "166 people (0 males, 0 females, 166 ambiguous) loaded from .fam.\n",
      "Ambiguous sex IDs written to autosomes_unrelated_maf05_ld_filtered.nosex .\n",
      "Using 1 thread (no multithreaded calculations invoked).\n",
      "Before main variant filters, 166 founders and 0 nonfounders present.\n",
      "Calculating allele frequencies... 10111213141516171819202122232425262728293031323334353637383940414243444546474849505152535455565758596061626364656667686970717273747576777879808182838485868788899091929394959697989 done.\n",
      "5864047 variants and 166 people pass filters and QC.\n",
      "Note: No phenotypes present.\n",
      "Pruned 1514695 variants from chromosome 27, leaving 95869.\n",
      "Pruned 829163 variants from chromosome 28, leaving 59070.\n",
      "Pruned 813101 variants from chromosome 29, leaving 53292.\n",
      "Pruned 885446 variants from chromosome 30, leaving 56947.\n",
      "Pruned 516051 variants from chromosome 31, leaving 42623.\n",
      "Pruned 570364 variants from chromosome 32, leaving 35814.\n",
      "Pruned 367471 variants from chromosome 33, leaving 24141.\n",
      "Pruning complete.  5496291 of 5864047 variants removed.\n",
      "Marker lists written to autosomes_unrelated_maf05_ld_filtered.prune.in and\n",
      "autosomes_unrelated_maf05_ld_filtered.prune.out .\n",
      "(scan-03-filter_genotypes) \n"
     ]
    }
   ],
   "source": [
    "#ld filtering\n",
    "plink \\\n",
    "    --vcf autosomes_unrelated_maf05.vcf \\\n",
    "    --allow-extra-chr \\\n",
    "    --double-id \\\n",
    "    --indep-pairwise 25 5 0.20 \\\n",
    "    --out autosomes_unrelated_maf05_ld_filtered"
   ]
  },
  {
   "cell_type": "code",
   "execution_count": 18,
   "id": "1d8cbdd6-586a-461d-90fe-d351c08c2c68",
   "metadata": {},
   "outputs": [
    {
     "name": "stdout",
     "output_type": "stream",
     "text": [
      "(scan-03-filter_genotypes) \n"
     ]
    }
   ],
   "source": [
    "vcftools \\\n",
    "    --vcf autosomes_unrelated_maf05.vcf \\\n",
    "    --exclude autosomes_unrelated_maf05_ld_filtered.prune.out \\\n",
    "    --recode \\\n",
    "    --recode-INFO-all \\\n",
    "    --stdout \\\n",
    "    >autosomes_unrelated_maf05_ld_filtered.vcf"
   ]
  }
 ],
 "metadata": {
  "kernelspec": {
   "display_name": "Calysto Bash",
   "language": "bash",
   "name": "calysto_bash"
  },
  "language_info": {
   "file_extension": ".sh",
   "help_links": [
    {
     "text": "MetaKernel Magics",
     "url": "https://metakernel.readthedocs.io/en/latest/source/README.html"
    }
   ],
   "mimetype": "text/x-sh",
   "name": "bash",
   "version": "0.2.2"
  }
 },
 "nbformat": 4,
 "nbformat_minor": 5
}
