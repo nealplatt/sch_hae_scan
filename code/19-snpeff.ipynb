{
 "cells": [
  {
   "cell_type": "code",
   "execution_count": null,
   "id": "b431a647-9588-40ac-9abd-d063d1120145",
   "metadata": {},
   "outputs": [],
   "source": [
    "#conda activate scan_snpeff"
   ]
  },
  {
   "cell_type": "code",
   "execution_count": 1,
   "id": "5c3b33dc-894a-45ab-b98e-c06dc666896a",
   "metadata": {},
   "outputs": [],
   "source": [
    "import pandas as pd\n",
    "from pathlib import Path\n",
    "import os\n",
    "import numpy as np"
   ]
  },
  {
   "cell_type": "code",
   "execution_count": 2,
   "id": "5ecc5bc8-01e3-4e2a-906f-a6ce99b645ee",
   "metadata": {},
   "outputs": [],
   "source": [
    "proj_dir=\"/master/nplatt/sch_hae_scan\""
   ]
  },
  {
   "cell_type": "code",
   "execution_count": 3,
   "id": "d82e2ec7-6f31-4296-b04c-20ddfb6112a8",
   "metadata": {},
   "outputs": [],
   "source": [
    "Path(\"{}/results/snpeff\".format(proj_dir)).mkdir(parents=True, exist_ok=True)\n",
    "os.chdir(\"{}/results/snpeff\".format(proj_dir))"
   ]
  },
  {
   "cell_type": "code",
   "execution_count": null,
   "id": "65a5ad39-e014-4ff0-8bf5-d8daa6eaedd7",
   "metadata": {},
   "outputs": [],
   "source": [
    "%%bash \n",
    "\n",
    "conda run -n scan_snpeff --cwd . --live-stream \\\n",
    "    java -jar snpEff.jar build -noCheckCds -noCheckProtein -gff3 -v GCF_000699445.3"
   ]
  },
  {
   "cell_type": "code",
   "execution_count": 4,
   "id": "d9db8cf6-2053-48cd-8ab1-77ac9ab161e3",
   "metadata": {},
   "outputs": [],
   "source": [
    "%%bash \n",
    "\n",
    "conda run -n scan_snpeff --cwd . --live-stream \\\n",
    "    java -jar -Xmx64g snpEff.jar \\\n",
    "        ann \\\n",
    "        -csvStats target_loci_snpeff.csv \\\n",
    "        -i vcf \\\n",
    "        -o vcf \\\n",
    "        -no-downstream \\\n",
    "        -no-intergenic \\\n",
    "        -no-intron \\\n",
    "        -no-upstream \\\n",
    "        -canon \\\n",
    "        -interval ../outlier_table/target_introgressed_loci.bed \\\n",
    "        -fastaProt target_loci_snpeff.fas \\\n",
    "        GCF_000699445.3 \\\n",
    "        ../post_phase_filtering/autosomes_unrelated.vcf \\\n",
    "        >target_loci_snpeff.vcf"
   ]
  }
 ],
 "metadata": {
  "kernelspec": {
   "display_name": "scan_snpeff",
   "language": "python",
   "name": "scan_snpeff"
  },
  "language_info": {
   "codemirror_mode": {
    "name": "ipython",
    "version": 3
   },
   "file_extension": ".py",
   "mimetype": "text/x-python",
   "name": "python",
   "nbconvert_exporter": "python",
   "pygments_lexer": "ipython3",
   "version": "3.11.0"
  }
 },
 "nbformat": 4,
 "nbformat_minor": 5
}
